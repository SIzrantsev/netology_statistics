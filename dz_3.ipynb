{
  "nbformat": 4,
  "nbformat_minor": 0,
  "metadata": {
    "colab": {
      "name": "dz_3.ipynb",
      "version": "0.3.2",
      "provenance": []
    },
    "kernelspec": {
      "name": "python3",
      "display_name": "Python 3"
    }
  },
  "cells": [
    {
      "cell_type": "markdown",
      "metadata": {
        "id": "9wqpiQR2AbtX",
        "colab_type": "text"
      },
      "source": [
        "# Домашнее задание №3"
      ]
    },
    {
      "cell_type": "code",
      "metadata": {
        "id": "Zo_j9HCKCPgi",
        "colab_type": "code",
        "colab": {}
      },
      "source": [
        "import numpy as np\n",
        "from scipy.stats import t\n",
        "from scipy.stats import norm\n",
        "import matplotlib.pyplot as plt\n",
        "from scipy import stats\n",
        "import pandas as pd\n",
        "import io\n",
        "import requests\n",
        "import seaborn as sns\n",
        "\n",
        "%matplotlib inline"
      ],
      "execution_count": 0,
      "outputs": []
    },
    {
      "cell_type": "markdown",
      "metadata": {
        "id": "LrhPyaIACZsb",
        "colab_type": "text"
      },
      "source": [
        "Таблица Indian liver pations records."
      ]
    },
    {
      "cell_type": "code",
      "metadata": {
        "id": "LQWcltRn-vZc",
        "colab_type": "code",
        "outputId": "ce6a05f7-fec2-4088-ca55-31419c080bec",
        "colab": {
          "base_uri": "https://localhost:8080/",
          "height": 224
        }
      },
      "source": [
        "url=\"http://yustiks.ru/dataset/indian_liver_patient.csv\"\n",
        "data=pd.read_csv(url)\n",
        "data.head()"
      ],
      "execution_count": 0,
      "outputs": [
        {
          "output_type": "execute_result",
          "data": {
            "text/html": [
              "<div>\n",
              "<style scoped>\n",
              "    .dataframe tbody tr th:only-of-type {\n",
              "        vertical-align: middle;\n",
              "    }\n",
              "\n",
              "    .dataframe tbody tr th {\n",
              "        vertical-align: top;\n",
              "    }\n",
              "\n",
              "    .dataframe thead th {\n",
              "        text-align: right;\n",
              "    }\n",
              "</style>\n",
              "<table border=\"1\" class=\"dataframe\">\n",
              "  <thead>\n",
              "    <tr style=\"text-align: right;\">\n",
              "      <th></th>\n",
              "      <th>Age</th>\n",
              "      <th>Gender</th>\n",
              "      <th>Total_Bilirubin</th>\n",
              "      <th>Direct_Bilirubin</th>\n",
              "      <th>Alkaline_Phosphotase</th>\n",
              "      <th>Alamine_Aminotransferase</th>\n",
              "      <th>Aspartate_Aminotransferase</th>\n",
              "      <th>Total_Protiens</th>\n",
              "      <th>Albumin</th>\n",
              "      <th>Albumin_and_Globulin_Ratio</th>\n",
              "      <th>Dataset</th>\n",
              "    </tr>\n",
              "  </thead>\n",
              "  <tbody>\n",
              "    <tr>\n",
              "      <th>0</th>\n",
              "      <td>65</td>\n",
              "      <td>Female</td>\n",
              "      <td>0.7</td>\n",
              "      <td>0.1</td>\n",
              "      <td>187</td>\n",
              "      <td>16</td>\n",
              "      <td>18</td>\n",
              "      <td>6.8</td>\n",
              "      <td>3.3</td>\n",
              "      <td>0.90</td>\n",
              "      <td>1</td>\n",
              "    </tr>\n",
              "    <tr>\n",
              "      <th>1</th>\n",
              "      <td>62</td>\n",
              "      <td>Male</td>\n",
              "      <td>10.9</td>\n",
              "      <td>5.5</td>\n",
              "      <td>699</td>\n",
              "      <td>64</td>\n",
              "      <td>100</td>\n",
              "      <td>7.5</td>\n",
              "      <td>3.2</td>\n",
              "      <td>0.74</td>\n",
              "      <td>1</td>\n",
              "    </tr>\n",
              "    <tr>\n",
              "      <th>2</th>\n",
              "      <td>62</td>\n",
              "      <td>Male</td>\n",
              "      <td>7.3</td>\n",
              "      <td>4.1</td>\n",
              "      <td>490</td>\n",
              "      <td>60</td>\n",
              "      <td>68</td>\n",
              "      <td>7.0</td>\n",
              "      <td>3.3</td>\n",
              "      <td>0.89</td>\n",
              "      <td>1</td>\n",
              "    </tr>\n",
              "    <tr>\n",
              "      <th>3</th>\n",
              "      <td>58</td>\n",
              "      <td>Male</td>\n",
              "      <td>1.0</td>\n",
              "      <td>0.4</td>\n",
              "      <td>182</td>\n",
              "      <td>14</td>\n",
              "      <td>20</td>\n",
              "      <td>6.8</td>\n",
              "      <td>3.4</td>\n",
              "      <td>1.00</td>\n",
              "      <td>1</td>\n",
              "    </tr>\n",
              "    <tr>\n",
              "      <th>4</th>\n",
              "      <td>72</td>\n",
              "      <td>Male</td>\n",
              "      <td>3.9</td>\n",
              "      <td>2.0</td>\n",
              "      <td>195</td>\n",
              "      <td>27</td>\n",
              "      <td>59</td>\n",
              "      <td>7.3</td>\n",
              "      <td>2.4</td>\n",
              "      <td>0.40</td>\n",
              "      <td>1</td>\n",
              "    </tr>\n",
              "  </tbody>\n",
              "</table>\n",
              "</div>"
            ],
            "text/plain": [
              "   Age  Gender  Total_Bilirubin  ...  Albumin  Albumin_and_Globulin_Ratio  Dataset\n",
              "0   65  Female              0.7  ...      3.3                        0.90        1\n",
              "1   62    Male             10.9  ...      3.2                        0.74        1\n",
              "2   62    Male              7.3  ...      3.3                        0.89        1\n",
              "3   58    Male              1.0  ...      3.4                        1.00        1\n",
              "4   72    Male              3.9  ...      2.4                        0.40        1\n",
              "\n",
              "[5 rows x 11 columns]"
            ]
          },
          "metadata": {
            "tags": []
          },
          "execution_count": 2
        }
      ]
    },
    {
      "cell_type": "markdown",
      "metadata": {
        "id": "XyNNmtvIDDy3",
        "colab_type": "text"
      },
      "source": [
        "Columns:\n",
        "\n",
        "*  Age of the patient\n",
        "*  Gender of the patient\n",
        "*  Total Bilirubin\n",
        "*  Direct Bilirubin\n",
        "*  Alkaline Phosphotase\n",
        "*  Alamine Aminotransferase\n",
        "*  Aspartate Aminotransferase\n",
        "*  Total Protiens\n",
        "*  Albumin\n",
        "*  Albumin and Globulin Ratio\n",
        "*  Dataset: field used to split the data into two sets (patient with liver disease, or no disease)\n"
      ]
    },
    {
      "cell_type": "markdown",
      "metadata": {
        "id": "3v0ZWcBVSOXK",
        "colab_type": "text"
      },
      "source": [
        "Построить одномерную линейную регрессию Direct_Bilirubin и Total_Bilirubin. Построить график. Предсказать несколько элементов из таблицы с помощью метода fit и сравнить с результатом табличным."
      ]
    },
    {
      "cell_type": "markdown",
      "metadata": {
        "id": "bv5rdcvPSi_O",
        "colab_type": "text"
      },
      "source": [
        "Построить многомерную линейную регрессию для предсказания болезни (Dataset) от двух параметров. Параметры подобрать с помощью матрицы корреляций. Предсказать несколько значений из таблицы и сравнить результат модели от табличного значения."
      ]
    },
    {
      "cell_type": "markdown",
      "metadata": {
        "id": "ZWc_9uF3PQIo",
        "colab_type": "text"
      },
      "source": [
        "Посчитать квартили для всех колонок. "
      ]
    },
    {
      "cell_type": "markdown",
      "metadata": {
        "id": "7kwq4rqzOoz1",
        "colab_type": "text"
      },
      "source": [
        "Построить график histogram двух выборок по наличию или отсутствию болезни: люди, возрастом до 50 лет, и люди после 50 лет. Посчитать медиану и квартиль 0.5 в данных выборках. Чем они отличаются?"
      ]
    },
    {
      "cell_type": "markdown",
      "metadata": {
        "id": "QZVd-KyDQq38",
        "colab_type": "text"
      },
      "source": [
        "Посчитать критерий t для выборки по критерию Total_Bilirubin у больных людей. Как показатель помогает понять, что выборки не похожа на генеральную совокупность?"
      ]
    },
    {
      "cell_type": "markdown",
      "metadata": {
        "id": "dI901FRqRC8A",
        "colab_type": "text"
      },
      "source": [
        "Посчитать критерий t для двух выборок: больные и здоровые (по критерию Total_Bilirubin). Имеют ли данные группы схожесть?"
      ]
    },
    {
      "cell_type": "markdown",
      "metadata": {
        "id": "Jm1ESbSRRPOP",
        "colab_type": "text"
      },
      "source": [
        "Вопросы задавать на почту yustiks@gmail.com"
      ]
    }
  ]
}