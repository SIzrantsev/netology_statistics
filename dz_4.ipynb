{
  "nbformat": 4,
  "nbformat_minor": 0,
  "metadata": {
    "colab": {
      "name": "Untitled18.ipynb",
      "version": "0.3.2",
      "provenance": []
    },
    "kernelspec": {
      "name": "python3",
      "display_name": "Python 3"
    }
  },
  "cells": [
    {
      "cell_type": "markdown",
      "metadata": {
        "id": "hn8nLsDd8sUo",
        "colab_type": "text"
      },
      "source": [
        "# Домашнее задание №4"
      ]
    },
    {
      "cell_type": "markdown",
      "metadata": {
        "id": "va85LsMJ82xE",
        "colab_type": "text"
      },
      "source": [
        "Загрузить датасет на выбор.\n",
        "Например, датасет о футболистах (для тех, кто интересуется футболом): https://www.kaggle.com/karangadiya/fifa19"
      ]
    },
    {
      "cell_type": "markdown",
      "metadata": {
        "id": "ii-c9LHMBjVe",
        "colab_type": "text"
      },
      "source": [
        "Сделать график histogram для данных таблицы. К какому распределению можно отнести эти графики?"
      ]
    },
    {
      "cell_type": "markdown",
      "metadata": {
        "id": "Oonmmf7ABxvZ",
        "colab_type": "text"
      },
      "source": [
        "Найти в датасете переменную, которую можно предсказать с помощью моделей машинного обучения (например, Overall - рейтинг футболиста в датасете о футболистах)."
      ]
    },
    {
      "cell_type": "markdown",
      "metadata": {
        "id": "uSOcb8WTCDBg",
        "colab_type": "text"
      },
      "source": [
        "Эта переменная является target value, или значение, которые мы хотим предсказать. Построить корреляцию данной переменной с другими колонками.  Сделать вывод о том, какие значения коррелируют с данной target value"
      ]
    },
    {
      "cell_type": "markdown",
      "metadata": {
        "id": "aeny2MoBCYX-",
        "colab_type": "text"
      },
      "source": [
        "Найти в датасете классификационные данные (например, в датасете о футболистах, это \n",
        "Nationality). Посмотреть количество элементов в каждом классе. Есть ли в данных проблема несбалансированности классов? Что мы можем сделать, чтобы сделать классы сбалансированными? (на эту тему можно почитать статью https://machinelearningmastery.com/tactics-to-combat-imbalanced-classes-in-your-machine-learning-dataset/). Применить методы (если получится) для балансировки данных."
      ]
    },
    {
      "cell_type": "markdown",
      "metadata": {
        "id": "nUD93695DPEY",
        "colab_type": "text"
      },
      "source": [
        "Сгенерировать из классов (например, колонки  Preferred Foot,  Body Type из датасета о футболистах) вектор one-hot encoding. Для чего мы переводим классы в вектора? "
      ]
    },
    {
      "cell_type": "markdown",
      "metadata": {
        "id": "YiWX_djFF5Do",
        "colab_type": "text"
      },
      "source": [
        "Допустим, мы хотим предсказать зарплату футболиста, основываясь на всех данных в таблице. Какие колонки можно выбрать для линейной регресси? Почему (посмотреть матрицу корреляций)? Написать модель линейной регрессии."
      ]
    },
    {
      "cell_type": "markdown",
      "metadata": {
        "id": "MDYHQl85GcF5",
        "colab_type": "text"
      },
      "source": [
        "Удалить с помощью регулярного выражения из колонки Name слова с точками (A. Griezmann -> Griezmann). После этого посмотреть, какое имя встречается в таблице чаще всего?"
      ]
    },
    {
      "cell_type": "markdown",
      "metadata": {
        "id": "KrWPfT_MHFxn",
        "colab_type": "text"
      },
      "source": [
        "Допустим, мы хотим предсказать International Reputation основываясь на значении Value. Имеют ли данные значения корреляцию? Показать графически и математически. "
      ]
    },
    {
      "cell_type": "markdown",
      "metadata": {
        "id": "5FdxtZ7rHvCv",
        "colab_type": "text"
      },
      "source": [
        "Сравнить свой анализ с ноутбуком из каггл. Например, https://www.kaggle.com/nitinchan/fifa19-analysis-viz-recommendation. Что можно добавить к анализу своей работы?"
      ]
    }
  ]
}