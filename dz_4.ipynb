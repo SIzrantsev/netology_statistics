{
  "nbformat": 4,
  "nbformat_minor": 0,
  "metadata": {
    "colab": {
      "name": "Untitled1.ipynb",
      "version": "0.3.2",
      "provenance": []
    },
    "kernelspec": {
      "name": "python3",
      "display_name": "Python 3"
    }
  },
  "cells": [
    {
      "cell_type": "markdown",
      "metadata": {
        "id": "3eW8FUrZ9QIA",
        "colab_type": "text"
      },
      "source": [
        "# Домашнее задание №4."
      ]
    },
    {
      "cell_type": "markdown",
      "metadata": {
        "id": "sYSxnDhY9V76",
        "colab_type": "text"
      },
      "source": [
        "Загрузить датасет https://www.kaggle.com/mlg-ulb/creditcardfraud. \n",
        "Сделать статистический анализ таблицы."
      ]
    },
    {
      "cell_type": "code",
      "metadata": {
        "id": "Bb8YHvVo9Osy",
        "colab_type": "code",
        "colab": {}
      },
      "source": [
        ""
      ],
      "execution_count": 0,
      "outputs": []
    }
  ]
}