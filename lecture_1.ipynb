{
  "nbformat": 4,
  "nbformat_minor": 0,
  "metadata": {
    "colab": {
      "name": "lecture_1.ipynb",
      "version": "0.3.2",
      "provenance": [],
      "toc_visible": true,
      "include_colab_link": true
    },
    "kernelspec": {
      "display_name": "Python 3",
      "language": "python",
      "name": "python3"
    }
  },
  "cells": [
    {
      "cell_type": "markdown",
      "metadata": {
        "id": "view-in-github",
        "colab_type": "text"
      },
      "source": [
        "<a href=\"https://colab.research.google.com/github/yustinaivanova/netology_statistics/blob/master/lecture_1.ipynb\" target=\"_parent\"><img src=\"https://colab.research.google.com/assets/colab-badge.svg\" alt=\"Open In Colab\"/></a>"
      ]
    },
    {
      "cell_type": "code",
      "metadata": {
        "id": "uQ_wV-PDIIPy",
        "colab_type": "code",
        "colab": {}
      },
      "source": [
        "import pandas as pd\n",
        "import numpy as np\n",
        "import matplotlib.pyplot as plt\n",
        "import scipy.stats as sts\n",
        "%matplotlib inline\n",
        "import statistics"
      ],
      "execution_count": 0,
      "outputs": []
    },
    {
      "cell_type": "markdown",
      "metadata": {
        "id": "YAR-DsCuMr9G",
        "colab_type": "text"
      },
      "source": [
        "# Основные понятия статистики\n",
        "\n"
      ]
    },
    {
      "cell_type": "markdown",
      "metadata": {
        "id": "vBw6YdadPSKo",
        "colab_type": "text"
      },
      "source": [
        "Возьмем данные о фильмах с контентом на английском языке. "
      ]
    },
    {
      "cell_type": "code",
      "metadata": {
        "id": "gRn0ijGZMwA9",
        "colab_type": "code",
        "colab": {}
      },
      "source": [
        "url=\"http://yustiks.ru/dataset/FilmTV_dataset.csv\"\n",
        "df=pd.read_csv(url)"
      ],
      "execution_count": 0,
      "outputs": []
    },
    {
      "cell_type": "markdown",
      "metadata": {
        "id": "FIicq4TJPi2C",
        "colab_type": "text"
      },
      "source": [
        "*   **filmtv_ID** FilmTV ID\n",
        "*   **film_title** Movie Title\n",
        "*   **year** Year of Release\n",
        "*   **genre** Movie Genre\n",
        "*   **duration** Movie Duration\n",
        "*   **country** Movie Country\n",
        "*   **director** Movie Director\n",
        "*   **actors** Movie Actors\n",
        "*   **avg_vote** Movie Average Vote\n",
        "*   **votes** Movie Number of Votes\n"
      ]
    },
    {
      "cell_type": "markdown",
      "metadata": {
        "id": "dgqe3OYPQboc",
        "colab_type": "text"
      },
      "source": [
        "Посмотрим основные колонки из таблицы"
      ]
    },
    {
      "cell_type": "code",
      "metadata": {
        "id": "ney7duVrQQyX",
        "colab_type": "code",
        "outputId": "4624aa2b-e87f-4d4e-df23-c0f500a71654",
        "colab": {
          "base_uri": "https://localhost:8080/",
          "height": 527
        }
      },
      "source": [
        "df.head()"
      ],
      "execution_count": 7,
      "outputs": [
        {
          "output_type": "execute_result",
          "data": {
            "text/html": [
              "<div>\n",
              "<style scoped>\n",
              "    .dataframe tbody tr th:only-of-type {\n",
              "        vertical-align: middle;\n",
              "    }\n",
              "\n",
              "    .dataframe tbody tr th {\n",
              "        vertical-align: top;\n",
              "    }\n",
              "\n",
              "    .dataframe thead th {\n",
              "        text-align: right;\n",
              "    }\n",
              "</style>\n",
              "<table border=\"1\" class=\"dataframe\">\n",
              "  <thead>\n",
              "    <tr style=\"text-align: right;\">\n",
              "      <th></th>\n",
              "      <th>filmtv_ID</th>\n",
              "      <th>film_title</th>\n",
              "      <th>year</th>\n",
              "      <th>genre</th>\n",
              "      <th>duration</th>\n",
              "      <th>country</th>\n",
              "      <th>director</th>\n",
              "      <th>actors</th>\n",
              "      <th>avg_vote</th>\n",
              "      <th>votes</th>\n",
              "    </tr>\n",
              "  </thead>\n",
              "  <tbody>\n",
              "    <tr>\n",
              "      <th>0</th>\n",
              "      <td>2</td>\n",
              "      <td>Bugs Bunny's Third Movie: 1001 Rabbit Tales</td>\n",
              "      <td>1982</td>\n",
              "      <td>Animation</td>\n",
              "      <td>76</td>\n",
              "      <td>United States</td>\n",
              "      <td>David Detiege, Art Davis, Bill Perez</td>\n",
              "      <td>NaN</td>\n",
              "      <td>7.7</td>\n",
              "      <td>28</td>\n",
              "    </tr>\n",
              "    <tr>\n",
              "      <th>1</th>\n",
              "      <td>3</td>\n",
              "      <td>18 anni tra una settimana</td>\n",
              "      <td>1991</td>\n",
              "      <td>Drama</td>\n",
              "      <td>98</td>\n",
              "      <td>Italy</td>\n",
              "      <td>Luigi Perelli</td>\n",
              "      <td>Kim Rossi Stuart, Simona Cavallari, Ennio Fant...</td>\n",
              "      <td>7.0</td>\n",
              "      <td>3</td>\n",
              "    </tr>\n",
              "    <tr>\n",
              "      <th>2</th>\n",
              "      <td>17</td>\n",
              "      <td>Ride a Wild Pony</td>\n",
              "      <td>1976</td>\n",
              "      <td>Romantic</td>\n",
              "      <td>91</td>\n",
              "      <td>United States</td>\n",
              "      <td>Don Chaffey</td>\n",
              "      <td>Michael Craig, John Meillon, Eva Griffith, Gra...</td>\n",
              "      <td>5.6</td>\n",
              "      <td>10</td>\n",
              "    </tr>\n",
              "    <tr>\n",
              "      <th>3</th>\n",
              "      <td>18</td>\n",
              "      <td>Diner</td>\n",
              "      <td>1982</td>\n",
              "      <td>Comedy</td>\n",
              "      <td>95</td>\n",
              "      <td>United States</td>\n",
              "      <td>Barry Levinson</td>\n",
              "      <td>Mickey Rourke, Steve Guttenberg, Ellen Barkin</td>\n",
              "      <td>7.1</td>\n",
              "      <td>14</td>\n",
              "    </tr>\n",
              "    <tr>\n",
              "      <th>4</th>\n",
              "      <td>20</td>\n",
              "      <td>A che servono questi quattrini?</td>\n",
              "      <td>1942</td>\n",
              "      <td>Comedy</td>\n",
              "      <td>85</td>\n",
              "      <td>Italy</td>\n",
              "      <td>Esodo Pratelli</td>\n",
              "      <td>Eduardo De Filippo, Peppino De Filippo, Clelia...</td>\n",
              "      <td>5.9</td>\n",
              "      <td>12</td>\n",
              "    </tr>\n",
              "  </tbody>\n",
              "</table>\n",
              "</div>"
            ],
            "text/plain": [
              "   filmtv_ID                                   film_title  ...  avg_vote votes\n",
              "0          2  Bugs Bunny's Third Movie: 1001 Rabbit Tales  ...       7.7    28\n",
              "1          3                    18 anni tra una settimana  ...       7.0     3\n",
              "2         17                             Ride a Wild Pony  ...       5.6    10\n",
              "3         18                                        Diner  ...       7.1    14\n",
              "4         20              A che servono questi quattrini?  ...       5.9    12\n",
              "\n",
              "[5 rows x 10 columns]"
            ]
          },
          "metadata": {
            "tags": []
          },
          "execution_count": 7
        }
      ]
    },
    {
      "cell_type": "markdown",
      "metadata": {
        "id": "nOpaN0kvTC8-",
        "colab_type": "text"
      },
      "source": [
        "# Математические ожидание и среднее значение"
      ]
    },
    {
      "cell_type": "markdown",
      "metadata": {
        "id": "iVKr2LAKGI44",
        "colab_type": "text"
      },
      "source": [
        "Складываем все значения выборки и делим на количество элементов в выборке"
      ]
    },
    {
      "cell_type": "code",
      "metadata": {
        "id": "lmsV-ZzdQB_a",
        "colab_type": "code",
        "outputId": "05b81d48-9450-41d3-f7fc-b8471d51da80",
        "colab": {
          "base_uri": "https://localhost:8080/",
          "height": 34
        }
      },
      "source": [
        "statistics.mean(df['duration'])"
      ],
      "execution_count": 8,
      "outputs": [
        {
          "output_type": "execute_result",
          "data": {
            "text/plain": [
              "99.23111689086916"
            ]
          },
          "metadata": {
            "tags": []
          },
          "execution_count": 8
        }
      ]
    },
    {
      "cell_type": "code",
      "metadata": {
        "id": "rzGeATSAS-_R",
        "colab_type": "code",
        "outputId": "37738849-5114-4f4a-8107-c4e52761fbad",
        "colab": {
          "base_uri": "https://localhost:8080/",
          "height": 34
        }
      },
      "source": [
        "sum(df['duration'])/len(df['duration'])"
      ],
      "execution_count": 9,
      "outputs": [
        {
          "output_type": "execute_result",
          "data": {
            "text/plain": [
              "99.23111689086916"
            ]
          },
          "metadata": {
            "tags": []
          },
          "execution_count": 9
        }
      ]
    },
    {
      "cell_type": "markdown",
      "metadata": {
        "id": "L5hMF6wHF59S",
        "colab_type": "text"
      },
      "source": [
        "# Медиана"
      ]
    },
    {
      "cell_type": "markdown",
      "metadata": {
        "id": "_cHJ0h1aQvm5",
        "colab_type": "text"
      },
      "source": [
        "Возьмем колонку Duration - продолжительность фильма - и посчитаем медиану. **Медиана** - это такое значение, что ровно половина выборки меньше него, а ровно половина - больше. "
      ]
    },
    {
      "cell_type": "markdown",
      "metadata": {
        "id": "XPOdqSa7Gppk",
        "colab_type": "text"
      },
      "source": [
        "1ый способ:"
      ]
    },
    {
      "cell_type": "code",
      "metadata": {
        "id": "DC2LXb8vTfE7",
        "colab_type": "code",
        "outputId": "b4c747ac-7b8c-433b-a9b9-893cde921860",
        "colab": {
          "base_uri": "https://localhost:8080/",
          "height": 34
        }
      },
      "source": [
        "# Извлекаем duration \n",
        "duration = df['duration']\n",
        "\n",
        "# Находим их количество\n",
        "num_duration = len(duration)\n",
        "\n",
        "# Сортируем в порядке возрастания\n",
        "sorted_duration = sorted(duration)\n",
        "\n",
        "# Ищем индекс среднего элемента\n",
        "# если количество элементов четное, то берем среднее двух элементов в середине\n",
        "middle = (num_duration // 2)\n",
        "if num_duration%2==0:\n",
        "  result = (sorted_duration[middle-1] + sorted_duration[middle])/2\n",
        "else:\n",
        "  result = sorted_duration[middle]\n",
        "# Находим медиану\n",
        "print('Медиана: ', result)"
      ],
      "execution_count": 11,
      "outputs": [
        {
          "output_type": "stream",
          "text": [
            "Медиана:  95\n"
          ],
          "name": "stdout"
        }
      ]
    },
    {
      "cell_type": "code",
      "metadata": {
        "id": "tvyJwLeeTSwu",
        "colab_type": "code",
        "colab": {
          "base_uri": "https://localhost:8080/",
          "height": 34
        },
        "outputId": "7f5af3da-99ff-42c7-9733-2dca4cc92ed4"
      },
      "source": [
        "len(sorted_duration)"
      ],
      "execution_count": 13,
      "outputs": [
        {
          "output_type": "execute_result",
          "data": {
            "text/plain": [
              "46907"
            ]
          },
          "metadata": {
            "tags": []
          },
          "execution_count": 13
        }
      ]
    },
    {
      "cell_type": "markdown",
      "metadata": {
        "id": "oGWGPGniG4Ri",
        "colab_type": "text"
      },
      "source": [
        "2ой способ:"
      ]
    },
    {
      "cell_type": "code",
      "metadata": {
        "id": "0uaz9T_VSqo9",
        "colab_type": "code",
        "outputId": "951e0480-1be1-439b-b128-c23aeb8a24c4",
        "colab": {
          "base_uri": "https://localhost:8080/",
          "height": 34
        }
      },
      "source": [
        "import statistics\n",
        "print('Медиана: ', statistics.median(df['duration']))"
      ],
      "execution_count": 10,
      "outputs": [
        {
          "output_type": "stream",
          "text": [
            "Медиана:  95\n"
          ],
          "name": "stdout"
        }
      ]
    },
    {
      "cell_type": "markdown",
      "metadata": {
        "id": "qdiM-4KTTPs6",
        "colab_type": "text"
      },
      "source": [
        "# Мода"
      ]
    },
    {
      "cell_type": "markdown",
      "metadata": {
        "id": "2KTU0bZfGCUK",
        "colab_type": "text"
      },
      "source": [
        "Мода - значение, которое наиболее часто встречается в выборке"
      ]
    },
    {
      "cell_type": "code",
      "metadata": {
        "id": "XPGGb12LTRVM",
        "colab_type": "code",
        "outputId": "cb8d60c1-3dbe-45d0-e5ea-66e619d6b89a",
        "colab": {
          "base_uri": "https://localhost:8080/",
          "height": 34
        }
      },
      "source": [
        "# Создаём пустой словарь, в котором будем считать количество появлений значений продолжительности фильма\n",
        "duration_counts = {}\n",
        "for p in duration:\n",
        "    if p not in duration_counts:\n",
        "        duration_counts[p] = 1\n",
        "    else:\n",
        "        duration_counts[p] += 1\n",
        "\n",
        "# Проходимся по словарю и ищем максимальное количество повторений\n",
        "# Алгоритм поиска максимума\n",
        "maxp = 0\n",
        "mode_duration = None\n",
        "for k, v in duration_counts.items():\n",
        "    if maxp < v:\n",
        "        maxp = v\n",
        "        mode_duration = k\n",
        "print('Значение моды: ', mode_duration, 'Количество встречаемости: ', maxp)\n"
      ],
      "execution_count": 14,
      "outputs": [
        {
          "output_type": "stream",
          "text": [
            "Значение моды:  90 Количество встречаемости:  5511\n"
          ],
          "name": "stdout"
        }
      ]
    },
    {
      "cell_type": "code",
      "metadata": {
        "id": "HdZVYbzMUtPN",
        "colab_type": "code",
        "outputId": "114d0d25-d84c-40bc-d077-c31ccfbbfd53",
        "colab": {
          "base_uri": "https://localhost:8080/",
          "height": 34
        }
      },
      "source": [
        "print('Значение моды: ', statistics.mode(duration))"
      ],
      "execution_count": 15,
      "outputs": [
        {
          "output_type": "stream",
          "text": [
            "Значение моды:  90\n"
          ],
          "name": "stdout"
        }
      ]
    },
    {
      "cell_type": "markdown",
      "metadata": {
        "id": "pRiYnAwVVPYe",
        "colab_type": "text"
      },
      "source": [
        "# Минимум и максимум"
      ]
    },
    {
      "cell_type": "code",
      "metadata": {
        "id": "eWoVIZvjVSWm",
        "colab_type": "code",
        "outputId": "f1fb8f58-1db4-4c90-de80-4fcd1ea19f18",
        "colab": {
          "base_uri": "https://localhost:8080/",
          "height": 34
        }
      },
      "source": [
        "min(duration)"
      ],
      "execution_count": 16,
      "outputs": [
        {
          "output_type": "execute_result",
          "data": {
            "text/plain": [
              "40"
            ]
          },
          "metadata": {
            "tags": []
          },
          "execution_count": 16
        }
      ]
    },
    {
      "cell_type": "code",
      "metadata": {
        "id": "tJ-8XfmBVU7n",
        "colab_type": "code",
        "outputId": "d8e6d821-94a2-4d5e-87b5-2ca94133e988",
        "colab": {
          "base_uri": "https://localhost:8080/",
          "height": 34
        }
      },
      "source": [
        "max(duration)"
      ],
      "execution_count": 17,
      "outputs": [
        {
          "output_type": "execute_result",
          "data": {
            "text/plain": [
              "5280"
            ]
          },
          "metadata": {
            "tags": []
          },
          "execution_count": 17
        }
      ]
    },
    {
      "cell_type": "markdown",
      "metadata": {
        "id": "UXN_1OYSGG2Q",
        "colab_type": "text"
      },
      "source": [
        "# Выбросы"
      ]
    },
    {
      "cell_type": "markdown",
      "metadata": {
        "id": "hKS4YwmXJfnv",
        "colab_type": "text"
      },
      "source": [
        "В табличных данных выбросы - либо переменной нет в таблице, либо значение слишком варьируется от среднего значения выборки."
      ]
    },
    {
      "cell_type": "markdown",
      "metadata": {
        "id": "AP3hy0ZhVdDY",
        "colab_type": "text"
      },
      "source": [
        "**Выбросы** - отсутствующих значений в данной колонке нет"
      ]
    },
    {
      "cell_type": "code",
      "metadata": {
        "id": "aoJwHJpQVeiA",
        "colab_type": "code",
        "outputId": "90e7e065-5a30-40e5-b36f-cd347b0cb1ea",
        "colab": {
          "base_uri": "https://localhost:8080/",
          "height": 34
        }
      },
      "source": [
        "duration.isnull().sum()"
      ],
      "execution_count": 18,
      "outputs": [
        {
          "output_type": "execute_result",
          "data": {
            "text/plain": [
              "0"
            ]
          },
          "metadata": {
            "tags": []
          },
          "execution_count": 18
        }
      ]
    },
    {
      "cell_type": "markdown",
      "metadata": {
        "id": "SSXBzVCwWYmg",
        "colab_type": "text"
      },
      "source": [
        "но зато есть отсутствующие значения в колонке actors"
      ]
    },
    {
      "cell_type": "code",
      "metadata": {
        "id": "HpzbtsXQWffw",
        "colab_type": "code",
        "outputId": "283cbdb2-0e95-4f60-838d-09521afbb493",
        "colab": {
          "base_uri": "https://localhost:8080/",
          "height": 34
        }
      },
      "source": [
        "df['actors'].isnull().sum()"
      ],
      "execution_count": 19,
      "outputs": [
        {
          "output_type": "execute_result",
          "data": {
            "text/plain": [
              "129"
            ]
          },
          "metadata": {
            "tags": []
          },
          "execution_count": 19
        }
      ]
    },
    {
      "cell_type": "markdown",
      "metadata": {
        "id": "9Y239gfqVaL-",
        "colab_type": "text"
      },
      "source": [
        "# Стандартное отклонение"
      ]
    },
    {
      "cell_type": "markdown",
      "metadata": {
        "id": "PDYjypiwJWKB",
        "colab_type": "text"
      },
      "source": [
        "Мера разброса данных (насколько данные варьируются от среднего значения) - корень среднего квадратичного отклонения."
      ]
    },
    {
      "cell_type": "markdown",
      "metadata": {
        "id": "H3TMcs74KqoV",
        "colab_type": "text"
      },
      "source": [
        "1ой метод:"
      ]
    },
    {
      "cell_type": "code",
      "metadata": {
        "id": "KbJrfmd7faCm",
        "colab_type": "code",
        "outputId": "2e8cdcf7-a2fe-4bb1-8e96-a4b2558901ef",
        "colab": {
          "base_uri": "https://localhost:8080/",
          "height": 34
        }
      },
      "source": [
        "statistics.pstdev(duration)"
      ],
      "execution_count": 20,
      "outputs": [
        {
          "output_type": "execute_result",
          "data": {
            "text/plain": [
              "34.95860443683266"
            ]
          },
          "metadata": {
            "tags": []
          },
          "execution_count": 20
        }
      ]
    },
    {
      "cell_type": "markdown",
      "metadata": {
        "id": "38eEjUYaKuf5",
        "colab_type": "text"
      },
      "source": [
        "2ой метод:"
      ]
    },
    {
      "cell_type": "code",
      "metadata": {
        "id": "J0qTV1YmgBCd",
        "colab_type": "code",
        "outputId": "d52c4438-be6e-4cdd-e138-623147b6e130",
        "colab": {
          "base_uri": "https://localhost:8080/",
          "height": 34
        }
      },
      "source": [
        "def stdev(nums):\n",
        "    diffs = 0\n",
        "    avg = sum(nums)/len(nums)\n",
        "    for n in nums:\n",
        "        diffs += (n - avg)**(2)\n",
        "    return (diffs/(len(nums)-1))**(0.5)\n",
        "\n",
        "print(stdev(duration))"
      ],
      "execution_count": 21,
      "outputs": [
        {
          "output_type": "stream",
          "text": [
            "34.9589770801773\n"
          ],
          "name": "stdout"
        }
      ]
    },
    {
      "cell_type": "markdown",
      "metadata": {
        "id": "6MsGMUEeGLnX",
        "colab_type": "text"
      },
      "source": [
        "# Дисперсия"
      ]
    },
    {
      "cell_type": "markdown",
      "metadata": {
        "id": "9dV15Q5Ag60o",
        "colab_type": "text"
      },
      "source": [
        "Дисперсия - квадрат стандартного отклонения"
      ]
    },
    {
      "cell_type": "code",
      "metadata": {
        "id": "addZ1sLdghk5",
        "colab_type": "code",
        "outputId": "46672b6e-dfe4-43c5-88fc-faac06ca74e3",
        "colab": {
          "base_uri": "https://localhost:8080/",
          "height": 34
        }
      },
      "source": [
        "statistics.pvariance(duration)"
      ],
      "execution_count": 22,
      "outputs": [
        {
          "output_type": "execute_result",
          "data": {
            "text/plain": [
              "1222.1040241709359"
            ]
          },
          "metadata": {
            "tags": []
          },
          "execution_count": 22
        }
      ]
    },
    {
      "cell_type": "code",
      "metadata": {
        "id": "VChDIQP_VjKq",
        "colab_type": "code",
        "colab": {
          "base_uri": "https://localhost:8080/",
          "height": 34
        },
        "outputId": "968b7de3-6075-496f-b411-106b016688fd"
      },
      "source": [
        "34.9589770801773**2"
      ],
      "execution_count": 23,
      "outputs": [
        {
          "output_type": "execute_result",
          "data": {
            "text/plain": [
              "1222.1300784923617"
            ]
          },
          "metadata": {
            "tags": []
          },
          "execution_count": 23
        }
      ]
    },
    {
      "cell_type": "markdown",
      "metadata": {
        "id": "4racI4iNfnfV",
        "colab_type": "text"
      },
      "source": [
        "# Размах"
      ]
    },
    {
      "cell_type": "markdown",
      "metadata": {
        "id": "mGaQm1fLK98x",
        "colab_type": "text"
      },
      "source": [
        "Разница между минимальным и максимальным значениями"
      ]
    },
    {
      "cell_type": "code",
      "metadata": {
        "id": "tBwHhAu4fo5p",
        "colab_type": "code",
        "outputId": "8e775955-9b06-413c-acf7-1d7fff3e7b63",
        "colab": {
          "base_uri": "https://localhost:8080/",
          "height": 34
        }
      },
      "source": [
        "duration_range = max(duration) - min(duration)\n",
        "print(duration_range)"
      ],
      "execution_count": 24,
      "outputs": [
        {
          "output_type": "stream",
          "text": [
            "5240\n"
          ],
          "name": "stdout"
        }
      ]
    },
    {
      "cell_type": "code",
      "metadata": {
        "id": "s0-scQcWVwEp",
        "colab_type": "code",
        "colab": {
          "base_uri": "https://localhost:8080/",
          "height": 312
        },
        "outputId": "eac62ca2-274e-43fc-eaf7-2479dbcfba0c"
      },
      "source": [
        "x = [i for i in range(0, len(duration)-1)]\n",
        "y = df.loc[df['duration'] < 5000, 'duration']\n",
        "\n",
        "plt.xlabel('номер фильм')\n",
        "plt.ylabel('длительность')\n",
        "plt.title('Точечный график зависимости двух выборок x и y')\n",
        "plt.grid(True)\n",
        "plt.scatter(x, y, marker='.')"
      ],
      "execution_count": 30,
      "outputs": [
        {
          "output_type": "execute_result",
          "data": {
            "text/plain": [
              "<matplotlib.collections.PathCollection at 0x7f7d3cc3c470>"
            ]
          },
          "metadata": {
            "tags": []
          },
          "execution_count": 30
        },
        {
          "output_type": "display_data",
          "data": {
            "image/png": "[encoded data removed]",
            "text/plain": [
              "<Figure size 432x288 with 1 Axes>"
            ]
          },
          "metadata": {
            "tags": []
          }
        }
      ]
    },
    {
      "cell_type": "code",
      "metadata": {
        "id": "zoKoFrE7WJwr",
        "colab_type": "code",
        "colab": {
          "base_uri": "https://localhost:8080/",
          "height": 182
        },
        "outputId": "55aaaf64-11c4-4233-e8cf-7072ddb66520"
      },
      "source": [
        "df.loc[df['duration'] > 5000, :]"
      ],
      "execution_count": 28,
      "outputs": [
        {
          "output_type": "execute_result",
          "data": {
            "text/html": [
              "<div>\n",
              "<style scoped>\n",
              "    .dataframe tbody tr th:only-of-type {\n",
              "        vertical-align: middle;\n",
              "    }\n",
              "\n",
              "    .dataframe tbody tr th {\n",
              "        vertical-align: top;\n",
              "    }\n",
              "\n",
              "    .dataframe thead th {\n",
              "        text-align: right;\n",
              "    }\n",
              "</style>\n",
              "<table border=\"1\" class=\"dataframe\">\n",
              "  <thead>\n",
              "    <tr style=\"text-align: right;\">\n",
              "      <th></th>\n",
              "      <th>filmtv_ID</th>\n",
              "      <th>film_title</th>\n",
              "      <th>year</th>\n",
              "      <th>genre</th>\n",
              "      <th>duration</th>\n",
              "      <th>country</th>\n",
              "      <th>director</th>\n",
              "      <th>actors</th>\n",
              "      <th>avg_vote</th>\n",
              "      <th>votes</th>\n",
              "    </tr>\n",
              "  </thead>\n",
              "  <tbody>\n",
              "    <tr>\n",
              "      <th>27639</th>\n",
              "      <td>35647</td>\n",
              "      <td>Farscape</td>\n",
              "      <td>1999</td>\n",
              "      <td>Adventure</td>\n",
              "      <td>5280</td>\n",
              "      <td>United States</td>\n",
              "      <td>Geoff Bennett, Tony Tilse, Ian Watson</td>\n",
              "      <td>Ben Browder, Virginia Hey, Wayne Pigram, Claud...</td>\n",
              "      <td>8.0</td>\n",
              "      <td>1</td>\n",
              "    </tr>\n",
              "  </tbody>\n",
              "</table>\n",
              "</div>"
            ],
            "text/plain": [
              "       filmtv_ID film_title  ...  avg_vote votes\n",
              "27639      35647   Farscape  ...       8.0     1\n",
              "\n",
              "[1 rows x 10 columns]"
            ]
          },
          "metadata": {
            "tags": []
          },
          "execution_count": 28
        }
      ]
    },
    {
      "cell_type": "code",
      "metadata": {
        "id": "xsED12vDWkXI",
        "colab_type": "code",
        "colab": {}
      },
      "source": [
        ""
      ],
      "execution_count": 0,
      "outputs": []
    },
    {
      "cell_type": "markdown",
      "metadata": {
        "id": "g5QIcm7UHDX5",
        "colab_type": "text"
      },
      "source": [
        "# Коррелляция"
      ]
    },
    {
      "cell_type": "markdown",
      "metadata": {
        "id": "nnoXnqBSHJ2D",
        "colab_type": "text"
      },
      "source": [
        "Взаимосвязь двух выборок друг от друга. Чтобы графически увидеть взаимосвязь двух переменных, необходимо построить точечный график зависимости друг от друга. Например, возьмер 2 параметра - duration и votes. Зависит ли средняя оценка фильма от того, насколько долго он идет?"
      ]
    },
    {
      "cell_type": "code",
      "metadata": {
        "id": "ON7YUAomHeyJ",
        "colab_type": "code",
        "outputId": "dd52d251-3822-4e0e-e4d9-458f4acce0c3",
        "colab": {
          "base_uri": "https://localhost:8080/",
          "height": 312
        }
      },
      "source": [
        "duration = df['duration']\n",
        "avg_vote = df['avg_vote']\n",
        "plt.xlabel('выборка duration')\n",
        "plt.ylabel('выборка avg_vote')\n",
        "plt.title('Точечный график зависимости двух выборок x и y')\n",
        "plt.grid(True)\n",
        "plt.scatter(duration, avg_vote, marker='.')"
      ],
      "execution_count": 36,
      "outputs": [
        {
          "output_type": "execute_result",
          "data": {
            "text/plain": [
              "<matplotlib.collections.PathCollection at 0x7f7d3c99e6a0>"
            ]
          },
          "metadata": {
            "tags": []
          },
          "execution_count": 36
        },
        {
          "output_type": "display_data",
          "data": {
            "image/png": "[encoded data removed]",
            "text/plain": [
              "<Figure size 432x288 with 1 Axes>"
            ]
          },
          "metadata": {
            "tags": []
          }
        }
      ]
    },
    {
      "cell_type": "code",
      "metadata": {
        "id": "uX3hkrY_ZGDU",
        "colab_type": "code",
        "colab": {}
      },
      "source": [
        "df = df.loc[df['filmtv_ID']!=35647, :]"
      ],
      "execution_count": 0,
      "outputs": []
    },
    {
      "cell_type": "markdown",
      "metadata": {
        "id": "Irh86ByjImfy",
        "colab_type": "text"
      },
      "source": [
        "По данному графику можно заметить, что чем короткие фильмы имеют разные оценки - как низкие, так и высокие. Фильмы средней и большой длины имеют тенденция получать высокие оценки. Таким образом, между двумя выборками мы можем увидеть сильную коррелляцию."
      ]
    },
    {
      "cell_type": "markdown",
      "metadata": {
        "id": "Aj8Ak22okre7",
        "colab_type": "text"
      },
      "source": [
        "# Нормальное распределение"
      ]
    },
    {
      "cell_type": "markdown",
      "metadata": {
        "id": "TLmupVvL2Vjk",
        "colab_type": "text"
      },
      "source": [
        "**Посмотрим как выглядит нормальное распределение на практике**. Возьмем табличное значение avg_vote - среднее значение голосов за данный фильм. Посмотрим график распределения данной величины."
      ]
    },
    {
      "cell_type": "code",
      "metadata": {
        "id": "Pc_IEf7c2ad2",
        "colab_type": "code",
        "outputId": "285d2570-1431-4347-9c69-ee81cc717a92",
        "colab": {
          "base_uri": "https://localhost:8080/",
          "height": 286
        }
      },
      "source": [
        "len_column = len(df['avg_vote']) # сколько значений в колонке\n",
        "# генерируем значения от 0 до len_column \n",
        "x = np.linspace(0, len_column, len_column)\n",
        "plt.scatter(x, df['avg_vote'], marker='.')"
      ],
      "execution_count": 37,
      "outputs": [
        {
          "output_type": "execute_result",
          "data": {
            "text/plain": [
              "<matplotlib.collections.PathCollection at 0x7f7d3cc75be0>"
            ]
          },
          "metadata": {
            "tags": []
          },
          "execution_count": 37
        },
        {
          "output_type": "display_data",
          "data": {
            "image/png": "[encoded data removed]",
            "text/plain": [
              "<Figure size 432x288 with 1 Axes>"
            ]
          },
          "metadata": {
            "tags": []
          }
        }
      ]
    },
    {
      "cell_type": "markdown",
      "metadata": {
        "id": "r4nBOf1h4O1W",
        "colab_type": "text"
      },
      "source": [
        "По такому графику сложно понять, какое это распределение. Построим частотный график значений. "
      ]
    },
    {
      "cell_type": "code",
      "metadata": {
        "id": "HJI8Ku504VDv",
        "colab_type": "code",
        "outputId": "3418d412-a6c9-452f-86da-a1e58c7235f7",
        "colab": {
          "base_uri": "https://localhost:8080/",
          "height": 295
        }
      },
      "source": [
        "# plt.hist - строит частотный график выборки, разбивая значения выборки на равные интервалы\n",
        "n, bins, patches = plt.hist(df['avg_vote'], 10, facecolor='g')\n",
        "\n",
        "plt.xlabel('frequency')\n",
        "plt.ylabel('avg_vote')\n",
        "plt.title('Частотный график avg_vote (разбиение интервала по 10 элементов)')\n",
        "plt.grid(True)\n",
        "plt.show()"
      ],
      "execution_count": 38,
      "outputs": [
        {
          "output_type": "display_data",
          "data": {
            "image/png": "[encoded data removed]",
            "text/plain": [
              "<Figure size 432x288 with 1 Axes>"
            ]
          },
          "metadata": {
            "tags": []
          }
        }
      ]
    },
    {
      "cell_type": "markdown",
      "metadata": {
        "id": "2Qwy5kXk5ZNE",
        "colab_type": "text"
      },
      "source": [
        "Частотный график схож с нормальным распределением с некоторыми отклонениями. Мы можем поменять количество разбиений наших значений с 10 на 100:"
      ]
    },
    {
      "cell_type": "code",
      "metadata": {
        "id": "ErZp6rg16mYK",
        "colab_type": "code",
        "outputId": "810c694c-2091-4c69-8b71-0f76ee28c779",
        "colab": {
          "base_uri": "https://localhost:8080/",
          "height": 295
        }
      },
      "source": [
        "n, bins, patches = plt.hist(df['avg_vote'], 500, facecolor='g')\n",
        "\n",
        "plt.xlabel('frequency')\n",
        "plt.ylabel('avg_vote')\n",
        "plt.title('Частотный график avg_vote (разбиение интервала по 100 элементов)')\n",
        "plt.grid(True)\n",
        "plt.show()"
      ],
      "execution_count": 41,
      "outputs": [
        {
          "output_type": "display_data",
          "data": {
            "image/png": "[encoded data removed]",
            "text/plain": [
              "<Figure size 432x288 with 1 Axes>"
            ]
          },
          "metadata": {
            "tags": []
          }
        }
      ]
    },
    {
      "cell_type": "markdown",
      "metadata": {
        "id": "b8eQNtZH6pul",
        "colab_type": "text"
      },
      "source": [
        "Можно заметить, что у фильмов больше всего оценок 6 (всего таких фильмов со средней оценкой 6 более 7000)"
      ]
    },
    {
      "cell_type": "markdown",
      "metadata": {
        "id": "KRnyXmca2DXX",
        "colab_type": "text"
      },
      "source": [
        "**Зададим нормальное распределение теоритически.**"
      ]
    },
    {
      "cell_type": "markdown",
      "metadata": {
        "id": "NurYf-P7IIP8",
        "colab_type": "text"
      },
      "source": [
        "Зададим 2 выборки с нормальным распределением и построим точечный график зависимости двух переменных друг от друга.\n",
        "Параметр ```loc``` задаёт $\\mu$ или среднее значение, ```scale``` — среднеквадратичное отклонение $\\sigma$, ```size``` — размер выборки. Имя параметра ```size``` при вызове функции ```rvs``` можно не писать.\n"
      ]
    },
    {
      "cell_type": "code",
      "metadata": {
        "id": "4PEaut0MIIP2",
        "colab_type": "code",
        "outputId": "208afc54-ad03-444f-e021-bf1b00edf990",
        "colab": {
          "base_uri": "https://localhost:8080/",
          "height": 312
        }
      },
      "source": [
        "mu1 = 90\n",
        "sigma1 = 10\n",
        "\n",
        "mu2 = 10 \n",
        "sigma2 = 5\n",
        "\n",
        "amount = 1000\n",
        "\n",
        "# зададим 2 нормально распределенные случайные величины\n",
        "norm_rv1 = sts.norm(loc=mu1, scale=sigma1)\n",
        "norm_rv2 = sts.norm(loc=mu2, scale=sigma2)\n",
        "\n",
        "# сгенерируем 1000 значений\n",
        "x = norm_rv1.rvs(size=amount)\n",
        "y = norm_rv2.rvs(size=amount)\n",
        "\n",
        "# построим точечный график зависимости двух переменных\n",
        "\n",
        "plt.xlabel('выборка x')\n",
        "plt.ylabel('выборка y')\n",
        "plt.title('Точечный график зависимости двух выборок x и y')\n",
        "plt.grid(True)\n",
        "plt.scatter(x, y, marker='.')"
      ],
      "execution_count": 42,
      "outputs": [
        {
          "output_type": "execute_result",
          "data": {
            "text/plain": [
              "<matplotlib.collections.PathCollection at 0x7f7d3c8b2160>"
            ]
          },
          "metadata": {
            "tags": []
          },
          "execution_count": 42
        },
        {
          "output_type": "display_data",
          "data": {
            "image/png": "[encoded data removed]",
            "text/plain": [
              "<Figure size 432x288 with 1 Axes>"
            ]
          },
          "metadata": {
            "tags": []
          }
        }
      ]
    },
    {
      "cell_type": "markdown",
      "metadata": {
        "id": "YdUOXiVuMJwA",
        "colab_type": "text"
      },
      "source": [
        "Частотный график выборки y  (или график плотности вероятности)."
      ]
    },
    {
      "cell_type": "code",
      "metadata": {
        "id": "F39tEj1hL0dm",
        "colab_type": "code",
        "outputId": "657d40ca-7e6d-45d4-d698-1532913792a0",
        "colab": {
          "base_uri": "https://localhost:8080/",
          "height": 295
        }
      },
      "source": [
        "plt.hist(y,100)\n",
        "plt.xlabel('интервал выборки')\n",
        "plt.ylabel('количество элементов')\n",
        "plt.title('Частотный график выборки y')\n",
        "plt.grid(True)\n",
        "plt.show()"
      ],
      "execution_count": 44,
      "outputs": [
        {
          "output_type": "display_data",
          "data": {
            "image/png": "[encoded data removed]",
            "text/plain": [
              "<Figure size 432x288 with 1 Axes>"
            ]
          },
          "metadata": {
            "tags": []
          }
        }
      ]
    },
    {
      "cell_type": "markdown",
      "metadata": {
        "id": "Yv2Y54KLi8b8",
        "colab_type": "text"
      },
      "source": [
        "2-ой способ теоритической генерации нормального распределения: модуль random. "
      ]
    },
    {
      "cell_type": "code",
      "metadata": {
        "id": "1ZDvSVyMjC4G",
        "colab_type": "code",
        "outputId": "3223ec7d-597e-4ad6-9366-206f409404b1",
        "colab": {
          "base_uri": "https://localhost:8080/",
          "height": 295
        }
      },
      "source": [
        "mu, sigma = 0, 0.1 # среднее значение и дисперсия\n",
        "s = np.random.normal(mu, sigma, 1000)\n",
        "\n",
        "count, bins, ignored = plt.hist(s, 30, density=True)\n",
        "# bins - разбиение интервала\n",
        "# формула плотности распределения Гаусса\n",
        "plt.plot(bins, 1/(sigma * np.sqrt(2 * np.pi)) *\n",
        "               np.exp( - (bins - mu)**2 / (2 * sigma**2) ), \n",
        "         linewidth=2, color='r')\n",
        "plt.xlabel('интервал выборки')\n",
        "plt.ylabel('количество элементов')\n",
        "plt.title('Частотный график выборки сгенерированной теоритически методом №2')\n",
        "plt.grid(True)\n",
        "plt.show()"
      ],
      "execution_count": 46,
      "outputs": [
        {
          "output_type": "display_data",
          "data": {
            "image/png": "[encoded data removed]",
            "text/plain": [
              "<Figure size 432x288 with 1 Axes>"
            ]
          },
          "metadata": {
            "tags": []
          }
        }
      ]
    },
    {
      "cell_type": "markdown",
      "metadata": {
        "id": "3dVlvTJvIIQG",
        "colab_type": "text"
      },
      "source": [
        "А так можно вычислить значение функции плотности вероятности нормального распределения в заданной точке:"
      ]
    },
    {
      "cell_type": "code",
      "metadata": {
        "id": "7gUcgJHRIIQH",
        "colab_type": "code",
        "outputId": "3d22b29b-e7de-4fa1-ff28-5da07021e7a0",
        "colab": {
          "base_uri": "https://localhost:8080/",
          "height": 34
        }
      },
      "source": [
        "norm_rv1.pdf(3)"
      ],
      "execution_count": 48,
      "outputs": [
        {
          "output_type": "execute_result",
          "data": {
            "text/plain": [
              "1.4622963575006582e-18"
            ]
          },
          "metadata": {
            "tags": []
          },
          "execution_count": 48
        }
      ]
    },
    {
      "cell_type": "markdown",
      "metadata": {
        "id": "k3G-NNtQIIQN",
        "colab_type": "text"
      },
      "source": [
        "Построим графики функции плотности вероятности от различных выборок (с разными параметрами):"
      ]
    },
    {
      "cell_type": "code",
      "metadata": {
        "id": "uxKZEuFvIIQO",
        "colab_type": "code",
        "outputId": "66b1a1dc-0eb9-467a-b0de-6bc28b1f50a3",
        "colab": {
          "base_uri": "https://localhost:8080/",
          "height": 513
        }
      },
      "source": [
        "# зададим нормально распределенную случайную величину для нескольких выборок\n",
        "norm_rv = sts.norm(loc=2, scale=0.5)\n",
        "norm_rv2 = sts.norm(2, 0.1)\n",
        "norm_rv3 = sts.norm(2, 2)\n",
        "norm_rv4 = sts.norm(1, 1)\n",
        "\n",
        "# зададим вектор x от 0 до 4 с шагом 100 для отрисовки результата\n",
        "x = np.linspace(0,4,100) \n",
        "pdf = norm_rv.pdf(x)\n",
        "pdf2 = norm_rv2.pdf(x)\n",
        "pdf3 = norm_rv3.pdf(x)\n",
        "pdf4 = norm_rv4.pdf(x)\n",
        "plt.figure(figsize=(10,8))\n",
        "plt.plot(x, pdf)\n",
        "plt.plot(x, pdf3)\n",
        "plt.plot(x, pdf4)\n",
        "\n",
        "plt.legend(['среднее 2: дисперсия 0.5',  'среднее 2: дисперсия 2', 'среднее 1: дисперсия 1'])\n",
        "plt.ylabel('$f(x)$')\n",
        "plt.xlabel('$x$')\n",
        "plt.title('Плотности вероятности нескольких выборок')\n",
        "plt.grid(True)"
      ],
      "execution_count": 49,
      "outputs": [
        {
          "output_type": "display_data",
          "data": {
            "image/png": "[encoded data removed]",
            "text/plain": [
              "<Figure size 720x576 with 1 Axes>"
            ]
          },
          "metadata": {
            "tags": []
          }
        }
      ]
    },
    {
      "cell_type": "markdown",
      "metadata": {
        "id": "RHDRQwOGIIQS",
        "colab_type": "text"
      },
      "source": [
        "# Равномерное распределение на отрезке"
      ]
    },
    {
      "cell_type": "markdown",
      "metadata": {
        "id": "fIDeV_TtA3Qj",
        "colab_type": "text"
      },
      "source": [
        "Равномерное распределение на практике - это числа идущие последовательно от 0 до целого числа N. В равномерной выборке каждый элемент встречается одинаковое число раз."
      ]
    },
    {
      "cell_type": "code",
      "metadata": {
        "id": "bwD38X3QD86c",
        "colab_type": "code",
        "outputId": "b6511ea6-058c-4734-800e-ac5306b67a7d",
        "colab": {
          "base_uri": "https://localhost:8080/",
          "height": 295
        }
      },
      "source": [
        "x = np.linspace(0, 100, 100)\n",
        "\n",
        "plt.ylabel('Количество элементов в данном интервале')\n",
        "plt.xlabel('Интервал значений')\n",
        "plt.title('Плотность распределения равномерной выборки')\n",
        "plt.hist(x, 50)\n",
        "plt.show()"
      ],
      "execution_count": 50,
      "outputs": [
        {
          "output_type": "display_data",
          "data": {
            "image/png": "[encoded data removed]",
            "text/plain": [
              "<Figure size 432x288 with 1 Axes>"
            ]
          },
          "metadata": {
            "tags": []
          }
        }
      ]
    },
    {
      "cell_type": "markdown",
      "metadata": {
        "id": "lurOD0--IIQT",
        "colab_type": "text"
      },
      "source": [
        "Сгенерируем теоритически выборку из случайной величины, имеющей равномерное распределение на отрезке $[a,b]$:"
      ]
    },
    {
      "cell_type": "code",
      "metadata": {
        "id": "82q5Z_Q9IIQU",
        "colab_type": "code",
        "outputId": "5c382a4c-953d-4ca0-83bb-5c5d1d3a7b42",
        "colab": {
          "base_uri": "https://localhost:8080/",
          "height": 312
        }
      },
      "source": [
        "a = 1\n",
        "b = 4\n",
        "\n",
        "# обратите внимание, что в этой функции задается левая граница и масштаб, а не левая и правая границы:\n",
        "uniform_rv = sts.uniform(a, b-a)\n",
        "\n",
        "# сгенерируем вектор x для отрисовки значения в pyplot.plot()\n",
        "x = np.linspace(0, 5, 100)\n",
        "pdf = uniform_rv.pdf(x)\n",
        "\n",
        "plt.ylabel('y')\n",
        "plt.xlabel('$x$')\n",
        "plt.title('Плотности вероятности нескольких выборок')\n",
        "plt.plot(x, pdf)"
      ],
      "execution_count": 51,
      "outputs": [
        {
          "output_type": "execute_result",
          "data": {
            "text/plain": [
              "[<matplotlib.lines.Line2D at 0x7f7d3c5fd0b8>]"
            ]
          },
          "metadata": {
            "tags": []
          },
          "execution_count": 51
        },
        {
          "output_type": "display_data",
          "data": {
            "image/png": "[encoded data removed]",
            "text/plain": [
              "<Figure size 432x288 with 1 Axes>"
            ]
          },
          "metadata": {
            "tags": []
          }
        }
      ]
    },
    {
      "cell_type": "markdown",
      "metadata": {
        "id": "N2zbTqJ8Psb2",
        "colab_type": "text"
      },
      "source": [
        "# Нормализация данных"
      ]
    },
    {
      "cell_type": "markdown",
      "metadata": {
        "id": "8L3FOm_HQvJ8",
        "colab_type": "text"
      },
      "source": [
        "Операция центрирования"
      ]
    },
    {
      "cell_type": "code",
      "metadata": {
        "id": "EwYZwQ80Pu9U",
        "colab_type": "code",
        "outputId": "f90fea37-712a-4e84-af16-e2803dc9a425",
        "colab": {
          "base_uri": "https://localhost:8080/",
          "height": 34
        }
      },
      "source": [
        "duration = df['duration']\n",
        "print(statistics.mean(duration))"
      ],
      "execution_count": 52,
      "outputs": [
        {
          "output_type": "stream",
          "text": [
            "99.12066686564619\n"
          ],
          "name": "stdout"
        }
      ]
    },
    {
      "cell_type": "markdown",
      "metadata": {
        "id": "HKgw8RnoQI0K",
        "colab_type": "text"
      },
      "source": [
        "Так как среднее значение не равно 0, необходимо нормализовать."
      ]
    },
    {
      "cell_type": "code",
      "metadata": {
        "id": "lOi7BDRFQM5F",
        "colab_type": "code",
        "outputId": "fe55a4c7-b664-47d8-dd62-9cc3c67e8e9b",
        "colab": {
          "base_uri": "https://localhost:8080/",
          "height": 34
        }
      },
      "source": [
        "duration_1 = duration - statistics.mean(duration)\n",
        "print(statistics.mean(duration_1))"
      ],
      "execution_count": 54,
      "outputs": [
        {
          "output_type": "stream",
          "text": [
            "2.4903685191438297e-16\n"
          ],
          "name": "stdout"
        }
      ]
    },
    {
      "cell_type": "markdown",
      "metadata": {
        "id": "TRb7CjfrRxjN",
        "colab_type": "text"
      },
      "source": [
        "Масштабирование выборки"
      ]
    },
    {
      "cell_type": "markdown",
      "metadata": {
        "id": "LMUSXtoSQgXY",
        "colab_type": "text"
      },
      "source": [
        "Разброс данных приводим к виду (0,1)  либо (-1,1)"
      ]
    },
    {
      "cell_type": "code",
      "metadata": {
        "id": "cKCjedy0QrgV",
        "colab_type": "code",
        "outputId": "a8fa9db8-0588-4f20-804f-1710fd431deb",
        "colab": {
          "base_uri": "https://localhost:8080/",
          "height": 34
        }
      },
      "source": [
        "min(duration_1)"
      ],
      "execution_count": 55,
      "outputs": [
        {
          "output_type": "execute_result",
          "data": {
            "text/plain": [
              "-59.120666865646186"
            ]
          },
          "metadata": {
            "tags": []
          },
          "execution_count": 55
        }
      ]
    },
    {
      "cell_type": "code",
      "metadata": {
        "id": "sfVH2SPxQ0C5",
        "colab_type": "code",
        "outputId": "b3198835-6236-4bb3-d34d-d43d7ddf4d75",
        "colab": {
          "base_uri": "https://localhost:8080/",
          "height": 34
        }
      },
      "source": [
        "max(duration_1)"
      ],
      "execution_count": 56,
      "outputs": [
        {
          "output_type": "execute_result",
          "data": {
            "text/plain": [
              "1425.8793331343538"
            ]
          },
          "metadata": {
            "tags": []
          },
          "execution_count": 56
        }
      ]
    },
    {
      "cell_type": "code",
      "metadata": {
        "id": "4xFlt0Z6RBHS",
        "colab_type": "code",
        "outputId": "741a384c-18dc-411a-c603-00bde291e420",
        "colab": {
          "base_uri": "https://localhost:8080/",
          "height": 51
        }
      },
      "source": [
        "from sklearn import preprocessing\n",
        "min_max_scaler = preprocessing.MinMaxScaler(feature_range=(-1,1))\n",
        "\n",
        "duration_2 = min_max_scaler.fit_transform(np.array(duration_1).reshape(-1, 1))\n",
        "print(min(duration_2))\n",
        "print(max(duration_2))"
      ],
      "execution_count": 57,
      "outputs": [
        {
          "output_type": "stream",
          "text": [
            "[-1.]\n",
            "[1.]\n"
          ],
          "name": "stdout"
        }
      ]
    },
    {
      "cell_type": "markdown",
      "metadata": {
        "id": "dClPNjPCkV6p",
        "colab_type": "text"
      },
      "source": [
        "# Корелляция Пирсона"
      ]
    },
    {
      "cell_type": "code",
      "metadata": {
        "id": "OROijh5ISvwW",
        "colab_type": "code",
        "outputId": "053740fd-e84e-4ce9-9755-2596ecfe7e7c",
        "colab": {
          "base_uri": "https://localhost:8080/",
          "height": 286
        }
      },
      "source": [
        "from scipy.stats import pearsonr\n",
        "x = [1, 2, 3, 4, 5]\n",
        "y = [2, 4, 6, 8, 10]\n",
        "\n",
        "corr, p_value = pearsonr(x, y)\n",
        "plt.scatter(x, y, marker='.')\n",
        "print('Коэффициент корреляции Пирсона:', corr)"
      ],
      "execution_count": 58,
      "outputs": [
        {
          "output_type": "stream",
          "text": [
            "Коэффициент корреляции Пирсона: 1.0\n"
          ],
          "name": "stdout"
        },
        {
          "output_type": "display_data",
          "data": {
            "image/png": "[encoded data removed]",
            "text/plain": [
              "<Figure size 432x288 with 1 Axes>"
            ]
          },
          "metadata": {
            "tags": []
          }
        }
      ]
    },
    {
      "cell_type": "markdown",
      "metadata": {
        "id": "JRss0MmITf7J",
        "colab_type": "text"
      },
      "source": [
        "Чтобы приступать к расчетам коэффициента корреляции r-Пирсона необходимо выполнение следующих условий:\n",
        "\n",
        "*  Исследуемые переменные X и Y должны быть распределены нормально.\n",
        "*  Исследуемые переменные X и Y должны быть измерены в интервальной шкале или шкале отношений.\n",
        "*  Количество значений в исследуемых переменных X и Y должно быть одинаковым."
      ]
    },
    {
      "cell_type": "markdown",
      "metadata": {
        "id": "g_dj25TdT3AP",
        "colab_type": "text"
      },
      "source": [
        "Чем коэффициент ближе к 0, тем более независимы переменные."
      ]
    },
    {
      "cell_type": "code",
      "metadata": {
        "id": "s9skCSQIT9jN",
        "colab_type": "code",
        "outputId": "6d72eb31-ed79-404f-f047-1baef358f60a",
        "colab": {
          "base_uri": "https://localhost:8080/",
          "height": 34
        }
      },
      "source": [
        "corr, p_value = pearsonr(duration, avg_vote)\n",
        "print(corr)"
      ],
      "execution_count": 59,
      "outputs": [
        {
          "output_type": "stream",
          "text": [
            "0.1111789114478769\n"
          ],
          "name": "stdout"
        }
      ]
    },
    {
      "cell_type": "markdown",
      "metadata": {
        "id": "uS5aIlZDTQEP",
        "colab_type": "text"
      },
      "source": [
        "**Минусы коэффициента корреляции Пирсона:**\n",
        "- Неустойчивость к выбросам.\n",
        "- С помощью коэффициента корреляции Пирсона можно определить только силу линейной взаимосвязи между переменными, другие виды взаимосвязей выявляются методами регрессионного анализа."
      ]
    },
    {
      "cell_type": "markdown",
      "metadata": {
        "id": "PNZ1jZF4ebgU",
        "colab_type": "text"
      },
      "source": [
        "# Центральная предельная теорема"
      ]
    },
    {
      "cell_type": "markdown",
      "metadata": {
        "id": "U6JVCpH8WF23",
        "colab_type": "text"
      },
      "source": [
        "С помощью библиотеки random и метода randint сгенерируем равномерное распределение"
      ]
    },
    {
      "cell_type": "code",
      "metadata": {
        "id": "YQR15fLoWMiP",
        "colab_type": "code",
        "colab": {}
      },
      "source": [
        "from numpy.random import randint"
      ],
      "execution_count": 0,
      "outputs": []
    },
    {
      "cell_type": "code",
      "metadata": {
        "id": "UxsdD4OrVuaY",
        "colab_type": "code",
        "outputId": "d7162af6-4a5f-4c21-d698-c558224cf652",
        "colab": {
          "base_uri": "https://localhost:8080/",
          "height": 269
        }
      },
      "source": [
        "plt.hist(randint(1, 7, 50), 6)\n",
        "plt.show()"
      ],
      "execution_count": 0,
      "outputs": [
        {
          "output_type": "display_data",
          "data": {
            "image/png": "[encoded data removed]",
            "text/plain": [
              "<Figure size 432x288 with 1 Axes>"
            ]
          },
          "metadata": {
            "tags": []
          }
        }
      ]
    },
    {
      "cell_type": "markdown",
      "metadata": {
        "id": "OW9J0B5BWwsd",
        "colab_type": "text"
      },
      "source": [
        "Построим частотный график для суммы элементов нескольких выборок. "
      ]
    },
    {
      "cell_type": "code",
      "metadata": {
        "id": "80Ly8ih4erqf",
        "colab_type": "code",
        "outputId": "6d64fe5a-e4cc-40b0-f729-b24f95e29368",
        "colab": {
          "base_uri": "https://localhost:8080/",
          "height": 269
        }
      },
      "source": [
        "sampleMeans = []\n",
        "\n",
        "for _ in range(500):\n",
        "  # 50 элементов, значение которых от 1 до 7\n",
        "    sampleMean = sum(randint(1, 7, 50))\n",
        "    sampleMeans.append(sampleMean)\n",
        "\n",
        "# если построим график - можно увидеть нормальное распределение\n",
        "plt.hist(sampleMeans, 50)\n",
        "plt.show()"
      ],
      "execution_count": 0,
      "outputs": [
        {
          "output_type": "display_data",
          "data": {
            "image/png": "[encoded data removed]",
            "text/plain": [
              "<Figure size 432x288 with 1 Axes>"
            ]
          },
          "metadata": {
            "tags": []
          }
        }
      ]
    },
    {
      "cell_type": "markdown",
      "metadata": {
        "id": "8QwR8rB80UpL",
        "colab_type": "text"
      },
      "source": [
        "# Пример корелляции данных, загруженных с помощью pandas"
      ]
    },
    {
      "cell_type": "markdown",
      "metadata": {
        "id": "a9luPeeG3igO",
        "colab_type": "text"
      },
      "source": [
        "Загружаем данные о ценах на авокадо в США"
      ]
    },
    {
      "cell_type": "code",
      "metadata": {
        "id": "Grmgj92l0auw",
        "colab_type": "code",
        "colab": {}
      },
      "source": [
        "import io\n",
        "import requests\n",
        "url=\"http://yustiks.ru/avocado.csv\"\n",
        "df=pd.read_csv(url)"
      ],
      "execution_count": 0,
      "outputs": []
    },
    {
      "cell_type": "markdown",
      "metadata": {
        "id": "glN4jbZu3pWz",
        "colab_type": "text"
      },
      "source": [
        "Печатаем 5 значений"
      ]
    },
    {
      "cell_type": "code",
      "metadata": {
        "id": "fuynoeix3pgK",
        "colab_type": "code",
        "outputId": "b322fef2-6a4f-4ced-fcab-c0d379155379",
        "colab": {
          "base_uri": "https://localhost:8080/",
          "height": 326
        }
      },
      "source": [
        "df[:5]"
      ],
      "execution_count": 61,
      "outputs": [
        {
          "output_type": "execute_result",
          "data": {
            "text/html": [
              "<div>\n",
              "<style scoped>\n",
              "    .dataframe tbody tr th:only-of-type {\n",
              "        vertical-align: middle;\n",
              "    }\n",
              "\n",
              "    .dataframe tbody tr th {\n",
              "        vertical-align: top;\n",
              "    }\n",
              "\n",
              "    .dataframe thead th {\n",
              "        text-align: right;\n",
              "    }\n",
              "</style>\n",
              "<table border=\"1\" class=\"dataframe\">\n",
              "  <thead>\n",
              "    <tr style=\"text-align: right;\">\n",
              "      <th></th>\n",
              "      <th>Unnamed: 0</th>\n",
              "      <th>Date</th>\n",
              "      <th>AveragePrice</th>\n",
              "      <th>Total Volume</th>\n",
              "      <th>4046</th>\n",
              "      <th>4225</th>\n",
              "      <th>4770</th>\n",
              "      <th>Total Bags</th>\n",
              "      <th>Small Bags</th>\n",
              "      <th>Large Bags</th>\n",
              "      <th>XLarge Bags</th>\n",
              "      <th>type</th>\n",
              "      <th>year</th>\n",
              "      <th>region</th>\n",
              "    </tr>\n",
              "  </thead>\n",
              "  <tbody>\n",
              "    <tr>\n",
              "      <th>0</th>\n",
              "      <td>0</td>\n",
              "      <td>2015-12-27</td>\n",
              "      <td>1.33</td>\n",
              "      <td>64236.62</td>\n",
              "      <td>1036.74</td>\n",
              "      <td>54454.85</td>\n",
              "      <td>48.16</td>\n",
              "      <td>8696.87</td>\n",
              "      <td>8603.62</td>\n",
              "      <td>93.25</td>\n",
              "      <td>0.0</td>\n",
              "      <td>conventional</td>\n",
              "      <td>2015</td>\n",
              "      <td>Albany</td>\n",
              "    </tr>\n",
              "    <tr>\n",
              "      <th>1</th>\n",
              "      <td>1</td>\n",
              "      <td>2015-12-20</td>\n",
              "      <td>1.35</td>\n",
              "      <td>54876.98</td>\n",
              "      <td>674.28</td>\n",
              "      <td>44638.81</td>\n",
              "      <td>58.33</td>\n",
              "      <td>9505.56</td>\n",
              "      <td>9408.07</td>\n",
              "      <td>97.49</td>\n",
              "      <td>0.0</td>\n",
              "      <td>conventional</td>\n",
              "      <td>2015</td>\n",
              "      <td>Albany</td>\n",
              "    </tr>\n",
              "    <tr>\n",
              "      <th>2</th>\n",
              "      <td>2</td>\n",
              "      <td>2015-12-13</td>\n",
              "      <td>0.93</td>\n",
              "      <td>118220.22</td>\n",
              "      <td>794.70</td>\n",
              "      <td>109149.67</td>\n",
              "      <td>130.50</td>\n",
              "      <td>8145.35</td>\n",
              "      <td>8042.21</td>\n",
              "      <td>103.14</td>\n",
              "      <td>0.0</td>\n",
              "      <td>conventional</td>\n",
              "      <td>2015</td>\n",
              "      <td>Albany</td>\n",
              "    </tr>\n",
              "    <tr>\n",
              "      <th>3</th>\n",
              "      <td>3</td>\n",
              "      <td>2015-12-06</td>\n",
              "      <td>1.08</td>\n",
              "      <td>78992.15</td>\n",
              "      <td>1132.00</td>\n",
              "      <td>71976.41</td>\n",
              "      <td>72.58</td>\n",
              "      <td>5811.16</td>\n",
              "      <td>5677.40</td>\n",
              "      <td>133.76</td>\n",
              "      <td>0.0</td>\n",
              "      <td>conventional</td>\n",
              "      <td>2015</td>\n",
              "      <td>Albany</td>\n",
              "    </tr>\n",
              "    <tr>\n",
              "      <th>4</th>\n",
              "      <td>4</td>\n",
              "      <td>2015-11-29</td>\n",
              "      <td>1.28</td>\n",
              "      <td>51039.60</td>\n",
              "      <td>941.48</td>\n",
              "      <td>43838.39</td>\n",
              "      <td>75.78</td>\n",
              "      <td>6183.95</td>\n",
              "      <td>5986.26</td>\n",
              "      <td>197.69</td>\n",
              "      <td>0.0</td>\n",
              "      <td>conventional</td>\n",
              "      <td>2015</td>\n",
              "      <td>Albany</td>\n",
              "    </tr>\n",
              "  </tbody>\n",
              "</table>\n",
              "</div>"
            ],
            "text/plain": [
              "   Unnamed: 0        Date  AveragePrice  ...          type  year  region\n",
              "0           0  2015-12-27          1.33  ...  conventional  2015  Albany\n",
              "1           1  2015-12-20          1.35  ...  conventional  2015  Albany\n",
              "2           2  2015-12-13          0.93  ...  conventional  2015  Albany\n",
              "3           3  2015-12-06          1.08  ...  conventional  2015  Albany\n",
              "4           4  2015-11-29          1.28  ...  conventional  2015  Albany\n",
              "\n",
              "[5 rows x 14 columns]"
            ]
          },
          "metadata": {
            "tags": []
          },
          "execution_count": 61
        }
      ]
    },
    {
      "cell_type": "markdown",
      "metadata": {
        "id": "sEFsvHrz4_-e",
        "colab_type": "text"
      },
      "source": [
        "Размер выборки:"
      ]
    },
    {
      "cell_type": "code",
      "metadata": {
        "id": "7Jv8Ycd_5Ej3",
        "colab_type": "code",
        "outputId": "633e6b96-290c-4a33-9ce0-998ada2f9e48",
        "colab": {
          "base_uri": "https://localhost:8080/",
          "height": 34
        }
      },
      "source": [
        "len(df)"
      ],
      "execution_count": 62,
      "outputs": [
        {
          "output_type": "execute_result",
          "data": {
            "text/plain": [
              "18249"
            ]
          },
          "metadata": {
            "tags": []
          },
          "execution_count": 62
        }
      ]
    },
    {
      "cell_type": "markdown",
      "metadata": {
        "id": "_gAN_XSH5hw7",
        "colab_type": "text"
      },
      "source": [
        "Нормализация значений"
      ]
    },
    {
      "cell_type": "code",
      "metadata": {
        "id": "hqEUSECn5glZ",
        "colab_type": "code",
        "outputId": "5b885ddd-5261-49bc-fff0-98c09b606d24",
        "colab": {
          "base_uri": "https://localhost:8080/",
          "height": 119
        }
      },
      "source": [
        "from sklearn import preprocessing\n",
        "min_max_scaler = preprocessing.MinMaxScaler(feature_range=(0,1))\n",
        "\n",
        "np_scaled = min_max_scaler.fit_transform(df[['Total Volume', 'Total Bags']])\n",
        "df_norm = pd.DataFrame(np_scaled)\n",
        "print(df_norm[:5])"
      ],
      "execution_count": 63,
      "outputs": [
        {
          "output_type": "stream",
          "text": [
            "          0         1\n",
            "0  0.001026  0.000449\n",
            "1  0.000877  0.000491\n",
            "2  0.001890  0.000420\n",
            "3  0.001262  0.000300\n",
            "4  0.000815  0.000319\n"
          ],
          "name": "stdout"
        }
      ]
    },
    {
      "cell_type": "markdown",
      "metadata": {
        "id": "XwQJ23Wt5LQL",
        "colab_type": "text"
      },
      "source": [
        "Корелляция скорее всего между Total Volume и Total Bags "
      ]
    },
    {
      "cell_type": "code",
      "metadata": {
        "id": "z7LtIv0y5U47",
        "colab_type": "code",
        "colab": {}
      },
      "source": [
        "volume = df_norm[0]\n",
        "bags = df_norm[1]"
      ],
      "execution_count": 0,
      "outputs": []
    },
    {
      "cell_type": "markdown",
      "metadata": {
        "id": "L29CEeEg6g--",
        "colab_type": "text"
      },
      "source": [
        "Посмотрим насколько они зависят друг от друга:"
      ]
    },
    {
      "cell_type": "code",
      "metadata": {
        "id": "kdxrRw2Y6klP",
        "colab_type": "code",
        "outputId": "a67d4666-e5af-449c-f943-31e19c9c2710",
        "colab": {
          "base_uri": "https://localhost:8080/",
          "height": 269
        }
      },
      "source": [
        "plt.plot(volume, bags, 'r.')\n",
        "plt.show()"
      ],
      "execution_count": 65,
      "outputs": [
        {
          "output_type": "display_data",
          "data": {
            "image/png": "[encoded data removed]",
            "text/plain": [
              "<Figure size 432x288 with 1 Axes>"
            ]
          },
          "metadata": {
            "tags": []
          }
        }
      ]
    },
    {
      "cell_type": "code",
      "metadata": {
        "id": "4S9PgAj8X7FC",
        "colab_type": "code",
        "outputId": "f8cbdd4c-0075-4cbe-b672-981cfcdd0fac",
        "colab": {
          "base_uri": "https://localhost:8080/",
          "height": 34
        }
      },
      "source": [
        "corr, p_value = pearsonr(volume, bags)\n",
        "print(corr)"
      ],
      "execution_count": 66,
      "outputs": [
        {
          "output_type": "stream",
          "text": [
            "0.9630470824267293\n"
          ],
          "name": "stdout"
        }
      ]
    },
    {
      "cell_type": "markdown",
      "metadata": {
        "id": "Hg2Z9A29IIRH",
        "colab_type": "text"
      },
      "source": [
        "Полный список функций SciPy для работы со всеми распределениями можно найти тут: http://docs.scipy.org/doc/scipy-0.14.0/reference/stats.html"
      ]
    },
    {
      "cell_type": "markdown",
      "metadata": {
        "id": "ptR-sMx3ZuQ9",
        "colab_type": "text"
      },
      "source": [
        "Матрица корреляций."
      ]
    },
    {
      "cell_type": "code",
      "metadata": {
        "id": "feNUY0iGZx_l",
        "colab_type": "code",
        "outputId": "d17fdc25-f149-4ca7-d39b-98493b686d84",
        "colab": {
          "base_uri": "https://localhost:8080/",
          "height": 760
        }
      },
      "source": [
        "import seaborn as sns\n",
        "sns.heatmap(df.corr(),annot=True,cmap='RdYlGn',linewidths=0.2) #data.corr()-->correlation matrix\n",
        "fig=plt.gcf()\n",
        "fig.set_size_inches(12,12)\n",
        "plt.show()\n"
      ],
      "execution_count": 67,
      "outputs": [
        {
          "output_type": "display_data",
          "data": {
            "image/png": "[encoded data removed]",
            "text/plain": [
              "<Figure size 864x864 with 2 Axes>"
            ]
          },
          "metadata": {
            "tags": []
          }
        }
      ]
    }
  ]
}