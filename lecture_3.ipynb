{
  "nbformat": 4,
  "nbformat_minor": 0,
  "metadata": {
    "colab": {
      "name": "lecture_3.ipynb",
      "version": "0.3.2",
      "provenance": [],
      "toc_visible": true
    },
    "kernelspec": {
      "name": "python3",
      "display_name": "Python 3"
    }
  },
  "cells": [
    {
      "cell_type": "code",
      "metadata": {
        "id": "QhlLJB9YnwRS",
        "colab_type": "code",
        "colab": {}
      },
      "source": [
        "import numpy as np\n",
        "from scipy.stats import t\n",
        "from scipy.stats import norm\n",
        "import matplotlib.pyplot as plt\n",
        "from scipy import stats\n",
        "import pandas as pd\n",
        "import io\n",
        "import requests\n",
        "import seaborn as sns\n",
        "%matplotlib inline"
      ],
      "execution_count": 0,
      "outputs": []
    },
    {
      "cell_type": "markdown",
      "metadata": {
        "id": "t410wvZvmo03",
        "colab_type": "text"
      },
      "source": [
        "# Описательная статистика. Продолжение."
      ]
    },
    {
      "cell_type": "markdown",
      "metadata": {
        "id": "oGXNdsbvP-bw",
        "colab_type": "text"
      },
      "source": [
        "Загрузим новый датасет, для предсказания болезни человека (сердечная болезнь). \n",
        "\n",
        "\n",
        "**Колонки:**\n",
        "> 1. **age**\n",
        "> 2. **sex** \n",
        "> 3. **cp** chest pain type (4 values) \n",
        "> 4. **trestbps** resting blood pressure \n",
        "> 5. **chol** serum cholestoral in mg/dl \n",
        "> 6. **fbs** fasting blood sugar > 120 mg/dl\n",
        "> 7. **restecg** resting electrocardiographic results (values 0,1,2)\n",
        "> 8. **thalach** maximum heart rate achieved \n",
        "> 9. **exang** exercise induced angina \n",
        "> 10. **oldpeak** = ST depression induced by exercise relative to rest.\n",
        "A test that indicates a high probability of coronary artery disease is one in which there is substantial ST depression at low work rate associated with typical angina-like pain and a drop in blood pressure. Deeper and more widespread ST depression generally indicates more severe or extensive disease.\n",
        "> 11. the **slope** of the peak exercise ST segment \n",
        "> 12. **ca** number of major vessels (0-3) colored by flourosopy \n",
        "> 13. **thal**: 3 = normal; 6 = fixed defect; 7 = reversable defect\n",
        "> 14. **target** - ill or not\n"
      ]
    },
    {
      "cell_type": "code",
      "metadata": {
        "id": "XauKdsxMPNuC",
        "colab_type": "code",
        "outputId": "1edc1dea-52f4-45da-8a38-2ea62e6f7fb7",
        "colab": {
          "base_uri": "https://localhost:8080/",
          "height": 204
        }
      },
      "source": [
        "url=\"http://yustiks.ru/dataset/heart.csv\"\n",
        "data=pd.read_csv(url)\n",
        "data.head()"
      ],
      "execution_count": 3,
      "outputs": [
        {
          "output_type": "execute_result",
          "data": {
            "text/html": [
              "<div>\n",
              "<style scoped>\n",
              "    .dataframe tbody tr th:only-of-type {\n",
              "        vertical-align: middle;\n",
              "    }\n",
              "\n",
              "    .dataframe tbody tr th {\n",
              "        vertical-align: top;\n",
              "    }\n",
              "\n",
              "    .dataframe thead th {\n",
              "        text-align: right;\n",
              "    }\n",
              "</style>\n",
              "<table border=\"1\" class=\"dataframe\">\n",
              "  <thead>\n",
              "    <tr style=\"text-align: right;\">\n",
              "      <th></th>\n",
              "      <th>age</th>\n",
              "      <th>sex</th>\n",
              "      <th>cp</th>\n",
              "      <th>trestbps</th>\n",
              "      <th>chol</th>\n",
              "      <th>fbs</th>\n",
              "      <th>restecg</th>\n",
              "      <th>thalach</th>\n",
              "      <th>exang</th>\n",
              "      <th>oldpeak</th>\n",
              "      <th>slope</th>\n",
              "      <th>ca</th>\n",
              "      <th>thal</th>\n",
              "      <th>target</th>\n",
              "    </tr>\n",
              "  </thead>\n",
              "  <tbody>\n",
              "    <tr>\n",
              "      <th>0</th>\n",
              "      <td>63</td>\n",
              "      <td>1</td>\n",
              "      <td>3</td>\n",
              "      <td>145</td>\n",
              "      <td>233</td>\n",
              "      <td>1</td>\n",
              "      <td>0</td>\n",
              "      <td>150</td>\n",
              "      <td>0</td>\n",
              "      <td>2.3</td>\n",
              "      <td>0</td>\n",
              "      <td>0</td>\n",
              "      <td>1</td>\n",
              "      <td>1</td>\n",
              "    </tr>\n",
              "    <tr>\n",
              "      <th>1</th>\n",
              "      <td>37</td>\n",
              "      <td>1</td>\n",
              "      <td>2</td>\n",
              "      <td>130</td>\n",
              "      <td>250</td>\n",
              "      <td>0</td>\n",
              "      <td>1</td>\n",
              "      <td>187</td>\n",
              "      <td>0</td>\n",
              "      <td>3.5</td>\n",
              "      <td>0</td>\n",
              "      <td>0</td>\n",
              "      <td>2</td>\n",
              "      <td>1</td>\n",
              "    </tr>\n",
              "    <tr>\n",
              "      <th>2</th>\n",
              "      <td>41</td>\n",
              "      <td>0</td>\n",
              "      <td>1</td>\n",
              "      <td>130</td>\n",
              "      <td>204</td>\n",
              "      <td>0</td>\n",
              "      <td>0</td>\n",
              "      <td>172</td>\n",
              "      <td>0</td>\n",
              "      <td>1.4</td>\n",
              "      <td>2</td>\n",
              "      <td>0</td>\n",
              "      <td>2</td>\n",
              "      <td>1</td>\n",
              "    </tr>\n",
              "    <tr>\n",
              "      <th>3</th>\n",
              "      <td>56</td>\n",
              "      <td>1</td>\n",
              "      <td>1</td>\n",
              "      <td>120</td>\n",
              "      <td>236</td>\n",
              "      <td>0</td>\n",
              "      <td>1</td>\n",
              "      <td>178</td>\n",
              "      <td>0</td>\n",
              "      <td>0.8</td>\n",
              "      <td>2</td>\n",
              "      <td>0</td>\n",
              "      <td>2</td>\n",
              "      <td>1</td>\n",
              "    </tr>\n",
              "    <tr>\n",
              "      <th>4</th>\n",
              "      <td>57</td>\n",
              "      <td>0</td>\n",
              "      <td>0</td>\n",
              "      <td>120</td>\n",
              "      <td>354</td>\n",
              "      <td>0</td>\n",
              "      <td>1</td>\n",
              "      <td>163</td>\n",
              "      <td>1</td>\n",
              "      <td>0.6</td>\n",
              "      <td>2</td>\n",
              "      <td>0</td>\n",
              "      <td>2</td>\n",
              "      <td>1</td>\n",
              "    </tr>\n",
              "  </tbody>\n",
              "</table>\n",
              "</div>"
            ],
            "text/plain": [
              "   age  sex  cp  trestbps  chol  fbs  ...  exang  oldpeak  slope  ca  thal  target\n",
              "0   63    1   3       145   233    1  ...      0      2.3      0   0     1       1\n",
              "1   37    1   2       130   250    0  ...      0      3.5      0   0     2       1\n",
              "2   41    0   1       130   204    0  ...      0      1.4      2   0     2       1\n",
              "3   56    1   1       120   236    0  ...      0      0.8      2   0     2       1\n",
              "4   57    0   0       120   354    0  ...      1      0.6      2   0     2       1\n",
              "\n",
              "[5 rows x 14 columns]"
            ]
          },
          "metadata": {
            "tags": []
          },
          "execution_count": 3
        }
      ]
    },
    {
      "cell_type": "code",
      "metadata": {
        "id": "DL2Yz2eBTIzd",
        "colab_type": "code",
        "colab": {
          "base_uri": "https://localhost:8080/",
          "height": 34
        },
        "outputId": "a7a60b9c-a948-4d89-e8f8-171b2969960c"
      },
      "source": [
        "len(data)"
      ],
      "execution_count": 3,
      "outputs": [
        {
          "output_type": "execute_result",
          "data": {
            "text/plain": [
              "303"
            ]
          },
          "metadata": {
            "tags": []
          },
          "execution_count": 3
        }
      ]
    },
    {
      "cell_type": "markdown",
      "metadata": {
        "id": "J9-MpsrmovJ1",
        "colab_type": "text"
      },
      "source": [
        "**Вариационный ряд:**"
      ]
    },
    {
      "cell_type": "code",
      "metadata": {
        "id": "y6Wg7MXeoy64",
        "colab_type": "code",
        "outputId": "76ee9bd3-f0f5-4976-c0d5-3a421058d1fa",
        "colab": {
          "base_uri": "https://localhost:8080/",
          "height": 119
        }
      },
      "source": [
        "age = data['age']\n",
        "age.head()"
      ],
      "execution_count": 4,
      "outputs": [
        {
          "output_type": "execute_result",
          "data": {
            "text/plain": [
              "0    63\n",
              "1    37\n",
              "2    41\n",
              "3    56\n",
              "4    57\n",
              "Name: age, dtype: int64"
            ]
          },
          "metadata": {
            "tags": []
          },
          "execution_count": 4
        }
      ]
    },
    {
      "cell_type": "markdown",
      "metadata": {
        "id": "KPiGH6CvpA6k",
        "colab_type": "text"
      },
      "source": [
        "**Квантиль** - значение, которое заданная случайная величина не превышает с фиксированной вероятностью. Если вероятность задана в процентах, то квантиль называется процентилем или перцентилем "
      ]
    },
    {
      "cell_type": "markdown",
      "metadata": {
        "id": "c0WlaB2csUxv",
        "colab_type": "text"
      },
      "source": [
        "![alt text](https://cdncontribute.geeksforgeeks.org/wp-content/uploads/quantile.jpg)\n",
        "\n",
        "Расположение квантилей Q1 и Q2 в выборке"
      ]
    },
    {
      "cell_type": "code",
      "metadata": {
        "id": "o3di8_AtqYjx",
        "colab_type": "code",
        "outputId": "eae54fdc-17ba-4dd3-ed97-23113da482b6",
        "colab": {
          "base_uri": "https://localhost:8080/",
          "height": 295
        }
      },
      "source": [
        "sns.distplot(age)\n",
        "plt.title('Плотность вероятности распределения age')\n",
        "plt.show()"
      ],
      "execution_count": 5,
      "outputs": [
        {
          "output_type": "display_data",
          "data": {
            "image/png": "[encoded data removed]",
            "text/plain": [
              "<Figure size 432x288 with 1 Axes>"
            ]
          },
          "metadata": {
            "tags": []
          }
        }
      ]
    },
    {
      "cell_type": "code",
      "metadata": {
        "id": "tY_5SVUJpwML",
        "colab_type": "code",
        "outputId": "567c5f98-76bb-42fd-8f7b-9314a5042b1a",
        "colab": {
          "base_uri": "https://localhost:8080/",
          "height": 102
        }
      },
      "source": [
        "print(\"age : \", len(age))  \n",
        "print(\"Q2 квантиль ряда : \", np.quantile(age, .50)) \n",
        "print(\"Q1 квантиль ряда : \", np.quantile(age, .25)) \n",
        "print(\"Q3 квантиль ряда : \", np.quantile(age, .75)) \n",
        "print(\"100 квантиль ряда : \", np.quantile(age, .1)) "
      ],
      "execution_count": 6,
      "outputs": [
        {
          "output_type": "stream",
          "text": [
            "age :  303\n",
            "Q2 квантиль ряда :  55.0\n",
            "Q1 квантиль ряда :  47.5\n",
            "Q3 квантиль ряда :  61.0\n",
            "100 квантиль ряда :  42.0\n"
          ],
          "name": "stdout"
        }
      ]
    },
    {
      "cell_type": "markdown",
      "metadata": {
        "id": "bUR_iebdtoMU",
        "colab_type": "text"
      },
      "source": [
        "Квантиль серединный для всех колонок таблицы"
      ]
    },
    {
      "cell_type": "code",
      "metadata": {
        "id": "b-oTalkKtj-S",
        "colab_type": "code",
        "outputId": "85d30bb5-15e3-47a3-bfea-ccc5cdae37da",
        "colab": {
          "base_uri": "https://localhost:8080/",
          "height": 272
        }
      },
      "source": [
        "data.quantile(0.20, axis = 0)"
      ],
      "execution_count": 8,
      "outputs": [
        {
          "output_type": "execute_result",
          "data": {
            "text/plain": [
              "age          45.0\n",
              "sex           0.0\n",
              "cp            0.0\n",
              "trestbps    120.0\n",
              "chol        204.0\n",
              "fbs           0.0\n",
              "restecg       0.0\n",
              "thalach     130.0\n",
              "exang         0.0\n",
              "oldpeak       0.0\n",
              "slope         1.0\n",
              "ca            0.0\n",
              "thal          2.0\n",
              "target        0.0\n",
              "Name: 0.2, dtype: float64"
            ]
          },
          "metadata": {
            "tags": []
          },
          "execution_count": 8
        }
      ]
    },
    {
      "cell_type": "markdown",
      "metadata": {
        "id": "UI-D_aPIt0Ru",
        "colab_type": "text"
      },
      "source": [
        "Квантили"
      ]
    },
    {
      "cell_type": "code",
      "metadata": {
        "id": "XIC9y0qCtxoN",
        "colab_type": "code",
        "outputId": "6701c352-f60e-4c63-c44f-04392d92ca48",
        "colab": {
          "base_uri": "https://localhost:8080/",
          "height": 173
        }
      },
      "source": [
        "data.quantile([.10, .25, .50, .75], axis = 0) "
      ],
      "execution_count": 10,
      "outputs": [
        {
          "output_type": "execute_result",
          "data": {
            "text/html": [
              "<div>\n",
              "<style scoped>\n",
              "    .dataframe tbody tr th:only-of-type {\n",
              "        vertical-align: middle;\n",
              "    }\n",
              "\n",
              "    .dataframe tbody tr th {\n",
              "        vertical-align: top;\n",
              "    }\n",
              "\n",
              "    .dataframe thead th {\n",
              "        text-align: right;\n",
              "    }\n",
              "</style>\n",
              "<table border=\"1\" class=\"dataframe\">\n",
              "  <thead>\n",
              "    <tr style=\"text-align: right;\">\n",
              "      <th></th>\n",
              "      <th>age</th>\n",
              "      <th>sex</th>\n",
              "      <th>cp</th>\n",
              "      <th>trestbps</th>\n",
              "      <th>chol</th>\n",
              "      <th>fbs</th>\n",
              "      <th>restecg</th>\n",
              "      <th>thalach</th>\n",
              "      <th>exang</th>\n",
              "      <th>oldpeak</th>\n",
              "      <th>slope</th>\n",
              "      <th>ca</th>\n",
              "      <th>thal</th>\n",
              "      <th>target</th>\n",
              "    </tr>\n",
              "  </thead>\n",
              "  <tbody>\n",
              "    <tr>\n",
              "      <th>0.10</th>\n",
              "      <td>42.0</td>\n",
              "      <td>0.0</td>\n",
              "      <td>0.0</td>\n",
              "      <td>110.0</td>\n",
              "      <td>188.0</td>\n",
              "      <td>0.0</td>\n",
              "      <td>0.0</td>\n",
              "      <td>116.0</td>\n",
              "      <td>0.0</td>\n",
              "      <td>0.0</td>\n",
              "      <td>1.0</td>\n",
              "      <td>0.0</td>\n",
              "      <td>2.0</td>\n",
              "      <td>0.0</td>\n",
              "    </tr>\n",
              "    <tr>\n",
              "      <th>0.25</th>\n",
              "      <td>47.5</td>\n",
              "      <td>0.0</td>\n",
              "      <td>0.0</td>\n",
              "      <td>120.0</td>\n",
              "      <td>211.0</td>\n",
              "      <td>0.0</td>\n",
              "      <td>0.0</td>\n",
              "      <td>133.5</td>\n",
              "      <td>0.0</td>\n",
              "      <td>0.0</td>\n",
              "      <td>1.0</td>\n",
              "      <td>0.0</td>\n",
              "      <td>2.0</td>\n",
              "      <td>0.0</td>\n",
              "    </tr>\n",
              "    <tr>\n",
              "      <th>0.50</th>\n",
              "      <td>55.0</td>\n",
              "      <td>1.0</td>\n",
              "      <td>1.0</td>\n",
              "      <td>130.0</td>\n",
              "      <td>240.0</td>\n",
              "      <td>0.0</td>\n",
              "      <td>1.0</td>\n",
              "      <td>153.0</td>\n",
              "      <td>0.0</td>\n",
              "      <td>0.8</td>\n",
              "      <td>1.0</td>\n",
              "      <td>0.0</td>\n",
              "      <td>2.0</td>\n",
              "      <td>1.0</td>\n",
              "    </tr>\n",
              "    <tr>\n",
              "      <th>0.75</th>\n",
              "      <td>61.0</td>\n",
              "      <td>1.0</td>\n",
              "      <td>2.0</td>\n",
              "      <td>140.0</td>\n",
              "      <td>274.5</td>\n",
              "      <td>0.0</td>\n",
              "      <td>1.0</td>\n",
              "      <td>166.0</td>\n",
              "      <td>1.0</td>\n",
              "      <td>1.6</td>\n",
              "      <td>2.0</td>\n",
              "      <td>1.0</td>\n",
              "      <td>3.0</td>\n",
              "      <td>1.0</td>\n",
              "    </tr>\n",
              "  </tbody>\n",
              "</table>\n",
              "</div>"
            ],
            "text/plain": [
              "       age  sex   cp  trestbps   chol  ...  oldpeak  slope   ca  thal  target\n",
              "0.10  42.0  0.0  0.0     110.0  188.0  ...      0.0    1.0  0.0   2.0     0.0\n",
              "0.25  47.5  0.0  0.0     120.0  211.0  ...      0.0    1.0  0.0   2.0     0.0\n",
              "0.50  55.0  1.0  1.0     130.0  240.0  ...      0.8    1.0  0.0   2.0     1.0\n",
              "0.75  61.0  1.0  2.0     140.0  274.5  ...      1.6    2.0  1.0   3.0     1.0\n",
              "\n",
              "[4 rows x 14 columns]"
            ]
          },
          "metadata": {
            "tags": []
          },
          "execution_count": 10
        }
      ]
    },
    {
      "cell_type": "markdown",
      "metadata": {
        "id": "VXqUVSYDppwG",
        "colab_type": "text"
      },
      "source": [
        "**Квантили специальных видов - квартиль**"
      ]
    },
    {
      "cell_type": "code",
      "metadata": {
        "id": "pv89xpthnBwa",
        "colab_type": "code",
        "outputId": "99052c85-bd6c-44a1-a1ee-9994ef78288b",
        "colab": {
          "base_uri": "https://localhost:8080/",
          "height": 317
        }
      },
      "source": [
        "data.describe()"
      ],
      "execution_count": 11,
      "outputs": [
        {
          "output_type": "execute_result",
          "data": {
            "text/html": [
              "<div>\n",
              "<style scoped>\n",
              "    .dataframe tbody tr th:only-of-type {\n",
              "        vertical-align: middle;\n",
              "    }\n",
              "\n",
              "    .dataframe tbody tr th {\n",
              "        vertical-align: top;\n",
              "    }\n",
              "\n",
              "    .dataframe thead th {\n",
              "        text-align: right;\n",
              "    }\n",
              "</style>\n",
              "<table border=\"1\" class=\"dataframe\">\n",
              "  <thead>\n",
              "    <tr style=\"text-align: right;\">\n",
              "      <th></th>\n",
              "      <th>age</th>\n",
              "      <th>sex</th>\n",
              "      <th>cp</th>\n",
              "      <th>trestbps</th>\n",
              "      <th>chol</th>\n",
              "      <th>fbs</th>\n",
              "      <th>restecg</th>\n",
              "      <th>thalach</th>\n",
              "      <th>exang</th>\n",
              "      <th>oldpeak</th>\n",
              "      <th>slope</th>\n",
              "      <th>ca</th>\n",
              "      <th>thal</th>\n",
              "      <th>target</th>\n",
              "    </tr>\n",
              "  </thead>\n",
              "  <tbody>\n",
              "    <tr>\n",
              "      <th>count</th>\n",
              "      <td>303.000000</td>\n",
              "      <td>303.000000</td>\n",
              "      <td>303.000000</td>\n",
              "      <td>303.000000</td>\n",
              "      <td>303.000000</td>\n",
              "      <td>303.000000</td>\n",
              "      <td>303.000000</td>\n",
              "      <td>303.000000</td>\n",
              "      <td>303.000000</td>\n",
              "      <td>303.000000</td>\n",
              "      <td>303.000000</td>\n",
              "      <td>303.000000</td>\n",
              "      <td>303.000000</td>\n",
              "      <td>303.000000</td>\n",
              "    </tr>\n",
              "    <tr>\n",
              "      <th>mean</th>\n",
              "      <td>54.366337</td>\n",
              "      <td>0.683168</td>\n",
              "      <td>0.966997</td>\n",
              "      <td>131.623762</td>\n",
              "      <td>246.264026</td>\n",
              "      <td>0.148515</td>\n",
              "      <td>0.528053</td>\n",
              "      <td>149.646865</td>\n",
              "      <td>0.326733</td>\n",
              "      <td>1.039604</td>\n",
              "      <td>1.399340</td>\n",
              "      <td>0.729373</td>\n",
              "      <td>2.313531</td>\n",
              "      <td>0.544554</td>\n",
              "    </tr>\n",
              "    <tr>\n",
              "      <th>std</th>\n",
              "      <td>9.082101</td>\n",
              "      <td>0.466011</td>\n",
              "      <td>1.032052</td>\n",
              "      <td>17.538143</td>\n",
              "      <td>51.830751</td>\n",
              "      <td>0.356198</td>\n",
              "      <td>0.525860</td>\n",
              "      <td>22.905161</td>\n",
              "      <td>0.469794</td>\n",
              "      <td>1.161075</td>\n",
              "      <td>0.616226</td>\n",
              "      <td>1.022606</td>\n",
              "      <td>0.612277</td>\n",
              "      <td>0.498835</td>\n",
              "    </tr>\n",
              "    <tr>\n",
              "      <th>min</th>\n",
              "      <td>29.000000</td>\n",
              "      <td>0.000000</td>\n",
              "      <td>0.000000</td>\n",
              "      <td>94.000000</td>\n",
              "      <td>126.000000</td>\n",
              "      <td>0.000000</td>\n",
              "      <td>0.000000</td>\n",
              "      <td>71.000000</td>\n",
              "      <td>0.000000</td>\n",
              "      <td>0.000000</td>\n",
              "      <td>0.000000</td>\n",
              "      <td>0.000000</td>\n",
              "      <td>0.000000</td>\n",
              "      <td>0.000000</td>\n",
              "    </tr>\n",
              "    <tr>\n",
              "      <th>25%</th>\n",
              "      <td>47.500000</td>\n",
              "      <td>0.000000</td>\n",
              "      <td>0.000000</td>\n",
              "      <td>120.000000</td>\n",
              "      <td>211.000000</td>\n",
              "      <td>0.000000</td>\n",
              "      <td>0.000000</td>\n",
              "      <td>133.500000</td>\n",
              "      <td>0.000000</td>\n",
              "      <td>0.000000</td>\n",
              "      <td>1.000000</td>\n",
              "      <td>0.000000</td>\n",
              "      <td>2.000000</td>\n",
              "      <td>0.000000</td>\n",
              "    </tr>\n",
              "    <tr>\n",
              "      <th>50%</th>\n",
              "      <td>55.000000</td>\n",
              "      <td>1.000000</td>\n",
              "      <td>1.000000</td>\n",
              "      <td>130.000000</td>\n",
              "      <td>240.000000</td>\n",
              "      <td>0.000000</td>\n",
              "      <td>1.000000</td>\n",
              "      <td>153.000000</td>\n",
              "      <td>0.000000</td>\n",
              "      <td>0.800000</td>\n",
              "      <td>1.000000</td>\n",
              "      <td>0.000000</td>\n",
              "      <td>2.000000</td>\n",
              "      <td>1.000000</td>\n",
              "    </tr>\n",
              "    <tr>\n",
              "      <th>75%</th>\n",
              "      <td>61.000000</td>\n",
              "      <td>1.000000</td>\n",
              "      <td>2.000000</td>\n",
              "      <td>140.000000</td>\n",
              "      <td>274.500000</td>\n",
              "      <td>0.000000</td>\n",
              "      <td>1.000000</td>\n",
              "      <td>166.000000</td>\n",
              "      <td>1.000000</td>\n",
              "      <td>1.600000</td>\n",
              "      <td>2.000000</td>\n",
              "      <td>1.000000</td>\n",
              "      <td>3.000000</td>\n",
              "      <td>1.000000</td>\n",
              "    </tr>\n",
              "    <tr>\n",
              "      <th>max</th>\n",
              "      <td>77.000000</td>\n",
              "      <td>1.000000</td>\n",
              "      <td>3.000000</td>\n",
              "      <td>200.000000</td>\n",
              "      <td>564.000000</td>\n",
              "      <td>1.000000</td>\n",
              "      <td>2.000000</td>\n",
              "      <td>202.000000</td>\n",
              "      <td>1.000000</td>\n",
              "      <td>6.200000</td>\n",
              "      <td>2.000000</td>\n",
              "      <td>4.000000</td>\n",
              "      <td>3.000000</td>\n",
              "      <td>1.000000</td>\n",
              "    </tr>\n",
              "  </tbody>\n",
              "</table>\n",
              "</div>"
            ],
            "text/plain": [
              "              age         sex          cp  ...          ca        thal      target\n",
              "count  303.000000  303.000000  303.000000  ...  303.000000  303.000000  303.000000\n",
              "mean    54.366337    0.683168    0.966997  ...    0.729373    2.313531    0.544554\n",
              "std      9.082101    0.466011    1.032052  ...    1.022606    0.612277    0.498835\n",
              "min     29.000000    0.000000    0.000000  ...    0.000000    0.000000    0.000000\n",
              "25%     47.500000    0.000000    0.000000  ...    0.000000    2.000000    0.000000\n",
              "50%     55.000000    1.000000    1.000000  ...    0.000000    2.000000    1.000000\n",
              "75%     61.000000    1.000000    2.000000  ...    1.000000    3.000000    1.000000\n",
              "max     77.000000    1.000000    3.000000  ...    4.000000    3.000000    1.000000\n",
              "\n",
              "[8 rows x 14 columns]"
            ]
          },
          "metadata": {
            "tags": []
          },
          "execution_count": 11
        }
      ]
    },
    {
      "cell_type": "markdown",
      "metadata": {
        "id": "mW-TZU-iun92",
        "colab_type": "text"
      },
      "source": [
        "Квартили описывают рассеянность данных относительно середины выборки. \n",
        "**Интеркварти́льным размахом** (англ. Interquartile range) называется разность между третьим и первым квартилями, то есть x_0,75-x_0,25. Интерквартильный размах является характеристикой разброса распределения величины и является робастным аналогом дисперсии. Вместе, медиана и интерквартильный размах могут быть использованы вместо математического ожидания и дисперсии в случае распределений с большими выбросами, либо при невозможности вычисления последних."
      ]
    },
    {
      "cell_type": "markdown",
      "metadata": {
        "id": "3ay_m9vau23q",
        "colab_type": "text"
      },
      "source": [
        "Посмотрим, как отличаются вероятностные распределения мужчин и женщин по параметру: **thalach** - максимальное значение heart rate"
      ]
    },
    {
      "cell_type": "code",
      "metadata": {
        "id": "ojGdyiZeu0yM",
        "colab_type": "code",
        "outputId": "3ba12c9e-bf14-42e2-a276-c35c6d387238",
        "colab": {
          "base_uri": "https://localhost:8080/",
          "height": 295
        }
      },
      "source": [
        "f_thalach = data[data['sex']==0]['thalach']\n",
        "m_thalach = data[data['sex']==1]['thalach']\n",
        "sns.distplot(f_thalach)\n",
        "sns.distplot(m_thalach)\n",
        "plt.title('Плотность вероятности распределения thalach')\n",
        "plt.legend(['женщины', 'мужчины'])\n",
        "plt.show()"
      ],
      "execution_count": 14,
      "outputs": [
        {
          "output_type": "display_data",
          "data": {
            "image/png": "[encoded data removed]",
            "text/plain": [
              "<Figure size 432x288 with 1 Axes>"
            ]
          },
          "metadata": {
            "tags": []
          }
        }
      ]
    },
    {
      "cell_type": "markdown",
      "metadata": {
        "id": "2V5XTXZ0wZXN",
        "colab_type": "text"
      },
      "source": [
        "Медиана двух выборок практически равна и особо не дает информацию о них."
      ]
    },
    {
      "cell_type": "code",
      "metadata": {
        "id": "UVWbfKkMwOv4",
        "colab_type": "code",
        "outputId": "b553e81e-a757-4f11-9935-f259e25646eb",
        "colab": {
          "base_uri": "https://localhost:8080/",
          "height": 34
        }
      },
      "source": [
        "f_thalach.mean()"
      ],
      "execution_count": 15,
      "outputs": [
        {
          "output_type": "execute_result",
          "data": {
            "text/plain": [
              "151.125"
            ]
          },
          "metadata": {
            "tags": []
          },
          "execution_count": 15
        }
      ]
    },
    {
      "cell_type": "code",
      "metadata": {
        "id": "_jCTKymDwTI0",
        "colab_type": "code",
        "outputId": "9595902e-cef5-4390-d7b6-09467d15a383",
        "colab": {
          "base_uri": "https://localhost:8080/",
          "height": 34
        }
      },
      "source": [
        "m_thalach.mean()"
      ],
      "execution_count": 16,
      "outputs": [
        {
          "output_type": "execute_result",
          "data": {
            "text/plain": [
              "148.96135265700482"
            ]
          },
          "metadata": {
            "tags": []
          },
          "execution_count": 16
        }
      ]
    },
    {
      "cell_type": "markdown",
      "metadata": {
        "id": "JkTALJcMwiFq",
        "colab_type": "text"
      },
      "source": [
        "А вот квантили отличаются и дают больше информации о выборках и их различиях."
      ]
    },
    {
      "cell_type": "code",
      "metadata": {
        "id": "of9PwomDwDZG",
        "colab_type": "code",
        "outputId": "9644cc99-e4a0-4b43-ea8b-aacbebe57dfc",
        "colab": {
          "base_uri": "https://localhost:8080/",
          "height": 119
        }
      },
      "source": [
        "print('Квантили по женщинам')\n",
        "f_thalach.quantile([.1, .25, .5, .75]) "
      ],
      "execution_count": 19,
      "outputs": [
        {
          "output_type": "stream",
          "text": [
            "Квантили по женщинам\n"
          ],
          "name": "stdout"
        },
        {
          "output_type": "execute_result",
          "data": {
            "text/plain": [
              "0.10    121.50\n",
              "0.25    141.25\n",
              "0.50    157.00\n",
              "0.75    165.00\n",
              "Name: thalach, dtype: float64"
            ]
          },
          "metadata": {
            "tags": []
          },
          "execution_count": 19
        }
      ]
    },
    {
      "cell_type": "code",
      "metadata": {
        "id": "g-Ll7n1AwJCr",
        "colab_type": "code",
        "outputId": "03078ee5-d3ea-4027-cd6f-70d616c1c301",
        "colab": {
          "base_uri": "https://localhost:8080/",
          "height": 119
        }
      },
      "source": [
        "print('Квантили по мужчинам')\n",
        "m_thalach.quantile([.1, .25, .5, .75]) "
      ],
      "execution_count": 20,
      "outputs": [
        {
          "output_type": "stream",
          "text": [
            "Квантили по мужчинам\n"
          ],
          "name": "stdout"
        },
        {
          "output_type": "execute_result",
          "data": {
            "text/plain": [
              "0.10    113.6\n",
              "0.25    132.0\n",
              "0.50    151.0\n",
              "0.75    168.0\n",
              "Name: thalach, dtype: float64"
            ]
          },
          "metadata": {
            "tags": []
          },
          "execution_count": 20
        }
      ]
    },
    {
      "cell_type": "markdown",
      "metadata": {
        "id": "QDL9FbqWxIqS",
        "colab_type": "text"
      },
      "source": [
        "Можно заметить, что у второй выборке (по мужчинам) рассеяние больше, чем у первой."
      ]
    },
    {
      "cell_type": "markdown",
      "metadata": {
        "id": "57dICUt5Onzq",
        "colab_type": "text"
      },
      "source": [
        "# Проверка статистических гипотез"
      ]
    },
    {
      "cell_type": "markdown",
      "metadata": {
        "id": "t0ctoD-xOuVB",
        "colab_type": "text"
      },
      "source": [
        "Генеральная совокупность - совокупность всех объектов (единиц), относительно которых учёный намерен делать выводы при изучении конкретной проблемы. \n",
        "\n",
        "Выборка - множество случаев (испытуемых, объектов, событий, образцов), с помощью определённой процедуры выбранных из генеральной совокупности для участия в исследовании."
      ]
    },
    {
      "cell_type": "code",
      "metadata": {
        "id": "Yy3FYcB7QuJP",
        "colab_type": "code",
        "outputId": "684df7fc-480f-4082-9a9f-2a07cb354fe4",
        "colab": {
          "base_uri": "https://localhost:8080/",
          "height": 34
        }
      },
      "source": [
        "len(data)"
      ],
      "execution_count": 21,
      "outputs": [
        {
          "output_type": "execute_result",
          "data": {
            "text/plain": [
              "303"
            ]
          },
          "metadata": {
            "tags": []
          },
          "execution_count": 21
        }
      ]
    },
    {
      "cell_type": "markdown",
      "metadata": {
        "id": "9zT0nZ78Qmrt",
        "colab_type": "text"
      },
      "source": [
        "**Генеральная совокупность** в данном случае - все пациенты. Их количество - 303."
      ]
    },
    {
      "cell_type": "markdown",
      "metadata": {
        "id": "QRB6hwGiRjKX",
        "colab_type": "text"
      },
      "source": [
        "Возьмем две колонки из генеральной совокупности:\n",
        "\n",
        "**trestbps** - давление в спокойном состоянии\n",
        "\n",
        "**chol** - уровень холестирина\n",
        "\n",
        "Построим точечный график этих параметров."
      ]
    },
    {
      "cell_type": "code",
      "metadata": {
        "id": "u8-vvfrJQ1jO",
        "colab_type": "code",
        "outputId": "45a1252b-accc-476a-a4c2-cf3f17f5ce5e",
        "colab": {
          "base_uri": "https://localhost:8080/",
          "height": 295
        }
      },
      "source": [
        "trestbps = data['trestbps']\n",
        "chol = data['chol']\n",
        "sns.regplot(x= trestbps, y=chol,data=data, fit_reg=True)\n",
        "plt.xlabel('trestbps')\n",
        "plt.ylabel('chol')\n",
        "plt.title('Точечный график генеральной совокупности')\n",
        "plt.show()"
      ],
      "execution_count": 22,
      "outputs": [
        {
          "output_type": "display_data",
          "data": {
            "image/png": "[encoded data removed]",
            "text/plain": [
              "<Figure size 432x288 with 1 Axes>"
            ]
          },
          "metadata": {
            "tags": []
          }
        }
      ]
    },
    {
      "cell_type": "markdown",
      "metadata": {
        "id": "hGA9vMABT8e9",
        "colab_type": "text"
      },
      "source": [
        "Возьмем некую выборку из генеральной совокупности, например, людей, возраст которых меньше 45 лет, и построим точечный график для данной выборки."
      ]
    },
    {
      "cell_type": "code",
      "metadata": {
        "id": "6dSFeo4jU0_1",
        "colab_type": "code",
        "outputId": "dcb452b2-b244-4e1e-d0df-2ca7d5655b39",
        "colab": {
          "base_uri": "https://localhost:8080/",
          "height": 295
        }
      },
      "source": [
        "trestbps_small = data[data['age']<45]['trestbps']\n",
        "chol_small = data[data['age']<45]['chol']\n",
        "sns.regplot(x= trestbps_small, y=chol_small,data=data, fit_reg=True)\n",
        "plt.xlabel('trestbps')\n",
        "plt.ylabel('chol')\n",
        "plt.title('Точечный график для выборочной совокупности')\n",
        "plt.show()"
      ],
      "execution_count": 25,
      "outputs": [
        {
          "output_type": "display_data",
          "data": {
            "image/png": "[encoded data removed]",
            "text/plain": [
              "<Figure size 432x288 with 1 Axes>"
            ]
          },
          "metadata": {
            "tags": []
          }
        }
      ]
    },
    {
      "cell_type": "markdown",
      "metadata": {
        "id": "e_R8j_psVrWi",
        "colab_type": "text"
      },
      "source": [
        "По графику можно заметить, что если мы будем рассматривать выборку людей меньше 35 лет, то статистические формулы о генеральной совокупности будут неверны, так как выборка не презентативна."
      ]
    },
    {
      "cell_type": "markdown",
      "metadata": {
        "id": "7vMqkyqqWJA2",
        "colab_type": "text"
      },
      "source": [
        "Проблема в том, как выбрать выборку из генеральной совокупности таким образом, что эта анализ этой выборки позволит сделать выводы о генеральной совокупности. Существует необходимость в сборе первичной информации."
      ]
    },
    {
      "cell_type": "markdown",
      "metadata": {
        "id": "mjtylElwXk_G",
        "colab_type": "text"
      },
      "source": [
        "# Нулевая гипотеза"
      ]
    },
    {
      "cell_type": "markdown",
      "metadata": {
        "id": "1fSvWM1hXoH9",
        "colab_type": "text"
      },
      "source": [
        "Допустим, у нас есть выборка из нескольких элементов и мы хотим понять, насколько она схожа с генеральной совокупностью. Мы выдвигаем **нулевую гипотезу** о том, что trestbps не связана с chol и проверяем, насколько гипотеза верна для генеральной совокупности. Если гипотеза неверна, мы отвергаем её, и это значит, что связь между переменными есть."
      ]
    },
    {
      "cell_type": "markdown",
      "metadata": {
        "id": "C6Q4C6owe3LH",
        "colab_type": "text"
      },
      "source": [
        "Возьмем выборку людей, возраст которых меньше 40 лет. Посмотрим точечный график двух параметров: **thalach** - максимальный пульс и **trestbps** - показатель давления в спокойном положении. По графику можно сделать вывод, что эти параметры имеют линейную зависимость."
      ]
    },
    {
      "cell_type": "code",
      "metadata": {
        "id": "THrSXYJ9Zt09",
        "colab_type": "code",
        "outputId": "209c00fb-e0e5-41f6-feaa-bf6f0c884ada",
        "colab": {
          "base_uri": "https://localhost:8080/",
          "height": 295
        }
      },
      "source": [
        "thalach_small = data[data['age']<=40]['thalach']\n",
        "trestbps_small = data[data['age']<=40]['trestbps']\n",
        "sns.regplot(x= thalach_small, y=trestbps_small,data=data, fit_reg=True)\n",
        "plt.xlabel('thalach')\n",
        "plt.ylabel('trestbps')\n",
        "plt.title('Точечный график для выборочной совокупности')\n",
        "plt.show()"
      ],
      "execution_count": 26,
      "outputs": [
        {
          "output_type": "display_data",
          "data": {
            "image/png": "[encoded data removed]",
            "text/plain": [
              "<Figure size 432x288 with 1 Axes>"
            ]
          },
          "metadata": {
            "tags": []
          }
        }
      ]
    },
    {
      "cell_type": "markdown",
      "metadata": {
        "id": "JvgymusBfrmP",
        "colab_type": "text"
      },
      "source": [
        "В генеральной совокупности можно увидеть, что этой зависимости нет."
      ]
    },
    {
      "cell_type": "code",
      "metadata": {
        "id": "sKy7os9wZTtg",
        "colab_type": "code",
        "outputId": "bd7e6d29-52c5-4a2a-a22f-177b6a08c70c",
        "colab": {
          "base_uri": "https://localhost:8080/",
          "height": 295
        }
      },
      "source": [
        "thalach = data['thalach']\n",
        "trestbps = data['trestbps']\n",
        "sns.regplot(x= thalach, y=trestbps,data=data, fit_reg=True)\n",
        "plt.xlabel('thalach')\n",
        "plt.ylabel('trestbps')\n",
        "plt.title('Точечный график генеральной совокупности')\n",
        "plt.show()"
      ],
      "execution_count": 27,
      "outputs": [
        {
          "output_type": "display_data",
          "data": {
            "image/png": "[encoded data removed]",
            "text/plain": [
              "<Figure size 432x288 with 1 Axes>"
            ]
          },
          "metadata": {
            "tags": []
          }
        }
      ]
    },
    {
      "cell_type": "markdown",
      "metadata": {
        "id": "fQW8pj23fxHY",
        "colab_type": "text"
      },
      "source": [
        " **AB - тестирование**"
      ]
    },
    {
      "cell_type": "markdown",
      "metadata": {
        "id": "xq7H_skpuNxV",
        "colab_type": "text"
      },
      "source": [
        "# Проверка гипотезы t-критерия Стьюдента"
      ]
    },
    {
      "cell_type": "markdown",
      "metadata": {
        "id": "O5cCLMMtzVap",
        "colab_type": "text"
      },
      "source": [
        "Рассмотрим две выборки $X$ и $Y$, и мы хотим сравнить их средние значения $\\mu_x$ и $\\mu_y$\n",
        "\n",
        "Тогда рассматривается нулевая гипотеза о том, что выборочные средние значения равны:\n",
        "$$\n",
        "H_0: \\mu_x = \\mu_y\n",
        "$$\n",
        "и альтернативная о том, что выборочные средние не равны:\n",
        "\n",
        "$$\n",
        "H_1: \\mu_x \\ne \\mu_y.\n",
        "$$"
      ]
    },
    {
      "cell_type": "markdown",
      "metadata": {
        "id": "-JcEV8pUzgN_",
        "colab_type": "text"
      },
      "source": [
        " Тест измеряет насколько среднеквадратичное значение меняется среди выборок. Если мы получаем высокое p-value, например, выше 0.05 или 0.1, тогда мы не можем отвергнуть нулевую гипотезу о том, что среднее значения идентичны. Если p-value меньше, чем 1% (или 5%), то мы отвергаем нулевую гипотезу."
      ]
    },
    {
      "cell_type": "markdown",
      "metadata": {
        "id": "hb6SpnGXh6mZ",
        "colab_type": "text"
      },
      "source": [
        "# P-value или статистическая значимость"
      ]
    },
    {
      "cell_type": "markdown",
      "metadata": {
        "id": "MnRgoZIWiAWn",
        "colab_type": "text"
      },
      "source": [
        "P-значение, или значение вероятности, это статистическая величина, выраженная числом от 0 до 1, которая используется для проверки гипотезы. В клинических испытаниях данная величина применяется для определения, является ли полученный в клинических испытаниях результат случайным.\n",
        "\n",
        "До начала сбора данных необходимо определить уровень значимости, который обычно равен 5 % (или 0,05), хотя в зависимости от исследования может быть выбран и другой показатель.\n",
        "\n",
        "**Статистически значимым** (и позволяющим отвергнуть нулевую гипотезу)при этом считается результат, р-значение которого равно уровню значимости или меньше его. Это, как правило, обозначается следующим образом: p ≤ 0,05.\n",
        "\n",
        "При подсчете p-значения вначале предполагается, что на самом деле значительной разницы между двумя исследуемыми режимами лечения, т.е. новым и стандартным лечением, не существует (нулевая гипотеза). Затем определяется возможность (вероятность) случайности наблюдаемого различия при условии верности нашего предположения (т.е. при условии отсутствия объективных различий). Это и есть p-значение.\n",
        "\n",
        "Таким образом, **p-значение — это вероятность получить результаты, схожие по значимости с наблюдаемыми в исследовании**, при реальном отсутствии различий между вариантами лечения. При небольшом p-значении маловероятна случайность результатов, что дает основание отвергнуть предположение об отсутствии различий между двумя режимами лечения (отвергнуть нулевую гипотезу). При большом p-значении наблюдаемая разница может быть результатом случайности, и предположение об отсутствии различий между двумя режимами лечения не может быть отвергнуто."
      ]
    },
    {
      "cell_type": "markdown",
      "metadata": {
        "id": "MAUJkoNuzotD",
        "colab_type": "text"
      },
      "source": [
        "# Одновыборочный t-критерий"
      ]
    },
    {
      "cell_type": "markdown",
      "metadata": {
        "id": "fJrrP8m2t4IA",
        "colab_type": "text"
      },
      "source": [
        "T-test используют для определения, насколько среднее исследуемой даты статистически отличается от среднего значения генеральной совокупности. Вычисляется по формуле."
      ]
    },
    {
      "cell_type": "markdown",
      "metadata": {
        "id": "AgbpktghzyFt",
        "colab_type": "text"
      },
      "source": [
        "$$t = \\frac{\\overline X - m}{s_X / \\sqrt{n}}$$"
      ]
    },
    {
      "cell_type": "markdown",
      "metadata": {
        "id": "Ic6bqBG8uTrr",
        "colab_type": "text"
      },
      "source": [
        "Где ${\\overline X}$ - выборочное среднее, m - среднее совокупности, ${S_{X}}$ - выборочная дисперсия."
      ]
    },
    {
      "cell_type": "markdown",
      "metadata": {
        "id": "bNpJA3v8xWsL",
        "colab_type": "text"
      },
      "source": [
        "Возьмем выборку женщин по параметру \"trestbps\" или уровень давления в состоянии спокойствия."
      ]
    },
    {
      "cell_type": "code",
      "metadata": {
        "id": "yH92oI8UzXXB",
        "colab_type": "code",
        "outputId": "60111382-ae77-4acd-af02-08c6cdcd98e3",
        "colab": {
          "base_uri": "https://localhost:8080/",
          "height": 34
        }
      },
      "source": [
        "female_bps = data['trestbps']\n",
        "stats.ttest_1samp(female_bps, data['trestbps'].mean())"
      ],
      "execution_count": 7,
      "outputs": [
        {
          "output_type": "execute_result",
          "data": {
            "text/plain": [
              "Ttest_1sampResult(statistic=0.0, pvalue=1.0)"
            ]
          },
          "metadata": {
            "tags": []
          },
          "execution_count": 7
        }
      ]
    },
    {
      "cell_type": "markdown",
      "metadata": {
        "id": "pbHrIc2UyYmV",
        "colab_type": "text"
      },
      "source": [
        "T-значение 0, и в одновыборочном критерии мы оцениваем p-value.\n",
        "\n",
        "p-value равно 1, что намного больше стандартной альфа ошибки 0.05, поэтому мы принимаем нулевую гипотезу и можем сказать, что не имеется статистическое различие между давлением женщин и генеральной совокупности в целом. "
      ]
    },
    {
      "cell_type": "markdown",
      "metadata": {
        "id": "2sCupQOy1W_5",
        "colab_type": "text"
      },
      "source": [
        "Если мы построим график вероятности выборки и генеральной совокупности, то можно убедиться, что это действительно так."
      ]
    },
    {
      "cell_type": "code",
      "metadata": {
        "id": "eUrHAFMg0XT8",
        "colab_type": "code",
        "colab": {
          "base_uri": "https://localhost:8080/",
          "height": 295
        },
        "outputId": "0a989b50-02ec-482e-a3b7-1c25d1e930b6"
      },
      "source": [
        "f_trestbps = data[data['sex']==0]['trestbps']\n",
        "trestbps = data['trestbps']\n",
        "sns.distplot(f_trestbps)\n",
        "sns.distplot(trestbps)\n",
        "plt.title('Плотность вероятности распределения trestbps')\n",
        "plt.legend(['женщины', 'все'])\n",
        "plt.show()"
      ],
      "execution_count": 5,
      "outputs": [
        {
          "output_type": "display_data",
          "data": {
            "image/png": "[encoded data removed]",
            "text/plain": [
              "<Figure size 432x288 with 1 Axes>"
            ]
          },
          "metadata": {
            "tags": []
          }
        }
      ]
    },
    {
      "cell_type": "code",
      "metadata": {
        "id": "iP1bUnf60zVL",
        "colab_type": "code",
        "colab": {
          "base_uri": "https://localhost:8080/",
          "height": 34
        },
        "outputId": "cc82db3a-5f0c-4954-c673-626cdf9de418"
      },
      "source": [
        "print('Количество женщин всего: ', len(f_trestbps))"
      ],
      "execution_count": 8,
      "outputs": [
        {
          "output_type": "stream",
          "text": [
            "Количество женщин всего:  96\n"
          ],
          "name": "stdout"
        }
      ]
    },
    {
      "cell_type": "markdown",
      "metadata": {
        "id": "g2Wrcn5j1iLw",
        "colab_type": "text"
      },
      "source": [
        "# Двухвыборочный t-критерий для независимых выборок"
      ]
    },
    {
      "cell_type": "markdown",
      "metadata": {
        "id": "aMxHt5rzv3b4",
        "colab_type": "text"
      },
      "source": [
        "t-значение - это вероятность того, что различия между выборками также означают разные значения в выборках. Чем выше t, тем более различны группы между собой. Чем меньше t, тем более похожи группы и результаты повторятся."
      ]
    },
    {
      "cell_type": "markdown",
      "metadata": {
        "id": "JaIs5hGl1lEF",
        "colab_type": "text"
      },
      "source": [
        "$$t = \\frac{\\overline X_1 - \\overline X_2}{\\sqrt{\\frac{s_1^2}{n_1}+\\frac{s_2^2}{n_2}}}$$"
      ]
    },
    {
      "cell_type": "markdown",
      "metadata": {
        "id": "0yhRkUuX7RIp",
        "colab_type": "text"
      },
      "source": [
        "Сравним давление женщин и мужчин. "
      ]
    },
    {
      "cell_type": "code",
      "metadata": {
        "id": "3kTTRbFP63aL",
        "colab_type": "code",
        "colab": {
          "base_uri": "https://localhost:8080/",
          "height": 34
        },
        "outputId": "fde8cbbd-3260-4a0b-b1e6-345acd17c10c"
      },
      "source": [
        "female_bps = data[data['sex']==0]['trestbps']\n",
        "\n",
        "male_bps = data[data['sex']==1]['trestbps']\n",
        "\n",
        "stats.ttest_ind(female_bps, male_bps)"
      ],
      "execution_count": 28,
      "outputs": [
        {
          "output_type": "execute_result",
          "data": {
            "text/plain": [
              "Ttest_indResult(statistic=0.9864931536208362, pvalue=0.3246834797221042)"
            ]
          },
          "metadata": {
            "tags": []
          },
          "execution_count": 28
        }
      ]
    },
    {
      "cell_type": "markdown",
      "metadata": {
        "id": "xTCkPqw67V0e",
        "colab_type": "text"
      },
      "source": [
        "T-значение 0.98, p-value равно 0.32, что намного больше стандартной альфа ошибки 0.05, поэтому мы принимаем нулевую гипотезу и можем сказать, что не имеется статистическое различие между давлением женщин и мужчин в целом."
      ]
    },
    {
      "cell_type": "code",
      "metadata": {
        "id": "YPq2WwLG7iuT",
        "colab_type": "code",
        "colab": {
          "base_uri": "https://localhost:8080/",
          "height": 295
        },
        "outputId": "8c592ae5-dcc2-4afd-aede-f3801d3b1512"
      },
      "source": [
        "sns.distplot(female_bps)\n",
        "sns.distplot(male_bps)\n",
        "plt.title('Плотность вероятности распределения trestbps')\n",
        "plt.legend(['женщины', 'мужчины'])\n",
        "plt.show()"
      ],
      "execution_count": 29,
      "outputs": [
        {
          "output_type": "display_data",
          "data": {
            "image/png": "[encoded data removed]",
            "text/plain": [
              "<Figure size 432x288 with 1 Axes>"
            ]
          },
          "metadata": {
            "tags": []
          }
        }
      ]
    },
    {
      "cell_type": "markdown",
      "metadata": {
        "id": "l9UbJThF75V6",
        "colab_type": "text"
      },
      "source": [
        "Сравним показатели давления больных и здоровых людей"
      ]
    },
    {
      "cell_type": "code",
      "metadata": {
        "id": "hLH469eP7gYK",
        "colab_type": "code",
        "colab": {
          "base_uri": "https://localhost:8080/",
          "height": 34
        },
        "outputId": "1f17da8e-c1a5-4ac9-8698-47136fe34c57"
      },
      "source": [
        "healthy_bps = data[data['target']==0]['trestbps']\n",
        "\n",
        "ill_bps = data[data['target']==1]['trestbps']\n",
        "\n",
        "stats.ttest_ind(healthy_bps, ill_bps)"
      ],
      "execution_count": 32,
      "outputs": [
        {
          "output_type": "execute_result",
          "data": {
            "text/plain": [
              "Ttest_indResult(statistic=2.5412927171039, pvalue=0.011546059200233312)"
            ]
          },
          "metadata": {
            "tags": []
          },
          "execution_count": 32
        }
      ]
    },
    {
      "cell_type": "markdown",
      "metadata": {
        "id": "LPXMGAOz8Fuo",
        "colab_type": "text"
      },
      "source": [
        "t-value равно 2,5 и p-value меньше 0.05, значит, группы статистически отличаются (понятно почему - у сердечников другие показатели давления)"
      ]
    },
    {
      "cell_type": "code",
      "metadata": {
        "id": "M0pGethN8YrI",
        "colab_type": "code",
        "colab": {
          "base_uri": "https://localhost:8080/",
          "height": 295
        },
        "outputId": "a9ea42be-15d3-4991-96f4-6939bb686c0b"
      },
      "source": [
        "sns.distplot(healthy_bps)\n",
        "sns.distplot(ill_bps)\n",
        "plt.title('Плотность вероятности распределения trestbps')\n",
        "plt.legend(['здоровый', 'больные'])\n",
        "plt.show()"
      ],
      "execution_count": 34,
      "outputs": [
        {
          "output_type": "display_data",
          "data": {
            "image/png": "[encoded data removed]",
            "text/plain": [
              "<Figure size 432x288 with 1 Axes>"
            ]
          },
          "metadata": {
            "tags": []
          }
        }
      ]
    },
    {
      "cell_type": "markdown",
      "metadata": {
        "id": "OYNgMEbiBTBf",
        "colab_type": "text"
      },
      "source": [
        "Сравним две группы людей (больных и здоровых) по показателям oldpeak (тест, который указывает на высокую вероятность заболевания коронарной артерии, - это тест, в котором наблюдается значительная депрессия ST при низкой частоте работы, связанная с типичной стенообразной болью и снижением артериального давления). Так как здоровые показатели очевидно отличаются от больных, посмотрим  статистические показатели."
      ]
    },
    {
      "cell_type": "code",
      "metadata": {
        "id": "uFsCfTj-CAYJ",
        "colab_type": "code",
        "colab": {
          "base_uri": "https://localhost:8080/",
          "height": 34
        },
        "outputId": "4b04c748-37ea-4a76-908f-1aa58fda9d6a"
      },
      "source": [
        "healthy_oldpeak = data[data['target']==0]['oldpeak']\n",
        "\n",
        "ill_oldpeak = data[data['target']==1]['oldpeak']\n",
        "\n",
        "stats.ttest_ind(healthy_oldpeak, ill_oldpeak)"
      ],
      "execution_count": 42,
      "outputs": [
        {
          "output_type": "execute_result",
          "data": {
            "text/plain": [
              "Ttest_indResult(statistic=8.279579663866224, pvalue=4.085346391354538e-15)"
            ]
          },
          "metadata": {
            "tags": []
          },
          "execution_count": 42
        }
      ]
    },
    {
      "cell_type": "markdown",
      "metadata": {
        "id": "KhyZ-t7RCPHN",
        "colab_type": "text"
      },
      "source": [
        "Высокий показатель t-value=8.2 и низкий показатель p-value=0 говорит о том, что группы статистически значимы."
      ]
    },
    {
      "cell_type": "markdown",
      "metadata": {
        "id": "XUAz-24U9xK0",
        "colab_type": "text"
      },
      "source": [
        "# Парный t-тест"
      ]
    },
    {
      "cell_type": "markdown",
      "metadata": {
        "id": "rW6lre4X95Dg",
        "colab_type": "text"
      },
      "source": [
        "Как пример AB-тестирования. Если в предыдущих примерах выборки не зависели между собой, то в парном t-тесте выборка одна и та же, но разные условия тестирования. Вычисляется по формуле $$t=\\frac{\\overline{d}}{\\frac{s}{\\sqrt{n}}}$$ где ${\\overline{d}}$ - среднее отличие между элементами.\n",
        "\n",
        "Допустим, есть показатели того, как долго спят пациенты до приема таблеток и после приема таблеток. Нужно оценить похожесть выборок. "
      ]
    },
    {
      "cell_type": "code",
      "metadata": {
        "id": "3NAQd1g19yWb",
        "colab_type": "code",
        "colab": {
          "base_uri": "https://localhost:8080/",
          "height": 34
        },
        "outputId": "9b5dac26-85c8-4987-83ab-60b10dea879e"
      },
      "source": [
        "control = [8.0, 7.1, 6.5, 6.7, 7.2, 5.4, 4.7, 8.1, 6.3, 4.8]\n",
        "treatment = [9.9, 7.9, 7.6, 6.8, 7.1, 9.9, 10.5, 9.7, 10.9, 8.2]\n",
        "\n",
        "stats.ttest_rel(control, treatment)"
      ],
      "execution_count": 36,
      "outputs": [
        {
          "output_type": "execute_result",
          "data": {
            "text/plain": [
              "Ttest_relResult(statistic=-3.6244859951782136, pvalue=0.0055329408161001415)"
            ]
          },
          "metadata": {
            "tags": []
          },
          "execution_count": 36
        }
      ]
    },
    {
      "cell_type": "markdown",
      "metadata": {
        "id": "Q5k9pZ1-_b_T",
        "colab_type": "text"
      },
      "source": [
        "t-значение -3.624, p-value 0.0055, что меньше чем 0.05 or 0.01, поэтому мы отвергаем нулевую гипотезу и мы можем сказать, что есть статистически значимая разница между тем, как спят пациенты до приема таблеток и после. "
      ]
    },
    {
      "cell_type": "markdown",
      "metadata": {
        "id": "fa2B9u_tCobH",
        "colab_type": "text"
      },
      "source": [
        "# Множественный тест (ANOVA)"
      ]
    },
    {
      "cell_type": "markdown",
      "metadata": {
        "id": "A5prV6WCCrA2",
        "colab_type": "text"
      },
      "source": [
        "Если мы хотим оценить не две группы, а три и более, нужно использовать множественное тестирование. "
      ]
    },
    {
      "cell_type": "markdown",
      "metadata": {
        "id": "owbLrpQ_DJZc",
        "colab_type": "text"
      },
      "source": [
        "Возьмем таблицу 3 группы из колонки restecg (resting electrocardiographic results (0 = normal; 1 = having ST-T; 2 = hypertrophy)). Сравним их на наличие болезней"
      ]
    },
    {
      "cell_type": "code",
      "metadata": {
        "id": "nz6AYknVCyK0",
        "colab_type": "code",
        "colab": {
          "base_uri": "https://localhost:8080/",
          "height": 34
        },
        "outputId": "cb5c1707-4636-4d93-efde-822086f328ce"
      },
      "source": [
        "restecg_0 = data[data['restecg']==0]['target']\n",
        "\n",
        "restecg_1 = data[data['restecg']==1]['target']\n",
        "\n",
        "restecg_2 = data[data['restecg']==2]['target']\n",
        "\n",
        "stats.f_oneway(restecg_0, restecg_1, restecg_2)"
      ],
      "execution_count": 44,
      "outputs": [
        {
          "output_type": "execute_result",
          "data": {
            "text/plain": [
              "F_onewayResult(statistic=5.131680093569876, pvalue=0.0064359766834508085)"
            ]
          },
          "metadata": {
            "tags": []
          },
          "execution_count": 44
        }
      ]
    },
    {
      "cell_type": "markdown",
      "metadata": {
        "id": "B6Qo9eH5D-At",
        "colab_type": "text"
      },
      "source": [
        "Так как результат p-value меньше 0.05, то мы отвергаем нулевую гипотезу о том, что нет различий у групп с разным типом показателей ЭКГ."
      ]
    },
    {
      "cell_type": "markdown",
      "metadata": {
        "id": "0Tn1_FYwFiy-",
        "colab_type": "text"
      },
      "source": [
        "# Критерий Манна-Уитни"
      ]
    },
    {
      "cell_type": "markdown",
      "metadata": {
        "id": "cyfNvQh8F46y",
        "colab_type": "text"
      },
      "source": [
        "Если данные не распределены нормально, нужен критерий Манна-Уитни, также известный как Критерий Уилкоксона.  Данные представляют финансовые результаты двух разных интернет-магазинов схожей тематики."
      ]
    },
    {
      "cell_type": "code",
      "metadata": {
        "id": "XJvLGBTQFngo",
        "colab_type": "code",
        "colab": {
          "base_uri": "https://localhost:8080/",
          "height": 34
        },
        "outputId": "97b899b4-f85f-414d-a286-4b89745a0484"
      },
      "source": [
        "a = [742,148,423,424,122,432,-1,232,243,332,213]\n",
        "b = [-1,3,4,2,1,3,2,4,1,2]\n",
        "print (stats.ttest_ind(a,b))"
      ],
      "execution_count": 48,
      "outputs": [
        {
          "output_type": "stream",
          "text": [
            "Ttest_indResult(statistic=4.683215290130369, pvalue=0.00016194333739811412)\n"
          ],
          "name": "stdout"
        }
      ]
    },
    {
      "cell_type": "code",
      "metadata": {
        "id": "R5mTNB46GRcS",
        "colab_type": "code",
        "colab": {
          "base_uri": "https://localhost:8080/",
          "height": 34
        },
        "outputId": "a042a675-e661-482d-e806-0f181d0dd77e"
      },
      "source": [
        "u, p_value = stats.mannwhitneyu(a, b)\n",
        "print(\"two-sample wilcoxon-test\", p_value)"
      ],
      "execution_count": 49,
      "outputs": [
        {
          "output_type": "stream",
          "text": [
            "two-sample wilcoxon-test 0.0007438622219910575\n"
          ],
          "name": "stdout"
        }
      ]
    },
    {
      "cell_type": "markdown",
      "metadata": {
        "id": "QK-Oz8bQGkQc",
        "colab_type": "text"
      },
      "source": [
        "Критерий Манна-Уитни дает больше информации о различии выборок. "
      ]
    },
    {
      "cell_type": "markdown",
      "metadata": {
        "id": "OZO9Jz3Q2J1o",
        "colab_type": "text"
      },
      "source": [
        "# Критерий Фишера"
      ]
    },
    {
      "cell_type": "markdown",
      "metadata": {
        "id": "gcBht-UT_DtS",
        "colab_type": "text"
      },
      "source": [
        "Допустим, мы посчитали количество китов и акул в Атлантическом и Индийском океанах. В Атлантическом мы нашли 8 китов и 1 акулу, в Индийском океане 2 кита и 5 акул. Таблица выглядит как:\n",
        "\n",
        "|  | Атлантический | Индийский |\n",
        "| --- | --- | --- |\n",
        "| киты | 8 | 2 |\n",
        "| акулы | 1 | 5 |\n"
      ]
    },
    {
      "cell_type": "markdown",
      "metadata": {
        "id": "8-A7CfB-_fsH",
        "colab_type": "text"
      },
      "source": [
        "Мы используем эту таблицу чтобы найти p-value"
      ]
    },
    {
      "cell_type": "code",
      "metadata": {
        "id": "JwOIEXAp_CSR",
        "colab_type": "code",
        "outputId": "b5678940-d0c3-4862-ac91-5d975edf3aa1",
        "colab": {
          "base_uri": "https://localhost:8080/",
          "height": 34
        }
      },
      "source": [
        "import scipy.stats as stats\n",
        "oddsratio, pvalue = stats.fisher_exact([[8, 2], [1, 5]])\n",
        "pvalue"
      ],
      "execution_count": 37,
      "outputs": [
        {
          "output_type": "execute_result",
          "data": {
            "text/plain": [
              "0.03496503496503495"
            ]
          },
          "metadata": {
            "tags": []
          },
          "execution_count": 37
        }
      ]
    },
    {
      "cell_type": "markdown",
      "metadata": {
        "id": "JP12faoh_dUR",
        "colab_type": "text"
      },
      "source": [
        "P-value примерно равно 3.5%. Обычно пороговый уровень значимости примерно 5% - если мы используем данный порог, то можно сделать вывод, что рассматриваемая выборка имеет **статистическую значимость** (группы различны): киты предпочитают Атлантический океан, а акулы предпочитают Индийский океан"
      ]
    },
    {
      "cell_type": "markdown",
      "metadata": {
        "id": "U173Yamt2UZA",
        "colab_type": "text"
      },
      "source": [
        "# Другие методы тестирования"
      ]
    },
    {
      "cell_type": "markdown",
      "metadata": {
        "id": "e7aHsh1-2Wiy",
        "colab_type": "text"
      },
      "source": [
        "https://en.wikipedia.org/wiki/A/B_testing - примеры других критериев"
      ]
    }
  ]
}