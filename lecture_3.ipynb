{
 "cells": [
  {
   "cell_type": "code",
   "execution_count": 1,
   "metadata": {},
   "outputs": [],
   "source": [
    "import numpy as np\n",
    "from scipy.stats import t\n",
    "from scipy.stats import norm\n",
    "import matplotlib.pyplot as plt\n",
    "from scipy import stats\n",
    "import pandas as pd\n",
    "import io\n",
    "import requests\n",
    "import seaborn as sns\n",
    "%matplotlib inline"
   ]
  },
  {
   "cell_type": "code",
   "execution_count": 2,
   "metadata": {},
   "outputs": [
    {
     "data": {
      "text/html": [
       "<div>\n",
       "<style scoped>\n",
       "    .dataframe tbody tr th:only-of-type {\n",
       "        vertical-align: middle;\n",
       "    }\n",
       "\n",
       "    .dataframe tbody tr th {\n",
       "        vertical-align: top;\n",
       "    }\n",
       "\n",
       "    .dataframe thead th {\n",
       "        text-align: right;\n",
       "    }\n",
       "</style>\n",
       "<table border=\"1\" class=\"dataframe\">\n",
       "  <thead>\n",
       "    <tr style=\"text-align: right;\">\n",
       "      <th></th>\n",
       "      <th>CRIM</th>\n",
       "      <th>ZN</th>\n",
       "      <th>INDUS</th>\n",
       "      <th>CHAS</th>\n",
       "      <th>NOX</th>\n",
       "      <th>RM</th>\n",
       "      <th>AGE</th>\n",
       "      <th>DIS</th>\n",
       "      <th>RAD</th>\n",
       "      <th>TAX</th>\n",
       "      <th>PTRATIO</th>\n",
       "      <th>B</th>\n",
       "      <th>LSTAT</th>\n",
       "      <th>MEDV</th>\n",
       "    </tr>\n",
       "  </thead>\n",
       "  <tbody>\n",
       "    <tr>\n",
       "      <th>0</th>\n",
       "      <td>0.00632</td>\n",
       "      <td>18.0</td>\n",
       "      <td>2.31</td>\n",
       "      <td>0</td>\n",
       "      <td>0.538</td>\n",
       "      <td>6.575</td>\n",
       "      <td>65.2</td>\n",
       "      <td>4.0900</td>\n",
       "      <td>1</td>\n",
       "      <td>296.0</td>\n",
       "      <td>15.3</td>\n",
       "      <td>396.90</td>\n",
       "      <td>4.98</td>\n",
       "      <td>24.0</td>\n",
       "    </tr>\n",
       "    <tr>\n",
       "      <th>1</th>\n",
       "      <td>0.02731</td>\n",
       "      <td>0.0</td>\n",
       "      <td>7.07</td>\n",
       "      <td>0</td>\n",
       "      <td>0.469</td>\n",
       "      <td>6.421</td>\n",
       "      <td>78.9</td>\n",
       "      <td>4.9671</td>\n",
       "      <td>2</td>\n",
       "      <td>242.0</td>\n",
       "      <td>17.8</td>\n",
       "      <td>396.90</td>\n",
       "      <td>9.14</td>\n",
       "      <td>21.6</td>\n",
       "    </tr>\n",
       "    <tr>\n",
       "      <th>2</th>\n",
       "      <td>0.02729</td>\n",
       "      <td>0.0</td>\n",
       "      <td>7.07</td>\n",
       "      <td>0</td>\n",
       "      <td>0.469</td>\n",
       "      <td>7.185</td>\n",
       "      <td>61.1</td>\n",
       "      <td>4.9671</td>\n",
       "      <td>2</td>\n",
       "      <td>242.0</td>\n",
       "      <td>17.8</td>\n",
       "      <td>392.83</td>\n",
       "      <td>4.03</td>\n",
       "      <td>34.7</td>\n",
       "    </tr>\n",
       "    <tr>\n",
       "      <th>3</th>\n",
       "      <td>0.03237</td>\n",
       "      <td>0.0</td>\n",
       "      <td>2.18</td>\n",
       "      <td>0</td>\n",
       "      <td>0.458</td>\n",
       "      <td>6.998</td>\n",
       "      <td>45.8</td>\n",
       "      <td>6.0622</td>\n",
       "      <td>3</td>\n",
       "      <td>222.0</td>\n",
       "      <td>18.7</td>\n",
       "      <td>394.63</td>\n",
       "      <td>2.94</td>\n",
       "      <td>33.4</td>\n",
       "    </tr>\n",
       "    <tr>\n",
       "      <th>4</th>\n",
       "      <td>0.06905</td>\n",
       "      <td>0.0</td>\n",
       "      <td>2.18</td>\n",
       "      <td>0</td>\n",
       "      <td>0.458</td>\n",
       "      <td>7.147</td>\n",
       "      <td>54.2</td>\n",
       "      <td>6.0622</td>\n",
       "      <td>3</td>\n",
       "      <td>222.0</td>\n",
       "      <td>18.7</td>\n",
       "      <td>396.90</td>\n",
       "      <td>5.33</td>\n",
       "      <td>36.2</td>\n",
       "    </tr>\n",
       "  </tbody>\n",
       "</table>\n",
       "</div>"
      ],
      "text/plain": [
       "      CRIM    ZN  INDUS  CHAS    NOX     RM   AGE     DIS  RAD    TAX  \\\n",
       "0  0.00632  18.0   2.31     0  0.538  6.575  65.2  4.0900    1  296.0   \n",
       "1  0.02731   0.0   7.07     0  0.469  6.421  78.9  4.9671    2  242.0   \n",
       "2  0.02729   0.0   7.07     0  0.469  7.185  61.1  4.9671    2  242.0   \n",
       "3  0.03237   0.0   2.18     0  0.458  6.998  45.8  6.0622    3  222.0   \n",
       "4  0.06905   0.0   2.18     0  0.458  7.147  54.2  6.0622    3  222.0   \n",
       "\n",
       "   PTRATIO       B  LSTAT  MEDV  \n",
       "0     15.3  396.90   4.98  24.0  \n",
       "1     17.8  396.90   9.14  21.6  \n",
       "2     17.8  392.83   4.03  34.7  \n",
       "3     18.7  394.63   2.94  33.4  \n",
       "4     18.7  396.90   5.33  36.2  "
      ]
     },
     "execution_count": 2,
     "metadata": {},
     "output_type": "execute_result"
    }
   ],
   "source": [
    "url='http://yustiks.ru/housing.csv'\n",
    "s=requests.get(url).content\n",
    "names = ['CRIM', 'ZN', 'INDUS', 'CHAS', 'NOX', 'RM', 'AGE', 'DIS', 'RAD', 'TAX', 'PTRATIO', 'B', 'LSTAT', 'MEDV']\n",
    "data=pd.read_csv(io.StringIO(s.decode('utf-8')),  delim_whitespace=True, names=names)\n",
    "data.head()"
   ]
  },
  {
   "cell_type": "code",
   "execution_count": 3,
   "metadata": {},
   "outputs": [
    {
     "data": {
      "text/html": [
       "<style  type=\"text/css\" >\n",
       "    #T_cf9db6f2_1501_11ea_a2b1_ccb0da9a3a4drow0_col0 {\n",
       "            background-color:  #b40426;\n",
       "            color:  #f1f1f1;\n",
       "        }    #T_cf9db6f2_1501_11ea_a2b1_ccb0da9a3a4drow0_col1 {\n",
       "            background-color:  #88abfd;\n",
       "            color:  #000000;\n",
       "        }    #T_cf9db6f2_1501_11ea_a2b1_ccb0da9a3a4drow0_col2 {\n",
       "            background-color:  #f7bca1;\n",
       "            color:  #000000;\n",
       "        }    #T_cf9db6f2_1501_11ea_a2b1_ccb0da9a3a4drow0_col3 {\n",
       "            background-color:  #4a63d3;\n",
       "            color:  #f1f1f1;\n",
       "        }    #T_cf9db6f2_1501_11ea_a2b1_ccb0da9a3a4drow0_col4 {\n",
       "            background-color:  #f7b599;\n",
       "            color:  #000000;\n",
       "        }    #T_cf9db6f2_1501_11ea_a2b1_ccb0da9a3a4drow0_col5 {\n",
       "            background-color:  #8badfd;\n",
       "            color:  #000000;\n",
       "        }    #T_cf9db6f2_1501_11ea_a2b1_ccb0da9a3a4drow0_col6 {\n",
       "            background-color:  #f5c4ac;\n",
       "            color:  #000000;\n",
       "        }    #T_cf9db6f2_1501_11ea_a2b1_ccb0da9a3a4drow0_col7 {\n",
       "            background-color:  #82a6fb;\n",
       "            color:  #000000;\n",
       "        }    #T_cf9db6f2_1501_11ea_a2b1_ccb0da9a3a4drow0_col8 {\n",
       "            background-color:  #f4987a;\n",
       "            color:  #000000;\n",
       "        }    #T_cf9db6f2_1501_11ea_a2b1_ccb0da9a3a4drow0_col9 {\n",
       "            background-color:  #f6a385;\n",
       "            color:  #000000;\n",
       "        }    #T_cf9db6f2_1501_11ea_a2b1_ccb0da9a3a4drow0_col10 {\n",
       "            background-color:  #e4d9d2;\n",
       "            color:  #000000;\n",
       "        }    #T_cf9db6f2_1501_11ea_a2b1_ccb0da9a3a4drow0_col11 {\n",
       "            background-color:  #445acc;\n",
       "            color:  #f1f1f1;\n",
       "        }    #T_cf9db6f2_1501_11ea_a2b1_ccb0da9a3a4drow0_col12 {\n",
       "            background-color:  #f7b093;\n",
       "            color:  #000000;\n",
       "        }    #T_cf9db6f2_1501_11ea_a2b1_ccb0da9a3a4drow0_col13 {\n",
       "            background-color:  #7b9ff9;\n",
       "            color:  #000000;\n",
       "        }    #T_cf9db6f2_1501_11ea_a2b1_ccb0da9a3a4drow1_col0 {\n",
       "            background-color:  #6485ec;\n",
       "            color:  #000000;\n",
       "        }    #T_cf9db6f2_1501_11ea_a2b1_ccb0da9a3a4drow1_col1 {\n",
       "            background-color:  #b40426;\n",
       "            color:  #f1f1f1;\n",
       "        }    #T_cf9db6f2_1501_11ea_a2b1_ccb0da9a3a4drow1_col2 {\n",
       "            background-color:  #5a78e4;\n",
       "            color:  #000000;\n",
       "        }    #T_cf9db6f2_1501_11ea_a2b1_ccb0da9a3a4drow1_col3 {\n",
       "            background-color:  #506bda;\n",
       "            color:  #000000;\n",
       "        }    #T_cf9db6f2_1501_11ea_a2b1_ccb0da9a3a4drow1_col4 {\n",
       "            background-color:  #6788ee;\n",
       "            color:  #000000;\n",
       "        }    #T_cf9db6f2_1501_11ea_a2b1_ccb0da9a3a4drow1_col5 {\n",
       "            background-color:  #edd1c2;\n",
       "            color:  #000000;\n",
       "        }    #T_cf9db6f2_1501_11ea_a2b1_ccb0da9a3a4drow1_col6 {\n",
       "            background-color:  #5a78e4;\n",
       "            color:  #000000;\n",
       "        }    #T_cf9db6f2_1501_11ea_a2b1_ccb0da9a3a4drow1_col7 {\n",
       "            background-color:  #ec8165;\n",
       "            color:  #000000;\n",
       "        }    #T_cf9db6f2_1501_11ea_a2b1_ccb0da9a3a4drow1_col8 {\n",
       "            background-color:  #5f7fe8;\n",
       "            color:  #000000;\n",
       "        }    #T_cf9db6f2_1501_11ea_a2b1_ccb0da9a3a4drow1_col9 {\n",
       "            background-color:  #6788ee;\n",
       "            color:  #000000;\n",
       "        }    #T_cf9db6f2_1501_11ea_a2b1_ccb0da9a3a4drow1_col10 {\n",
       "            background-color:  #536edd;\n",
       "            color:  #000000;\n",
       "        }    #T_cf9db6f2_1501_11ea_a2b1_ccb0da9a3a4drow1_col11 {\n",
       "            background-color:  #cad8ef;\n",
       "            color:  #000000;\n",
       "        }    #T_cf9db6f2_1501_11ea_a2b1_ccb0da9a3a4drow1_col12 {\n",
       "            background-color:  #779af7;\n",
       "            color:  #000000;\n",
       "        }    #T_cf9db6f2_1501_11ea_a2b1_ccb0da9a3a4drow1_col13 {\n",
       "            background-color:  #f5c2aa;\n",
       "            color:  #000000;\n",
       "        }    #T_cf9db6f2_1501_11ea_a2b1_ccb0da9a3a4drow2_col0 {\n",
       "            background-color:  #eed0c0;\n",
       "            color:  #000000;\n",
       "        }    #T_cf9db6f2_1501_11ea_a2b1_ccb0da9a3a4drow2_col1 {\n",
       "            background-color:  #4257c9;\n",
       "            color:  #f1f1f1;\n",
       "        }    #T_cf9db6f2_1501_11ea_a2b1_ccb0da9a3a4drow2_col2 {\n",
       "            background-color:  #b40426;\n",
       "            color:  #f1f1f1;\n",
       "        }    #T_cf9db6f2_1501_11ea_a2b1_ccb0da9a3a4drow2_col3 {\n",
       "            background-color:  #6e90f2;\n",
       "            color:  #000000;\n",
       "        }    #T_cf9db6f2_1501_11ea_a2b1_ccb0da9a3a4drow2_col4 {\n",
       "            background-color:  #e0654f;\n",
       "            color:  #000000;\n",
       "        }    #T_cf9db6f2_1501_11ea_a2b1_ccb0da9a3a4drow2_col5 {\n",
       "            background-color:  #6485ec;\n",
       "            color:  #000000;\n",
       "        }    #T_cf9db6f2_1501_11ea_a2b1_ccb0da9a3a4drow2_col6 {\n",
       "            background-color:  #ee8669;\n",
       "            color:  #000000;\n",
       "        }    #T_cf9db6f2_1501_11ea_a2b1_ccb0da9a3a4drow2_col7 {\n",
       "            background-color:  #445acc;\n",
       "            color:  #f1f1f1;\n",
       "        }    #T_cf9db6f2_1501_11ea_a2b1_ccb0da9a3a4drow2_col8 {\n",
       "            background-color:  #f5a081;\n",
       "            color:  #000000;\n",
       "        }    #T_cf9db6f2_1501_11ea_a2b1_ccb0da9a3a4drow2_col9 {\n",
       "            background-color:  #ea7b60;\n",
       "            color:  #000000;\n",
       "        }    #T_cf9db6f2_1501_11ea_a2b1_ccb0da9a3a4drow2_col10 {\n",
       "            background-color:  #f0cdbb;\n",
       "            color:  #000000;\n",
       "        }    #T_cf9db6f2_1501_11ea_a2b1_ccb0da9a3a4drow2_col11 {\n",
       "            background-color:  #4b64d5;\n",
       "            color:  #f1f1f1;\n",
       "        }    #T_cf9db6f2_1501_11ea_a2b1_ccb0da9a3a4drow2_col12 {\n",
       "            background-color:  #f29072;\n",
       "            color:  #000000;\n",
       "        }    #T_cf9db6f2_1501_11ea_a2b1_ccb0da9a3a4drow2_col13 {\n",
       "            background-color:  #6a8bef;\n",
       "            color:  #000000;\n",
       "        }    #T_cf9db6f2_1501_11ea_a2b1_ccb0da9a3a4drow3_col0 {\n",
       "            background-color:  #88abfd;\n",
       "            color:  #000000;\n",
       "        }    #T_cf9db6f2_1501_11ea_a2b1_ccb0da9a3a4drow3_col1 {\n",
       "            background-color:  #abc8fd;\n",
       "            color:  #000000;\n",
       "        }    #T_cf9db6f2_1501_11ea_a2b1_ccb0da9a3a4drow3_col2 {\n",
       "            background-color:  #cfdaea;\n",
       "            color:  #000000;\n",
       "        }    #T_cf9db6f2_1501_11ea_a2b1_ccb0da9a3a4drow3_col3 {\n",
       "            background-color:  #b40426;\n",
       "            color:  #f1f1f1;\n",
       "        }    #T_cf9db6f2_1501_11ea_a2b1_ccb0da9a3a4drow3_col4 {\n",
       "            background-color:  #d9dce1;\n",
       "            color:  #000000;\n",
       "        }    #T_cf9db6f2_1501_11ea_a2b1_ccb0da9a3a4drow3_col5 {\n",
       "            background-color:  #cbd8ee;\n",
       "            color:  #000000;\n",
       "        }    #T_cf9db6f2_1501_11ea_a2b1_ccb0da9a3a4drow3_col6 {\n",
       "            background-color:  #d7dce3;\n",
       "            color:  #000000;\n",
       "        }    #T_cf9db6f2_1501_11ea_a2b1_ccb0da9a3a4drow3_col7 {\n",
       "            background-color:  #b9d0f9;\n",
       "            color:  #000000;\n",
       "        }    #T_cf9db6f2_1501_11ea_a2b1_ccb0da9a3a4drow3_col8 {\n",
       "            background-color:  #a6c4fe;\n",
       "            color:  #000000;\n",
       "        }    #T_cf9db6f2_1501_11ea_a2b1_ccb0da9a3a4drow3_col9 {\n",
       "            background-color:  #a5c3fe;\n",
       "            color:  #000000;\n",
       "        }    #T_cf9db6f2_1501_11ea_a2b1_ccb0da9a3a4drow3_col10 {\n",
       "            background-color:  #90b2fe;\n",
       "            color:  #000000;\n",
       "        }    #T_cf9db6f2_1501_11ea_a2b1_ccb0da9a3a4drow3_col11 {\n",
       "            background-color:  #adc9fd;\n",
       "            color:  #000000;\n",
       "        }    #T_cf9db6f2_1501_11ea_a2b1_ccb0da9a3a4drow3_col12 {\n",
       "            background-color:  #bfd3f6;\n",
       "            color:  #000000;\n",
       "        }    #T_cf9db6f2_1501_11ea_a2b1_ccb0da9a3a4drow3_col13 {\n",
       "            background-color:  #e4d9d2;\n",
       "            color:  #000000;\n",
       "        }    #T_cf9db6f2_1501_11ea_a2b1_ccb0da9a3a4drow4_col0 {\n",
       "            background-color:  #efcebd;\n",
       "            color:  #000000;\n",
       "        }    #T_cf9db6f2_1501_11ea_a2b1_ccb0da9a3a4drow4_col1 {\n",
       "            background-color:  #445acc;\n",
       "            color:  #f1f1f1;\n",
       "        }    #T_cf9db6f2_1501_11ea_a2b1_ccb0da9a3a4drow4_col2 {\n",
       "            background-color:  #e16751;\n",
       "            color:  #000000;\n",
       "        }    #T_cf9db6f2_1501_11ea_a2b1_ccb0da9a3a4drow4_col3 {\n",
       "            background-color:  #7699f6;\n",
       "            color:  #000000;\n",
       "        }    #T_cf9db6f2_1501_11ea_a2b1_ccb0da9a3a4drow4_col4 {\n",
       "            background-color:  #b40426;\n",
       "            color:  #f1f1f1;\n",
       "        }    #T_cf9db6f2_1501_11ea_a2b1_ccb0da9a3a4drow4_col5 {\n",
       "            background-color:  #799cf8;\n",
       "            color:  #000000;\n",
       "        }    #T_cf9db6f2_1501_11ea_a2b1_ccb0da9a3a4drow4_col6 {\n",
       "            background-color:  #e46e56;\n",
       "            color:  #000000;\n",
       "        }    #T_cf9db6f2_1501_11ea_a2b1_ccb0da9a3a4drow4_col7 {\n",
       "            background-color:  #3b4cc0;\n",
       "            color:  #f1f1f1;\n",
       "        }    #T_cf9db6f2_1501_11ea_a2b1_ccb0da9a3a4drow4_col8 {\n",
       "            background-color:  #f59f80;\n",
       "            color:  #000000;\n",
       "        }    #T_cf9db6f2_1501_11ea_a2b1_ccb0da9a3a4drow4_col9 {\n",
       "            background-color:  #f08b6e;\n",
       "            color:  #000000;\n",
       "        }    #T_cf9db6f2_1501_11ea_a2b1_ccb0da9a3a4drow4_col10 {\n",
       "            background-color:  #d3dbe7;\n",
       "            color:  #000000;\n",
       "        }    #T_cf9db6f2_1501_11ea_a2b1_ccb0da9a3a4drow4_col11 {\n",
       "            background-color:  #465ecf;\n",
       "            color:  #f1f1f1;\n",
       "        }    #T_cf9db6f2_1501_11ea_a2b1_ccb0da9a3a4drow4_col12 {\n",
       "            background-color:  #f39475;\n",
       "            color:  #000000;\n",
       "        }    #T_cf9db6f2_1501_11ea_a2b1_ccb0da9a3a4drow4_col13 {\n",
       "            background-color:  #7396f5;\n",
       "            color:  #000000;\n",
       "        }    #T_cf9db6f2_1501_11ea_a2b1_ccb0da9a3a4drow5_col0 {\n",
       "            background-color:  #6180e9;\n",
       "            color:  #000000;\n",
       "        }    #T_cf9db6f2_1501_11ea_a2b1_ccb0da9a3a4drow5_col1 {\n",
       "            background-color:  #ebd3c6;\n",
       "            color:  #000000;\n",
       "        }    #T_cf9db6f2_1501_11ea_a2b1_ccb0da9a3a4drow5_col2 {\n",
       "            background-color:  #7699f6;\n",
       "            color:  #000000;\n",
       "        }    #T_cf9db6f2_1501_11ea_a2b1_ccb0da9a3a4drow5_col3 {\n",
       "            background-color:  #7699f6;\n",
       "            color:  #000000;\n",
       "        }    #T_cf9db6f2_1501_11ea_a2b1_ccb0da9a3a4drow5_col4 {\n",
       "            background-color:  #92b4fe;\n",
       "            color:  #000000;\n",
       "        }    #T_cf9db6f2_1501_11ea_a2b1_ccb0da9a3a4drow5_col5 {\n",
       "            background-color:  #b40426;\n",
       "            color:  #f1f1f1;\n",
       "        }    #T_cf9db6f2_1501_11ea_a2b1_ccb0da9a3a4drow5_col6 {\n",
       "            background-color:  #9bbcff;\n",
       "            color:  #000000;\n",
       "        }    #T_cf9db6f2_1501_11ea_a2b1_ccb0da9a3a4drow5_col7 {\n",
       "            background-color:  #ead5c9;\n",
       "            color:  #000000;\n",
       "        }    #T_cf9db6f2_1501_11ea_a2b1_ccb0da9a3a4drow5_col8 {\n",
       "            background-color:  #779af7;\n",
       "            color:  #000000;\n",
       "        }    #T_cf9db6f2_1501_11ea_a2b1_ccb0da9a3a4drow5_col9 {\n",
       "            background-color:  #6c8ff1;\n",
       "            color:  #000000;\n",
       "        }    #T_cf9db6f2_1501_11ea_a2b1_ccb0da9a3a4drow5_col10 {\n",
       "            background-color:  #5977e3;\n",
       "            color:  #000000;\n",
       "        }    #T_cf9db6f2_1501_11ea_a2b1_ccb0da9a3a4drow5_col11 {\n",
       "            background-color:  #bfd3f6;\n",
       "            color:  #000000;\n",
       "        }    #T_cf9db6f2_1501_11ea_a2b1_ccb0da9a3a4drow5_col12 {\n",
       "            background-color:  #516ddb;\n",
       "            color:  #000000;\n",
       "        }    #T_cf9db6f2_1501_11ea_a2b1_ccb0da9a3a4drow5_col13 {\n",
       "            background-color:  #e9785d;\n",
       "            color:  #000000;\n",
       "        }    #T_cf9db6f2_1501_11ea_a2b1_ccb0da9a3a4drow6_col0 {\n",
       "            background-color:  #e5d8d1;\n",
       "            color:  #000000;\n",
       "        }    #T_cf9db6f2_1501_11ea_a2b1_ccb0da9a3a4drow6_col1 {\n",
       "            background-color:  #3b4cc0;\n",
       "            color:  #f1f1f1;\n",
       "        }    #T_cf9db6f2_1501_11ea_a2b1_ccb0da9a3a4drow6_col2 {\n",
       "            background-color:  #ef886b;\n",
       "            color:  #000000;\n",
       "        }    #T_cf9db6f2_1501_11ea_a2b1_ccb0da9a3a4drow6_col3 {\n",
       "            background-color:  #7699f6;\n",
       "            color:  #000000;\n",
       "        }    #T_cf9db6f2_1501_11ea_a2b1_ccb0da9a3a4drow6_col4 {\n",
       "            background-color:  #e46e56;\n",
       "            color:  #000000;\n",
       "        }    #T_cf9db6f2_1501_11ea_a2b1_ccb0da9a3a4drow6_col5 {\n",
       "            background-color:  #85a8fc;\n",
       "            color:  #000000;\n",
       "        }    #T_cf9db6f2_1501_11ea_a2b1_ccb0da9a3a4drow6_col6 {\n",
       "            background-color:  #b40426;\n",
       "            color:  #f1f1f1;\n",
       "        }    #T_cf9db6f2_1501_11ea_a2b1_ccb0da9a3a4drow6_col7 {\n",
       "            background-color:  #3d50c3;\n",
       "            color:  #f1f1f1;\n",
       "        }    #T_cf9db6f2_1501_11ea_a2b1_ccb0da9a3a4drow6_col8 {\n",
       "            background-color:  #f5c0a7;\n",
       "            color:  #000000;\n",
       "        }    #T_cf9db6f2_1501_11ea_a2b1_ccb0da9a3a4drow6_col9 {\n",
       "            background-color:  #f7b396;\n",
       "            color:  #000000;\n",
       "        }    #T_cf9db6f2_1501_11ea_a2b1_ccb0da9a3a4drow6_col10 {\n",
       "            background-color:  #dfdbd9;\n",
       "            color:  #000000;\n",
       "        }    #T_cf9db6f2_1501_11ea_a2b1_ccb0da9a3a4drow6_col11 {\n",
       "            background-color:  #5f7fe8;\n",
       "            color:  #000000;\n",
       "        }    #T_cf9db6f2_1501_11ea_a2b1_ccb0da9a3a4drow6_col12 {\n",
       "            background-color:  #f29072;\n",
       "            color:  #000000;\n",
       "        }    #T_cf9db6f2_1501_11ea_a2b1_ccb0da9a3a4drow6_col13 {\n",
       "            background-color:  #7da0f9;\n",
       "            color:  #000000;\n",
       "        }    #T_cf9db6f2_1501_11ea_a2b1_ccb0da9a3a4drow7_col0 {\n",
       "            background-color:  #3c4ec2;\n",
       "            color:  #f1f1f1;\n",
       "        }    #T_cf9db6f2_1501_11ea_a2b1_ccb0da9a3a4drow7_col1 {\n",
       "            background-color:  #f08b6e;\n",
       "            color:  #000000;\n",
       "        }    #T_cf9db6f2_1501_11ea_a2b1_ccb0da9a3a4drow7_col2 {\n",
       "            background-color:  #3b4cc0;\n",
       "            color:  #f1f1f1;\n",
       "        }    #T_cf9db6f2_1501_11ea_a2b1_ccb0da9a3a4drow7_col3 {\n",
       "            background-color:  #3f53c6;\n",
       "            color:  #f1f1f1;\n",
       "        }    #T_cf9db6f2_1501_11ea_a2b1_ccb0da9a3a4drow7_col4 {\n",
       "            background-color:  #3b4cc0;\n",
       "            color:  #f1f1f1;\n",
       "        }    #T_cf9db6f2_1501_11ea_a2b1_ccb0da9a3a4drow7_col5 {\n",
       "            background-color:  #dfdbd9;\n",
       "            color:  #000000;\n",
       "        }    #T_cf9db6f2_1501_11ea_a2b1_ccb0da9a3a4drow7_col6 {\n",
       "            background-color:  #3b4cc0;\n",
       "            color:  #f1f1f1;\n",
       "        }    #T_cf9db6f2_1501_11ea_a2b1_ccb0da9a3a4drow7_col7 {\n",
       "            background-color:  #b40426;\n",
       "            color:  #f1f1f1;\n",
       "        }    #T_cf9db6f2_1501_11ea_a2b1_ccb0da9a3a4drow7_col8 {\n",
       "            background-color:  #3b4cc0;\n",
       "            color:  #f1f1f1;\n",
       "        }    #T_cf9db6f2_1501_11ea_a2b1_ccb0da9a3a4drow7_col9 {\n",
       "            background-color:  #3b4cc0;\n",
       "            color:  #f1f1f1;\n",
       "        }    #T_cf9db6f2_1501_11ea_a2b1_ccb0da9a3a4drow7_col10 {\n",
       "            background-color:  #7699f6;\n",
       "            color:  #000000;\n",
       "        }    #T_cf9db6f2_1501_11ea_a2b1_ccb0da9a3a4drow7_col11 {\n",
       "            background-color:  #dedcdb;\n",
       "            color:  #000000;\n",
       "        }    #T_cf9db6f2_1501_11ea_a2b1_ccb0da9a3a4drow7_col12 {\n",
       "            background-color:  #6687ed;\n",
       "            color:  #000000;\n",
       "        }    #T_cf9db6f2_1501_11ea_a2b1_ccb0da9a3a4drow7_col13 {\n",
       "            background-color:  #edd2c3;\n",
       "            color:  #000000;\n",
       "        }    #T_cf9db6f2_1501_11ea_a2b1_ccb0da9a3a4drow8_col0 {\n",
       "            background-color:  #f5a081;\n",
       "            color:  #000000;\n",
       "        }    #T_cf9db6f2_1501_11ea_a2b1_ccb0da9a3a4drow8_col1 {\n",
       "            background-color:  #6f92f3;\n",
       "            color:  #000000;\n",
       "        }    #T_cf9db6f2_1501_11ea_a2b1_ccb0da9a3a4drow8_col2 {\n",
       "            background-color:  #f29274;\n",
       "            color:  #000000;\n",
       "        }    #T_cf9db6f2_1501_11ea_a2b1_ccb0da9a3a4drow8_col3 {\n",
       "            background-color:  #5977e3;\n",
       "            color:  #000000;\n",
       "        }    #T_cf9db6f2_1501_11ea_a2b1_ccb0da9a3a4drow8_col4 {\n",
       "            background-color:  #f18d6f;\n",
       "            color:  #000000;\n",
       "        }    #T_cf9db6f2_1501_11ea_a2b1_ccb0da9a3a4drow8_col5 {\n",
       "            background-color:  #8caffe;\n",
       "            color:  #000000;\n",
       "        }    #T_cf9db6f2_1501_11ea_a2b1_ccb0da9a3a4drow8_col6 {\n",
       "            background-color:  #f7af91;\n",
       "            color:  #000000;\n",
       "        }    #T_cf9db6f2_1501_11ea_a2b1_ccb0da9a3a4drow8_col7 {\n",
       "            background-color:  #6c8ff1;\n",
       "            color:  #000000;\n",
       "        }    #T_cf9db6f2_1501_11ea_a2b1_ccb0da9a3a4drow8_col8 {\n",
       "            background-color:  #b40426;\n",
       "            color:  #f1f1f1;\n",
       "        }    #T_cf9db6f2_1501_11ea_a2b1_ccb0da9a3a4drow8_col9 {\n",
       "            background-color:  #ca3b37;\n",
       "            color:  #f1f1f1;\n",
       "        }    #T_cf9db6f2_1501_11ea_a2b1_ccb0da9a3a4drow8_col10 {\n",
       "            background-color:  #f6bfa6;\n",
       "            color:  #000000;\n",
       "        }    #T_cf9db6f2_1501_11ea_a2b1_ccb0da9a3a4drow8_col11 {\n",
       "            background-color:  #3b4cc0;\n",
       "            color:  #f1f1f1;\n",
       "        }    #T_cf9db6f2_1501_11ea_a2b1_ccb0da9a3a4drow8_col12 {\n",
       "            background-color:  #f7aa8c;\n",
       "            color:  #000000;\n",
       "        }    #T_cf9db6f2_1501_11ea_a2b1_ccb0da9a3a4drow8_col13 {\n",
       "            background-color:  #7da0f9;\n",
       "            color:  #000000;\n",
       "        }    #T_cf9db6f2_1501_11ea_a2b1_ccb0da9a3a4drow9_col0 {\n",
       "            background-color:  #f7ad90;\n",
       "            color:  #000000;\n",
       "        }    #T_cf9db6f2_1501_11ea_a2b1_ccb0da9a3a4drow9_col1 {\n",
       "            background-color:  #6f92f3;\n",
       "            color:  #000000;\n",
       "        }    #T_cf9db6f2_1501_11ea_a2b1_ccb0da9a3a4drow9_col2 {\n",
       "            background-color:  #e67259;\n",
       "            color:  #000000;\n",
       "        }    #T_cf9db6f2_1501_11ea_a2b1_ccb0da9a3a4drow9_col3 {\n",
       "            background-color:  #506bda;\n",
       "            color:  #000000;\n",
       "        }    #T_cf9db6f2_1501_11ea_a2b1_ccb0da9a3a4drow9_col4 {\n",
       "            background-color:  #eb7d62;\n",
       "            color:  #000000;\n",
       "        }    #T_cf9db6f2_1501_11ea_a2b1_ccb0da9a3a4drow9_col5 {\n",
       "            background-color:  #7a9df8;\n",
       "            color:  #000000;\n",
       "        }    #T_cf9db6f2_1501_11ea_a2b1_ccb0da9a3a4drow9_col6 {\n",
       "            background-color:  #f6a586;\n",
       "            color:  #000000;\n",
       "        }    #T_cf9db6f2_1501_11ea_a2b1_ccb0da9a3a4drow9_col7 {\n",
       "            background-color:  #6485ec;\n",
       "            color:  #000000;\n",
       "        }    #T_cf9db6f2_1501_11ea_a2b1_ccb0da9a3a4drow9_col8 {\n",
       "            background-color:  #ca3b37;\n",
       "            color:  #f1f1f1;\n",
       "        }    #T_cf9db6f2_1501_11ea_a2b1_ccb0da9a3a4drow9_col9 {\n",
       "            background-color:  #b40426;\n",
       "            color:  #f1f1f1;\n",
       "        }    #T_cf9db6f2_1501_11ea_a2b1_ccb0da9a3a4drow9_col10 {\n",
       "            background-color:  #f6bfa6;\n",
       "            color:  #000000;\n",
       "        }    #T_cf9db6f2_1501_11ea_a2b1_ccb0da9a3a4drow9_col11 {\n",
       "            background-color:  #3b4cc0;\n",
       "            color:  #f1f1f1;\n",
       "        }    #T_cf9db6f2_1501_11ea_a2b1_ccb0da9a3a4drow9_col12 {\n",
       "            background-color:  #f59f80;\n",
       "            color:  #000000;\n",
       "        }    #T_cf9db6f2_1501_11ea_a2b1_ccb0da9a3a4drow9_col13 {\n",
       "            background-color:  #6b8df0;\n",
       "            color:  #000000;\n",
       "        }    #T_cf9db6f2_1501_11ea_a2b1_ccb0da9a3a4drow10_col0 {\n",
       "            background-color:  #dadce0;\n",
       "            color:  #000000;\n",
       "        }    #T_cf9db6f2_1501_11ea_a2b1_ccb0da9a3a4drow10_col1 {\n",
       "            background-color:  #5e7de7;\n",
       "            color:  #000000;\n",
       "        }    #T_cf9db6f2_1501_11ea_a2b1_ccb0da9a3a4drow10_col2 {\n",
       "            background-color:  #f5c0a7;\n",
       "            color:  #000000;\n",
       "        }    #T_cf9db6f2_1501_11ea_a2b1_ccb0da9a3a4drow10_col3 {\n",
       "            background-color:  #3b4cc0;\n",
       "            color:  #f1f1f1;\n",
       "        }    #T_cf9db6f2_1501_11ea_a2b1_ccb0da9a3a4drow10_col4 {\n",
       "            background-color:  #e7d7ce;\n",
       "            color:  #000000;\n",
       "        }    #T_cf9db6f2_1501_11ea_a2b1_ccb0da9a3a4drow10_col5 {\n",
       "            background-color:  #6b8df0;\n",
       "            color:  #000000;\n",
       "        }    #T_cf9db6f2_1501_11ea_a2b1_ccb0da9a3a4drow10_col6 {\n",
       "            background-color:  #eed0c0;\n",
       "            color:  #000000;\n",
       "        }    #T_cf9db6f2_1501_11ea_a2b1_ccb0da9a3a4drow10_col7 {\n",
       "            background-color:  #a1c0ff;\n",
       "            color:  #000000;\n",
       "        }    #T_cf9db6f2_1501_11ea_a2b1_ccb0da9a3a4drow10_col8 {\n",
       "            background-color:  #f5c0a7;\n",
       "            color:  #000000;\n",
       "        }    #T_cf9db6f2_1501_11ea_a2b1_ccb0da9a3a4drow10_col9 {\n",
       "            background-color:  #f6bea4;\n",
       "            color:  #000000;\n",
       "        }    #T_cf9db6f2_1501_11ea_a2b1_ccb0da9a3a4drow10_col10 {\n",
       "            background-color:  #b40426;\n",
       "            color:  #f1f1f1;\n",
       "        }    #T_cf9db6f2_1501_11ea_a2b1_ccb0da9a3a4drow10_col11 {\n",
       "            background-color:  #7597f6;\n",
       "            color:  #000000;\n",
       "        }    #T_cf9db6f2_1501_11ea_a2b1_ccb0da9a3a4drow10_col12 {\n",
       "            background-color:  #f5c0a7;\n",
       "            color:  #000000;\n",
       "        }    #T_cf9db6f2_1501_11ea_a2b1_ccb0da9a3a4drow10_col13 {\n",
       "            background-color:  #6384eb;\n",
       "            color:  #000000;\n",
       "        }    #T_cf9db6f2_1501_11ea_a2b1_ccb0da9a3a4drow11_col0 {\n",
       "            background-color:  #3b4cc0;\n",
       "            color:  #f1f1f1;\n",
       "        }    #T_cf9db6f2_1501_11ea_a2b1_ccb0da9a3a4drow11_col1 {\n",
       "            background-color:  #d7dce3;\n",
       "            color:  #000000;\n",
       "        }    #T_cf9db6f2_1501_11ea_a2b1_ccb0da9a3a4drow11_col2 {\n",
       "            background-color:  #7da0f9;\n",
       "            color:  #000000;\n",
       "        }    #T_cf9db6f2_1501_11ea_a2b1_ccb0da9a3a4drow11_col3 {\n",
       "            background-color:  #6a8bef;\n",
       "            color:  #000000;\n",
       "        }    #T_cf9db6f2_1501_11ea_a2b1_ccb0da9a3a4drow11_col4 {\n",
       "            background-color:  #82a6fb;\n",
       "            color:  #000000;\n",
       "        }    #T_cf9db6f2_1501_11ea_a2b1_ccb0da9a3a4drow11_col5 {\n",
       "            background-color:  #d2dbe8;\n",
       "            color:  #000000;\n",
       "        }    #T_cf9db6f2_1501_11ea_a2b1_ccb0da9a3a4drow11_col6 {\n",
       "            background-color:  #96b7ff;\n",
       "            color:  #000000;\n",
       "        }    #T_cf9db6f2_1501_11ea_a2b1_ccb0da9a3a4drow11_col7 {\n",
       "            background-color:  #f2cbb7;\n",
       "            color:  #000000;\n",
       "        }    #T_cf9db6f2_1501_11ea_a2b1_ccb0da9a3a4drow11_col8 {\n",
       "            background-color:  #445acc;\n",
       "            color:  #f1f1f1;\n",
       "        }    #T_cf9db6f2_1501_11ea_a2b1_ccb0da9a3a4drow11_col9 {\n",
       "            background-color:  #4c66d6;\n",
       "            color:  #000000;\n",
       "        }    #T_cf9db6f2_1501_11ea_a2b1_ccb0da9a3a4drow11_col10 {\n",
       "            background-color:  #81a4fb;\n",
       "            color:  #000000;\n",
       "        }    #T_cf9db6f2_1501_11ea_a2b1_ccb0da9a3a4drow11_col11 {\n",
       "            background-color:  #b40426;\n",
       "            color:  #f1f1f1;\n",
       "        }    #T_cf9db6f2_1501_11ea_a2b1_ccb0da9a3a4drow11_col12 {\n",
       "            background-color:  #80a3fa;\n",
       "            color:  #000000;\n",
       "        }    #T_cf9db6f2_1501_11ea_a2b1_ccb0da9a3a4drow11_col13 {\n",
       "            background-color:  #f3c7b1;\n",
       "            color:  #000000;\n",
       "        }    #T_cf9db6f2_1501_11ea_a2b1_ccb0da9a3a4drow12_col0 {\n",
       "            background-color:  #f3c8b2;\n",
       "            color:  #000000;\n",
       "        }    #T_cf9db6f2_1501_11ea_a2b1_ccb0da9a3a4drow12_col1 {\n",
       "            background-color:  #5a78e4;\n",
       "            color:  #000000;\n",
       "        }    #T_cf9db6f2_1501_11ea_a2b1_ccb0da9a3a4drow12_col2 {\n",
       "            background-color:  #f29274;\n",
       "            color:  #000000;\n",
       "        }    #T_cf9db6f2_1501_11ea_a2b1_ccb0da9a3a4drow12_col3 {\n",
       "            background-color:  #4c66d6;\n",
       "            color:  #000000;\n",
       "        }    #T_cf9db6f2_1501_11ea_a2b1_ccb0da9a3a4drow12_col4 {\n",
       "            background-color:  #f29274;\n",
       "            color:  #000000;\n",
       "        }    #T_cf9db6f2_1501_11ea_a2b1_ccb0da9a3a4drow12_col5 {\n",
       "            background-color:  #3b4cc0;\n",
       "            color:  #f1f1f1;\n",
       "        }    #T_cf9db6f2_1501_11ea_a2b1_ccb0da9a3a4drow12_col6 {\n",
       "            background-color:  #f29072;\n",
       "            color:  #000000;\n",
       "        }    #T_cf9db6f2_1501_11ea_a2b1_ccb0da9a3a4drow12_col7 {\n",
       "            background-color:  #6b8df0;\n",
       "            color:  #000000;\n",
       "        }    #T_cf9db6f2_1501_11ea_a2b1_ccb0da9a3a4drow12_col8 {\n",
       "            background-color:  #f7ba9f;\n",
       "            color:  #000000;\n",
       "        }    #T_cf9db6f2_1501_11ea_a2b1_ccb0da9a3a4drow12_col9 {\n",
       "            background-color:  #f7ac8e;\n",
       "            color:  #000000;\n",
       "        }    #T_cf9db6f2_1501_11ea_a2b1_ccb0da9a3a4drow12_col10 {\n",
       "            background-color:  #efcebd;\n",
       "            color:  #000000;\n",
       "        }    #T_cf9db6f2_1501_11ea_a2b1_ccb0da9a3a4drow12_col11 {\n",
       "            background-color:  #4961d2;\n",
       "            color:  #f1f1f1;\n",
       "        }    #T_cf9db6f2_1501_11ea_a2b1_ccb0da9a3a4drow12_col12 {\n",
       "            background-color:  #b40426;\n",
       "            color:  #f1f1f1;\n",
       "        }    #T_cf9db6f2_1501_11ea_a2b1_ccb0da9a3a4drow12_col13 {\n",
       "            background-color:  #3b4cc0;\n",
       "            color:  #f1f1f1;\n",
       "        }    #T_cf9db6f2_1501_11ea_a2b1_ccb0da9a3a4drow13_col0 {\n",
       "            background-color:  #3b4cc0;\n",
       "            color:  #f1f1f1;\n",
       "        }    #T_cf9db6f2_1501_11ea_a2b1_ccb0da9a3a4drow13_col1 {\n",
       "            background-color:  #f1cdba;\n",
       "            color:  #000000;\n",
       "        }    #T_cf9db6f2_1501_11ea_a2b1_ccb0da9a3a4drow13_col2 {\n",
       "            background-color:  #6485ec;\n",
       "            color:  #000000;\n",
       "        }    #T_cf9db6f2_1501_11ea_a2b1_ccb0da9a3a4drow13_col3 {\n",
       "            background-color:  #93b5fe;\n",
       "            color:  #000000;\n",
       "        }    #T_cf9db6f2_1501_11ea_a2b1_ccb0da9a3a4drow13_col4 {\n",
       "            background-color:  #799cf8;\n",
       "            color:  #000000;\n",
       "        }    #T_cf9db6f2_1501_11ea_a2b1_ccb0da9a3a4drow13_col5 {\n",
       "            background-color:  #eb7d62;\n",
       "            color:  #000000;\n",
       "        }    #T_cf9db6f2_1501_11ea_a2b1_ccb0da9a3a4drow13_col6 {\n",
       "            background-color:  #80a3fa;\n",
       "            color:  #000000;\n",
       "        }    #T_cf9db6f2_1501_11ea_a2b1_ccb0da9a3a4drow13_col7 {\n",
       "            background-color:  #eed0c0;\n",
       "            color:  #000000;\n",
       "        }    #T_cf9db6f2_1501_11ea_a2b1_ccb0da9a3a4drow13_col8 {\n",
       "            background-color:  #506bda;\n",
       "            color:  #000000;\n",
       "        }    #T_cf9db6f2_1501_11ea_a2b1_ccb0da9a3a4drow13_col9 {\n",
       "            background-color:  #465ecf;\n",
       "            color:  #f1f1f1;\n",
       "        }    #T_cf9db6f2_1501_11ea_a2b1_ccb0da9a3a4drow13_col10 {\n",
       "            background-color:  #3b4cc0;\n",
       "            color:  #f1f1f1;\n",
       "        }    #T_cf9db6f2_1501_11ea_a2b1_ccb0da9a3a4drow13_col11 {\n",
       "            background-color:  #e5d8d1;\n",
       "            color:  #000000;\n",
       "        }    #T_cf9db6f2_1501_11ea_a2b1_ccb0da9a3a4drow13_col12 {\n",
       "            background-color:  #3b4cc0;\n",
       "            color:  #f1f1f1;\n",
       "        }    #T_cf9db6f2_1501_11ea_a2b1_ccb0da9a3a4drow13_col13 {\n",
       "            background-color:  #b40426;\n",
       "            color:  #f1f1f1;\n",
       "        }</style><table id=\"T_cf9db6f2_1501_11ea_a2b1_ccb0da9a3a4d\" ><thead>    <tr>        <th class=\"blank level0\" ></th>        <th class=\"col_heading level0 col0\" >CRIM</th>        <th class=\"col_heading level0 col1\" >ZN</th>        <th class=\"col_heading level0 col2\" >INDUS</th>        <th class=\"col_heading level0 col3\" >CHAS</th>        <th class=\"col_heading level0 col4\" >NOX</th>        <th class=\"col_heading level0 col5\" >RM</th>        <th class=\"col_heading level0 col6\" >AGE</th>        <th class=\"col_heading level0 col7\" >DIS</th>        <th class=\"col_heading level0 col8\" >RAD</th>        <th class=\"col_heading level0 col9\" >TAX</th>        <th class=\"col_heading level0 col10\" >PTRATIO</th>        <th class=\"col_heading level0 col11\" >B</th>        <th class=\"col_heading level0 col12\" >LSTAT</th>        <th class=\"col_heading level0 col13\" >MEDV</th>    </tr></thead><tbody>\n",
       "                <tr>\n",
       "                        <th id=\"T_cf9db6f2_1501_11ea_a2b1_ccb0da9a3a4dlevel0_row0\" class=\"row_heading level0 row0\" >CRIM</th>\n",
       "                        <td id=\"T_cf9db6f2_1501_11ea_a2b1_ccb0da9a3a4drow0_col0\" class=\"data row0 col0\" >1</td>\n",
       "                        <td id=\"T_cf9db6f2_1501_11ea_a2b1_ccb0da9a3a4drow0_col1\" class=\"data row0 col1\" >-0.2</td>\n",
       "                        <td id=\"T_cf9db6f2_1501_11ea_a2b1_ccb0da9a3a4drow0_col2\" class=\"data row0 col2\" >0.41</td>\n",
       "                        <td id=\"T_cf9db6f2_1501_11ea_a2b1_ccb0da9a3a4drow0_col3\" class=\"data row0 col3\" >-0.06</td>\n",
       "                        <td id=\"T_cf9db6f2_1501_11ea_a2b1_ccb0da9a3a4drow0_col4\" class=\"data row0 col4\" >0.42</td>\n",
       "                        <td id=\"T_cf9db6f2_1501_11ea_a2b1_ccb0da9a3a4drow0_col5\" class=\"data row0 col5\" >-0.22</td>\n",
       "                        <td id=\"T_cf9db6f2_1501_11ea_a2b1_ccb0da9a3a4drow0_col6\" class=\"data row0 col6\" >0.35</td>\n",
       "                        <td id=\"T_cf9db6f2_1501_11ea_a2b1_ccb0da9a3a4drow0_col7\" class=\"data row0 col7\" >-0.38</td>\n",
       "                        <td id=\"T_cf9db6f2_1501_11ea_a2b1_ccb0da9a3a4drow0_col8\" class=\"data row0 col8\" >0.63</td>\n",
       "                        <td id=\"T_cf9db6f2_1501_11ea_a2b1_ccb0da9a3a4drow0_col9\" class=\"data row0 col9\" >0.58</td>\n",
       "                        <td id=\"T_cf9db6f2_1501_11ea_a2b1_ccb0da9a3a4drow0_col10\" class=\"data row0 col10\" >0.29</td>\n",
       "                        <td id=\"T_cf9db6f2_1501_11ea_a2b1_ccb0da9a3a4drow0_col11\" class=\"data row0 col11\" >-0.39</td>\n",
       "                        <td id=\"T_cf9db6f2_1501_11ea_a2b1_ccb0da9a3a4drow0_col12\" class=\"data row0 col12\" >0.46</td>\n",
       "                        <td id=\"T_cf9db6f2_1501_11ea_a2b1_ccb0da9a3a4drow0_col13\" class=\"data row0 col13\" >-0.39</td>\n",
       "            </tr>\n",
       "            <tr>\n",
       "                        <th id=\"T_cf9db6f2_1501_11ea_a2b1_ccb0da9a3a4dlevel0_row1\" class=\"row_heading level0 row1\" >ZN</th>\n",
       "                        <td id=\"T_cf9db6f2_1501_11ea_a2b1_ccb0da9a3a4drow1_col0\" class=\"data row1 col0\" >-0.2</td>\n",
       "                        <td id=\"T_cf9db6f2_1501_11ea_a2b1_ccb0da9a3a4drow1_col1\" class=\"data row1 col1\" >1</td>\n",
       "                        <td id=\"T_cf9db6f2_1501_11ea_a2b1_ccb0da9a3a4drow1_col2\" class=\"data row1 col2\" >-0.53</td>\n",
       "                        <td id=\"T_cf9db6f2_1501_11ea_a2b1_ccb0da9a3a4drow1_col3\" class=\"data row1 col3\" >-0.04</td>\n",
       "                        <td id=\"T_cf9db6f2_1501_11ea_a2b1_ccb0da9a3a4drow1_col4\" class=\"data row1 col4\" >-0.52</td>\n",
       "                        <td id=\"T_cf9db6f2_1501_11ea_a2b1_ccb0da9a3a4drow1_col5\" class=\"data row1 col5\" >0.31</td>\n",
       "                        <td id=\"T_cf9db6f2_1501_11ea_a2b1_ccb0da9a3a4drow1_col6\" class=\"data row1 col6\" >-0.57</td>\n",
       "                        <td id=\"T_cf9db6f2_1501_11ea_a2b1_ccb0da9a3a4drow1_col7\" class=\"data row1 col7\" >0.66</td>\n",
       "                        <td id=\"T_cf9db6f2_1501_11ea_a2b1_ccb0da9a3a4drow1_col8\" class=\"data row1 col8\" >-0.31</td>\n",
       "                        <td id=\"T_cf9db6f2_1501_11ea_a2b1_ccb0da9a3a4drow1_col9\" class=\"data row1 col9\" >-0.31</td>\n",
       "                        <td id=\"T_cf9db6f2_1501_11ea_a2b1_ccb0da9a3a4drow1_col10\" class=\"data row1 col10\" >-0.39</td>\n",
       "                        <td id=\"T_cf9db6f2_1501_11ea_a2b1_ccb0da9a3a4drow1_col11\" class=\"data row1 col11\" >0.18</td>\n",
       "                        <td id=\"T_cf9db6f2_1501_11ea_a2b1_ccb0da9a3a4drow1_col12\" class=\"data row1 col12\" >-0.41</td>\n",
       "                        <td id=\"T_cf9db6f2_1501_11ea_a2b1_ccb0da9a3a4drow1_col13\" class=\"data row1 col13\" >0.36</td>\n",
       "            </tr>\n",
       "            <tr>\n",
       "                        <th id=\"T_cf9db6f2_1501_11ea_a2b1_ccb0da9a3a4dlevel0_row2\" class=\"row_heading level0 row2\" >INDUS</th>\n",
       "                        <td id=\"T_cf9db6f2_1501_11ea_a2b1_ccb0da9a3a4drow2_col0\" class=\"data row2 col0\" >0.41</td>\n",
       "                        <td id=\"T_cf9db6f2_1501_11ea_a2b1_ccb0da9a3a4drow2_col1\" class=\"data row2 col1\" >-0.53</td>\n",
       "                        <td id=\"T_cf9db6f2_1501_11ea_a2b1_ccb0da9a3a4drow2_col2\" class=\"data row2 col2\" >1</td>\n",
       "                        <td id=\"T_cf9db6f2_1501_11ea_a2b1_ccb0da9a3a4drow2_col3\" class=\"data row2 col3\" >0.06</td>\n",
       "                        <td id=\"T_cf9db6f2_1501_11ea_a2b1_ccb0da9a3a4drow2_col4\" class=\"data row2 col4\" >0.76</td>\n",
       "                        <td id=\"T_cf9db6f2_1501_11ea_a2b1_ccb0da9a3a4drow2_col5\" class=\"data row2 col5\" >-0.39</td>\n",
       "                        <td id=\"T_cf9db6f2_1501_11ea_a2b1_ccb0da9a3a4drow2_col6\" class=\"data row2 col6\" >0.64</td>\n",
       "                        <td id=\"T_cf9db6f2_1501_11ea_a2b1_ccb0da9a3a4drow2_col7\" class=\"data row2 col7\" >-0.71</td>\n",
       "                        <td id=\"T_cf9db6f2_1501_11ea_a2b1_ccb0da9a3a4drow2_col8\" class=\"data row2 col8\" >0.6</td>\n",
       "                        <td id=\"T_cf9db6f2_1501_11ea_a2b1_ccb0da9a3a4drow2_col9\" class=\"data row2 col9\" >0.72</td>\n",
       "                        <td id=\"T_cf9db6f2_1501_11ea_a2b1_ccb0da9a3a4drow2_col10\" class=\"data row2 col10\" >0.38</td>\n",
       "                        <td id=\"T_cf9db6f2_1501_11ea_a2b1_ccb0da9a3a4drow2_col11\" class=\"data row2 col11\" >-0.36</td>\n",
       "                        <td id=\"T_cf9db6f2_1501_11ea_a2b1_ccb0da9a3a4drow2_col12\" class=\"data row2 col12\" >0.6</td>\n",
       "                        <td id=\"T_cf9db6f2_1501_11ea_a2b1_ccb0da9a3a4drow2_col13\" class=\"data row2 col13\" >-0.48</td>\n",
       "            </tr>\n",
       "            <tr>\n",
       "                        <th id=\"T_cf9db6f2_1501_11ea_a2b1_ccb0da9a3a4dlevel0_row3\" class=\"row_heading level0 row3\" >CHAS</th>\n",
       "                        <td id=\"T_cf9db6f2_1501_11ea_a2b1_ccb0da9a3a4drow3_col0\" class=\"data row3 col0\" >-0.06</td>\n",
       "                        <td id=\"T_cf9db6f2_1501_11ea_a2b1_ccb0da9a3a4drow3_col1\" class=\"data row3 col1\" >-0.04</td>\n",
       "                        <td id=\"T_cf9db6f2_1501_11ea_a2b1_ccb0da9a3a4drow3_col2\" class=\"data row3 col2\" >0.06</td>\n",
       "                        <td id=\"T_cf9db6f2_1501_11ea_a2b1_ccb0da9a3a4drow3_col3\" class=\"data row3 col3\" >1</td>\n",
       "                        <td id=\"T_cf9db6f2_1501_11ea_a2b1_ccb0da9a3a4drow3_col4\" class=\"data row3 col4\" >0.09</td>\n",
       "                        <td id=\"T_cf9db6f2_1501_11ea_a2b1_ccb0da9a3a4drow3_col5\" class=\"data row3 col5\" >0.09</td>\n",
       "                        <td id=\"T_cf9db6f2_1501_11ea_a2b1_ccb0da9a3a4drow3_col6\" class=\"data row3 col6\" >0.09</td>\n",
       "                        <td id=\"T_cf9db6f2_1501_11ea_a2b1_ccb0da9a3a4drow3_col7\" class=\"data row3 col7\" >-0.1</td>\n",
       "                        <td id=\"T_cf9db6f2_1501_11ea_a2b1_ccb0da9a3a4drow3_col8\" class=\"data row3 col8\" >-0.01</td>\n",
       "                        <td id=\"T_cf9db6f2_1501_11ea_a2b1_ccb0da9a3a4drow3_col9\" class=\"data row3 col9\" >-0.04</td>\n",
       "                        <td id=\"T_cf9db6f2_1501_11ea_a2b1_ccb0da9a3a4drow3_col10\" class=\"data row3 col10\" >-0.12</td>\n",
       "                        <td id=\"T_cf9db6f2_1501_11ea_a2b1_ccb0da9a3a4drow3_col11\" class=\"data row3 col11\" >0.05</td>\n",
       "                        <td id=\"T_cf9db6f2_1501_11ea_a2b1_ccb0da9a3a4drow3_col12\" class=\"data row3 col12\" >-0.05</td>\n",
       "                        <td id=\"T_cf9db6f2_1501_11ea_a2b1_ccb0da9a3a4drow3_col13\" class=\"data row3 col13\" >0.18</td>\n",
       "            </tr>\n",
       "            <tr>\n",
       "                        <th id=\"T_cf9db6f2_1501_11ea_a2b1_ccb0da9a3a4dlevel0_row4\" class=\"row_heading level0 row4\" >NOX</th>\n",
       "                        <td id=\"T_cf9db6f2_1501_11ea_a2b1_ccb0da9a3a4drow4_col0\" class=\"data row4 col0\" >0.42</td>\n",
       "                        <td id=\"T_cf9db6f2_1501_11ea_a2b1_ccb0da9a3a4drow4_col1\" class=\"data row4 col1\" >-0.52</td>\n",
       "                        <td id=\"T_cf9db6f2_1501_11ea_a2b1_ccb0da9a3a4drow4_col2\" class=\"data row4 col2\" >0.76</td>\n",
       "                        <td id=\"T_cf9db6f2_1501_11ea_a2b1_ccb0da9a3a4drow4_col3\" class=\"data row4 col3\" >0.09</td>\n",
       "                        <td id=\"T_cf9db6f2_1501_11ea_a2b1_ccb0da9a3a4drow4_col4\" class=\"data row4 col4\" >1</td>\n",
       "                        <td id=\"T_cf9db6f2_1501_11ea_a2b1_ccb0da9a3a4drow4_col5\" class=\"data row4 col5\" >-0.3</td>\n",
       "                        <td id=\"T_cf9db6f2_1501_11ea_a2b1_ccb0da9a3a4drow4_col6\" class=\"data row4 col6\" >0.73</td>\n",
       "                        <td id=\"T_cf9db6f2_1501_11ea_a2b1_ccb0da9a3a4drow4_col7\" class=\"data row4 col7\" >-0.77</td>\n",
       "                        <td id=\"T_cf9db6f2_1501_11ea_a2b1_ccb0da9a3a4drow4_col8\" class=\"data row4 col8\" >0.61</td>\n",
       "                        <td id=\"T_cf9db6f2_1501_11ea_a2b1_ccb0da9a3a4drow4_col9\" class=\"data row4 col9\" >0.67</td>\n",
       "                        <td id=\"T_cf9db6f2_1501_11ea_a2b1_ccb0da9a3a4drow4_col10\" class=\"data row4 col10\" >0.19</td>\n",
       "                        <td id=\"T_cf9db6f2_1501_11ea_a2b1_ccb0da9a3a4drow4_col11\" class=\"data row4 col11\" >-0.38</td>\n",
       "                        <td id=\"T_cf9db6f2_1501_11ea_a2b1_ccb0da9a3a4drow4_col12\" class=\"data row4 col12\" >0.59</td>\n",
       "                        <td id=\"T_cf9db6f2_1501_11ea_a2b1_ccb0da9a3a4drow4_col13\" class=\"data row4 col13\" >-0.43</td>\n",
       "            </tr>\n",
       "            <tr>\n",
       "                        <th id=\"T_cf9db6f2_1501_11ea_a2b1_ccb0da9a3a4dlevel0_row5\" class=\"row_heading level0 row5\" >RM</th>\n",
       "                        <td id=\"T_cf9db6f2_1501_11ea_a2b1_ccb0da9a3a4drow5_col0\" class=\"data row5 col0\" >-0.22</td>\n",
       "                        <td id=\"T_cf9db6f2_1501_11ea_a2b1_ccb0da9a3a4drow5_col1\" class=\"data row5 col1\" >0.31</td>\n",
       "                        <td id=\"T_cf9db6f2_1501_11ea_a2b1_ccb0da9a3a4drow5_col2\" class=\"data row5 col2\" >-0.39</td>\n",
       "                        <td id=\"T_cf9db6f2_1501_11ea_a2b1_ccb0da9a3a4drow5_col3\" class=\"data row5 col3\" >0.09</td>\n",
       "                        <td id=\"T_cf9db6f2_1501_11ea_a2b1_ccb0da9a3a4drow5_col4\" class=\"data row5 col4\" >-0.3</td>\n",
       "                        <td id=\"T_cf9db6f2_1501_11ea_a2b1_ccb0da9a3a4drow5_col5\" class=\"data row5 col5\" >1</td>\n",
       "                        <td id=\"T_cf9db6f2_1501_11ea_a2b1_ccb0da9a3a4drow5_col6\" class=\"data row5 col6\" >-0.24</td>\n",
       "                        <td id=\"T_cf9db6f2_1501_11ea_a2b1_ccb0da9a3a4drow5_col7\" class=\"data row5 col7\" >0.21</td>\n",
       "                        <td id=\"T_cf9db6f2_1501_11ea_a2b1_ccb0da9a3a4drow5_col8\" class=\"data row5 col8\" >-0.21</td>\n",
       "                        <td id=\"T_cf9db6f2_1501_11ea_a2b1_ccb0da9a3a4drow5_col9\" class=\"data row5 col9\" >-0.29</td>\n",
       "                        <td id=\"T_cf9db6f2_1501_11ea_a2b1_ccb0da9a3a4drow5_col10\" class=\"data row5 col10\" >-0.36</td>\n",
       "                        <td id=\"T_cf9db6f2_1501_11ea_a2b1_ccb0da9a3a4drow5_col11\" class=\"data row5 col11\" >0.13</td>\n",
       "                        <td id=\"T_cf9db6f2_1501_11ea_a2b1_ccb0da9a3a4drow5_col12\" class=\"data row5 col12\" >-0.61</td>\n",
       "                        <td id=\"T_cf9db6f2_1501_11ea_a2b1_ccb0da9a3a4drow5_col13\" class=\"data row5 col13\" >0.7</td>\n",
       "            </tr>\n",
       "            <tr>\n",
       "                        <th id=\"T_cf9db6f2_1501_11ea_a2b1_ccb0da9a3a4dlevel0_row6\" class=\"row_heading level0 row6\" >AGE</th>\n",
       "                        <td id=\"T_cf9db6f2_1501_11ea_a2b1_ccb0da9a3a4drow6_col0\" class=\"data row6 col0\" >0.35</td>\n",
       "                        <td id=\"T_cf9db6f2_1501_11ea_a2b1_ccb0da9a3a4drow6_col1\" class=\"data row6 col1\" >-0.57</td>\n",
       "                        <td id=\"T_cf9db6f2_1501_11ea_a2b1_ccb0da9a3a4drow6_col2\" class=\"data row6 col2\" >0.64</td>\n",
       "                        <td id=\"T_cf9db6f2_1501_11ea_a2b1_ccb0da9a3a4drow6_col3\" class=\"data row6 col3\" >0.09</td>\n",
       "                        <td id=\"T_cf9db6f2_1501_11ea_a2b1_ccb0da9a3a4drow6_col4\" class=\"data row6 col4\" >0.73</td>\n",
       "                        <td id=\"T_cf9db6f2_1501_11ea_a2b1_ccb0da9a3a4drow6_col5\" class=\"data row6 col5\" >-0.24</td>\n",
       "                        <td id=\"T_cf9db6f2_1501_11ea_a2b1_ccb0da9a3a4drow6_col6\" class=\"data row6 col6\" >1</td>\n",
       "                        <td id=\"T_cf9db6f2_1501_11ea_a2b1_ccb0da9a3a4drow6_col7\" class=\"data row6 col7\" >-0.75</td>\n",
       "                        <td id=\"T_cf9db6f2_1501_11ea_a2b1_ccb0da9a3a4drow6_col8\" class=\"data row6 col8\" >0.46</td>\n",
       "                        <td id=\"T_cf9db6f2_1501_11ea_a2b1_ccb0da9a3a4drow6_col9\" class=\"data row6 col9\" >0.51</td>\n",
       "                        <td id=\"T_cf9db6f2_1501_11ea_a2b1_ccb0da9a3a4drow6_col10\" class=\"data row6 col10\" >0.26</td>\n",
       "                        <td id=\"T_cf9db6f2_1501_11ea_a2b1_ccb0da9a3a4drow6_col11\" class=\"data row6 col11\" >-0.27</td>\n",
       "                        <td id=\"T_cf9db6f2_1501_11ea_a2b1_ccb0da9a3a4drow6_col12\" class=\"data row6 col12\" >0.6</td>\n",
       "                        <td id=\"T_cf9db6f2_1501_11ea_a2b1_ccb0da9a3a4drow6_col13\" class=\"data row6 col13\" >-0.38</td>\n",
       "            </tr>\n",
       "            <tr>\n",
       "                        <th id=\"T_cf9db6f2_1501_11ea_a2b1_ccb0da9a3a4dlevel0_row7\" class=\"row_heading level0 row7\" >DIS</th>\n",
       "                        <td id=\"T_cf9db6f2_1501_11ea_a2b1_ccb0da9a3a4drow7_col0\" class=\"data row7 col0\" >-0.38</td>\n",
       "                        <td id=\"T_cf9db6f2_1501_11ea_a2b1_ccb0da9a3a4drow7_col1\" class=\"data row7 col1\" >0.66</td>\n",
       "                        <td id=\"T_cf9db6f2_1501_11ea_a2b1_ccb0da9a3a4drow7_col2\" class=\"data row7 col2\" >-0.71</td>\n",
       "                        <td id=\"T_cf9db6f2_1501_11ea_a2b1_ccb0da9a3a4drow7_col3\" class=\"data row7 col3\" >-0.1</td>\n",
       "                        <td id=\"T_cf9db6f2_1501_11ea_a2b1_ccb0da9a3a4drow7_col4\" class=\"data row7 col4\" >-0.77</td>\n",
       "                        <td id=\"T_cf9db6f2_1501_11ea_a2b1_ccb0da9a3a4drow7_col5\" class=\"data row7 col5\" >0.21</td>\n",
       "                        <td id=\"T_cf9db6f2_1501_11ea_a2b1_ccb0da9a3a4drow7_col6\" class=\"data row7 col6\" >-0.75</td>\n",
       "                        <td id=\"T_cf9db6f2_1501_11ea_a2b1_ccb0da9a3a4drow7_col7\" class=\"data row7 col7\" >1</td>\n",
       "                        <td id=\"T_cf9db6f2_1501_11ea_a2b1_ccb0da9a3a4drow7_col8\" class=\"data row7 col8\" >-0.49</td>\n",
       "                        <td id=\"T_cf9db6f2_1501_11ea_a2b1_ccb0da9a3a4drow7_col9\" class=\"data row7 col9\" >-0.53</td>\n",
       "                        <td id=\"T_cf9db6f2_1501_11ea_a2b1_ccb0da9a3a4drow7_col10\" class=\"data row7 col10\" >-0.23</td>\n",
       "                        <td id=\"T_cf9db6f2_1501_11ea_a2b1_ccb0da9a3a4drow7_col11\" class=\"data row7 col11\" >0.29</td>\n",
       "                        <td id=\"T_cf9db6f2_1501_11ea_a2b1_ccb0da9a3a4drow7_col12\" class=\"data row7 col12\" >-0.5</td>\n",
       "                        <td id=\"T_cf9db6f2_1501_11ea_a2b1_ccb0da9a3a4drow7_col13\" class=\"data row7 col13\" >0.25</td>\n",
       "            </tr>\n",
       "            <tr>\n",
       "                        <th id=\"T_cf9db6f2_1501_11ea_a2b1_ccb0da9a3a4dlevel0_row8\" class=\"row_heading level0 row8\" >RAD</th>\n",
       "                        <td id=\"T_cf9db6f2_1501_11ea_a2b1_ccb0da9a3a4drow8_col0\" class=\"data row8 col0\" >0.63</td>\n",
       "                        <td id=\"T_cf9db6f2_1501_11ea_a2b1_ccb0da9a3a4drow8_col1\" class=\"data row8 col1\" >-0.31</td>\n",
       "                        <td id=\"T_cf9db6f2_1501_11ea_a2b1_ccb0da9a3a4drow8_col2\" class=\"data row8 col2\" >0.6</td>\n",
       "                        <td id=\"T_cf9db6f2_1501_11ea_a2b1_ccb0da9a3a4drow8_col3\" class=\"data row8 col3\" >-0.01</td>\n",
       "                        <td id=\"T_cf9db6f2_1501_11ea_a2b1_ccb0da9a3a4drow8_col4\" class=\"data row8 col4\" >0.61</td>\n",
       "                        <td id=\"T_cf9db6f2_1501_11ea_a2b1_ccb0da9a3a4drow8_col5\" class=\"data row8 col5\" >-0.21</td>\n",
       "                        <td id=\"T_cf9db6f2_1501_11ea_a2b1_ccb0da9a3a4drow8_col6\" class=\"data row8 col6\" >0.46</td>\n",
       "                        <td id=\"T_cf9db6f2_1501_11ea_a2b1_ccb0da9a3a4drow8_col7\" class=\"data row8 col7\" >-0.49</td>\n",
       "                        <td id=\"T_cf9db6f2_1501_11ea_a2b1_ccb0da9a3a4drow8_col8\" class=\"data row8 col8\" >1</td>\n",
       "                        <td id=\"T_cf9db6f2_1501_11ea_a2b1_ccb0da9a3a4drow8_col9\" class=\"data row8 col9\" >0.91</td>\n",
       "                        <td id=\"T_cf9db6f2_1501_11ea_a2b1_ccb0da9a3a4drow8_col10\" class=\"data row8 col10\" >0.46</td>\n",
       "                        <td id=\"T_cf9db6f2_1501_11ea_a2b1_ccb0da9a3a4drow8_col11\" class=\"data row8 col11\" >-0.44</td>\n",
       "                        <td id=\"T_cf9db6f2_1501_11ea_a2b1_ccb0da9a3a4drow8_col12\" class=\"data row8 col12\" >0.49</td>\n",
       "                        <td id=\"T_cf9db6f2_1501_11ea_a2b1_ccb0da9a3a4drow8_col13\" class=\"data row8 col13\" >-0.38</td>\n",
       "            </tr>\n",
       "            <tr>\n",
       "                        <th id=\"T_cf9db6f2_1501_11ea_a2b1_ccb0da9a3a4dlevel0_row9\" class=\"row_heading level0 row9\" >TAX</th>\n",
       "                        <td id=\"T_cf9db6f2_1501_11ea_a2b1_ccb0da9a3a4drow9_col0\" class=\"data row9 col0\" >0.58</td>\n",
       "                        <td id=\"T_cf9db6f2_1501_11ea_a2b1_ccb0da9a3a4drow9_col1\" class=\"data row9 col1\" >-0.31</td>\n",
       "                        <td id=\"T_cf9db6f2_1501_11ea_a2b1_ccb0da9a3a4drow9_col2\" class=\"data row9 col2\" >0.72</td>\n",
       "                        <td id=\"T_cf9db6f2_1501_11ea_a2b1_ccb0da9a3a4drow9_col3\" class=\"data row9 col3\" >-0.04</td>\n",
       "                        <td id=\"T_cf9db6f2_1501_11ea_a2b1_ccb0da9a3a4drow9_col4\" class=\"data row9 col4\" >0.67</td>\n",
       "                        <td id=\"T_cf9db6f2_1501_11ea_a2b1_ccb0da9a3a4drow9_col5\" class=\"data row9 col5\" >-0.29</td>\n",
       "                        <td id=\"T_cf9db6f2_1501_11ea_a2b1_ccb0da9a3a4drow9_col6\" class=\"data row9 col6\" >0.51</td>\n",
       "                        <td id=\"T_cf9db6f2_1501_11ea_a2b1_ccb0da9a3a4drow9_col7\" class=\"data row9 col7\" >-0.53</td>\n",
       "                        <td id=\"T_cf9db6f2_1501_11ea_a2b1_ccb0da9a3a4drow9_col8\" class=\"data row9 col8\" >0.91</td>\n",
       "                        <td id=\"T_cf9db6f2_1501_11ea_a2b1_ccb0da9a3a4drow9_col9\" class=\"data row9 col9\" >1</td>\n",
       "                        <td id=\"T_cf9db6f2_1501_11ea_a2b1_ccb0da9a3a4drow9_col10\" class=\"data row9 col10\" >0.46</td>\n",
       "                        <td id=\"T_cf9db6f2_1501_11ea_a2b1_ccb0da9a3a4drow9_col11\" class=\"data row9 col11\" >-0.44</td>\n",
       "                        <td id=\"T_cf9db6f2_1501_11ea_a2b1_ccb0da9a3a4drow9_col12\" class=\"data row9 col12\" >0.54</td>\n",
       "                        <td id=\"T_cf9db6f2_1501_11ea_a2b1_ccb0da9a3a4drow9_col13\" class=\"data row9 col13\" >-0.47</td>\n",
       "            </tr>\n",
       "            <tr>\n",
       "                        <th id=\"T_cf9db6f2_1501_11ea_a2b1_ccb0da9a3a4dlevel0_row10\" class=\"row_heading level0 row10\" >PTRATIO</th>\n",
       "                        <td id=\"T_cf9db6f2_1501_11ea_a2b1_ccb0da9a3a4drow10_col0\" class=\"data row10 col0\" >0.29</td>\n",
       "                        <td id=\"T_cf9db6f2_1501_11ea_a2b1_ccb0da9a3a4drow10_col1\" class=\"data row10 col1\" >-0.39</td>\n",
       "                        <td id=\"T_cf9db6f2_1501_11ea_a2b1_ccb0da9a3a4drow10_col2\" class=\"data row10 col2\" >0.38</td>\n",
       "                        <td id=\"T_cf9db6f2_1501_11ea_a2b1_ccb0da9a3a4drow10_col3\" class=\"data row10 col3\" >-0.12</td>\n",
       "                        <td id=\"T_cf9db6f2_1501_11ea_a2b1_ccb0da9a3a4drow10_col4\" class=\"data row10 col4\" >0.19</td>\n",
       "                        <td id=\"T_cf9db6f2_1501_11ea_a2b1_ccb0da9a3a4drow10_col5\" class=\"data row10 col5\" >-0.36</td>\n",
       "                        <td id=\"T_cf9db6f2_1501_11ea_a2b1_ccb0da9a3a4drow10_col6\" class=\"data row10 col6\" >0.26</td>\n",
       "                        <td id=\"T_cf9db6f2_1501_11ea_a2b1_ccb0da9a3a4drow10_col7\" class=\"data row10 col7\" >-0.23</td>\n",
       "                        <td id=\"T_cf9db6f2_1501_11ea_a2b1_ccb0da9a3a4drow10_col8\" class=\"data row10 col8\" >0.46</td>\n",
       "                        <td id=\"T_cf9db6f2_1501_11ea_a2b1_ccb0da9a3a4drow10_col9\" class=\"data row10 col9\" >0.46</td>\n",
       "                        <td id=\"T_cf9db6f2_1501_11ea_a2b1_ccb0da9a3a4drow10_col10\" class=\"data row10 col10\" >1</td>\n",
       "                        <td id=\"T_cf9db6f2_1501_11ea_a2b1_ccb0da9a3a4drow10_col11\" class=\"data row10 col11\" >-0.18</td>\n",
       "                        <td id=\"T_cf9db6f2_1501_11ea_a2b1_ccb0da9a3a4drow10_col12\" class=\"data row10 col12\" >0.37</td>\n",
       "                        <td id=\"T_cf9db6f2_1501_11ea_a2b1_ccb0da9a3a4drow10_col13\" class=\"data row10 col13\" >-0.51</td>\n",
       "            </tr>\n",
       "            <tr>\n",
       "                        <th id=\"T_cf9db6f2_1501_11ea_a2b1_ccb0da9a3a4dlevel0_row11\" class=\"row_heading level0 row11\" >B</th>\n",
       "                        <td id=\"T_cf9db6f2_1501_11ea_a2b1_ccb0da9a3a4drow11_col0\" class=\"data row11 col0\" >-0.39</td>\n",
       "                        <td id=\"T_cf9db6f2_1501_11ea_a2b1_ccb0da9a3a4drow11_col1\" class=\"data row11 col1\" >0.18</td>\n",
       "                        <td id=\"T_cf9db6f2_1501_11ea_a2b1_ccb0da9a3a4drow11_col2\" class=\"data row11 col2\" >-0.36</td>\n",
       "                        <td id=\"T_cf9db6f2_1501_11ea_a2b1_ccb0da9a3a4drow11_col3\" class=\"data row11 col3\" >0.05</td>\n",
       "                        <td id=\"T_cf9db6f2_1501_11ea_a2b1_ccb0da9a3a4drow11_col4\" class=\"data row11 col4\" >-0.38</td>\n",
       "                        <td id=\"T_cf9db6f2_1501_11ea_a2b1_ccb0da9a3a4drow11_col5\" class=\"data row11 col5\" >0.13</td>\n",
       "                        <td id=\"T_cf9db6f2_1501_11ea_a2b1_ccb0da9a3a4drow11_col6\" class=\"data row11 col6\" >-0.27</td>\n",
       "                        <td id=\"T_cf9db6f2_1501_11ea_a2b1_ccb0da9a3a4drow11_col7\" class=\"data row11 col7\" >0.29</td>\n",
       "                        <td id=\"T_cf9db6f2_1501_11ea_a2b1_ccb0da9a3a4drow11_col8\" class=\"data row11 col8\" >-0.44</td>\n",
       "                        <td id=\"T_cf9db6f2_1501_11ea_a2b1_ccb0da9a3a4drow11_col9\" class=\"data row11 col9\" >-0.44</td>\n",
       "                        <td id=\"T_cf9db6f2_1501_11ea_a2b1_ccb0da9a3a4drow11_col10\" class=\"data row11 col10\" >-0.18</td>\n",
       "                        <td id=\"T_cf9db6f2_1501_11ea_a2b1_ccb0da9a3a4drow11_col11\" class=\"data row11 col11\" >1</td>\n",
       "                        <td id=\"T_cf9db6f2_1501_11ea_a2b1_ccb0da9a3a4drow11_col12\" class=\"data row11 col12\" >-0.37</td>\n",
       "                        <td id=\"T_cf9db6f2_1501_11ea_a2b1_ccb0da9a3a4drow11_col13\" class=\"data row11 col13\" >0.33</td>\n",
       "            </tr>\n",
       "            <tr>\n",
       "                        <th id=\"T_cf9db6f2_1501_11ea_a2b1_ccb0da9a3a4dlevel0_row12\" class=\"row_heading level0 row12\" >LSTAT</th>\n",
       "                        <td id=\"T_cf9db6f2_1501_11ea_a2b1_ccb0da9a3a4drow12_col0\" class=\"data row12 col0\" >0.46</td>\n",
       "                        <td id=\"T_cf9db6f2_1501_11ea_a2b1_ccb0da9a3a4drow12_col1\" class=\"data row12 col1\" >-0.41</td>\n",
       "                        <td id=\"T_cf9db6f2_1501_11ea_a2b1_ccb0da9a3a4drow12_col2\" class=\"data row12 col2\" >0.6</td>\n",
       "                        <td id=\"T_cf9db6f2_1501_11ea_a2b1_ccb0da9a3a4drow12_col3\" class=\"data row12 col3\" >-0.05</td>\n",
       "                        <td id=\"T_cf9db6f2_1501_11ea_a2b1_ccb0da9a3a4drow12_col4\" class=\"data row12 col4\" >0.59</td>\n",
       "                        <td id=\"T_cf9db6f2_1501_11ea_a2b1_ccb0da9a3a4drow12_col5\" class=\"data row12 col5\" >-0.61</td>\n",
       "                        <td id=\"T_cf9db6f2_1501_11ea_a2b1_ccb0da9a3a4drow12_col6\" class=\"data row12 col6\" >0.6</td>\n",
       "                        <td id=\"T_cf9db6f2_1501_11ea_a2b1_ccb0da9a3a4drow12_col7\" class=\"data row12 col7\" >-0.5</td>\n",
       "                        <td id=\"T_cf9db6f2_1501_11ea_a2b1_ccb0da9a3a4drow12_col8\" class=\"data row12 col8\" >0.49</td>\n",
       "                        <td id=\"T_cf9db6f2_1501_11ea_a2b1_ccb0da9a3a4drow12_col9\" class=\"data row12 col9\" >0.54</td>\n",
       "                        <td id=\"T_cf9db6f2_1501_11ea_a2b1_ccb0da9a3a4drow12_col10\" class=\"data row12 col10\" >0.37</td>\n",
       "                        <td id=\"T_cf9db6f2_1501_11ea_a2b1_ccb0da9a3a4drow12_col11\" class=\"data row12 col11\" >-0.37</td>\n",
       "                        <td id=\"T_cf9db6f2_1501_11ea_a2b1_ccb0da9a3a4drow12_col12\" class=\"data row12 col12\" >1</td>\n",
       "                        <td id=\"T_cf9db6f2_1501_11ea_a2b1_ccb0da9a3a4drow12_col13\" class=\"data row12 col13\" >-0.74</td>\n",
       "            </tr>\n",
       "            <tr>\n",
       "                        <th id=\"T_cf9db6f2_1501_11ea_a2b1_ccb0da9a3a4dlevel0_row13\" class=\"row_heading level0 row13\" >MEDV</th>\n",
       "                        <td id=\"T_cf9db6f2_1501_11ea_a2b1_ccb0da9a3a4drow13_col0\" class=\"data row13 col0\" >-0.39</td>\n",
       "                        <td id=\"T_cf9db6f2_1501_11ea_a2b1_ccb0da9a3a4drow13_col1\" class=\"data row13 col1\" >0.36</td>\n",
       "                        <td id=\"T_cf9db6f2_1501_11ea_a2b1_ccb0da9a3a4drow13_col2\" class=\"data row13 col2\" >-0.48</td>\n",
       "                        <td id=\"T_cf9db6f2_1501_11ea_a2b1_ccb0da9a3a4drow13_col3\" class=\"data row13 col3\" >0.18</td>\n",
       "                        <td id=\"T_cf9db6f2_1501_11ea_a2b1_ccb0da9a3a4drow13_col4\" class=\"data row13 col4\" >-0.43</td>\n",
       "                        <td id=\"T_cf9db6f2_1501_11ea_a2b1_ccb0da9a3a4drow13_col5\" class=\"data row13 col5\" >0.7</td>\n",
       "                        <td id=\"T_cf9db6f2_1501_11ea_a2b1_ccb0da9a3a4drow13_col6\" class=\"data row13 col6\" >-0.38</td>\n",
       "                        <td id=\"T_cf9db6f2_1501_11ea_a2b1_ccb0da9a3a4drow13_col7\" class=\"data row13 col7\" >0.25</td>\n",
       "                        <td id=\"T_cf9db6f2_1501_11ea_a2b1_ccb0da9a3a4drow13_col8\" class=\"data row13 col8\" >-0.38</td>\n",
       "                        <td id=\"T_cf9db6f2_1501_11ea_a2b1_ccb0da9a3a4drow13_col9\" class=\"data row13 col9\" >-0.47</td>\n",
       "                        <td id=\"T_cf9db6f2_1501_11ea_a2b1_ccb0da9a3a4drow13_col10\" class=\"data row13 col10\" >-0.51</td>\n",
       "                        <td id=\"T_cf9db6f2_1501_11ea_a2b1_ccb0da9a3a4drow13_col11\" class=\"data row13 col11\" >0.33</td>\n",
       "                        <td id=\"T_cf9db6f2_1501_11ea_a2b1_ccb0da9a3a4drow13_col12\" class=\"data row13 col12\" >-0.74</td>\n",
       "                        <td id=\"T_cf9db6f2_1501_11ea_a2b1_ccb0da9a3a4drow13_col13\" class=\"data row13 col13\" >1</td>\n",
       "            </tr>\n",
       "    </tbody></table>"
      ],
      "text/plain": [
       "<pandas.io.formats.style.Styler at 0x7f48d2af14e0>"
      ]
     },
     "execution_count": 3,
     "metadata": {},
     "output_type": "execute_result"
    }
   ],
   "source": [
    "corr = data.corr()\n",
    "corr = corr.round(2)\n",
    "corr.style.background_gradient(cmap='coolwarm')"
   ]
  },
  {
   "cell_type": "markdown",
   "metadata": {},
   "source": [
    "Построим линейную регрессию от отдного параметра, наиболее сильно коррелирующего с ценами - LSTAT (уровень социального статуса населения в данном районе), корреляция с ценой на дом составляет -0.74."
   ]
  },
  {
   "cell_type": "markdown",
   "metadata": {},
   "source": [
    "Сперва разделим отсортируем все значения по LSTAT параметру "
   ]
  },
  {
   "cell_type": "code",
   "execution_count": 4,
   "metadata": {},
   "outputs": [],
   "source": [
    "data.sort_values(by=['LSTAT'], inplace=True)\n",
    "\n",
    "X = data[['CRIM', 'ZN', 'INDUS', 'CHAS', 'NOX', 'RM', 'AGE', 'DIS', 'RAD', 'TAX', 'PTRATIO', 'B', 'LSTAT']]\n",
    "medv = data[['MEDV']]"
   ]
  },
  {
   "cell_type": "markdown",
   "metadata": {},
   "source": [
    "Сперва разделим датасет на тренировочные и тестовые данные (80% на 20%)"
   ]
  },
  {
   "cell_type": "code",
   "execution_count": 5,
   "metadata": {},
   "outputs": [],
   "source": [
    "from sklearn.model_selection import train_test_split\n",
    "\n",
    "X_train, X_test, y_train, y_test = train_test_split(\n",
    "    X,\n",
    "    medv,\n",
    "    test_size = 0.2,\n",
    "    random_state = 42\n",
    ")"
   ]
  },
  {
   "cell_type": "markdown",
   "metadata": {},
   "source": [
    "Из полученных тренировочных и тестовых данных мы используем только один атрибут - LSTAT"
   ]
  },
  {
   "cell_type": "code",
   "execution_count": 6,
   "metadata": {},
   "outputs": [],
   "source": [
    "X_train_lstat = X_train[['LSTAT']]\n",
    "X_test_lstat = X_test[['LSTAT']]"
   ]
  },
  {
   "cell_type": "markdown",
   "metadata": {},
   "source": [
    "Сделаем reshape(-1, 1) как того требует модель"
   ]
  },
  {
   "cell_type": "code",
   "execution_count": 7,
   "metadata": {},
   "outputs": [],
   "source": [
    "X_train_lstat = np.array(X_train_lstat).reshape(-1, 1)\n",
    "X_test_lstat = np.array(X_test_lstat).reshape(-1, 1)\n",
    "y_train = np.array(y_train).reshape(-1, 1)\n",
    "y_test = np.array(y_test).reshape(-1, 1)"
   ]
  },
  {
   "cell_type": "markdown",
   "metadata": {},
   "source": [
    "Подгрузим модель "
   ]
  },
  {
   "cell_type": "code",
   "execution_count": 8,
   "metadata": {},
   "outputs": [],
   "source": [
    "from sklearn.linear_model import LinearRegression\n",
    "model = LinearRegression()"
   ]
  },
  {
   "cell_type": "markdown",
   "metadata": {},
   "source": [
    "Обучим модель"
   ]
  },
  {
   "cell_type": "code",
   "execution_count": 9,
   "metadata": {},
   "outputs": [
    {
     "data": {
      "text/plain": [
       "LinearRegression(copy_X=True, fit_intercept=True, n_jobs=None, normalize=False)"
      ]
     },
     "execution_count": 9,
     "metadata": {},
     "output_type": "execute_result"
    }
   ],
   "source": [
    "model.fit(X_train_lstat, y_train)"
   ]
  },
  {
   "cell_type": "markdown",
   "metadata": {},
   "source": [
    "Посмотрим ошибку модели"
   ]
  },
  {
   "cell_type": "code",
   "execution_count": 10,
   "metadata": {},
   "outputs": [
    {
     "data": {
      "text/plain": [
       "0.6639674323040221"
      ]
     },
     "execution_count": 10,
     "metadata": {},
     "output_type": "execute_result"
    }
   ],
   "source": [
    "model.score(X_test_lstat, y_test)"
   ]
  },
  {
   "cell_type": "markdown",
   "metadata": {},
   "source": [
    "Всего 66% верно предсказанных"
   ]
  },
  {
   "cell_type": "markdown",
   "metadata": {},
   "source": [
    "Построим рисунок"
   ]
  },
  {
   "cell_type": "code",
   "execution_count": 11,
   "metadata": {},
   "outputs": [
    {
     "data": {
      "image/png": "[encoded data removed]",
      "text/plain": [
       "<Figure size 432x288 with 1 Axes>"
      ]
     },
     "metadata": {
      "needs_background": "light"
     },
     "output_type": "display_data"
    }
   ],
   "source": [
    "plt.xlabel('LSTAT')\n",
    "plt.ylabel('MEDV')\n",
    "plt.title('Линейная регрессия')\n",
    "x = np.linspace(min(X_train_lstat), max(X_train_lstat), 100)\n",
    "y = (model.coef_*x + model.intercept_)\n",
    "plt.plot(x,y)\n",
    "plt.plot(X_train_lstat, y_train, 'r.')\n",
    "plt.plot(X_test_lstat, y_test, 'g.')\n",
    "plt.legend(['Линейная регрессия', 'Тренировочные данные', 'Тестовые данные'])\n",
    "plt.show()"
   ]
  },
  {
   "cell_type": "markdown",
   "metadata": {},
   "source": [
    "А теперь попробуем полиномиальную регрессию"
   ]
  },
  {
   "cell_type": "code",
   "execution_count": 12,
   "metadata": {},
   "outputs": [
    {
     "data": {
      "text/plain": [
       "0.7672027582033504"
      ]
     },
     "execution_count": 12,
     "metadata": {},
     "output_type": "execute_result"
    }
   ],
   "source": [
    "from sklearn.preprocessing import PolynomialFeatures\n",
    "\n",
    "poly_reg = PolynomialFeatures(degree=2)\n",
    "\n",
    "X_poly = poly_reg.fit_transform(X_train_lstat)\n",
    "\n",
    "pol_reg = LinearRegression()\n",
    "pol_reg.fit(X_poly, y_train)\n",
    "\n",
    "pol_reg.score(poly_reg.fit_transform(X_test_lstat), y_test)"
   ]
  },
  {
   "cell_type": "markdown",
   "metadata": {},
   "source": [
    "Полиномиальная регрессия степени 2 на 10% лучше"
   ]
  },
  {
   "cell_type": "code",
   "execution_count": 21,
   "metadata": {},
   "outputs": [
    {
     "data": {
      "image/png": "[encoded data removed]",
      "text/plain": [
       "<Figure size 432x288 with 1 Axes>"
      ]
     },
     "metadata": {
      "needs_background": "light"
     },
     "output_type": "display_data"
    }
   ],
   "source": [
    "def viz_polymonial():\n",
    "    plt.scatter(X_train_lstat, y_train, c='red')\n",
    "    plt.scatter(X_test_lstat, y_test, c='green')\n",
    "    x = np.linspace(min(X_test_lstat), max(X_train_lstat), 100)\n",
    "    y = pol_reg.predict(poly_reg.fit_transform(x))\n",
    "    plt.plot(x, y, 'b')\n",
    "    plt.title('Полиномиальная регрессия')\n",
    "    plt.xlabel('LSTAT')\n",
    "    plt.ylabel('MEDV')\n",
    "    plt.legend(['Полиномиальная регрессия', 'Тренировочные данные', 'Тестовые данные'])\n",
    "    plt.show()\n",
    "    return\n",
    "viz_polymonial()"
   ]
  },
  {
   "cell_type": "markdown",
   "metadata": {},
   "source": [
    "А если возьмем степень 4?"
   ]
  },
  {
   "cell_type": "code",
   "execution_count": 22,
   "metadata": {},
   "outputs": [
    {
     "data": {
      "text/plain": [
       "0.7512290128069695"
      ]
     },
     "execution_count": 22,
     "metadata": {},
     "output_type": "execute_result"
    }
   ],
   "source": [
    "poly_reg = PolynomialFeatures(degree=4)\n",
    "\n",
    "X_poly = poly_reg.fit_transform(X_train_lstat)\n",
    "\n",
    "pol_reg = LinearRegression()\n",
    "pol_reg.fit(X_poly, y_train)\n",
    "\n",
    "pol_reg.score(poly_reg.fit_transform(X_test_lstat), y_test)"
   ]
  },
  {
   "cell_type": "markdown",
   "metadata": {},
   "source": [
    "Еще на 10% лучше"
   ]
  },
  {
   "cell_type": "code",
   "execution_count": 23,
   "metadata": {},
   "outputs": [
    {
     "data": {
      "image/png": "[encoded data removed]",
      "text/plain": [
       "<Figure size 432x288 with 1 Axes>"
      ]
     },
     "metadata": {
      "needs_background": "light"
     },
     "output_type": "display_data"
    }
   ],
   "source": [
    "viz_polymonial()"
   ]
  },
  {
   "cell_type": "markdown",
   "metadata": {},
   "source": [
    "# Линейная регрессия от нескольких переменных"
   ]
  },
  {
   "cell_type": "markdown",
   "metadata": {},
   "source": [
    "Допустим, мы решили, что хотим построить регрессию от всех значений. Берем таблицу и используем все колонки в качестве тренировочных данных"
   ]
  },
  {
   "cell_type": "code",
   "execution_count": 24,
   "metadata": {},
   "outputs": [
    {
     "data": {
      "text/html": [
       "<div>\n",
       "<style scoped>\n",
       "    .dataframe tbody tr th:only-of-type {\n",
       "        vertical-align: middle;\n",
       "    }\n",
       "\n",
       "    .dataframe tbody tr th {\n",
       "        vertical-align: top;\n",
       "    }\n",
       "\n",
       "    .dataframe thead th {\n",
       "        text-align: right;\n",
       "    }\n",
       "</style>\n",
       "<table border=\"1\" class=\"dataframe\">\n",
       "  <thead>\n",
       "    <tr style=\"text-align: right;\">\n",
       "      <th></th>\n",
       "      <th>CRIM</th>\n",
       "      <th>ZN</th>\n",
       "      <th>INDUS</th>\n",
       "      <th>CHAS</th>\n",
       "      <th>NOX</th>\n",
       "      <th>RM</th>\n",
       "      <th>AGE</th>\n",
       "      <th>DIS</th>\n",
       "      <th>RAD</th>\n",
       "      <th>TAX</th>\n",
       "      <th>PTRATIO</th>\n",
       "      <th>B</th>\n",
       "      <th>LSTAT</th>\n",
       "    </tr>\n",
       "  </thead>\n",
       "  <tbody>\n",
       "    <tr>\n",
       "      <th>437</th>\n",
       "      <td>15.17720</td>\n",
       "      <td>0.0</td>\n",
       "      <td>18.10</td>\n",
       "      <td>0</td>\n",
       "      <td>0.740</td>\n",
       "      <td>6.152</td>\n",
       "      <td>100.0</td>\n",
       "      <td>1.9142</td>\n",
       "      <td>24</td>\n",
       "      <td>666.0</td>\n",
       "      <td>20.2</td>\n",
       "      <td>9.32</td>\n",
       "      <td>26.45</td>\n",
       "    </tr>\n",
       "    <tr>\n",
       "      <th>283</th>\n",
       "      <td>0.01501</td>\n",
       "      <td>90.0</td>\n",
       "      <td>1.21</td>\n",
       "      <td>1</td>\n",
       "      <td>0.401</td>\n",
       "      <td>7.923</td>\n",
       "      <td>24.8</td>\n",
       "      <td>5.8850</td>\n",
       "      <td>1</td>\n",
       "      <td>198.0</td>\n",
       "      <td>13.6</td>\n",
       "      <td>395.52</td>\n",
       "      <td>3.16</td>\n",
       "    </tr>\n",
       "    <tr>\n",
       "      <th>363</th>\n",
       "      <td>4.22239</td>\n",
       "      <td>0.0</td>\n",
       "      <td>18.10</td>\n",
       "      <td>1</td>\n",
       "      <td>0.770</td>\n",
       "      <td>5.803</td>\n",
       "      <td>89.0</td>\n",
       "      <td>1.9047</td>\n",
       "      <td>24</td>\n",
       "      <td>666.0</td>\n",
       "      <td>20.2</td>\n",
       "      <td>353.04</td>\n",
       "      <td>14.64</td>\n",
       "    </tr>\n",
       "    <tr>\n",
       "      <th>7</th>\n",
       "      <td>0.14455</td>\n",
       "      <td>12.5</td>\n",
       "      <td>7.87</td>\n",
       "      <td>0</td>\n",
       "      <td>0.524</td>\n",
       "      <td>6.172</td>\n",
       "      <td>96.1</td>\n",
       "      <td>5.9505</td>\n",
       "      <td>5</td>\n",
       "      <td>311.0</td>\n",
       "      <td>15.2</td>\n",
       "      <td>396.90</td>\n",
       "      <td>19.15</td>\n",
       "    </tr>\n",
       "    <tr>\n",
       "      <th>274</th>\n",
       "      <td>0.05644</td>\n",
       "      <td>40.0</td>\n",
       "      <td>6.41</td>\n",
       "      <td>1</td>\n",
       "      <td>0.447</td>\n",
       "      <td>6.758</td>\n",
       "      <td>32.9</td>\n",
       "      <td>4.0776</td>\n",
       "      <td>4</td>\n",
       "      <td>254.0</td>\n",
       "      <td>17.6</td>\n",
       "      <td>396.90</td>\n",
       "      <td>3.53</td>\n",
       "    </tr>\n",
       "  </tbody>\n",
       "</table>\n",
       "</div>"
      ],
      "text/plain": [
       "         CRIM    ZN  INDUS  CHAS    NOX     RM    AGE     DIS  RAD    TAX  \\\n",
       "437  15.17720   0.0  18.10     0  0.740  6.152  100.0  1.9142   24  666.0   \n",
       "283   0.01501  90.0   1.21     1  0.401  7.923   24.8  5.8850    1  198.0   \n",
       "363   4.22239   0.0  18.10     1  0.770  5.803   89.0  1.9047   24  666.0   \n",
       "7     0.14455  12.5   7.87     0  0.524  6.172   96.1  5.9505    5  311.0   \n",
       "274   0.05644  40.0   6.41     1  0.447  6.758   32.9  4.0776    4  254.0   \n",
       "\n",
       "     PTRATIO       B  LSTAT  \n",
       "437     20.2    9.32  26.45  \n",
       "283     13.6  395.52   3.16  \n",
       "363     20.2  353.04  14.64  \n",
       "7       15.2  396.90  19.15  \n",
       "274     17.6  396.90   3.53  "
      ]
     },
     "execution_count": 24,
     "metadata": {},
     "output_type": "execute_result"
    }
   ],
   "source": [
    "X_train.head()"
   ]
  },
  {
   "cell_type": "code",
   "execution_count": 25,
   "metadata": {},
   "outputs": [],
   "source": [
    "X_train = np.array(X_train)\n",
    "X_test = np.array(X_test)"
   ]
  },
  {
   "cell_type": "markdown",
   "metadata": {},
   "source": [
    "Построим модель линейной регрессии на всех атрибутах"
   ]
  },
  {
   "cell_type": "code",
   "execution_count": 26,
   "metadata": {},
   "outputs": [
    {
     "data": {
      "text/plain": [
       "0.7849686138338864"
      ]
     },
     "execution_count": 26,
     "metadata": {},
     "output_type": "execute_result"
    }
   ],
   "source": [
    "model = LinearRegression()\n",
    "model.fit(X_train, y_train)\n",
    "model.score(X_test, y_test)"
   ]
  },
  {
   "cell_type": "markdown",
   "metadata": {},
   "source": [
    "на 3% лучше, чем предыдущая линейная регрессия (от одной переменной)"
   ]
  },
  {
   "cell_type": "markdown",
   "metadata": {},
   "source": [
    "Построим полиномиальную модель в зависимости от всех атрибутов"
   ]
  },
  {
   "cell_type": "code",
   "execution_count": 27,
   "metadata": {},
   "outputs": [
    {
     "data": {
      "text/plain": [
       "0.8920399674822721"
      ]
     },
     "execution_count": 27,
     "metadata": {},
     "output_type": "execute_result"
    }
   ],
   "source": [
    "poly_reg = PolynomialFeatures(degree=2)\n",
    "\n",
    "X_poly = poly_reg.fit_transform(X_train)\n",
    "\n",
    "pol_reg = LinearRegression()\n",
    "pol_reg.fit(X_poly, y_train)\n",
    "\n",
    "pol_reg.score(poly_reg.fit_transform(X_test), y_test)"
   ]
  },
  {
   "cell_type": "markdown",
   "metadata": {},
   "source": [
    "89% - это круто. Но возможно, это переобучение. Как проверить? **Кросс-валидация.** Более подробно можно почитать здесь - https://neerc.ifmo.ru/wiki/index.php?title=Кросс-валидация."
   ]
  },
  {
   "cell_type": "code",
   "execution_count": 30,
   "metadata": {},
   "outputs": [],
   "source": [
    "X_train_2, X_test_2, y_train_2, y_test_2 = train_test_split(\n",
    "    X,\n",
    "    medv,\n",
    "    test_size = 0.2,\n",
    "    random_state = 10\n",
    ")"
   ]
  },
  {
   "cell_type": "code",
   "execution_count": 31,
   "metadata": {},
   "outputs": [],
   "source": [
    "X_train_2 = np.array(X_train_2)\n",
    "X_test_2 = np.array(X_test_2)\n",
    "y_train_2 = np.array(y_train_2)\n",
    "y_test_2 = np.array(y_test_2)"
   ]
  },
  {
   "cell_type": "code",
   "execution_count": 32,
   "metadata": {},
   "outputs": [
    {
     "data": {
      "text/plain": [
       "0.6889334759706145"
      ]
     },
     "execution_count": 32,
     "metadata": {},
     "output_type": "execute_result"
    }
   ],
   "source": [
    "poly_reg = PolynomialFeatures(degree=2)\n",
    "\n",
    "X_poly = poly_reg.fit_transform(X_train_2)\n",
    "\n",
    "pol_reg = LinearRegression()\n",
    "pol_reg.fit(X_poly, y_train_2)\n",
    "\n",
    "pol_reg.score(poly_reg.fit_transform(X_test_2), y_test_2)"
   ]
  },
  {
   "cell_type": "markdown",
   "metadata": {},
   "source": [
    "Ну что ж, можно заметить, что во второй раз результат гораздо менее вдохновляющий => **переобучение модели** из-за сложности полинома"
   ]
  },
  {
   "cell_type": "code",
   "execution_count": 33,
   "metadata": {},
   "outputs": [
    {
     "data": {
      "text/plain": [
       "-163.64495211507304"
      ]
     },
     "execution_count": 33,
     "metadata": {},
     "output_type": "execute_result"
    }
   ],
   "source": [
    "poly_reg = PolynomialFeatures(degree=3)\n",
    "\n",
    "X_poly = poly_reg.fit_transform(X_train)\n",
    "\n",
    "pol_reg = LinearRegression()\n",
    "pol_reg.fit(X_poly, y_train)\n",
    "\n",
    "pol_reg.score(poly_reg.fit_transform(X_test), y_test)"
   ]
  },
  {
   "cell_type": "markdown",
   "metadata": {},
   "source": [
    "Действительно, чем сложнее полином, тем хуже работает модель!"
   ]
  },
  {
   "cell_type": "markdown",
   "metadata": {},
   "source": [
    "Значит, иногда сложность модели не гарантирует нам нужный результат!"
   ]
  },
  {
   "cell_type": "markdown",
   "metadata": {},
   "source": [
    "# Логистическая регрессия"
   ]
  },
  {
   "cell_type": "markdown",
   "metadata": {},
   "source": [
    "Загрузим новый датасет, для предсказания болезни человека (сердечная болезнь) - https://www.kaggle.com/ronitf/heart-disease-uci. \n",
    "\n",
    "\n",
    "**Колонки:**\n",
    "> 1. **age**\n",
    "> 2. **sex** \n",
    "> 3. **cp** chest pain type (4 values) \n",
    "> 4. **trestbps** resting blood pressure \n",
    "> 5. **chol** serum cholestoral in mg/dl \n",
    "> 6. **fbs** fasting blood sugar > 120 mg/dl\n",
    "> 7. **restecg** resting electrocardiographic results (values 0,1,2)\n",
    "> 8. **thalach** maximum heart rate achieved \n",
    "> 9. **exang** exercise induced angina \n",
    "> 10. **oldpeak** = ST depression induced by exercise relative to rest.\n",
    "A test that indicates a high probability of coronary artery disease is one in which there is substantial ST depression at low work rate associated with typical angina-like pain and a drop in blood pressure. Deeper and more widespread ST depression generally indicates more severe or extensive disease.\n",
    "> 11. the **slope** of the peak exercise ST segment \n",
    "> 12. **ca** number of major vessels (0-3) colored by flourosopy \n",
    "> 13. **thal**: 3 = normal; 6 = fixed defect; 7 = reversable defect\n",
    "> 14. **target** - ill or not => target == 0 means that there is significant heart disease. A 1 means that there is not.\n"
   ]
  },
  {
   "cell_type": "code",
   "execution_count": 34,
   "metadata": {},
   "outputs": [
    {
     "data": {
      "text/html": [
       "<div>\n",
       "<style scoped>\n",
       "    .dataframe tbody tr th:only-of-type {\n",
       "        vertical-align: middle;\n",
       "    }\n",
       "\n",
       "    .dataframe tbody tr th {\n",
       "        vertical-align: top;\n",
       "    }\n",
       "\n",
       "    .dataframe thead th {\n",
       "        text-align: right;\n",
       "    }\n",
       "</style>\n",
       "<table border=\"1\" class=\"dataframe\">\n",
       "  <thead>\n",
       "    <tr style=\"text-align: right;\">\n",
       "      <th></th>\n",
       "      <th>age</th>\n",
       "      <th>sex</th>\n",
       "      <th>cp</th>\n",
       "      <th>trestbps</th>\n",
       "      <th>chol</th>\n",
       "      <th>fbs</th>\n",
       "      <th>restecg</th>\n",
       "      <th>thalach</th>\n",
       "      <th>exang</th>\n",
       "      <th>oldpeak</th>\n",
       "      <th>slope</th>\n",
       "      <th>ca</th>\n",
       "      <th>thal</th>\n",
       "      <th>target</th>\n",
       "    </tr>\n",
       "  </thead>\n",
       "  <tbody>\n",
       "    <tr>\n",
       "      <th>0</th>\n",
       "      <td>63</td>\n",
       "      <td>1</td>\n",
       "      <td>3</td>\n",
       "      <td>145</td>\n",
       "      <td>233</td>\n",
       "      <td>1</td>\n",
       "      <td>0</td>\n",
       "      <td>150</td>\n",
       "      <td>0</td>\n",
       "      <td>2.3</td>\n",
       "      <td>0</td>\n",
       "      <td>0</td>\n",
       "      <td>1</td>\n",
       "      <td>1</td>\n",
       "    </tr>\n",
       "    <tr>\n",
       "      <th>1</th>\n",
       "      <td>37</td>\n",
       "      <td>1</td>\n",
       "      <td>2</td>\n",
       "      <td>130</td>\n",
       "      <td>250</td>\n",
       "      <td>0</td>\n",
       "      <td>1</td>\n",
       "      <td>187</td>\n",
       "      <td>0</td>\n",
       "      <td>3.5</td>\n",
       "      <td>0</td>\n",
       "      <td>0</td>\n",
       "      <td>2</td>\n",
       "      <td>1</td>\n",
       "    </tr>\n",
       "    <tr>\n",
       "      <th>2</th>\n",
       "      <td>41</td>\n",
       "      <td>0</td>\n",
       "      <td>1</td>\n",
       "      <td>130</td>\n",
       "      <td>204</td>\n",
       "      <td>0</td>\n",
       "      <td>0</td>\n",
       "      <td>172</td>\n",
       "      <td>0</td>\n",
       "      <td>1.4</td>\n",
       "      <td>2</td>\n",
       "      <td>0</td>\n",
       "      <td>2</td>\n",
       "      <td>1</td>\n",
       "    </tr>\n",
       "    <tr>\n",
       "      <th>3</th>\n",
       "      <td>56</td>\n",
       "      <td>1</td>\n",
       "      <td>1</td>\n",
       "      <td>120</td>\n",
       "      <td>236</td>\n",
       "      <td>0</td>\n",
       "      <td>1</td>\n",
       "      <td>178</td>\n",
       "      <td>0</td>\n",
       "      <td>0.8</td>\n",
       "      <td>2</td>\n",
       "      <td>0</td>\n",
       "      <td>2</td>\n",
       "      <td>1</td>\n",
       "    </tr>\n",
       "    <tr>\n",
       "      <th>4</th>\n",
       "      <td>57</td>\n",
       "      <td>0</td>\n",
       "      <td>0</td>\n",
       "      <td>120</td>\n",
       "      <td>354</td>\n",
       "      <td>0</td>\n",
       "      <td>1</td>\n",
       "      <td>163</td>\n",
       "      <td>1</td>\n",
       "      <td>0.6</td>\n",
       "      <td>2</td>\n",
       "      <td>0</td>\n",
       "      <td>2</td>\n",
       "      <td>1</td>\n",
       "    </tr>\n",
       "  </tbody>\n",
       "</table>\n",
       "</div>"
      ],
      "text/plain": [
       "   age  sex  cp  trestbps  chol  fbs  restecg  thalach  exang  oldpeak  slope  \\\n",
       "0   63    1   3       145   233    1        0      150      0      2.3      0   \n",
       "1   37    1   2       130   250    0        1      187      0      3.5      0   \n",
       "2   41    0   1       130   204    0        0      172      0      1.4      2   \n",
       "3   56    1   1       120   236    0        1      178      0      0.8      2   \n",
       "4   57    0   0       120   354    0        1      163      1      0.6      2   \n",
       "\n",
       "   ca  thal  target  \n",
       "0   0     1       1  \n",
       "1   0     2       1  \n",
       "2   0     2       1  \n",
       "3   0     2       1  \n",
       "4   0     2       1  "
      ]
     },
     "execution_count": 34,
     "metadata": {},
     "output_type": "execute_result"
    }
   ],
   "source": [
    "url=\"http://yustiks.ru/dataset/heart.csv\"\n",
    "data=pd.read_csv(url)\n",
    "data.head()"
   ]
  },
  {
   "cell_type": "markdown",
   "metadata": {},
   "source": [
    "Количество собранных показаний пациентов"
   ]
  },
  {
   "cell_type": "code",
   "execution_count": 35,
   "metadata": {},
   "outputs": [
    {
     "data": {
      "text/plain": [
       "303"
      ]
     },
     "execution_count": 35,
     "metadata": {},
     "output_type": "execute_result"
    }
   ],
   "source": [
    "len(data)"
   ]
  },
  {
   "cell_type": "markdown",
   "metadata": {},
   "source": [
    "Ну что ж, у нас есть пациенты, которые болеют сердечной болезнью (0) и не болеют (1). Задача **классификации**"
   ]
  },
  {
   "cell_type": "markdown",
   "metadata": {},
   "source": [
    "Разделим таблицу на предсказываемые и независимые данные"
   ]
  },
  {
   "cell_type": "code",
   "execution_count": 36,
   "metadata": {},
   "outputs": [],
   "source": [
    "X = data.drop('target', axis=1)\n",
    "y = data.target"
   ]
  },
  {
   "cell_type": "markdown",
   "metadata": {},
   "source": [
    "**Логистическая регрессия** - это разновидность множественной регрессии, общее назначение которой состоит в анализе связи между несколькими независимыми переменными (называемыми также регрессорами или предикторами) и зависимой переменной. Бинарная логистическая регрессия применяется, если зависимая переменная является бинарной (т.е. может принимать только два значения). Иными словами, с помощью логистической регрессии можно оценивать вероятность того, что событие наступит для конкретного испытуемого (больной/здоровый, возврат кредита/дефолт и т.д.).\n",
    "\n",
    "Все регрессионные модели могут быть записаны в виде формулы:\n"
   ]
  },
  {
   "cell_type": "markdown",
   "metadata": {},
   "source": [
    "$$y=F(x_{1},x_{2},..x_{n})$$"
   ]
  },
  {
   "cell_type": "markdown",
   "metadata": {},
   "source": [
    "Качество классификационной модели оценивается по таким характеристикам, как **precision** и **recall**. "
   ]
  },
  {
   "cell_type": "markdown",
   "metadata": {},
   "source": [
    "Точность (precision) и полнота (recall) являются метриками которые используются при оценке большей части алгоритмов извлечения информации. Иногда они используются сами по себе, иногда в качестве базиса для производных метрик, таких как F-мера или R-Precision.\n",
    "\n",
    "**Точность системы в пределах класса (precision)** – это доля элементов действительно принадлежащих данному классу относительно всех элементов которые система отнесла к этому классу."
   ]
  },
  {
   "cell_type": "markdown",
   "metadata": {},
   "source": [
    "$$precision = \\frac{tp}{tp+fp}$$"
   ]
  },
  {
   "cell_type": "markdown",
   "metadata": {},
   "source": [
    "**Полнота системы (recall)** – это доля найденных классфикатором элементов принадлежащих классу относительно всех элементов этого класса в тестовой выборке."
   ]
  },
  {
   "cell_type": "markdown",
   "metadata": {},
   "source": [
    "$$recall = \\frac{tp}{tp+fn}$$"
   ]
  },
  {
   "cell_type": "markdown",
   "metadata": {},
   "source": [
    "**recall** соответственно - это отношение верно предсказанных классов к сумме верных предсказаний и неверных противоположных предсказаний. Recall - вероятность того, что модель найдет всех больных в классе о здоровых и больных людях."
   ]
  },
  {
   "cell_type": "markdown",
   "metadata": {},
   "source": [
    "В общем виде это можно проиллюстрировать следующей картинкой:"
   ]
  },
  {
   "cell_type": "markdown",
   "metadata": {},
   "source": [
    "![alt text](https://hsto.org/webt/cu/4l/2w/cu4l2wliuqbqanpptc1y-rq3scu.png)"
   ]
  },
  {
   "cell_type": "markdown",
   "metadata": {},
   "source": [
    "В таблице содержится информация сколько раз система приняла верное и сколько раз неверное решение по документам заданного класса. А именно:\n",
    "\n",
    "*  TP — истино-положительное решение;\n",
    "*  TN — истино-отрицательное решение;\n",
    "*  FP — ложно-положительное решение;\n",
    "*  FN — ложно-отрицательное решение."
   ]
  },
  {
   "cell_type": "code",
   "execution_count": 37,
   "metadata": {},
   "outputs": [],
   "source": [
    "from sklearn.linear_model import LogisticRegression\n",
    "\n",
    "# разделим на тренировочные данные и на тестовые\n",
    "X_train, X_test, y_train, y_test = train_test_split(X, y, test_size=0.25, random_state=27)"
   ]
  },
  {
   "cell_type": "markdown",
   "metadata": {},
   "source": [
    "Обучим логистическую регрессию"
   ]
  },
  {
   "cell_type": "code",
   "execution_count": 38,
   "metadata": {},
   "outputs": [],
   "source": [
    "model = LogisticRegression(solver='liblinear').fit(X_train, y_train)"
   ]
  },
  {
   "cell_type": "markdown",
   "metadata": {},
   "source": [
    "Solver - параметр, в котором указывается, как должна обучаться модель"
   ]
  },
  {
   "cell_type": "markdown",
   "metadata": {},
   "source": [
    "solver : str, {‘newton-cg’, ‘lbfgs’, ‘liblinear’, ‘sag’, ‘saga’}, optional (default=’liblinear’).\n",
    "Algorithm to use in the optimization problem.\n",
    "\n",
    "For small datasets, ‘liblinear’ is a good choice, whereas ‘sag’ and ‘saga’ are faster for large ones.\n",
    "For multiclass problems, only ‘newton-cg’, ‘sag’, ‘saga’ and ‘lbfgs’ handle multinomial loss; ‘liblinear’ is limited to one-versus-rest schemes.\n",
    "‘newton-cg’, ‘lbfgs’, ‘sag’ and ‘saga’ handle L2 or no penalty\n",
    "‘liblinear’ and ‘saga’ also handle L1 penalty\n",
    "‘saga’ also supports ‘elasticnet’ penalty\n",
    "‘liblinear’ does not handle no penalty\n",
    "Note that ‘sag’ and ‘saga’ fast convergence is only guaranteed on features with approximately the same scale. You can preprocess the data with a scaler from sklearn.preprocessing.\n",
    "\n",
    "New in version 0.17: Stochastic Average Gradient descent solver.\n",
    "\n",
    "New in version 0.19: SAGA solver.\n",
    "\n",
    "Changed in version 0.20: Default will change from ‘liblinear’ to ‘lbfgs’ in 0.22."
   ]
  },
  {
   "cell_type": "code",
   "execution_count": 39,
   "metadata": {},
   "outputs": [
    {
     "name": "stdout",
     "output_type": "stream",
     "text": [
      "              precision    recall  f1-score   support\n",
      "\n",
      "           0       0.86      0.89      0.87        35\n",
      "           1       0.90      0.88      0.89        41\n",
      "\n",
      "    accuracy                           0.88        76\n",
      "   macro avg       0.88      0.88      0.88        76\n",
      "weighted avg       0.88      0.88      0.88        76\n",
      "\n"
     ]
    }
   ],
   "source": [
    "from sklearn.metrics import classification_report\n",
    "\n",
    "model_pred = model.predict(X_test)\n",
    "\n",
    "print(classification_report(y_test, model_pred))"
   ]
  },
  {
   "cell_type": "markdown",
   "metadata": {},
   "source": [
    "Хороший результат получился! Но давайте проверим с помощью кросс-валидации"
   ]
  },
  {
   "cell_type": "code",
   "execution_count": 40,
   "metadata": {},
   "outputs": [],
   "source": [
    "# разделим на тренировочные данные и на тестовые\n",
    "X_train, X_test, y_train, y_test = train_test_split(X, y, test_size=0.25, random_state=42)"
   ]
  },
  {
   "cell_type": "code",
   "execution_count": 41,
   "metadata": {},
   "outputs": [
    {
     "name": "stdout",
     "output_type": "stream",
     "text": [
      "              precision    recall  f1-score   support\n",
      "\n",
      "           0       0.88      0.83      0.85        35\n",
      "           1       0.86      0.90      0.88        41\n",
      "\n",
      "    accuracy                           0.87        76\n",
      "   macro avg       0.87      0.87      0.87        76\n",
      "weighted avg       0.87      0.87      0.87        76\n",
      "\n"
     ]
    }
   ],
   "source": [
    "model = LogisticRegression(solver='liblinear').fit(X_train, y_train)\n",
    "model_pred = model.predict(X_test)\n",
    "\n",
    "print(classification_report(y_test, model_pred))"
   ]
  },
  {
   "cell_type": "markdown",
   "metadata": {},
   "source": [
    "Аналогичный результат. Что ж, оставим пока как есть."
   ]
  },
  {
   "cell_type": "markdown",
   "metadata": {},
   "source": [
    "# Проверка статистических гипотез"
   ]
  },
  {
   "cell_type": "markdown",
   "metadata": {},
   "source": [
    "Генеральная совокупность - совокупность всех объектов (единиц), относительно которых учёный намерен делать выводы при изучении конкретной проблемы.\n",
    "\n",
    "Выборка - множество случаев (испытуемых, объектов, событий, образцов), с помощью определённой процедуры выбранных из генеральной совокупности для участия в исследовании."
   ]
  },
  {
   "cell_type": "markdown",
   "metadata": {},
   "source": [
    "**Генеральная совокупность** в данном случае - все пациенты. Их количество - 303."
   ]
  },
  {
   "cell_type": "markdown",
   "metadata": {},
   "source": [
    "Возьмем две колонки из генеральной совокупности:\n",
    "\n",
    "**trestbps** - давление в спокойном состоянии\n",
    "\n",
    "**chol** - уровень холестирина\n",
    "\n",
    "Построим точечный график этих параметров."
   ]
  },
  {
   "cell_type": "code",
   "execution_count": 42,
   "metadata": {},
   "outputs": [
    {
     "data": {
      "image/png": "[encoded data removed]",
      "text/plain": [
       "<Figure size 432x288 with 1 Axes>"
      ]
     },
     "metadata": {
      "needs_background": "light"
     },
     "output_type": "display_data"
    }
   ],
   "source": [
    "trestbps = data['trestbps']\n",
    "chol = data['chol']\n",
    "sns.regplot(x= trestbps, y=chol,data=data, fit_reg=False)\n",
    "plt.xlabel('trestbps')\n",
    "plt.ylabel('chol')\n",
    "plt.title('Точечный график генеральной совокупности')\n",
    "plt.show()"
   ]
  },
  {
   "cell_type": "markdown",
   "metadata": {},
   "source": [
    "Возьмем некую выборку из генеральной совокупности, например, людей, возраст которых меньше 45 лет, и построим точечный график для данной выборки."
   ]
  },
  {
   "cell_type": "code",
   "execution_count": 53,
   "metadata": {},
   "outputs": [
    {
     "data": {
      "image/png": "[encoded data removed]",
      "text/plain": [
       "<Figure size 432x288 with 1 Axes>"
      ]
     },
     "metadata": {
      "needs_background": "light"
     },
     "output_type": "display_data"
    }
   ],
   "source": [
    "trestbps_small = data[data['age']<45]['trestbps']\n",
    "chol_small = data[data['age']<45]['chol']\n",
    "sns.regplot(x= trestbps, y=chol,data=data, fit_reg=True)\n",
    "sns.regplot(x= trestbps_small, y=chol_small,data=data, fit_reg=True)\n",
    "plt.xlabel('trestbps')\n",
    "plt.ylabel('chol')\n",
    "plt.legend(['Генеральная совокупность', 'Выборка'])\n",
    "plt.title('Точечный график для выборочной совокупности')\n",
    "plt.show()"
   ]
  },
  {
   "cell_type": "markdown",
   "metadata": {},
   "source": [
    "По графику можно заметить, что если мы будем рассматривать выборку людей меньше 45 лет, то статистические формулы о генеральной совокупности будут верны, так как выборка более-менее презентативна.\n",
    "\n",
    "Проблема в том, **как** выбрать выборку таким образом, что эта анализ этой выборки позволит сделать выводы о генеральной совокупности. "
   ]
  },
  {
   "cell_type": "markdown",
   "metadata": {},
   "source": [
    "**Шаги проверки статистических гипотез следующие:**\n",
    "\n",
    "*   формулируется основная гипотеза H0 и альтернативная гипотеза H1;\n",
    "*   выбирается статистический критерий, с помощью которого будет проверяться гипотеза;\n",
    "*   задаётся значение уровня значимости α;\n",
    "*   находятся границы области принятия гипотезы;\n",
    "*   делается вывод о принятии или отвержении основной гипотезы H0."
   ]
  },
  {
   "cell_type": "markdown",
   "metadata": {},
   "source": [
    "Возьмем выборку людей, возраст которых меньше 40 лет. Посмотрим точечный график двух параметров: **thalach** - максимальный пульс и **trestbps** - показатель давления в спокойном положении. По графику можно сделать вывод, что эти параметры имеют линейную зависимость."
   ]
  },
  {
   "cell_type": "code",
   "execution_count": 58,
   "metadata": {},
   "outputs": [
    {
     "data": {
      "image/png": "[encoded data removed]",
      "text/plain": [
       "<Figure size 432x288 with 1 Axes>"
      ]
     },
     "metadata": {
      "needs_background": "light"
     },
     "output_type": "display_data"
    }
   ],
   "source": [
    "thalach_small = data[data['age']<=40]['thalach']\n",
    "trestbps_small = data[data['age']<=40]['trestbps']\n",
    "sns.regplot(x= thalach_small, y=trestbps_small,data=data, fit_reg=True)\n",
    "plt.xlabel('thalach')\n",
    "plt.ylabel('trestbps')\n",
    "plt.title('Точечный график для выборочной совокупности')\n",
    "plt.show()"
   ]
  },
  {
   "cell_type": "markdown",
   "metadata": {},
   "source": [
    "В генеральной совокупности можно увидеть, что этой зависимости нет."
   ]
  },
  {
   "cell_type": "code",
   "execution_count": 59,
   "metadata": {},
   "outputs": [
    {
     "data": {
      "image/png": "[encoded data removed]",
      "text/plain": [
       "<Figure size 432x288 with 1 Axes>"
      ]
     },
     "metadata": {
      "needs_background": "light"
     },
     "output_type": "display_data"
    }
   ],
   "source": [
    "thalach = data['thalach']\n",
    "trestbps = data['trestbps']\n",
    "sns.regplot(x= thalach, y=trestbps,data=data, fit_reg=True)\n",
    "sns.regplot(x= thalach_small, y=trestbps_small,data=data, fit_reg=True)\n",
    "plt.xlabel('thalach')\n",
    "plt.ylabel('trestbps')\n",
    "plt.legend(['Генеральная совокупность', 'Выборка'])\n",
    "plt.title('Точечный график генеральной совокупности')\n",
    "plt.show()"
   ]
  },
  {
   "cell_type": "markdown",
   "metadata": {},
   "source": [
    "# Тесты на нормальность"
   ]
  },
  {
   "cell_type": "markdown",
   "metadata": {},
   "source": [
    "**Тест Шапиро-Вилка** проверяет, имеет ли выборка данных распределение Гаусса: https://en.wikipedia.org/wiki/Shapiro%E2%80%93Wilk_test"
   ]
  },
  {
   "cell_type": "markdown",
   "metadata": {},
   "source": [
    "*  Гипотеза H0 - образец имеет нормальное гауссово распределение\n",
    "*  гипотеза H1 - образец не имеет нормальное распределение"
   ]
  },
  {
   "cell_type": "code",
   "execution_count": 62,
   "metadata": {},
   "outputs": [
    {
     "name": "stdout",
     "output_type": "stream",
     "text": [
      "stat=0.976, p=0.000\n",
      "Probably not Gaussian\n"
     ]
    }
   ],
   "source": [
    "# Example of the Shapiro-Wilk Normality Test\n",
    "from scipy.stats import shapiro\n",
    "stat, p = shapiro(data['thalach'])\n",
    "print('stat=%.3f, p=%.3f' % (stat, p))\n",
    "if p > 0.05:\n",
    "    print('Probably Gaussian')\n",
    "else:\n",
    "    print('Probably not Gaussian')"
   ]
  },
  {
   "cell_type": "code",
   "execution_count": 66,
   "metadata": {},
   "outputs": [
    {
     "data": {
      "image/png": "[encoded data removed]",
      "text/plain": [
       "<Figure size 432x288 with 1 Axes>"
      ]
     },
     "metadata": {
      "needs_background": "light"
     },
     "output_type": "display_data"
    }
   ],
   "source": [
    "plt.hist(data['thalach'])\n",
    "plt.show()"
   ]
  },
  {
   "cell_type": "markdown",
   "metadata": {},
   "source": [
    "Действительно, непохоже на нормальное."
   ]
  },
  {
   "cell_type": "markdown",
   "metadata": {},
   "source": [
    "# P-value или статистическая значимость"
   ]
  },
  {
   "cell_type": "markdown",
   "metadata": {},
   "source": [
    "P-значение, или значение вероятности, это статистическая величина, выраженная числом от 0 до 1, которая используется для проверки гипотезы. В клинических испытаниях данная величина применяется для определения, является ли полученный в клинических испытаниях результат случайным.\n",
    "\n",
    "До начала сбора данных необходимо определить уровень значимости, который обычно равен 5 % (или 0,05), хотя в зависимости от исследования может быть выбран и другой показатель.\n",
    "\n",
    "**Статистически значимым** (и позволяющим отвергнуть нулевую гипотезу)при этом считается результат, р-значение которого равно уровню значимости или меньше его. Это, как правило, обозначается следующим образом: p ≤ 0,05.\n",
    "\n",
    " При **небольшом p-значении** маловероятна случайность результатов, что дает основание **отвергнуть нулевую гипотезу**. При **большом p-значении** наблюдаемая разница может быть результатом случайности, и **предположение о нулевой гипотезе не может быть отвергнуто**."
   ]
  },
  {
   "cell_type": "markdown",
   "metadata": {},
   "source": [
    "# Тест д'Агостино на K ^ 2"
   ]
  },
  {
   "cell_type": "markdown",
   "metadata": {},
   "source": [
    "Проверяет, является ли выборка нормальной. \n",
    "\n",
    "* гипотеза H0 - выборка является нормальной\n",
    "* гипотеза H1 - выборка не является нормальной"
   ]
  },
  {
   "cell_type": "code",
   "execution_count": 64,
   "metadata": {},
   "outputs": [
    {
     "name": "stdout",
     "output_type": "stream",
     "text": [
      "stat=28.568, p=0.000\n",
      "Probably not Gaussian\n"
     ]
    }
   ],
   "source": [
    "# Example of the D'Agostino's K^2 Normality Test\n",
    "from scipy.stats import normaltest\n",
    "stat, p = normaltest( data['trestbps'])\n",
    "print('stat=%.3f, p=%.3f' % (stat, p))\n",
    "if p > 0.05:\n",
    "    print('Probably Gaussian')\n",
    "else:\n",
    "    print('Probably not Gaussian')"
   ]
  },
  {
   "cell_type": "code",
   "execution_count": 65,
   "metadata": {},
   "outputs": [
    {
     "data": {
      "image/png": "[encoded data removed]",
      "text/plain": [
       "<Figure size 432x288 with 1 Axes>"
      ]
     },
     "metadata": {
      "needs_background": "light"
     },
     "output_type": "display_data"
    }
   ],
   "source": [
    "plt.hist( data['trestbps'])\n",
    "plt.show()"
   ]
  },
  {
   "cell_type": "markdown",
   "metadata": {},
   "source": [
    "Действительно, непохоже на нормальное."
   ]
  },
  {
   "cell_type": "markdown",
   "metadata": {},
   "source": [
    "# Тест Андерсона-Дарлинга"
   ]
  },
  {
   "cell_type": "markdown",
   "metadata": {},
   "source": [
    "Проверяет, является ли выборка нормальной. \n",
    "\n",
    "* гипотеза H0 - выборка является нормальной\n",
    "* гипотеза H1 - выборка не является нормальной"
   ]
  },
  {
   "cell_type": "code",
   "execution_count": 67,
   "metadata": {},
   "outputs": [
    {
     "name": "stdout",
     "output_type": "stream",
     "text": [
      "stat=1.726\n",
      "Probably not Gaussian at the 15.0% level\n",
      "Probably not Gaussian at the 10.0% level\n",
      "Probably not Gaussian at the 5.0% level\n",
      "Probably not Gaussian at the 2.5% level\n",
      "Probably not Gaussian at the 1.0% level\n"
     ]
    }
   ],
   "source": [
    "# Example of the Anderson-Darling Normality Test\n",
    "from scipy.stats import anderson\n",
    "result = anderson(data['chol'])\n",
    "print('stat=%.3f' % (result.statistic))\n",
    "for i in range(len(result.critical_values)):\n",
    "    sl, cv = result.significance_level[i], result.critical_values[i]\n",
    "    if result.statistic < cv:\n",
    "        print('Probably Gaussian at the %.1f%% level' % (sl))\n",
    "    else:\n",
    "        print('Probably not Gaussian at the %.1f%% level' % (sl))"
   ]
  },
  {
   "cell_type": "markdown",
   "metadata": {},
   "source": [
    "# Корреляционные тесты"
   ]
  },
  {
   "cell_type": "markdown",
   "metadata": {},
   "source": [
    "В этом разделе перечислены статистические тесты, которые вы можете использовать, чтобы проверить, связаны ли две выборки."
   ]
  },
  {
   "cell_type": "markdown",
   "metadata": {},
   "source": [
    "Коэффициент корреляции Пирсона - рассмотрен в предыдущих лекциях"
   ]
  },
  {
   "cell_type": "markdown",
   "metadata": {},
   "source": [
    "# Ранговая корреляция Спирмена"
   ]
  },
  {
   "cell_type": "markdown",
   "metadata": {},
   "source": [
    "Проверяет, имеют ли два образца монотонные отношения.\n",
    "\n",
    "*  H0: два образца независимы\n",
    "*  H1: существует зависимость между образцами."
   ]
  },
  {
   "cell_type": "code",
   "execution_count": 68,
   "metadata": {},
   "outputs": [
    {
     "name": "stdout",
     "output_type": "stream",
     "text": [
      "stat=-0.047, p=0.417\n",
      "Probably independent\n"
     ]
    }
   ],
   "source": [
    "# Example of the Spearman's Rank Correlation Test\n",
    "from scipy.stats import spearmanr\n",
    "\n",
    "stat, p = spearmanr(data['chol'], data['thalach'])\n",
    "print('stat=%.3f, p=%.3f' % (stat, p))\n",
    "if p > 0.05:\n",
    "    print('Probably independent')\n",
    "else:\n",
    "    print('Probably dependent')"
   ]
  },
  {
   "cell_type": "markdown",
   "metadata": {},
   "source": [
    "# Ранговая корреляция Кендалла"
   ]
  },
  {
   "cell_type": "code",
   "execution_count": 71,
   "metadata": {},
   "outputs": [
    {
     "name": "stdout",
     "output_type": "stream",
     "text": [
      "stat=0.086, p=0.029\n",
      "Probably dependent\n"
     ]
    }
   ],
   "source": [
    "# Example of the Kendall's Rank Correlation Test\n",
    "from scipy.stats import kendalltau\n",
    "stat, p = kendalltau(data['trestbps'], data['chol'])\n",
    "print('stat=%.3f, p=%.3f' % (stat, p))\n",
    "if p > 0.05:\n",
    "    print('Probably independent')\n",
    "else:\n",
    "    print('Probably dependent')"
   ]
  },
  {
   "cell_type": "code",
   "execution_count": 73,
   "metadata": {},
   "outputs": [
    {
     "data": {
      "image/png": "[encoded data removed]",
      "text/plain": [
       "<Figure size 432x288 with 1 Axes>"
      ]
     },
     "metadata": {
      "needs_background": "light"
     },
     "output_type": "display_data"
    }
   ],
   "source": [
    "plt.plot(data['trestbps'], data['chol'], 'r.')\n",
    "plt.xlabel('trestbps')\n",
    "plt.ylabel('chol')\n",
    "plt.show()"
   ]
  },
  {
   "cell_type": "markdown",
   "metadata": {},
   "source": [
    "#  Тест хи-квадрат\n",
    "\n",
    "Проверяет, являются ли две категориальные переменные связанными или независимыми."
   ]
  },
  {
   "cell_type": "markdown",
   "metadata": {},
   "source": [
    "*   H0: два образца независимы.\n",
    "*   H1: существует зависимость между образцами."
   ]
  },
  {
   "cell_type": "code",
   "execution_count": 89,
   "metadata": {},
   "outputs": [
    {
     "name": "stdout",
     "output_type": "stream",
     "text": [
      "stat=255.929, p=0.969\n",
      "Probably independent\n"
     ]
    }
   ],
   "source": [
    "# Example of the Chi-Squared Test\n",
    "from scipy.stats import chi2_contingency\n",
    "table = data[data['cp']!=0]\n",
    "table = data[data['thal']!=0]\n",
    "\n",
    "stat, p, dof, expected = chi2_contingency(table[['cp', 'thal']])\n",
    "print('stat=%.3f, p=%.3f' % (stat, p))\n",
    "if p > 0.05:\n",
    "    print('Probably independent')\n",
    "else:\n",
    "    print('Probably dependent')"
   ]
  },
  {
   "cell_type": "markdown",
   "metadata": {},
   "source": []
  },
  {
   "cell_type": "markdown",
   "metadata": {},
   "source": [
    "# **AB - тестирование**"
   ]
  },
  {
   "cell_type": "markdown",
   "metadata": {},
   "source": [
    "# Проверка гипотезы t-критерия Стьюдента"
   ]
  },
  {
   "cell_type": "markdown",
   "metadata": {},
   "source": [
    "Рассмотрим две выборки $X$ и $Y$, и мы хотим сравнить их средние значения $\\mu_x$ и $\\mu_y$\n",
    "\n",
    "Тогда рассматривается нулевая гипотеза о том, что выборочные средние значения равны:\n",
    "$$\n",
    "H_0: \\mu_x = \\mu_y\n",
    "$$\n",
    "и альтернативная о том, что выборочные средние не равны:\n",
    "\n",
    "$$\n",
    "H_1: \\mu_x \\ne \\mu_y.\n",
    "$$"
   ]
  },
  {
   "cell_type": "markdown",
   "metadata": {},
   "source": [
    " Тест измеряет насколько среднеквадратичное значение меняется среди выборок. Если мы получаем высокое p-value, например, выше 0.05 или 0.1, тогда мы не можем отвергнуть нулевую гипотезу о том, что среднее значения идентичны. Если p-value меньше, чем 1% (или 5%), то мы отвергаем нулевую гипотезу."
   ]
  },
  {
   "cell_type": "markdown",
   "metadata": {},
   "source": [
    "# Одновыборочный t-критерий"
   ]
  },
  {
   "cell_type": "markdown",
   "metadata": {},
   "source": [
    "T-test используют для определения, насколько среднее исследуемой даты статистически отличается от среднего значения генеральной совокупности. Вычисляется по формуле."
   ]
  },
  {
   "cell_type": "markdown",
   "metadata": {},
   "source": [
    "$$t = \\frac{\\overline X - m}{s_X / \\sqrt{n}}$$"
   ]
  },
  {
   "cell_type": "markdown",
   "metadata": {},
   "source": [
    "Где ${\\overline X}$ - выборочное среднее, m - среднее совокупности, ${S_{X}}$ - выборочная дисперсия."
   ]
  },
  {
   "cell_type": "markdown",
   "metadata": {},
   "source": [
    "Возьмем выборку женщин по параметру \"trestbps\" или уровень давления в состоянии спокойствия."
   ]
  },
  {
   "cell_type": "code",
   "execution_count": 54,
   "metadata": {},
   "outputs": [
    {
     "data": {
      "text/plain": [
       "Ttest_1sampResult(statistic=0.7405483189915916, pvalue=0.4607937727598822)"
      ]
     },
     "execution_count": 54,
     "metadata": {},
     "output_type": "execute_result"
    }
   ],
   "source": [
    "female_bps = data[data['sex']==0]['trestbps']\n",
    "stats.ttest_1samp(female_bps, data['trestbps'].mean())"
   ]
  },
  {
   "cell_type": "markdown",
   "metadata": {},
   "source": [
    "*T*-значение 0.71, и в одновыборочном критерии мы оцениваем p-value.\n",
    "\n",
    "p-value равно 0.46, что намного больше стандартной альфа ошибки 0.05, поэтому мы принимаем нулевую гипотезу и можем сказать, что не имеется статистическое различие между давлением женщин и генеральной совокупности в целом. "
   ]
  },
  {
   "cell_type": "markdown",
   "metadata": {},
   "source": [
    "Если мы построим график вероятности выборки и генеральной совокупности, то можно убедиться, что это действительно так."
   ]
  },
  {
   "cell_type": "code",
   "execution_count": 201,
   "metadata": {},
   "outputs": [
    {
     "data": {
      "image/png": "[encoded data removed]",
      "text/plain": [
       "<Figure size 432x288 with 1 Axes>"
      ]
     },
     "metadata": {
      "needs_background": "light"
     },
     "output_type": "display_data"
    }
   ],
   "source": [
    "f_trestbps = data[data['sex']==0]['trestbps']\n",
    "trestbps = data['trestbps']\n",
    "sns.distplot(f_trestbps)\n",
    "sns.distplot(trestbps)\n",
    "plt.title('Плотность вероятности распределения trestbps')\n",
    "plt.legend(['женщины', 'все'])\n",
    "plt.show()"
   ]
  },
  {
   "cell_type": "code",
   "execution_count": 202,
   "metadata": {},
   "outputs": [
    {
     "name": "stdout",
     "output_type": "stream",
     "text": [
      "Количество женщин всего:  96\n"
     ]
    }
   ],
   "source": [
    "print('Количество женщин всего: ', len(f_trestbps))"
   ]
  },
  {
   "cell_type": "markdown",
   "metadata": {},
   "source": [
    "# Двухвыборочный t-критерий для независимых выборок"
   ]
  },
  {
   "cell_type": "markdown",
   "metadata": {},
   "source": [
    "t-значение - это вероятность того, что различия между выборками также означают разные значения в выборках. Чем выше t, тем более различны группы между собой. Чем меньше t, тем более похожи группы и результаты повторятся."
   ]
  },
  {
   "cell_type": "markdown",
   "metadata": {},
   "source": [
    "$$t = \\frac{\\overline X_1 - \\overline X_2}{\\sqrt{\\frac{s_1^2}{n_1}+\\frac{s_2^2}{n_2}}}$$"
   ]
  },
  {
   "cell_type": "markdown",
   "metadata": {},
   "source": [
    "Сравним давление женщин и мужчин."
   ]
  },
  {
   "cell_type": "code",
   "execution_count": 203,
   "metadata": {},
   "outputs": [
    {
     "data": {
      "text/plain": [
       "Ttest_indResult(statistic=0.9864931536208362, pvalue=0.3246834797221042)"
      ]
     },
     "execution_count": 203,
     "metadata": {},
     "output_type": "execute_result"
    }
   ],
   "source": [
    "female_bps = data[data['sex']==0]['trestbps']\n",
    "\n",
    "male_bps = data[data['sex']==1]['trestbps']\n",
    "\n",
    "stats.ttest_ind(female_bps, male_bps)"
   ]
  },
  {
   "cell_type": "markdown",
   "metadata": {},
   "source": [
    "T-значение 0.98, p-value равно 0.32, что намного больше стандартной альфа ошибки 0.05, поэтому мы принимаем нулевую гипотезу и можем сказать, что не имеется статистическое различие между давлением женщин и мужчин в целом."
   ]
  },
  {
   "cell_type": "code",
   "execution_count": 204,
   "metadata": {},
   "outputs": [
    {
     "data": {
      "image/png": "[encoded data removed]",
      "text/plain": [
       "<Figure size 432x288 with 1 Axes>"
      ]
     },
     "metadata": {
      "needs_background": "light"
     },
     "output_type": "display_data"
    }
   ],
   "source": [
    "sns.distplot(female_bps)\n",
    "sns.distplot(male_bps)\n",
    "plt.title('Плотность вероятности распределения trestbps')\n",
    "plt.legend(['женщины', 'мужчины'])\n",
    "plt.show()"
   ]
  },
  {
   "cell_type": "markdown",
   "metadata": {},
   "source": [
    "Сравним показатели давления больных и здоровых людей"
   ]
  },
  {
   "cell_type": "code",
   "execution_count": 205,
   "metadata": {},
   "outputs": [
    {
     "data": {
      "text/plain": [
       "Ttest_indResult(statistic=2.5412927171039, pvalue=0.011546059200233312)"
      ]
     },
     "execution_count": 205,
     "metadata": {},
     "output_type": "execute_result"
    }
   ],
   "source": [
    "healthy_bps = data[data['target']==0]['trestbps']\n",
    "\n",
    "ill_bps = data[data['target']==1]['trestbps']\n",
    "\n",
    "stats.ttest_ind(healthy_bps, ill_bps)"
   ]
  },
  {
   "cell_type": "markdown",
   "metadata": {},
   "source": [
    "t-value равно 2,5 и p-value меньше 0.05, значит, группы статистически отличаются (понятно почему - у сердечников другие показатели давления)"
   ]
  },
  {
   "cell_type": "code",
   "execution_count": 206,
   "metadata": {},
   "outputs": [
    {
     "data": {
      "image/png": "[encoded data removed]",
      "text/plain": [
       "<Figure size 432x288 with 1 Axes>"
      ]
     },
     "metadata": {
      "needs_background": "light"
     },
     "output_type": "display_data"
    }
   ],
   "source": [
    "sns.distplot(healthy_bps)\n",
    "sns.distplot(ill_bps)\n",
    "plt.title('Плотность вероятности распределения trestbps')\n",
    "plt.legend(['здоровый', 'больные'])\n",
    "plt.show()"
   ]
  },
  {
   "cell_type": "markdown",
   "metadata": {},
   "source": [
    "Сравним две группы людей (больных и здоровых) по показателям oldpeak (тест, который указывает на высокую вероятность заболевания коронарной артерии, - это тест, в котором наблюдается значительная депрессия ST при низкой частоте работы, связанная с типичной стенообразной болью и снижением артериального давления). Так как здоровые показатели очевидно отличаются от больных, посмотрим статистические показатели."
   ]
  },
  {
   "cell_type": "code",
   "execution_count": 207,
   "metadata": {},
   "outputs": [
    {
     "data": {
      "text/plain": [
       "Ttest_indResult(statistic=8.279579663866224, pvalue=4.085346391354538e-15)"
      ]
     },
     "execution_count": 207,
     "metadata": {},
     "output_type": "execute_result"
    }
   ],
   "source": [
    "healthy_oldpeak = data[data['target']==0]['oldpeak']\n",
    "\n",
    "ill_oldpeak = data[data['target']==1]['oldpeak']\n",
    "\n",
    "stats.ttest_ind(healthy_oldpeak, ill_oldpeak)"
   ]
  },
  {
   "cell_type": "markdown",
   "metadata": {},
   "source": [
    "Высокий показатель t-value=8.2 и низкий показатель p-value=0 говорит о том, что группы статистически значимы."
   ]
  },
  {
   "cell_type": "markdown",
   "metadata": {},
   "source": [
    "# Парный t-тест"
   ]
  },
  {
   "cell_type": "markdown",
   "metadata": {},
   "source": [
    "Как пример AB-тестирования. Если в предыдущих примерах выборки не зависели между собой, то в парном t-тесте выборка одна и та же, но разные условия тестирования. Вычисляется по формуле $$t=\\frac{\\overline{d}}{\\frac{s}{\\sqrt{n}}}$$ где ${\\overline{d}}$ - среднее отличие между элементами.\n",
    "\n",
    "Допустим, есть показатели того, как долго спят пациенты до приема таблеток и после приема таблеток. Нужно оценить похожесть выборок. "
   ]
  },
  {
   "cell_type": "code",
   "execution_count": 208,
   "metadata": {},
   "outputs": [
    {
     "data": {
      "text/plain": [
       "Ttest_relResult(statistic=-3.6244859951782136, pvalue=0.0055329408161001415)"
      ]
     },
     "execution_count": 208,
     "metadata": {},
     "output_type": "execute_result"
    }
   ],
   "source": [
    "control = [8.0, 7.1, 6.5, 6.7, 7.2, 5.4, 4.7, 8.1, 6.3, 4.8]\n",
    "treatment = [9.9, 7.9, 7.6, 6.8, 7.1, 9.9, 10.5, 9.7, 10.9, 8.2]\n",
    "\n",
    "stats.ttest_rel(control, treatment)"
   ]
  },
  {
   "cell_type": "markdown",
   "metadata": {},
   "source": [
    "t-значение -3.624, p-value 0.0055, что меньше чем 0.05 or 0.01, поэтому мы отвергаем нулевую гипотезу и мы можем сказать, что есть статистически значимая разница между тем, как спят пациенты до приема таблеток и после."
   ]
  },
  {
   "cell_type": "markdown",
   "metadata": {},
   "source": [
    "# Множественный тест (ANOVA)"
   ]
  },
  {
   "cell_type": "markdown",
   "metadata": {},
   "source": [
    "Если мы хотим оценить не две группы, а три и более, нужно использовать множественное тестирование. "
   ]
  },
  {
   "cell_type": "markdown",
   "metadata": {},
   "source": [
    "Возьмем таблицу 3 группы из колонки restecg (resting electrocardiographic results (0 = normal; 1 = having ST-T; 2 = hypertrophy)). Сравним их на наличие болезней"
   ]
  },
  {
   "cell_type": "code",
   "execution_count": 209,
   "metadata": {},
   "outputs": [
    {
     "data": {
      "text/plain": [
       "F_onewayResult(statistic=5.131680093569876, pvalue=0.0064359766834508085)"
      ]
     },
     "execution_count": 209,
     "metadata": {},
     "output_type": "execute_result"
    }
   ],
   "source": [
    "restecg_0 = data[data['restecg']==0]['target']\n",
    "\n",
    "restecg_1 = data[data['restecg']==1]['target']\n",
    "\n",
    "restecg_2 = data[data['restecg']==2]['target']\n",
    "\n",
    "stats.f_oneway(restecg_0, restecg_1, restecg_2)"
   ]
  },
  {
   "cell_type": "markdown",
   "metadata": {},
   "source": [
    "Так как результат p-value меньше 0.05, то мы отвергаем нулевую гипотезу о том, что нет различий у групп с разным типом показателей ЭКГ."
   ]
  },
  {
   "cell_type": "markdown",
   "metadata": {},
   "source": [
    "# Критерий Манна-Уитни"
   ]
  },
  {
   "cell_type": "markdown",
   "metadata": {},
   "source": [
    "Если данные не распределены нормально, нужен критерий Манна-Уитни, также известный как Критерий Уилкоксона. Данные представляют финансовые результаты двух разных интернет-магазинов схожей тематики."
   ]
  },
  {
   "cell_type": "code",
   "execution_count": 210,
   "metadata": {},
   "outputs": [
    {
     "name": "stdout",
     "output_type": "stream",
     "text": [
      "Ttest_indResult(statistic=4.683215290130369, pvalue=0.00016194333739811412)\n"
     ]
    }
   ],
   "source": [
    "a = [742,148,423,424,122,432,-1,232,243,332,213]\n",
    "b = [-1,3,4,2,1,3,2,4,1,2]\n",
    "print (stats.ttest_ind(a,b))"
   ]
  },
  {
   "cell_type": "code",
   "execution_count": 211,
   "metadata": {},
   "outputs": [
    {
     "name": "stdout",
     "output_type": "stream",
     "text": [
      "two-sample wilcoxon-test 0.0007438622219910575\n"
     ]
    }
   ],
   "source": [
    "u, p_value = stats.mannwhitneyu(a, b)\n",
    "print(\"two-sample wilcoxon-test\", p_value)"
   ]
  },
  {
   "cell_type": "markdown",
   "metadata": {},
   "source": [
    "Критерий Манна-Уитни дает больше информации о различии выборок."
   ]
  },
  {
   "cell_type": "markdown",
   "metadata": {},
   "source": [
    "# Критерий Фишера"
   ]
  },
  {
   "cell_type": "markdown",
   "metadata": {},
   "source": [
    "Допустим, мы посчитали количество китов и акул в Атлантическом и Индийском океанах. В Атлантическом мы нашли 8 китов и 1 акулу, в Индийском океане 2 кита и 5 акул. Таблица выглядит как:\n",
    "\n",
    "|  | Атлантический | Индийский |\n",
    "| --- | --- | --- |\n",
    "| киты | 8 | 2 |\n",
    "| акулы | 1 | 5 |\n"
   ]
  },
  {
   "cell_type": "markdown",
   "metadata": {},
   "source": [
    "Мы используем эту таблицу чтобы найти p-value"
   ]
  },
  {
   "cell_type": "code",
   "execution_count": 212,
   "metadata": {},
   "outputs": [
    {
     "data": {
      "text/plain": [
       "0.03496503496503495"
      ]
     },
     "execution_count": 212,
     "metadata": {},
     "output_type": "execute_result"
    }
   ],
   "source": [
    "import scipy.stats as stats\n",
    "oddsratio, pvalue = stats.fisher_exact([[8, 2], [1, 5]])\n",
    "pvalue"
   ]
  },
  {
   "cell_type": "markdown",
   "metadata": {},
   "source": [
    "P-value примерно равно 3.5%. Обычно пороговый уровень значимости примерно 5% - если мы используем данный порог, то можно сделать вывод, что рассматриваемая выборка имеет **статистическую значимость** (группы различны): киты предпочитают Атлантический океан, а акулы предпочитают Индийский океан"
   ]
  },
  {
   "cell_type": "markdown",
   "metadata": {},
   "source": [
    "# Другие методы тестирования"
   ]
  },
  {
   "cell_type": "markdown",
   "metadata": {},
   "source": [
    "https://en.wikipedia.org/wiki/A/B_testing - примеры других критериев"
   ]
  },
  {
   "cell_type": "code",
   "execution_count": null,
   "metadata": {},
   "outputs": [],
   "source": []
  }
 ],
 "metadata": {
  "kernelspec": {
   "display_name": "venv",
   "language": "python",
   "name": "venv"
  },
  "language_info": {
   "codemirror_mode": {
    "name": "ipython",
    "version": 3
   },
   "file_extension": ".py",
   "mimetype": "text/x-python",
   "name": "python",
   "nbconvert_exporter": "python",
   "pygments_lexer": "ipython3",
   "version": "3.6.8"
  }
 },
 "nbformat": 4,
 "nbformat_minor": 2
}
