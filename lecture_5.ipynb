{
  "nbformat": 4,
  "nbformat_minor": 0,
  "metadata": {
    "colab": {
      "name": "lecture_5.ipynb",
      "provenance": [],
      "include_colab_link": true
    },
    "kernelspec": {
      "name": "python3",
      "display_name": "Python 3"
    }
  },
  "cells": [
    {
      "cell_type": "markdown",
      "metadata": {
        "id": "view-in-github",
        "colab_type": "text"
      },
      "source": [
        "<a href=\"https://colab.research.google.com/github/yustinaivanova/netology_statistics/blob/master/lecture_5.ipynb\" target=\"_parent\"><img src=\"https://colab.research.google.com/assets/colab-badge.svg\" alt=\"Open In Colab\"/></a>"
      ]
    },
    {
      "cell_type": "markdown",
      "metadata": {
        "id": "qB1egUSX0gH-",
        "colab_type": "text"
      },
      "source": [
        "# Кейс-стади -2. "
      ]
    },
    {
      "cell_type": "markdown",
      "metadata": {
        "id": "-u8Eoal81fTR",
        "colab_type": "text"
      },
      "source": [
        "Соревнования из kaggel: **Students Performance in Exams**: предсказание, насколько хорошо сдадут экзамены студенты. \n",
        "https://www.kaggle.com/spscientist/students-performance-in-exams"
      ]
    },
    {
      "cell_type": "code",
      "metadata": {
        "id": "01apPJT-zhCm",
        "colab_type": "code",
        "colab": {}
      },
      "source": [
        "import numpy as np\n",
        "from scipy.stats import t\n",
        "from scipy.stats import norm\n",
        "import matplotlib.pyplot as plt\n",
        "from scipy import stats\n",
        "import pandas as pd\n",
        "import io\n",
        "import requests\n",
        "import seaborn as sns\n",
        "sns.set_style('darkgrid')\n",
        "from scipy.stats import pearsonr\n",
        "%matplotlib inline"
      ],
      "execution_count": 0,
      "outputs": []
    },
    {
      "cell_type": "markdown",
      "metadata": {
        "id": "WxWwzshz1wLz",
        "colab_type": "text"
      },
      "source": [
        "Загружаем данные "
      ]
    },
    {
      "cell_type": "code",
      "metadata": {
        "id": "spwTXrU01Tih",
        "colab_type": "code",
        "outputId": "2d861a2c-18af-4092-a6be-699e9ab87b66",
        "colab": {
          "base_uri": "https://localhost:8080/",
          "height": 204
        }
      },
      "source": [
        "url='http://yustiks.ru/StudentsPerformance.csv'\n",
        "s=requests.get(url).content\n",
        "data=pd.read_csv(io.StringIO(s.decode('utf-8')))\n",
        "data.head()"
      ],
      "execution_count": 2,
      "outputs": [
        {
          "output_type": "execute_result",
          "data": {
            "text/html": [
              "<div>\n",
              "<style scoped>\n",
              "    .dataframe tbody tr th:only-of-type {\n",
              "        vertical-align: middle;\n",
              "    }\n",
              "\n",
              "    .dataframe tbody tr th {\n",
              "        vertical-align: top;\n",
              "    }\n",
              "\n",
              "    .dataframe thead th {\n",
              "        text-align: right;\n",
              "    }\n",
              "</style>\n",
              "<table border=\"1\" class=\"dataframe\">\n",
              "  <thead>\n",
              "    <tr style=\"text-align: right;\">\n",
              "      <th></th>\n",
              "      <th>gender</th>\n",
              "      <th>race/ethnicity</th>\n",
              "      <th>parental level of education</th>\n",
              "      <th>lunch</th>\n",
              "      <th>test preparation course</th>\n",
              "      <th>math score</th>\n",
              "      <th>reading score</th>\n",
              "      <th>writing score</th>\n",
              "    </tr>\n",
              "  </thead>\n",
              "  <tbody>\n",
              "    <tr>\n",
              "      <th>0</th>\n",
              "      <td>female</td>\n",
              "      <td>group B</td>\n",
              "      <td>bachelor's degree</td>\n",
              "      <td>standard</td>\n",
              "      <td>none</td>\n",
              "      <td>72</td>\n",
              "      <td>72</td>\n",
              "      <td>74</td>\n",
              "    </tr>\n",
              "    <tr>\n",
              "      <th>1</th>\n",
              "      <td>female</td>\n",
              "      <td>group C</td>\n",
              "      <td>some college</td>\n",
              "      <td>standard</td>\n",
              "      <td>completed</td>\n",
              "      <td>69</td>\n",
              "      <td>90</td>\n",
              "      <td>88</td>\n",
              "    </tr>\n",
              "    <tr>\n",
              "      <th>2</th>\n",
              "      <td>female</td>\n",
              "      <td>group B</td>\n",
              "      <td>master's degree</td>\n",
              "      <td>standard</td>\n",
              "      <td>none</td>\n",
              "      <td>90</td>\n",
              "      <td>95</td>\n",
              "      <td>93</td>\n",
              "    </tr>\n",
              "    <tr>\n",
              "      <th>3</th>\n",
              "      <td>male</td>\n",
              "      <td>group A</td>\n",
              "      <td>associate's degree</td>\n",
              "      <td>free/reduced</td>\n",
              "      <td>none</td>\n",
              "      <td>47</td>\n",
              "      <td>57</td>\n",
              "      <td>44</td>\n",
              "    </tr>\n",
              "    <tr>\n",
              "      <th>4</th>\n",
              "      <td>male</td>\n",
              "      <td>group C</td>\n",
              "      <td>some college</td>\n",
              "      <td>standard</td>\n",
              "      <td>none</td>\n",
              "      <td>76</td>\n",
              "      <td>78</td>\n",
              "      <td>75</td>\n",
              "    </tr>\n",
              "  </tbody>\n",
              "</table>\n",
              "</div>"
            ],
            "text/plain": [
              "   gender race/ethnicity  ... reading score writing score\n",
              "0  female        group B  ...            72            74\n",
              "1  female        group C  ...            90            88\n",
              "2  female        group B  ...            95            93\n",
              "3    male        group A  ...            57            44\n",
              "4    male        group C  ...            78            75\n",
              "\n",
              "[5 rows x 8 columns]"
            ]
          },
          "metadata": {
            "tags": []
          },
          "execution_count": 2
        }
      ]
    },
    {
      "cell_type": "markdown",
      "metadata": {
        "id": "d5TdjB9n10kH",
        "colab_type": "text"
      },
      "source": [
        "Можно увидеть, что результаты экаменов представлены в 3ех параметрах: это math score, reading score и writing score.\n",
        "\n",
        "* gender - пол\n",
        "* race/ethnicity - к какой расе принадлежит\n",
        "* parental level of education - уровень образования родителей\n",
        "* lunch - обед (какой тип)\n",
        "* test preparation course - пройден или нет подготовительный курс\n",
        "* math score - оценки по математике\n",
        "* reading score - оценки за чтение\n",
        "* writing score - оценки за письменность "
      ]
    },
    {
      "cell_type": "markdown",
      "metadata": {
        "id": "QCwh-dLY3aVZ",
        "colab_type": "text"
      },
      "source": [
        "Посмотрим типы каждой колонки:"
      ]
    },
    {
      "cell_type": "code",
      "metadata": {
        "id": "UeybA8vH10Hs",
        "colab_type": "code",
        "outputId": "a4bd3090-de31-450f-ba47-58ed0f340a70",
        "colab": {
          "base_uri": "https://localhost:8080/",
          "height": 238
        }
      },
      "source": [
        "data.info()"
      ],
      "execution_count": 3,
      "outputs": [
        {
          "output_type": "stream",
          "text": [
            "<class 'pandas.core.frame.DataFrame'>\n",
            "RangeIndex: 1000 entries, 0 to 999\n",
            "Data columns (total 8 columns):\n",
            "gender                         1000 non-null object\n",
            "race/ethnicity                 1000 non-null object\n",
            "parental level of education    1000 non-null object\n",
            "lunch                          1000 non-null object\n",
            "test preparation course        1000 non-null object\n",
            "math score                     1000 non-null int64\n",
            "reading score                  1000 non-null int64\n",
            "writing score                  1000 non-null int64\n",
            "dtypes: int64(3), object(5)\n",
            "memory usage: 62.6+ KB\n"
          ],
          "name": "stdout"
        }
      ]
    },
    {
      "cell_type": "markdown",
      "metadata": {
        "id": "Uu_S39mF3w-S",
        "colab_type": "text"
      },
      "source": [
        "Добавим новое значение на основе имеющихся: Total Score или общее количество набранных баллов за все предметы"
      ]
    },
    {
      "cell_type": "code",
      "metadata": {
        "id": "P8U1wEHn3414",
        "colab_type": "code",
        "colab": {}
      },
      "source": [
        "data['total score'] = data['math score'] + data['reading score'] + data['writing score']"
      ],
      "execution_count": 0,
      "outputs": []
    },
    {
      "cell_type": "markdown",
      "metadata": {
        "id": "ksneXyjh4cdc",
        "colab_type": "text"
      },
      "source": [
        "Посмотрим средние значения по результатам:"
      ]
    },
    {
      "cell_type": "code",
      "metadata": {
        "id": "QltYGpxg4OEo",
        "colab_type": "code",
        "outputId": "f2b597ac-3d0f-4743-9209-645a7e9774ac",
        "colab": {
          "base_uri": "https://localhost:8080/",
          "height": 85
        }
      },
      "source": [
        "print(\"Average math score is    : {}\".format(np.mean(data['math score'])))\n",
        "print(\"Average reading score is : {}\".format(np.mean(data['reading score'])))\n",
        "print(\"Average writing score is : {}\".format(np.mean(data['writing score'])))\n",
        "print(\"Average total score is   : {}\".format(np.mean(data['total score'])/3))"
      ],
      "execution_count": 5,
      "outputs": [
        {
          "output_type": "stream",
          "text": [
            "Average math score is    : 66.089\n",
            "Average reading score is : 69.169\n",
            "Average writing score is : 68.054\n",
            "Average total score is   : 67.77066666666667\n"
          ],
          "name": "stdout"
        }
      ]
    },
    {
      "cell_type": "markdown",
      "metadata": {
        "id": "wFCSrVma7D1e",
        "colab_type": "text"
      },
      "source": [
        "Посмотрим плотность распределения данных в таблице:"
      ]
    },
    {
      "cell_type": "code",
      "metadata": {
        "id": "tcMPmn0M6-z_",
        "colab_type": "code",
        "outputId": "9568d92a-6f04-48a2-ddda-2b63b40e19f0",
        "colab": {
          "base_uri": "https://localhost:8080/",
          "height": 390
        }
      },
      "source": [
        "data.hist(edgecolor='black', linewidth=1.2)\n",
        "fig=plt.gcf()\n",
        "fig.set_size_inches(12,6)\n",
        "plt.show()"
      ],
      "execution_count": 6,
      "outputs": [
        {
          "output_type": "display_data",
          "data": {
            "image/png": "[encoded data removed]",
            "text/plain": [
              "<Figure size 864x432 with 4 Axes>"
            ]
          },
          "metadata": {
            "tags": []
          }
        }
      ]
    },
    {
      "cell_type": "markdown",
      "metadata": {
        "id": "GQAV5LPd7Mmf",
        "colab_type": "text"
      },
      "source": [
        "В основном, у всех значений получилось нормальное Гауссово распределение. "
      ]
    },
    {
      "cell_type": "markdown",
      "metadata": {
        "id": "Hm8eyvsT4gVo",
        "colab_type": "text"
      },
      "source": [
        "Используя библиотеку seaborn, начертим violinplot или скрипичная диаграмма. "
      ]
    },
    {
      "cell_type": "code",
      "metadata": {
        "id": "SQpxLk5W5tws",
        "colab_type": "code",
        "outputId": "38481946-6f68-424b-c132-2799bc6ac975",
        "colab": {
          "base_uri": "https://localhost:8080/",
          "height": 377
        }
      },
      "source": [
        "plt.figure(figsize=(13,6))\n",
        "plt.subplot(1, 3, 1)\n",
        "plt.title('Баллы по математике')\n",
        "sns.violinplot(y='math score',data=data,palette='summer',linewidth=3)\n",
        "plt.subplot(1, 3, 2)\n",
        "plt.title('Баллы по чтению')\n",
        "sns.violinplot(y='reading score',data=data,palette='Wistia_r',linewidth=3)\n",
        "plt.subplot(1, 3, 3)\n",
        "plt.title('Баллы по письму')\n",
        "sns.violinplot(y='writing score',data=data,palette='spring',linewidth=3)\n",
        "plt.show()"
      ],
      "execution_count": 7,
      "outputs": [
        {
          "output_type": "display_data",
          "data": {
            "image/png": "[encoded data removed]",
            "text/plain": [
              "<Figure size 936x432 with 3 Axes>"
            ]
          },
          "metadata": {
            "tags": []
          }
        }
      ]
    },
    {
      "cell_type": "markdown",
      "metadata": {
        "id": "mZjgo3pt6KCX",
        "colab_type": "text"
      },
      "source": [
        "По графику можно увидеть, что значения по математике в основном находятся в интервале от 60 до 80, по чтению и письму от 50 до 80. "
      ]
    },
    {
      "cell_type": "markdown",
      "metadata": {
        "id": "h77r5IooDfa0",
        "colab_type": "text"
      },
      "source": [
        "Допустим, нам известно, проходные баллы по математике равны 40. Построим графики распределения тех, кто сдал и не сдал математику. "
      ]
    },
    {
      "cell_type": "code",
      "metadata": {
        "id": "oIV65J2HDkFo",
        "colab_type": "code",
        "outputId": "12817b20-8a89-435b-e209-eca7bb687bbf",
        "colab": {
          "base_uri": "https://localhost:8080/",
          "height": 254
        }
      },
      "source": [
        "passmarks = 40\n",
        "\n",
        "# создадим новую колонку\n",
        "data['pass_math'] = np.where(data['math score']< passmarks, 'Fail', 'Pass')\n",
        "data['pass_math'].value_counts(dropna = False).plot.bar(color = 'black', figsize = (5, 3))\n",
        "\n",
        "plt.title('Сравнение студентов сдавших/несдавших тест по математике')\n",
        "plt.xlabel('статус')\n",
        "plt.ylabel('количество')\n",
        "plt.show()"
      ],
      "execution_count": 8,
      "outputs": [
        {
          "output_type": "display_data",
          "data": {
            "image/png": "[encoded data removed]",
            "text/plain": [
              "<Figure size 360x216 with 1 Axes>"
            ]
          },
          "metadata": {
            "tags": []
          }
        }
      ]
    },
    {
      "cell_type": "code",
      "metadata": {
        "id": "fKYVt6LL6Mj0",
        "colab_type": "code",
        "outputId": "639fcbc5-ec08-4e50-a923-416f7ff168a3",
        "colab": {
          "base_uri": "https://localhost:8080/",
          "height": 221
        }
      },
      "source": [
        "data.head()"
      ],
      "execution_count": 9,
      "outputs": [
        {
          "output_type": "execute_result",
          "data": {
            "text/html": [
              "<div>\n",
              "<style scoped>\n",
              "    .dataframe tbody tr th:only-of-type {\n",
              "        vertical-align: middle;\n",
              "    }\n",
              "\n",
              "    .dataframe tbody tr th {\n",
              "        vertical-align: top;\n",
              "    }\n",
              "\n",
              "    .dataframe thead th {\n",
              "        text-align: right;\n",
              "    }\n",
              "</style>\n",
              "<table border=\"1\" class=\"dataframe\">\n",
              "  <thead>\n",
              "    <tr style=\"text-align: right;\">\n",
              "      <th></th>\n",
              "      <th>gender</th>\n",
              "      <th>race/ethnicity</th>\n",
              "      <th>parental level of education</th>\n",
              "      <th>lunch</th>\n",
              "      <th>test preparation course</th>\n",
              "      <th>math score</th>\n",
              "      <th>reading score</th>\n",
              "      <th>writing score</th>\n",
              "      <th>total score</th>\n",
              "      <th>pass_math</th>\n",
              "    </tr>\n",
              "  </thead>\n",
              "  <tbody>\n",
              "    <tr>\n",
              "      <th>0</th>\n",
              "      <td>female</td>\n",
              "      <td>group B</td>\n",
              "      <td>bachelor's degree</td>\n",
              "      <td>standard</td>\n",
              "      <td>none</td>\n",
              "      <td>72</td>\n",
              "      <td>72</td>\n",
              "      <td>74</td>\n",
              "      <td>218</td>\n",
              "      <td>Pass</td>\n",
              "    </tr>\n",
              "    <tr>\n",
              "      <th>1</th>\n",
              "      <td>female</td>\n",
              "      <td>group C</td>\n",
              "      <td>some college</td>\n",
              "      <td>standard</td>\n",
              "      <td>completed</td>\n",
              "      <td>69</td>\n",
              "      <td>90</td>\n",
              "      <td>88</td>\n",
              "      <td>247</td>\n",
              "      <td>Pass</td>\n",
              "    </tr>\n",
              "    <tr>\n",
              "      <th>2</th>\n",
              "      <td>female</td>\n",
              "      <td>group B</td>\n",
              "      <td>master's degree</td>\n",
              "      <td>standard</td>\n",
              "      <td>none</td>\n",
              "      <td>90</td>\n",
              "      <td>95</td>\n",
              "      <td>93</td>\n",
              "      <td>278</td>\n",
              "      <td>Pass</td>\n",
              "    </tr>\n",
              "    <tr>\n",
              "      <th>3</th>\n",
              "      <td>male</td>\n",
              "      <td>group A</td>\n",
              "      <td>associate's degree</td>\n",
              "      <td>free/reduced</td>\n",
              "      <td>none</td>\n",
              "      <td>47</td>\n",
              "      <td>57</td>\n",
              "      <td>44</td>\n",
              "      <td>148</td>\n",
              "      <td>Pass</td>\n",
              "    </tr>\n",
              "    <tr>\n",
              "      <th>4</th>\n",
              "      <td>male</td>\n",
              "      <td>group C</td>\n",
              "      <td>some college</td>\n",
              "      <td>standard</td>\n",
              "      <td>none</td>\n",
              "      <td>76</td>\n",
              "      <td>78</td>\n",
              "      <td>75</td>\n",
              "      <td>229</td>\n",
              "      <td>Pass</td>\n",
              "    </tr>\n",
              "  </tbody>\n",
              "</table>\n",
              "</div>"
            ],
            "text/plain": [
              "   gender race/ethnicity  ... total score pass_math\n",
              "0  female        group B  ...         218      Pass\n",
              "1  female        group C  ...         247      Pass\n",
              "2  female        group B  ...         278      Pass\n",
              "3    male        group A  ...         148      Pass\n",
              "4    male        group C  ...         229      Pass\n",
              "\n",
              "[5 rows x 10 columns]"
            ]
          },
          "metadata": {
            "tags": []
          },
          "execution_count": 9
        }
      ]
    },
    {
      "cell_type": "markdown",
      "metadata": {
        "id": "GNzajWJpHwSC",
        "colab_type": "text"
      },
      "source": [
        "График **bar plot**"
      ]
    },
    {
      "cell_type": "code",
      "metadata": {
        "id": "TGbW0pgfHT6R",
        "colab_type": "code",
        "outputId": "66c13c3c-7739-44cd-ab30-837bc058f2b0",
        "colab": {
          "base_uri": "https://localhost:8080/",
          "height": 272
        }
      },
      "source": [
        "size = list(data['pass_math'].value_counts())\n",
        "print(size)\n",
        "colors = ['red', 'pink']\n",
        "labels = \"pass\", \"fail\"\n",
        "explode = [0, 0.2]\n",
        "\n",
        "plt.pie(size, colors = colors, labels = labels, autopct = '%.2f%%', explode = explode, shadow = True)\n",
        "plt.legend()\n",
        "plt.show()"
      ],
      "execution_count": 10,
      "outputs": [
        {
          "output_type": "stream",
          "text": [
            "[960, 40]\n"
          ],
          "name": "stdout"
        },
        {
          "output_type": "display_data",
          "data": {
            "image/png": "[encoded data removed]",
            "text/plain": [
              "<Figure size 432x288 with 1 Axes>"
            ]
          },
          "metadata": {
            "tags": []
          }
        }
      ]
    },
    {
      "cell_type": "code",
      "metadata": {
        "id": "p2jgbUqi-d5c",
        "colab_type": "code",
        "colab": {
          "base_uri": "https://localhost:8080/",
          "height": 221
        },
        "outputId": "595599fe-3bfb-4245-8c82-0c77df07ed25"
      },
      "source": [
        "data['target'] = np.where(data['pass_math']=='Fail', 0, 1)\n",
        "data.head()"
      ],
      "execution_count": 11,
      "outputs": [
        {
          "output_type": "execute_result",
          "data": {
            "text/html": [
              "<div>\n",
              "<style scoped>\n",
              "    .dataframe tbody tr th:only-of-type {\n",
              "        vertical-align: middle;\n",
              "    }\n",
              "\n",
              "    .dataframe tbody tr th {\n",
              "        vertical-align: top;\n",
              "    }\n",
              "\n",
              "    .dataframe thead th {\n",
              "        text-align: right;\n",
              "    }\n",
              "</style>\n",
              "<table border=\"1\" class=\"dataframe\">\n",
              "  <thead>\n",
              "    <tr style=\"text-align: right;\">\n",
              "      <th></th>\n",
              "      <th>gender</th>\n",
              "      <th>race/ethnicity</th>\n",
              "      <th>parental level of education</th>\n",
              "      <th>lunch</th>\n",
              "      <th>test preparation course</th>\n",
              "      <th>math score</th>\n",
              "      <th>reading score</th>\n",
              "      <th>writing score</th>\n",
              "      <th>total score</th>\n",
              "      <th>pass_math</th>\n",
              "      <th>target</th>\n",
              "    </tr>\n",
              "  </thead>\n",
              "  <tbody>\n",
              "    <tr>\n",
              "      <th>0</th>\n",
              "      <td>female</td>\n",
              "      <td>group B</td>\n",
              "      <td>bachelor's degree</td>\n",
              "      <td>standard</td>\n",
              "      <td>none</td>\n",
              "      <td>72</td>\n",
              "      <td>72</td>\n",
              "      <td>74</td>\n",
              "      <td>218</td>\n",
              "      <td>Pass</td>\n",
              "      <td>1</td>\n",
              "    </tr>\n",
              "    <tr>\n",
              "      <th>1</th>\n",
              "      <td>female</td>\n",
              "      <td>group C</td>\n",
              "      <td>some college</td>\n",
              "      <td>standard</td>\n",
              "      <td>completed</td>\n",
              "      <td>69</td>\n",
              "      <td>90</td>\n",
              "      <td>88</td>\n",
              "      <td>247</td>\n",
              "      <td>Pass</td>\n",
              "      <td>1</td>\n",
              "    </tr>\n",
              "    <tr>\n",
              "      <th>2</th>\n",
              "      <td>female</td>\n",
              "      <td>group B</td>\n",
              "      <td>master's degree</td>\n",
              "      <td>standard</td>\n",
              "      <td>none</td>\n",
              "      <td>90</td>\n",
              "      <td>95</td>\n",
              "      <td>93</td>\n",
              "      <td>278</td>\n",
              "      <td>Pass</td>\n",
              "      <td>1</td>\n",
              "    </tr>\n",
              "    <tr>\n",
              "      <th>3</th>\n",
              "      <td>male</td>\n",
              "      <td>group A</td>\n",
              "      <td>associate's degree</td>\n",
              "      <td>free/reduced</td>\n",
              "      <td>none</td>\n",
              "      <td>47</td>\n",
              "      <td>57</td>\n",
              "      <td>44</td>\n",
              "      <td>148</td>\n",
              "      <td>Pass</td>\n",
              "      <td>1</td>\n",
              "    </tr>\n",
              "    <tr>\n",
              "      <th>4</th>\n",
              "      <td>male</td>\n",
              "      <td>group C</td>\n",
              "      <td>some college</td>\n",
              "      <td>standard</td>\n",
              "      <td>none</td>\n",
              "      <td>76</td>\n",
              "      <td>78</td>\n",
              "      <td>75</td>\n",
              "      <td>229</td>\n",
              "      <td>Pass</td>\n",
              "      <td>1</td>\n",
              "    </tr>\n",
              "  </tbody>\n",
              "</table>\n",
              "</div>"
            ],
            "text/plain": [
              "   gender race/ethnicity  ... pass_math target\n",
              "0  female        group B  ...      Pass      1\n",
              "1  female        group C  ...      Pass      1\n",
              "2  female        group B  ...      Pass      1\n",
              "3    male        group A  ...      Pass      1\n",
              "4    male        group C  ...      Pass      1\n",
              "\n",
              "[5 rows x 11 columns]"
            ]
          },
          "metadata": {
            "tags": []
          },
          "execution_count": 11
        }
      ]
    },
    {
      "cell_type": "markdown",
      "metadata": {
        "id": "sBpr1puJ6otY",
        "colab_type": "text"
      },
      "source": [
        "Посмотрим распределение тех, кто прошел **подготовительные курсы**, по полу."
      ]
    },
    {
      "cell_type": "code",
      "metadata": {
        "id": "NWQm6-pZ4geN",
        "colab_type": "code",
        "outputId": "d204ce40-d0de-4cf2-9cb5-53bcb9854b67",
        "colab": {
          "base_uri": "https://localhost:8080/",
          "height": 404
        }
      },
      "source": [
        "plt.figure(figsize=(20,6))\n",
        "plt.subplot(1, 3, 1)\n",
        "sns.barplot(x='test preparation course',y='math score',data=data,hue='gender',palette='summer')\n",
        "plt.title('MATH SCORES')\n",
        "plt.subplot(1, 3, 2)\n",
        "sns.barplot(x='test preparation course',y='reading score',data=data,hue='gender',palette='summer')\n",
        "plt.title('READING SCORES')\n",
        "plt.subplot(1, 3, 3)\n",
        "sns.barplot(x='test preparation course',y='writing score',data=data,hue='gender',palette='summer')\n",
        "plt.title('WRITING SCORES')\n",
        "plt.show()"
      ],
      "execution_count": 12,
      "outputs": [
        {
          "output_type": "display_data",
          "data": {
            "image/png": "[encoded data removed]",
            "text/plain": [
              "<Figure size 1440x432 with 3 Axes>"
            ]
          },
          "metadata": {
            "tags": []
          }
        }
      ]
    },
    {
      "cell_type": "markdown",
      "metadata": {
        "id": "kHZ7t7yy8HZ5",
        "colab_type": "text"
      },
      "source": [
        "Из графика выше мы можем сделать вывод, что по математике оценки у мужчин выше чем у женщин независимо от того, закончил человек подготовительный курс или нет. \n",
        "Из двух других графиков мы можем сделать вывод, что женщины в целом лучше сдают чтение и письмо. \n",
        "Из трех графиков можно сделать вывод, что если подготовительный курс был завершен, то человек получает оценки выше. "
      ]
    },
    {
      "cell_type": "markdown",
      "metadata": {
        "id": "nPhs7d8k8xTU",
        "colab_type": "text"
      },
      "source": [
        "Посмотрим как соотносятся данные по половому признаку"
      ]
    },
    {
      "cell_type": "code",
      "metadata": {
        "id": "D2mVHY2V83bA",
        "colab_type": "code",
        "outputId": "8f61ec72-e0f1-47ee-ac94-60617d6556d7",
        "colab": {
          "base_uri": "https://localhost:8080/",
          "height": 909
        }
      },
      "source": [
        "sns.pairplot(data=data,hue='gender',plot_kws={'alpha':0.2},palette='hot')\n",
        "plt.show()"
      ],
      "execution_count": 13,
      "outputs": [
        {
          "output_type": "display_data",
          "data": {
            "image/png": "[encoded data removed]",
            "text/plain": [
              "<Figure size 970.5x900 with 30 Axes>"
            ]
          },
          "metadata": {
            "tags": []
          }
        }
      ]
    },
    {
      "cell_type": "markdown",
      "metadata": {
        "id": "_shHeB209Iqy",
        "colab_type": "text"
      },
      "source": [
        "Из графиков видно, что данные сильно коррелированы, классы хорошо отделяются по математике - чтению, математике - письму. "
      ]
    },
    {
      "cell_type": "markdown",
      "metadata": {
        "id": "mpYO0BZS9l4K",
        "colab_type": "text"
      },
      "source": [
        "Посмотрим что из себя представляет столбик **lunch**"
      ]
    },
    {
      "cell_type": "code",
      "metadata": {
        "id": "ye1PRjJT9diq",
        "colab_type": "code",
        "outputId": "99778eb5-7d95-492d-bfbc-23bee31d89e9",
        "colab": {
          "base_uri": "https://localhost:8080/",
          "height": 34
        }
      },
      "source": [
        "data['lunch'].unique()"
      ],
      "execution_count": 14,
      "outputs": [
        {
          "output_type": "execute_result",
          "data": {
            "text/plain": [
              "array(['standard', 'free/reduced'], dtype=object)"
            ]
          },
          "metadata": {
            "tags": []
          },
          "execution_count": 14
        }
      ]
    },
    {
      "cell_type": "markdown",
      "metadata": {
        "id": "WeJQ6-AX9r38",
        "colab_type": "text"
      },
      "source": [
        "Посмотрим, как обед влияет на баллы"
      ]
    },
    {
      "cell_type": "code",
      "metadata": {
        "id": "RQXHEl0r9zmS",
        "colab_type": "code",
        "outputId": "7c06e119-708a-462e-e3a7-3995e8d3b17d",
        "colab": {
          "base_uri": "https://localhost:8080/",
          "height": 513
        }
      },
      "source": [
        "plt.figure(figsize=(20,8))\n",
        "plt.subplot(1, 3, 1)\n",
        "sns.barplot(x='test preparation course',y='math score',data=data,hue='lunch',palette='coolwarm')\n",
        "plt.title('MATH SCORES')\n",
        "plt.subplot(1, 3, 2)\n",
        "sns.barplot(x='test preparation course',y='reading score',data=data,hue='lunch',palette='coolwarm')\n",
        "plt.title('READING SCORES')\n",
        "plt.subplot(1, 3, 3)\n",
        "sns.barplot(x='test preparation course',y='writing score',data=data,hue='lunch',palette='coolwarm')\n",
        "plt.title('WRITING SCORES')\n",
        "plt.show()"
      ],
      "execution_count": 15,
      "outputs": [
        {
          "output_type": "display_data",
          "data": {
            "image/png": "[encoded data removed]",
            "text/plain": [
              "<Figure size 1440x576 with 3 Axes>"
            ]
          },
          "metadata": {
            "tags": []
          }
        }
      ]
    },
    {
      "cell_type": "markdown",
      "metadata": {
        "id": "H0fZ-3q6-OH4",
        "colab_type": "text"
      },
      "source": [
        "В общем и целом, в обоих классах людей, употребляющих стандартный ланч, больше. "
      ]
    },
    {
      "cell_type": "markdown",
      "metadata": {
        "id": "WLXd8oRT-wwP",
        "colab_type": "text"
      },
      "source": [
        "Посмотрим на людей, получивших максимальное количество баллов:"
      ]
    },
    {
      "cell_type": "code",
      "metadata": {
        "id": "5XyyXS05-oeg",
        "colab_type": "code",
        "outputId": "07aa4e3c-9ee6-4ab3-aa8e-8c6fd511f835",
        "colab": {
          "base_uri": "https://localhost:8080/",
          "height": 221
        }
      },
      "source": [
        "data[(data['math score'] > 90) & (data['reading score'] > 90) & (data['writing score']>90)]\\\n",
        ".sort_values(by=['total score'],ascending=False).head()"
      ],
      "execution_count": 16,
      "outputs": [
        {
          "output_type": "execute_result",
          "data": {
            "text/html": [
              "<div>\n",
              "<style scoped>\n",
              "    .dataframe tbody tr th:only-of-type {\n",
              "        vertical-align: middle;\n",
              "    }\n",
              "\n",
              "    .dataframe tbody tr th {\n",
              "        vertical-align: top;\n",
              "    }\n",
              "\n",
              "    .dataframe thead th {\n",
              "        text-align: right;\n",
              "    }\n",
              "</style>\n",
              "<table border=\"1\" class=\"dataframe\">\n",
              "  <thead>\n",
              "    <tr style=\"text-align: right;\">\n",
              "      <th></th>\n",
              "      <th>gender</th>\n",
              "      <th>race/ethnicity</th>\n",
              "      <th>parental level of education</th>\n",
              "      <th>lunch</th>\n",
              "      <th>test preparation course</th>\n",
              "      <th>math score</th>\n",
              "      <th>reading score</th>\n",
              "      <th>writing score</th>\n",
              "      <th>total score</th>\n",
              "      <th>pass_math</th>\n",
              "      <th>target</th>\n",
              "    </tr>\n",
              "  </thead>\n",
              "  <tbody>\n",
              "    <tr>\n",
              "      <th>962</th>\n",
              "      <td>female</td>\n",
              "      <td>group E</td>\n",
              "      <td>associate's degree</td>\n",
              "      <td>standard</td>\n",
              "      <td>none</td>\n",
              "      <td>100</td>\n",
              "      <td>100</td>\n",
              "      <td>100</td>\n",
              "      <td>300</td>\n",
              "      <td>Pass</td>\n",
              "      <td>1</td>\n",
              "    </tr>\n",
              "    <tr>\n",
              "      <th>458</th>\n",
              "      <td>female</td>\n",
              "      <td>group E</td>\n",
              "      <td>bachelor's degree</td>\n",
              "      <td>standard</td>\n",
              "      <td>none</td>\n",
              "      <td>100</td>\n",
              "      <td>100</td>\n",
              "      <td>100</td>\n",
              "      <td>300</td>\n",
              "      <td>Pass</td>\n",
              "      <td>1</td>\n",
              "    </tr>\n",
              "    <tr>\n",
              "      <th>916</th>\n",
              "      <td>male</td>\n",
              "      <td>group E</td>\n",
              "      <td>bachelor's degree</td>\n",
              "      <td>standard</td>\n",
              "      <td>completed</td>\n",
              "      <td>100</td>\n",
              "      <td>100</td>\n",
              "      <td>100</td>\n",
              "      <td>300</td>\n",
              "      <td>Pass</td>\n",
              "      <td>1</td>\n",
              "    </tr>\n",
              "    <tr>\n",
              "      <th>114</th>\n",
              "      <td>female</td>\n",
              "      <td>group E</td>\n",
              "      <td>bachelor's degree</td>\n",
              "      <td>standard</td>\n",
              "      <td>completed</td>\n",
              "      <td>99</td>\n",
              "      <td>100</td>\n",
              "      <td>100</td>\n",
              "      <td>299</td>\n",
              "      <td>Pass</td>\n",
              "      <td>1</td>\n",
              "    </tr>\n",
              "    <tr>\n",
              "      <th>179</th>\n",
              "      <td>female</td>\n",
              "      <td>group D</td>\n",
              "      <td>some high school</td>\n",
              "      <td>standard</td>\n",
              "      <td>completed</td>\n",
              "      <td>97</td>\n",
              "      <td>100</td>\n",
              "      <td>100</td>\n",
              "      <td>297</td>\n",
              "      <td>Pass</td>\n",
              "      <td>1</td>\n",
              "    </tr>\n",
              "  </tbody>\n",
              "</table>\n",
              "</div>"
            ],
            "text/plain": [
              "     gender race/ethnicity  ... pass_math target\n",
              "962  female        group E  ...      Pass      1\n",
              "458  female        group E  ...      Pass      1\n",
              "916    male        group E  ...      Pass      1\n",
              "114  female        group E  ...      Pass      1\n",
              "179  female        group D  ...      Pass      1\n",
              "\n",
              "[5 rows x 11 columns]"
            ]
          },
          "metadata": {
            "tags": []
          },
          "execution_count": 16
        }
      ]
    },
    {
      "cell_type": "markdown",
      "metadata": {
        "id": "1nuxIDdN-38h",
        "colab_type": "text"
      },
      "source": [
        "Первый двое топовых студенты либо гении, либо приготовили шпаргалки, так как их подготовительные курсы не были завершены. "
      ]
    },
    {
      "cell_type": "markdown",
      "metadata": {
        "id": "8eJTIvhJ_OYr",
        "colab_type": "text"
      },
      "source": [
        "Посмотрим распределение оценок по национальности. "
      ]
    },
    {
      "cell_type": "code",
      "metadata": {
        "id": "qfY4Z3fe_F4E",
        "colab_type": "code",
        "outputId": "34f78ad2-03ad-4b5c-ba9a-fff0dae35565",
        "colab": {
          "base_uri": "https://localhost:8080/",
          "height": 404
        }
      },
      "source": [
        "plt.figure(figsize=(20,6))\n",
        "plt.subplot(1, 3, 1)\n",
        "plt.title('MATH SCORES')\n",
        "sns.barplot(x='race/ethnicity',y='math score',data=data,hue='gender',palette='Paired')\n",
        "plt.subplot(1, 3, 2)\n",
        "plt.title('READING SCORES')\n",
        "sns.barplot(x='race/ethnicity',y='reading score',data=data,hue='gender',palette='Paired')\n",
        "plt.subplot(1, 3, 3)\n",
        "plt.title('WRITING SCORES')\n",
        "sns.barplot(x='race/ethnicity',y='writing score',data=data,hue='gender',palette='Paired')\n",
        "plt.show()"
      ],
      "execution_count": 17,
      "outputs": [
        {
          "output_type": "display_data",
          "data": {
            "image/png": "[encoded data removed]",
            "text/plain": [
              "<Figure size 1440x432 with 3 Axes>"
            ]
          },
          "metadata": {
            "tags": []
          }
        }
      ]
    },
    {
      "cell_type": "markdown",
      "metadata": {
        "id": "VLrWocIJ_qOI",
        "colab_type": "text"
      },
      "source": [
        "Группа Е имеет самые высокие показатели (больше всего людей в этой группе), причем больше сдавших по всем предметам. "
      ]
    },
    {
      "cell_type": "markdown",
      "metadata": {
        "id": "5rnoMD3mAMY2",
        "colab_type": "text"
      },
      "source": [
        "Посмотрим распределение образования родителей "
      ]
    },
    {
      "cell_type": "code",
      "metadata": {
        "id": "Z5oGDJN7_-rK",
        "colab_type": "code",
        "outputId": "897469c2-7d44-4fbb-9402-9e8797c73a7c",
        "colab": {
          "base_uri": "https://localhost:8080/",
          "height": 327
        }
      },
      "source": [
        "fig,ax=plt.subplots()\n",
        "sns.countplot(x='parental level of education',data=data,palette='spring')\n",
        "plt.tight_layout()\n",
        "fig.autofmt_xdate()"
      ],
      "execution_count": 18,
      "outputs": [
        {
          "output_type": "display_data",
          "data": {
            "image/png": "[encoded data removed]",
            "text/plain": [
              "<Figure size 432x288 with 1 Axes>"
            ]
          },
          "metadata": {
            "tags": []
          }
        }
      ]
    },
    {
      "cell_type": "markdown",
      "metadata": {
        "id": "2DNp6l7OBWMq",
        "colab_type": "text"
      },
      "source": [
        "Можно заметить, что в основном родители получили associate's degree или some college, очень мало имеют магистерское образование. "
      ]
    },
    {
      "cell_type": "code",
      "metadata": {
        "id": "fvTpWCVrBjlv",
        "colab_type": "code",
        "outputId": "3d31aaf8-5ae3-40a5-a841-d203aa63c1c6",
        "colab": {
          "base_uri": "https://localhost:8080/",
          "height": 307
        }
      },
      "source": [
        "fig,ax=plt.subplots()\n",
        "sns.barplot(x=data['parental level of education'],y='total score',data=data,palette='Wistia')\n",
        "fig.autofmt_xdate()"
      ],
      "execution_count": 19,
      "outputs": [
        {
          "output_type": "display_data",
          "data": {
            "image/png": "[encoded data removed]",
            "text/plain": [
              "<Figure size 432x288 with 1 Axes>"
            ]
          },
          "metadata": {
            "tags": []
          }
        }
      ]
    },
    {
      "cell_type": "markdown",
      "metadata": {
        "id": "lv2fatufCZPa",
        "colab_type": "text"
      },
      "source": [
        " Можно заметить, что есть студенты, чьи родители получили степень магистра, имеют успеваемость выше, чем остальные. "
      ]
    },
    {
      "cell_type": "markdown",
      "metadata": {
        "id": "4hzAP6kG0qCb",
        "colab_type": "text"
      },
      "source": [
        "# **Линейная регрессия на основе датасета о студентах**"
      ]
    },
    {
      "cell_type": "markdown",
      "metadata": {
        "id": "KqQA3pVW0v46",
        "colab_type": "text"
      },
      "source": [
        "Построим модель линейной регрессии на основе данного датасета. Таргет значение - total score."
      ]
    },
    {
      "cell_type": "code",
      "metadata": {
        "id": "wywGIQEw00Xf",
        "colab_type": "code",
        "outputId": "65825c32-889f-4f74-884f-ff28ec803875",
        "colab": {
          "base_uri": "https://localhost:8080/",
          "height": 221
        }
      },
      "source": [
        "data.head()"
      ],
      "execution_count": 20,
      "outputs": [
        {
          "output_type": "execute_result",
          "data": {
            "text/html": [
              "<div>\n",
              "<style scoped>\n",
              "    .dataframe tbody tr th:only-of-type {\n",
              "        vertical-align: middle;\n",
              "    }\n",
              "\n",
              "    .dataframe tbody tr th {\n",
              "        vertical-align: top;\n",
              "    }\n",
              "\n",
              "    .dataframe thead th {\n",
              "        text-align: right;\n",
              "    }\n",
              "</style>\n",
              "<table border=\"1\" class=\"dataframe\">\n",
              "  <thead>\n",
              "    <tr style=\"text-align: right;\">\n",
              "      <th></th>\n",
              "      <th>gender</th>\n",
              "      <th>race/ethnicity</th>\n",
              "      <th>parental level of education</th>\n",
              "      <th>lunch</th>\n",
              "      <th>test preparation course</th>\n",
              "      <th>math score</th>\n",
              "      <th>reading score</th>\n",
              "      <th>writing score</th>\n",
              "      <th>total score</th>\n",
              "      <th>pass_math</th>\n",
              "      <th>target</th>\n",
              "    </tr>\n",
              "  </thead>\n",
              "  <tbody>\n",
              "    <tr>\n",
              "      <th>0</th>\n",
              "      <td>female</td>\n",
              "      <td>group B</td>\n",
              "      <td>bachelor's degree</td>\n",
              "      <td>standard</td>\n",
              "      <td>none</td>\n",
              "      <td>72</td>\n",
              "      <td>72</td>\n",
              "      <td>74</td>\n",
              "      <td>218</td>\n",
              "      <td>Pass</td>\n",
              "      <td>1</td>\n",
              "    </tr>\n",
              "    <tr>\n",
              "      <th>1</th>\n",
              "      <td>female</td>\n",
              "      <td>group C</td>\n",
              "      <td>some college</td>\n",
              "      <td>standard</td>\n",
              "      <td>completed</td>\n",
              "      <td>69</td>\n",
              "      <td>90</td>\n",
              "      <td>88</td>\n",
              "      <td>247</td>\n",
              "      <td>Pass</td>\n",
              "      <td>1</td>\n",
              "    </tr>\n",
              "    <tr>\n",
              "      <th>2</th>\n",
              "      <td>female</td>\n",
              "      <td>group B</td>\n",
              "      <td>master's degree</td>\n",
              "      <td>standard</td>\n",
              "      <td>none</td>\n",
              "      <td>90</td>\n",
              "      <td>95</td>\n",
              "      <td>93</td>\n",
              "      <td>278</td>\n",
              "      <td>Pass</td>\n",
              "      <td>1</td>\n",
              "    </tr>\n",
              "    <tr>\n",
              "      <th>3</th>\n",
              "      <td>male</td>\n",
              "      <td>group A</td>\n",
              "      <td>associate's degree</td>\n",
              "      <td>free/reduced</td>\n",
              "      <td>none</td>\n",
              "      <td>47</td>\n",
              "      <td>57</td>\n",
              "      <td>44</td>\n",
              "      <td>148</td>\n",
              "      <td>Pass</td>\n",
              "      <td>1</td>\n",
              "    </tr>\n",
              "    <tr>\n",
              "      <th>4</th>\n",
              "      <td>male</td>\n",
              "      <td>group C</td>\n",
              "      <td>some college</td>\n",
              "      <td>standard</td>\n",
              "      <td>none</td>\n",
              "      <td>76</td>\n",
              "      <td>78</td>\n",
              "      <td>75</td>\n",
              "      <td>229</td>\n",
              "      <td>Pass</td>\n",
              "      <td>1</td>\n",
              "    </tr>\n",
              "  </tbody>\n",
              "</table>\n",
              "</div>"
            ],
            "text/plain": [
              "   gender race/ethnicity  ... pass_math target\n",
              "0  female        group B  ...      Pass      1\n",
              "1  female        group C  ...      Pass      1\n",
              "2  female        group B  ...      Pass      1\n",
              "3    male        group A  ...      Pass      1\n",
              "4    male        group C  ...      Pass      1\n",
              "\n",
              "[5 rows x 11 columns]"
            ]
          },
          "metadata": {
            "tags": []
          },
          "execution_count": 20
        }
      ]
    },
    {
      "cell_type": "markdown",
      "metadata": {
        "id": "yYfKEdnM2Co8",
        "colab_type": "text"
      },
      "source": [
        "Добавим класс 'sex' на основе 'gender' значеий."
      ]
    },
    {
      "cell_type": "code",
      "metadata": {
        "id": "59n-qNDH1qUO",
        "colab_type": "code",
        "outputId": "0e699379-f0ea-4d39-a65e-4d14329c5fa9",
        "colab": {
          "base_uri": "https://localhost:8080/",
          "height": 221
        }
      },
      "source": [
        "data['sex'] = data['gender']\n",
        "data.loc[data['gender'] == 'female', 'sex'] = 0\n",
        "data.loc[data['gender'] == 'male', 'sex'] = 1\n",
        "data.head()"
      ],
      "execution_count": 21,
      "outputs": [
        {
          "output_type": "execute_result",
          "data": {
            "text/html": [
              "<div>\n",
              "<style scoped>\n",
              "    .dataframe tbody tr th:only-of-type {\n",
              "        vertical-align: middle;\n",
              "    }\n",
              "\n",
              "    .dataframe tbody tr th {\n",
              "        vertical-align: top;\n",
              "    }\n",
              "\n",
              "    .dataframe thead th {\n",
              "        text-align: right;\n",
              "    }\n",
              "</style>\n",
              "<table border=\"1\" class=\"dataframe\">\n",
              "  <thead>\n",
              "    <tr style=\"text-align: right;\">\n",
              "      <th></th>\n",
              "      <th>gender</th>\n",
              "      <th>race/ethnicity</th>\n",
              "      <th>parental level of education</th>\n",
              "      <th>lunch</th>\n",
              "      <th>test preparation course</th>\n",
              "      <th>math score</th>\n",
              "      <th>reading score</th>\n",
              "      <th>writing score</th>\n",
              "      <th>total score</th>\n",
              "      <th>pass_math</th>\n",
              "      <th>target</th>\n",
              "      <th>sex</th>\n",
              "    </tr>\n",
              "  </thead>\n",
              "  <tbody>\n",
              "    <tr>\n",
              "      <th>0</th>\n",
              "      <td>female</td>\n",
              "      <td>group B</td>\n",
              "      <td>bachelor's degree</td>\n",
              "      <td>standard</td>\n",
              "      <td>none</td>\n",
              "      <td>72</td>\n",
              "      <td>72</td>\n",
              "      <td>74</td>\n",
              "      <td>218</td>\n",
              "      <td>Pass</td>\n",
              "      <td>1</td>\n",
              "      <td>0</td>\n",
              "    </tr>\n",
              "    <tr>\n",
              "      <th>1</th>\n",
              "      <td>female</td>\n",
              "      <td>group C</td>\n",
              "      <td>some college</td>\n",
              "      <td>standard</td>\n",
              "      <td>completed</td>\n",
              "      <td>69</td>\n",
              "      <td>90</td>\n",
              "      <td>88</td>\n",
              "      <td>247</td>\n",
              "      <td>Pass</td>\n",
              "      <td>1</td>\n",
              "      <td>0</td>\n",
              "    </tr>\n",
              "    <tr>\n",
              "      <th>2</th>\n",
              "      <td>female</td>\n",
              "      <td>group B</td>\n",
              "      <td>master's degree</td>\n",
              "      <td>standard</td>\n",
              "      <td>none</td>\n",
              "      <td>90</td>\n",
              "      <td>95</td>\n",
              "      <td>93</td>\n",
              "      <td>278</td>\n",
              "      <td>Pass</td>\n",
              "      <td>1</td>\n",
              "      <td>0</td>\n",
              "    </tr>\n",
              "    <tr>\n",
              "      <th>3</th>\n",
              "      <td>male</td>\n",
              "      <td>group A</td>\n",
              "      <td>associate's degree</td>\n",
              "      <td>free/reduced</td>\n",
              "      <td>none</td>\n",
              "      <td>47</td>\n",
              "      <td>57</td>\n",
              "      <td>44</td>\n",
              "      <td>148</td>\n",
              "      <td>Pass</td>\n",
              "      <td>1</td>\n",
              "      <td>1</td>\n",
              "    </tr>\n",
              "    <tr>\n",
              "      <th>4</th>\n",
              "      <td>male</td>\n",
              "      <td>group C</td>\n",
              "      <td>some college</td>\n",
              "      <td>standard</td>\n",
              "      <td>none</td>\n",
              "      <td>76</td>\n",
              "      <td>78</td>\n",
              "      <td>75</td>\n",
              "      <td>229</td>\n",
              "      <td>Pass</td>\n",
              "      <td>1</td>\n",
              "      <td>1</td>\n",
              "    </tr>\n",
              "  </tbody>\n",
              "</table>\n",
              "</div>"
            ],
            "text/plain": [
              "   gender race/ethnicity parental level of education  ... pass_math target  sex\n",
              "0  female        group B           bachelor's degree  ...      Pass      1    0\n",
              "1  female        group C                some college  ...      Pass      1    0\n",
              "2  female        group B             master's degree  ...      Pass      1    0\n",
              "3    male        group A          associate's degree  ...      Pass      1    1\n",
              "4    male        group C                some college  ...      Pass      1    1\n",
              "\n",
              "[5 rows x 12 columns]"
            ]
          },
          "metadata": {
            "tags": []
          },
          "execution_count": 21
        }
      ]
    },
    {
      "cell_type": "markdown",
      "metadata": {
        "id": "ljMxlFHZ2HBh",
        "colab_type": "text"
      },
      "source": [
        "Добавим колонку 'race' на основе колонки 'race/ethnicity'"
      ]
    },
    {
      "cell_type": "code",
      "metadata": {
        "id": "D9qoTolG2WLW",
        "colab_type": "code",
        "outputId": "db3f2aef-ab7a-4242-a642-fc5f5c98ef5a",
        "colab": {
          "base_uri": "https://localhost:8080/",
          "height": 221
        }
      },
      "source": [
        "data['race'] = data['race/ethnicity']\n",
        "data.loc[data['race/ethnicity'] == 'group A', 'race'] = 0\n",
        "data.loc[data['race/ethnicity'] == 'group B', 'race'] = 1\n",
        "data.loc[data['race/ethnicity'] == 'group C', 'race'] = 2\n",
        "data.loc[data['race/ethnicity'] == 'group D', 'race'] = 3\n",
        "data.loc[data['race/ethnicity'] == 'group E', 'race'] = 4\n",
        "data.head()"
      ],
      "execution_count": 22,
      "outputs": [
        {
          "output_type": "execute_result",
          "data": {
            "text/html": [
              "<div>\n",
              "<style scoped>\n",
              "    .dataframe tbody tr th:only-of-type {\n",
              "        vertical-align: middle;\n",
              "    }\n",
              "\n",
              "    .dataframe tbody tr th {\n",
              "        vertical-align: top;\n",
              "    }\n",
              "\n",
              "    .dataframe thead th {\n",
              "        text-align: right;\n",
              "    }\n",
              "</style>\n",
              "<table border=\"1\" class=\"dataframe\">\n",
              "  <thead>\n",
              "    <tr style=\"text-align: right;\">\n",
              "      <th></th>\n",
              "      <th>gender</th>\n",
              "      <th>race/ethnicity</th>\n",
              "      <th>parental level of education</th>\n",
              "      <th>lunch</th>\n",
              "      <th>test preparation course</th>\n",
              "      <th>math score</th>\n",
              "      <th>reading score</th>\n",
              "      <th>writing score</th>\n",
              "      <th>total score</th>\n",
              "      <th>pass_math</th>\n",
              "      <th>target</th>\n",
              "      <th>sex</th>\n",
              "      <th>race</th>\n",
              "    </tr>\n",
              "  </thead>\n",
              "  <tbody>\n",
              "    <tr>\n",
              "      <th>0</th>\n",
              "      <td>female</td>\n",
              "      <td>group B</td>\n",
              "      <td>bachelor's degree</td>\n",
              "      <td>standard</td>\n",
              "      <td>none</td>\n",
              "      <td>72</td>\n",
              "      <td>72</td>\n",
              "      <td>74</td>\n",
              "      <td>218</td>\n",
              "      <td>Pass</td>\n",
              "      <td>1</td>\n",
              "      <td>0</td>\n",
              "      <td>1</td>\n",
              "    </tr>\n",
              "    <tr>\n",
              "      <th>1</th>\n",
              "      <td>female</td>\n",
              "      <td>group C</td>\n",
              "      <td>some college</td>\n",
              "      <td>standard</td>\n",
              "      <td>completed</td>\n",
              "      <td>69</td>\n",
              "      <td>90</td>\n",
              "      <td>88</td>\n",
              "      <td>247</td>\n",
              "      <td>Pass</td>\n",
              "      <td>1</td>\n",
              "      <td>0</td>\n",
              "      <td>2</td>\n",
              "    </tr>\n",
              "    <tr>\n",
              "      <th>2</th>\n",
              "      <td>female</td>\n",
              "      <td>group B</td>\n",
              "      <td>master's degree</td>\n",
              "      <td>standard</td>\n",
              "      <td>none</td>\n",
              "      <td>90</td>\n",
              "      <td>95</td>\n",
              "      <td>93</td>\n",
              "      <td>278</td>\n",
              "      <td>Pass</td>\n",
              "      <td>1</td>\n",
              "      <td>0</td>\n",
              "      <td>1</td>\n",
              "    </tr>\n",
              "    <tr>\n",
              "      <th>3</th>\n",
              "      <td>male</td>\n",
              "      <td>group A</td>\n",
              "      <td>associate's degree</td>\n",
              "      <td>free/reduced</td>\n",
              "      <td>none</td>\n",
              "      <td>47</td>\n",
              "      <td>57</td>\n",
              "      <td>44</td>\n",
              "      <td>148</td>\n",
              "      <td>Pass</td>\n",
              "      <td>1</td>\n",
              "      <td>1</td>\n",
              "      <td>0</td>\n",
              "    </tr>\n",
              "    <tr>\n",
              "      <th>4</th>\n",
              "      <td>male</td>\n",
              "      <td>group C</td>\n",
              "      <td>some college</td>\n",
              "      <td>standard</td>\n",
              "      <td>none</td>\n",
              "      <td>76</td>\n",
              "      <td>78</td>\n",
              "      <td>75</td>\n",
              "      <td>229</td>\n",
              "      <td>Pass</td>\n",
              "      <td>1</td>\n",
              "      <td>1</td>\n",
              "      <td>2</td>\n",
              "    </tr>\n",
              "  </tbody>\n",
              "</table>\n",
              "</div>"
            ],
            "text/plain": [
              "   gender race/ethnicity parental level of education  ... target sex  race\n",
              "0  female        group B           bachelor's degree  ...      1   0     1\n",
              "1  female        group C                some college  ...      1   0     2\n",
              "2  female        group B             master's degree  ...      1   0     1\n",
              "3    male        group A          associate's degree  ...      1   1     0\n",
              "4    male        group C                some college  ...      1   1     2\n",
              "\n",
              "[5 rows x 13 columns]"
            ]
          },
          "metadata": {
            "tags": []
          },
          "execution_count": 22
        }
      ]
    },
    {
      "cell_type": "markdown",
      "metadata": {
        "id": "pVwk0D4n4Ea1",
        "colab_type": "text"
      },
      "source": [
        "Заменим колонку 'parental level of education' на 'parent'"
      ]
    },
    {
      "cell_type": "code",
      "metadata": {
        "id": "-d8qa7jj24kM",
        "colab_type": "code",
        "outputId": "d2a7bb0b-8679-4ab8-dd64-669b530751c1",
        "colab": {
          "base_uri": "https://localhost:8080/",
          "height": 238
        }
      },
      "source": [
        "data['parent'] = data['parental level of education']\n",
        "data.loc[data['parental level of education'] == 'high school', 'parent'] = 0\n",
        "data.loc[data['parental level of education'] == 'some high school', 'parent'] = 1\n",
        "data.loc[data['parental level of education'] == 'some college', 'parent'] = 2\n",
        "data.loc[data['parental level of education'] == 'bachelor\\'s degree', 'parent'] = 3\n",
        "data.loc[data['parental level of education'] == 'master\\'s degree', 'parent'] = 4\n",
        "data.loc[data['parental level of education'] == 'associate\\'s degree', 'parent'] = 5\n",
        "data.head()"
      ],
      "execution_count": 23,
      "outputs": [
        {
          "output_type": "execute_result",
          "data": {
            "text/html": [
              "<div>\n",
              "<style scoped>\n",
              "    .dataframe tbody tr th:only-of-type {\n",
              "        vertical-align: middle;\n",
              "    }\n",
              "\n",
              "    .dataframe tbody tr th {\n",
              "        vertical-align: top;\n",
              "    }\n",
              "\n",
              "    .dataframe thead th {\n",
              "        text-align: right;\n",
              "    }\n",
              "</style>\n",
              "<table border=\"1\" class=\"dataframe\">\n",
              "  <thead>\n",
              "    <tr style=\"text-align: right;\">\n",
              "      <th></th>\n",
              "      <th>gender</th>\n",
              "      <th>race/ethnicity</th>\n",
              "      <th>parental level of education</th>\n",
              "      <th>lunch</th>\n",
              "      <th>test preparation course</th>\n",
              "      <th>math score</th>\n",
              "      <th>reading score</th>\n",
              "      <th>writing score</th>\n",
              "      <th>total score</th>\n",
              "      <th>pass_math</th>\n",
              "      <th>target</th>\n",
              "      <th>sex</th>\n",
              "      <th>race</th>\n",
              "      <th>parent</th>\n",
              "    </tr>\n",
              "  </thead>\n",
              "  <tbody>\n",
              "    <tr>\n",
              "      <th>0</th>\n",
              "      <td>female</td>\n",
              "      <td>group B</td>\n",
              "      <td>bachelor's degree</td>\n",
              "      <td>standard</td>\n",
              "      <td>none</td>\n",
              "      <td>72</td>\n",
              "      <td>72</td>\n",
              "      <td>74</td>\n",
              "      <td>218</td>\n",
              "      <td>Pass</td>\n",
              "      <td>1</td>\n",
              "      <td>0</td>\n",
              "      <td>1</td>\n",
              "      <td>3</td>\n",
              "    </tr>\n",
              "    <tr>\n",
              "      <th>1</th>\n",
              "      <td>female</td>\n",
              "      <td>group C</td>\n",
              "      <td>some college</td>\n",
              "      <td>standard</td>\n",
              "      <td>completed</td>\n",
              "      <td>69</td>\n",
              "      <td>90</td>\n",
              "      <td>88</td>\n",
              "      <td>247</td>\n",
              "      <td>Pass</td>\n",
              "      <td>1</td>\n",
              "      <td>0</td>\n",
              "      <td>2</td>\n",
              "      <td>2</td>\n",
              "    </tr>\n",
              "    <tr>\n",
              "      <th>2</th>\n",
              "      <td>female</td>\n",
              "      <td>group B</td>\n",
              "      <td>master's degree</td>\n",
              "      <td>standard</td>\n",
              "      <td>none</td>\n",
              "      <td>90</td>\n",
              "      <td>95</td>\n",
              "      <td>93</td>\n",
              "      <td>278</td>\n",
              "      <td>Pass</td>\n",
              "      <td>1</td>\n",
              "      <td>0</td>\n",
              "      <td>1</td>\n",
              "      <td>4</td>\n",
              "    </tr>\n",
              "    <tr>\n",
              "      <th>3</th>\n",
              "      <td>male</td>\n",
              "      <td>group A</td>\n",
              "      <td>associate's degree</td>\n",
              "      <td>free/reduced</td>\n",
              "      <td>none</td>\n",
              "      <td>47</td>\n",
              "      <td>57</td>\n",
              "      <td>44</td>\n",
              "      <td>148</td>\n",
              "      <td>Pass</td>\n",
              "      <td>1</td>\n",
              "      <td>1</td>\n",
              "      <td>0</td>\n",
              "      <td>5</td>\n",
              "    </tr>\n",
              "    <tr>\n",
              "      <th>4</th>\n",
              "      <td>male</td>\n",
              "      <td>group C</td>\n",
              "      <td>some college</td>\n",
              "      <td>standard</td>\n",
              "      <td>none</td>\n",
              "      <td>76</td>\n",
              "      <td>78</td>\n",
              "      <td>75</td>\n",
              "      <td>229</td>\n",
              "      <td>Pass</td>\n",
              "      <td>1</td>\n",
              "      <td>1</td>\n",
              "      <td>2</td>\n",
              "      <td>2</td>\n",
              "    </tr>\n",
              "  </tbody>\n",
              "</table>\n",
              "</div>"
            ],
            "text/plain": [
              "   gender race/ethnicity parental level of education  ... sex race  parent\n",
              "0  female        group B           bachelor's degree  ...   0    1       3\n",
              "1  female        group C                some college  ...   0    2       2\n",
              "2  female        group B             master's degree  ...   0    1       4\n",
              "3    male        group A          associate's degree  ...   1    0       5\n",
              "4    male        group C                some college  ...   1    2       2\n",
              "\n",
              "[5 rows x 14 columns]"
            ]
          },
          "metadata": {
            "tags": []
          },
          "execution_count": 23
        }
      ]
    },
    {
      "cell_type": "markdown",
      "metadata": {
        "id": "9zUrn3V14Llc",
        "colab_type": "text"
      },
      "source": [
        "Заменим колонку 'lunch' на 'lunch_type'"
      ]
    },
    {
      "cell_type": "code",
      "metadata": {
        "id": "BBfhlciX4RYJ",
        "colab_type": "code",
        "outputId": "d5d858f2-553a-4377-f01e-757e588d8fdb",
        "colab": {
          "base_uri": "https://localhost:8080/",
          "height": 289
        }
      },
      "source": [
        "data['lunch_type'] = data['lunch']\n",
        "data.loc[data['lunch'] == 'free/reduced', 'lunch_type'] = 0\n",
        "data.loc[data['lunch'] == 'standard', 'lunch_type'] = 1\n",
        "data.head()"
      ],
      "execution_count": 24,
      "outputs": [
        {
          "output_type": "execute_result",
          "data": {
            "text/html": [
              "<div>\n",
              "<style scoped>\n",
              "    .dataframe tbody tr th:only-of-type {\n",
              "        vertical-align: middle;\n",
              "    }\n",
              "\n",
              "    .dataframe tbody tr th {\n",
              "        vertical-align: top;\n",
              "    }\n",
              "\n",
              "    .dataframe thead th {\n",
              "        text-align: right;\n",
              "    }\n",
              "</style>\n",
              "<table border=\"1\" class=\"dataframe\">\n",
              "  <thead>\n",
              "    <tr style=\"text-align: right;\">\n",
              "      <th></th>\n",
              "      <th>gender</th>\n",
              "      <th>race/ethnicity</th>\n",
              "      <th>parental level of education</th>\n",
              "      <th>lunch</th>\n",
              "      <th>test preparation course</th>\n",
              "      <th>math score</th>\n",
              "      <th>reading score</th>\n",
              "      <th>writing score</th>\n",
              "      <th>total score</th>\n",
              "      <th>pass_math</th>\n",
              "      <th>target</th>\n",
              "      <th>sex</th>\n",
              "      <th>race</th>\n",
              "      <th>parent</th>\n",
              "      <th>lunch_type</th>\n",
              "    </tr>\n",
              "  </thead>\n",
              "  <tbody>\n",
              "    <tr>\n",
              "      <th>0</th>\n",
              "      <td>female</td>\n",
              "      <td>group B</td>\n",
              "      <td>bachelor's degree</td>\n",
              "      <td>standard</td>\n",
              "      <td>none</td>\n",
              "      <td>72</td>\n",
              "      <td>72</td>\n",
              "      <td>74</td>\n",
              "      <td>218</td>\n",
              "      <td>Pass</td>\n",
              "      <td>1</td>\n",
              "      <td>0</td>\n",
              "      <td>1</td>\n",
              "      <td>3</td>\n",
              "      <td>1</td>\n",
              "    </tr>\n",
              "    <tr>\n",
              "      <th>1</th>\n",
              "      <td>female</td>\n",
              "      <td>group C</td>\n",
              "      <td>some college</td>\n",
              "      <td>standard</td>\n",
              "      <td>completed</td>\n",
              "      <td>69</td>\n",
              "      <td>90</td>\n",
              "      <td>88</td>\n",
              "      <td>247</td>\n",
              "      <td>Pass</td>\n",
              "      <td>1</td>\n",
              "      <td>0</td>\n",
              "      <td>2</td>\n",
              "      <td>2</td>\n",
              "      <td>1</td>\n",
              "    </tr>\n",
              "    <tr>\n",
              "      <th>2</th>\n",
              "      <td>female</td>\n",
              "      <td>group B</td>\n",
              "      <td>master's degree</td>\n",
              "      <td>standard</td>\n",
              "      <td>none</td>\n",
              "      <td>90</td>\n",
              "      <td>95</td>\n",
              "      <td>93</td>\n",
              "      <td>278</td>\n",
              "      <td>Pass</td>\n",
              "      <td>1</td>\n",
              "      <td>0</td>\n",
              "      <td>1</td>\n",
              "      <td>4</td>\n",
              "      <td>1</td>\n",
              "    </tr>\n",
              "    <tr>\n",
              "      <th>3</th>\n",
              "      <td>male</td>\n",
              "      <td>group A</td>\n",
              "      <td>associate's degree</td>\n",
              "      <td>free/reduced</td>\n",
              "      <td>none</td>\n",
              "      <td>47</td>\n",
              "      <td>57</td>\n",
              "      <td>44</td>\n",
              "      <td>148</td>\n",
              "      <td>Pass</td>\n",
              "      <td>1</td>\n",
              "      <td>1</td>\n",
              "      <td>0</td>\n",
              "      <td>5</td>\n",
              "      <td>0</td>\n",
              "    </tr>\n",
              "    <tr>\n",
              "      <th>4</th>\n",
              "      <td>male</td>\n",
              "      <td>group C</td>\n",
              "      <td>some college</td>\n",
              "      <td>standard</td>\n",
              "      <td>none</td>\n",
              "      <td>76</td>\n",
              "      <td>78</td>\n",
              "      <td>75</td>\n",
              "      <td>229</td>\n",
              "      <td>Pass</td>\n",
              "      <td>1</td>\n",
              "      <td>1</td>\n",
              "      <td>2</td>\n",
              "      <td>2</td>\n",
              "      <td>1</td>\n",
              "    </tr>\n",
              "  </tbody>\n",
              "</table>\n",
              "</div>"
            ],
            "text/plain": [
              "   gender race/ethnicity parental level of education  ... race parent  lunch_type\n",
              "0  female        group B           bachelor's degree  ...    1      3           1\n",
              "1  female        group C                some college  ...    2      2           1\n",
              "2  female        group B             master's degree  ...    1      4           1\n",
              "3    male        group A          associate's degree  ...    0      5           0\n",
              "4    male        group C                some college  ...    2      2           1\n",
              "\n",
              "[5 rows x 15 columns]"
            ]
          },
          "metadata": {
            "tags": []
          },
          "execution_count": 24
        }
      ]
    },
    {
      "cell_type": "markdown",
      "metadata": {
        "id": "v6re0VXU4ttU",
        "colab_type": "text"
      },
      "source": [
        "Заменим колонку \"test preparation course\" на \"test\""
      ]
    },
    {
      "cell_type": "code",
      "metadata": {
        "id": "vreXGkj-4zT-",
        "colab_type": "code",
        "outputId": "58ec03b0-f848-41d4-b9f4-915ac46afe74",
        "colab": {
          "base_uri": "https://localhost:8080/",
          "height": 323
        }
      },
      "source": [
        "data['test'] = data['test preparation course']\n",
        "data.loc[data['test preparation course'] == 'none', 'test'] = 0\n",
        "data.loc[data['test preparation course'] == 'completed', 'test'] = 1\n",
        "data.head()"
      ],
      "execution_count": 25,
      "outputs": [
        {
          "output_type": "execute_result",
          "data": {
            "text/html": [
              "<div>\n",
              "<style scoped>\n",
              "    .dataframe tbody tr th:only-of-type {\n",
              "        vertical-align: middle;\n",
              "    }\n",
              "\n",
              "    .dataframe tbody tr th {\n",
              "        vertical-align: top;\n",
              "    }\n",
              "\n",
              "    .dataframe thead th {\n",
              "        text-align: right;\n",
              "    }\n",
              "</style>\n",
              "<table border=\"1\" class=\"dataframe\">\n",
              "  <thead>\n",
              "    <tr style=\"text-align: right;\">\n",
              "      <th></th>\n",
              "      <th>gender</th>\n",
              "      <th>race/ethnicity</th>\n",
              "      <th>parental level of education</th>\n",
              "      <th>lunch</th>\n",
              "      <th>test preparation course</th>\n",
              "      <th>math score</th>\n",
              "      <th>reading score</th>\n",
              "      <th>writing score</th>\n",
              "      <th>total score</th>\n",
              "      <th>pass_math</th>\n",
              "      <th>target</th>\n",
              "      <th>sex</th>\n",
              "      <th>race</th>\n",
              "      <th>parent</th>\n",
              "      <th>lunch_type</th>\n",
              "      <th>test</th>\n",
              "    </tr>\n",
              "  </thead>\n",
              "  <tbody>\n",
              "    <tr>\n",
              "      <th>0</th>\n",
              "      <td>female</td>\n",
              "      <td>group B</td>\n",
              "      <td>bachelor's degree</td>\n",
              "      <td>standard</td>\n",
              "      <td>none</td>\n",
              "      <td>72</td>\n",
              "      <td>72</td>\n",
              "      <td>74</td>\n",
              "      <td>218</td>\n",
              "      <td>Pass</td>\n",
              "      <td>1</td>\n",
              "      <td>0</td>\n",
              "      <td>1</td>\n",
              "      <td>3</td>\n",
              "      <td>1</td>\n",
              "      <td>0</td>\n",
              "    </tr>\n",
              "    <tr>\n",
              "      <th>1</th>\n",
              "      <td>female</td>\n",
              "      <td>group C</td>\n",
              "      <td>some college</td>\n",
              "      <td>standard</td>\n",
              "      <td>completed</td>\n",
              "      <td>69</td>\n",
              "      <td>90</td>\n",
              "      <td>88</td>\n",
              "      <td>247</td>\n",
              "      <td>Pass</td>\n",
              "      <td>1</td>\n",
              "      <td>0</td>\n",
              "      <td>2</td>\n",
              "      <td>2</td>\n",
              "      <td>1</td>\n",
              "      <td>1</td>\n",
              "    </tr>\n",
              "    <tr>\n",
              "      <th>2</th>\n",
              "      <td>female</td>\n",
              "      <td>group B</td>\n",
              "      <td>master's degree</td>\n",
              "      <td>standard</td>\n",
              "      <td>none</td>\n",
              "      <td>90</td>\n",
              "      <td>95</td>\n",
              "      <td>93</td>\n",
              "      <td>278</td>\n",
              "      <td>Pass</td>\n",
              "      <td>1</td>\n",
              "      <td>0</td>\n",
              "      <td>1</td>\n",
              "      <td>4</td>\n",
              "      <td>1</td>\n",
              "      <td>0</td>\n",
              "    </tr>\n",
              "    <tr>\n",
              "      <th>3</th>\n",
              "      <td>male</td>\n",
              "      <td>group A</td>\n",
              "      <td>associate's degree</td>\n",
              "      <td>free/reduced</td>\n",
              "      <td>none</td>\n",
              "      <td>47</td>\n",
              "      <td>57</td>\n",
              "      <td>44</td>\n",
              "      <td>148</td>\n",
              "      <td>Pass</td>\n",
              "      <td>1</td>\n",
              "      <td>1</td>\n",
              "      <td>0</td>\n",
              "      <td>5</td>\n",
              "      <td>0</td>\n",
              "      <td>0</td>\n",
              "    </tr>\n",
              "    <tr>\n",
              "      <th>4</th>\n",
              "      <td>male</td>\n",
              "      <td>group C</td>\n",
              "      <td>some college</td>\n",
              "      <td>standard</td>\n",
              "      <td>none</td>\n",
              "      <td>76</td>\n",
              "      <td>78</td>\n",
              "      <td>75</td>\n",
              "      <td>229</td>\n",
              "      <td>Pass</td>\n",
              "      <td>1</td>\n",
              "      <td>1</td>\n",
              "      <td>2</td>\n",
              "      <td>2</td>\n",
              "      <td>1</td>\n",
              "      <td>0</td>\n",
              "    </tr>\n",
              "  </tbody>\n",
              "</table>\n",
              "</div>"
            ],
            "text/plain": [
              "   gender race/ethnicity parental level of education  ... parent lunch_type  test\n",
              "0  female        group B           bachelor's degree  ...      3          1     0\n",
              "1  female        group C                some college  ...      2          1     1\n",
              "2  female        group B             master's degree  ...      4          1     0\n",
              "3    male        group A          associate's degree  ...      5          0     0\n",
              "4    male        group C                some college  ...      2          1     0\n",
              "\n",
              "[5 rows x 16 columns]"
            ]
          },
          "metadata": {
            "tags": []
          },
          "execution_count": 25
        }
      ]
    },
    {
      "cell_type": "markdown",
      "metadata": {
        "id": "NeRzFv2p4xO6",
        "colab_type": "text"
      },
      "source": [
        "Создадим таблицу X - это вектор тренировочных данных"
      ]
    },
    {
      "cell_type": "code",
      "metadata": {
        "id": "uOEJ9kQv5OzO",
        "colab_type": "code",
        "outputId": "a180102c-e56f-4ec7-e32d-294b14967254",
        "colab": {
          "base_uri": "https://localhost:8080/",
          "height": 204
        }
      },
      "source": [
        "X = data[['sex',\t'race',\t'parent',\t'lunch_type',\t'test']]\n",
        "X.head()"
      ],
      "execution_count": 26,
      "outputs": [
        {
          "output_type": "execute_result",
          "data": {
            "text/html": [
              "<div>\n",
              "<style scoped>\n",
              "    .dataframe tbody tr th:only-of-type {\n",
              "        vertical-align: middle;\n",
              "    }\n",
              "\n",
              "    .dataframe tbody tr th {\n",
              "        vertical-align: top;\n",
              "    }\n",
              "\n",
              "    .dataframe thead th {\n",
              "        text-align: right;\n",
              "    }\n",
              "</style>\n",
              "<table border=\"1\" class=\"dataframe\">\n",
              "  <thead>\n",
              "    <tr style=\"text-align: right;\">\n",
              "      <th></th>\n",
              "      <th>sex</th>\n",
              "      <th>race</th>\n",
              "      <th>parent</th>\n",
              "      <th>lunch_type</th>\n",
              "      <th>test</th>\n",
              "    </tr>\n",
              "  </thead>\n",
              "  <tbody>\n",
              "    <tr>\n",
              "      <th>0</th>\n",
              "      <td>0</td>\n",
              "      <td>1</td>\n",
              "      <td>3</td>\n",
              "      <td>1</td>\n",
              "      <td>0</td>\n",
              "    </tr>\n",
              "    <tr>\n",
              "      <th>1</th>\n",
              "      <td>0</td>\n",
              "      <td>2</td>\n",
              "      <td>2</td>\n",
              "      <td>1</td>\n",
              "      <td>1</td>\n",
              "    </tr>\n",
              "    <tr>\n",
              "      <th>2</th>\n",
              "      <td>0</td>\n",
              "      <td>1</td>\n",
              "      <td>4</td>\n",
              "      <td>1</td>\n",
              "      <td>0</td>\n",
              "    </tr>\n",
              "    <tr>\n",
              "      <th>3</th>\n",
              "      <td>1</td>\n",
              "      <td>0</td>\n",
              "      <td>5</td>\n",
              "      <td>0</td>\n",
              "      <td>0</td>\n",
              "    </tr>\n",
              "    <tr>\n",
              "      <th>4</th>\n",
              "      <td>1</td>\n",
              "      <td>2</td>\n",
              "      <td>2</td>\n",
              "      <td>1</td>\n",
              "      <td>0</td>\n",
              "    </tr>\n",
              "  </tbody>\n",
              "</table>\n",
              "</div>"
            ],
            "text/plain": [
              "   sex  race  parent  lunch_type  test\n",
              "0    0     1       3           1     0\n",
              "1    0     2       2           1     1\n",
              "2    0     1       4           1     0\n",
              "3    1     0       5           0     0\n",
              "4    1     2       2           1     0"
            ]
          },
          "metadata": {
            "tags": []
          },
          "execution_count": 26
        }
      ]
    },
    {
      "cell_type": "markdown",
      "metadata": {
        "id": "eIZfrWqa5c2c",
        "colab_type": "text"
      },
      "source": [
        "Y - значение таргет"
      ]
    },
    {
      "cell_type": "code",
      "metadata": {
        "id": "1k2kqwAX5e5h",
        "colab_type": "code",
        "colab": {}
      },
      "source": [
        "Y = data['total score']"
      ],
      "execution_count": 0,
      "outputs": []
    },
    {
      "cell_type": "markdown",
      "metadata": {
        "id": "Lpl0QTMB5ojQ",
        "colab_type": "text"
      },
      "source": [
        "Разделим данные на **тренировочные** и **тестовые** данные (80% тренировочных и 20% тестовых):"
      ]
    },
    {
      "cell_type": "code",
      "metadata": {
        "id": "SK4eQGKG5sbU",
        "colab_type": "code",
        "outputId": "2abcfa15-7c70-4d3f-926f-c3eb8480f1e4",
        "colab": {
          "base_uri": "https://localhost:8080/",
          "height": 68
        }
      },
      "source": [
        "from sklearn.model_selection import train_test_split\n",
        "\n",
        "# Whole dataset\n",
        "X_train, X_test, y_train, y_test = train_test_split(X,Y,test_size = 0.2, random_state = 0)\n",
        "\n",
        "print(\"Number train dataset: \", len(X_train))\n",
        "print(\"Number test dataset: \", len(X_test))\n",
        "print(\"Total number: \", len(X_train)+len(X_test))"
      ],
      "execution_count": 28,
      "outputs": [
        {
          "output_type": "stream",
          "text": [
            "Number train dataset:  800\n",
            "Number test dataset:  200\n",
            "Total number:  1000\n"
          ],
          "name": "stdout"
        }
      ]
    },
    {
      "cell_type": "markdown",
      "metadata": {
        "id": "dA2dNkdIPhv4",
        "colab_type": "text"
      },
      "source": [
        "Построим линейную регрессию"
      ]
    },
    {
      "cell_type": "code",
      "metadata": {
        "id": "hTPC6AyFPmeW",
        "colab_type": "code",
        "outputId": "efaf3242-0142-407a-f64c-9d72639474f1",
        "colab": {
          "base_uri": "https://localhost:8080/",
          "height": 34
        }
      },
      "source": [
        "from sklearn.linear_model import LinearRegression\n",
        "model = LinearRegression()\n",
        "model.fit(X_train, y_train)"
      ],
      "execution_count": 29,
      "outputs": [
        {
          "output_type": "execute_result",
          "data": {
            "text/plain": [
              "LinearRegression(copy_X=True, fit_intercept=True, n_jobs=None, normalize=False)"
            ]
          },
          "metadata": {
            "tags": []
          },
          "execution_count": 29
        }
      ]
    },
    {
      "cell_type": "markdown",
      "metadata": {
        "id": "JTmThRkVQjMs",
        "colab_type": "text"
      },
      "source": [
        "Посмотрим **качество модели** на тестовых данных"
      ]
    },
    {
      "cell_type": "code",
      "metadata": {
        "id": "qkS36gjzQmR1",
        "colab_type": "code",
        "colab": {}
      },
      "source": [
        "Y_pred = model.predict(X_test)"
      ],
      "execution_count": 0,
      "outputs": []
    },
    {
      "cell_type": "markdown",
      "metadata": {
        "id": "6fLnELmxTYbc",
        "colab_type": "text"
      },
      "source": [
        "Сравним 4 первых элемента Y предсказанное значение и Y истинное"
      ]
    },
    {
      "cell_type": "code",
      "metadata": {
        "id": "k8tD5py8RiCN",
        "colab_type": "code",
        "outputId": "f8cc1373-81f0-4440-c7a6-50255054b3ec",
        "colab": {
          "base_uri": "https://localhost:8080/",
          "height": 34
        }
      },
      "source": [
        "Y_pred[:4]"
      ],
      "execution_count": 31,
      "outputs": [
        {
          "output_type": "execute_result",
          "data": {
            "text/plain": [
              "array([191.09732936, 180.62917599, 184.99624698, 174.31517493])"
            ]
          },
          "metadata": {
            "tags": []
          },
          "execution_count": 31
        }
      ]
    },
    {
      "cell_type": "code",
      "metadata": {
        "id": "TfTzq-aBRl_t",
        "colab_type": "code",
        "outputId": "d6d56986-587c-4fc8-f792-d3243aab5224",
        "colab": {
          "base_uri": "https://localhost:8080/",
          "height": 34
        }
      },
      "source": [
        "np.array(y_test)[:4]"
      ],
      "execution_count": 32,
      "outputs": [
        {
          "output_type": "execute_result",
          "data": {
            "text/plain": [
              "array([208, 232, 136, 203])"
            ]
          },
          "metadata": {
            "tags": []
          },
          "execution_count": 32
        }
      ]
    },
    {
      "cell_type": "markdown",
      "metadata": {
        "id": "Wt6vkUrpQsqj",
        "colab_type": "text"
      },
      "source": [
        "Посчитаем качество как **сумму абсолютных отклонений от истинных значений**"
      ]
    },
    {
      "cell_type": "code",
      "metadata": {
        "id": "rVIxsTlFQy-Y",
        "colab_type": "code",
        "colab": {}
      },
      "source": [
        "abs_error = abs(Y_pred - np.array(y_test))"
      ],
      "execution_count": 0,
      "outputs": []
    },
    {
      "cell_type": "code",
      "metadata": {
        "id": "IeiRTcALRr9S",
        "colab_type": "code",
        "outputId": "b9fbd8ce-dafe-4272-dc26-5c29aa33371f",
        "colab": {
          "base_uri": "https://localhost:8080/",
          "height": 34
        }
      },
      "source": [
        "abs_error[:4]"
      ],
      "execution_count": 34,
      "outputs": [
        {
          "output_type": "execute_result",
          "data": {
            "text/plain": [
              "array([16.90267064, 51.37082401, 48.99624698, 28.68482507])"
            ]
          },
          "metadata": {
            "tags": []
          },
          "execution_count": 34
        }
      ]
    },
    {
      "cell_type": "code",
      "metadata": {
        "id": "OhbatS5URRSI",
        "colab_type": "code",
        "outputId": "13cfe539-41f2-4e81-e5e8-b71d8eb2541b",
        "colab": {
          "base_uri": "https://localhost:8080/",
          "height": 34
        }
      },
      "source": [
        "print('сумма абсолютных отклонений равна: ', (sum(abs_error))/len(abs_error))"
      ],
      "execution_count": 35,
      "outputs": [
        {
          "output_type": "stream",
          "text": [
            "сумма абсолютных отклонений равна:  31.184056920910624\n"
          ],
          "name": "stdout"
        }
      ]
    },
    {
      "cell_type": "code",
      "metadata": {
        "id": "aWLO37jVA6Gc",
        "colab_type": "code",
        "outputId": "33e71e31-9452-4a9d-b677-80cd1bce6abd",
        "colab": {
          "base_uri": "https://localhost:8080/",
          "height": 51
        }
      },
      "source": [
        "print('min:', min(Y))\n",
        "print('max:', max(Y))"
      ],
      "execution_count": 36,
      "outputs": [
        {
          "output_type": "stream",
          "text": [
            "min: 27\n",
            "max: 300\n"
          ],
          "name": "stdout"
        }
      ]
    },
    {
      "cell_type": "markdown",
      "metadata": {
        "id": "zjnLcAQPR143",
        "colab_type": "text"
      },
      "source": [
        "Посчитаем **квадратичную ошибку**"
      ]
    },
    {
      "cell_type": "code",
      "metadata": {
        "id": "KdJn7J1CSD4I",
        "colab_type": "code",
        "outputId": "1ea57d7d-754c-4817-c065-873d1a6b1f4e",
        "colab": {
          "base_uri": "https://localhost:8080/",
          "height": 34
        }
      },
      "source": [
        "(sum((Y_pred - np.array(y_test))**2)/len(Y_pred))**0.5"
      ],
      "execution_count": 37,
      "outputs": [
        {
          "output_type": "execute_result",
          "data": {
            "text/plain": [
              "38.536122638462714"
            ]
          },
          "metadata": {
            "tags": []
          },
          "execution_count": 37
        }
      ]
    },
    {
      "cell_type": "code",
      "metadata": {
        "id": "HUlLFHzgkENh",
        "colab_type": "code",
        "outputId": "060a46d5-aadc-4828-ec7f-738e4897b444",
        "colab": {
          "base_uri": "https://localhost:8080/",
          "height": 34
        }
      },
      "source": [
        "from sklearn.metrics import mean_squared_error\n",
        "print(mean_squared_error(Y_pred, np.array(y_test))**0.5)"
      ],
      "execution_count": 38,
      "outputs": [
        {
          "output_type": "stream",
          "text": [
            "38.53612263846271\n"
          ],
          "name": "stdout"
        }
      ]
    },
    {
      "cell_type": "code",
      "metadata": {
        "id": "SpvtuEj8TNhj",
        "colab_type": "code",
        "outputId": "7f2243ee-0ddf-4c5c-f182-37ccd6bcdf93",
        "colab": {
          "base_uri": "https://localhost:8080/",
          "height": 51
        }
      },
      "source": [
        "print(min(Y))\n",
        "print(max(Y))"
      ],
      "execution_count": 39,
      "outputs": [
        {
          "output_type": "stream",
          "text": [
            "27\n",
            "300\n"
          ],
          "name": "stdout"
        }
      ]
    },
    {
      "cell_type": "markdown",
      "metadata": {
        "id": "_5qy_AmluC7g",
        "colab_type": "text"
      },
      "source": [
        "# Логистическая регрессия"
      ]
    },
    {
      "cell_type": "markdown",
      "metadata": {
        "id": "XUBRJ-ABz6qh",
        "colab_type": "text"
      },
      "source": [
        "Загрузим датасет ирисов. "
      ]
    },
    {
      "cell_type": "code",
      "metadata": {
        "id": "Dx2beMBHz9cy",
        "colab_type": "code",
        "outputId": "b2c596e5-7f07-4ffe-c24e-bf51ddafb4bb",
        "colab": {
          "base_uri": "https://localhost:8080/",
          "height": 204
        }
      },
      "source": [
        "sns.set(style=\"ticks\", color_codes=True)\n",
        "iris = sns.load_dataset(\"iris\")\n",
        "iris.head()"
      ],
      "execution_count": 40,
      "outputs": [
        {
          "output_type": "execute_result",
          "data": {
            "text/html": [
              "<div>\n",
              "<style scoped>\n",
              "    .dataframe tbody tr th:only-of-type {\n",
              "        vertical-align: middle;\n",
              "    }\n",
              "\n",
              "    .dataframe tbody tr th {\n",
              "        vertical-align: top;\n",
              "    }\n",
              "\n",
              "    .dataframe thead th {\n",
              "        text-align: right;\n",
              "    }\n",
              "</style>\n",
              "<table border=\"1\" class=\"dataframe\">\n",
              "  <thead>\n",
              "    <tr style=\"text-align: right;\">\n",
              "      <th></th>\n",
              "      <th>sepal_length</th>\n",
              "      <th>sepal_width</th>\n",
              "      <th>petal_length</th>\n",
              "      <th>petal_width</th>\n",
              "      <th>species</th>\n",
              "    </tr>\n",
              "  </thead>\n",
              "  <tbody>\n",
              "    <tr>\n",
              "      <th>0</th>\n",
              "      <td>5.1</td>\n",
              "      <td>3.5</td>\n",
              "      <td>1.4</td>\n",
              "      <td>0.2</td>\n",
              "      <td>setosa</td>\n",
              "    </tr>\n",
              "    <tr>\n",
              "      <th>1</th>\n",
              "      <td>4.9</td>\n",
              "      <td>3.0</td>\n",
              "      <td>1.4</td>\n",
              "      <td>0.2</td>\n",
              "      <td>setosa</td>\n",
              "    </tr>\n",
              "    <tr>\n",
              "      <th>2</th>\n",
              "      <td>4.7</td>\n",
              "      <td>3.2</td>\n",
              "      <td>1.3</td>\n",
              "      <td>0.2</td>\n",
              "      <td>setosa</td>\n",
              "    </tr>\n",
              "    <tr>\n",
              "      <th>3</th>\n",
              "      <td>4.6</td>\n",
              "      <td>3.1</td>\n",
              "      <td>1.5</td>\n",
              "      <td>0.2</td>\n",
              "      <td>setosa</td>\n",
              "    </tr>\n",
              "    <tr>\n",
              "      <th>4</th>\n",
              "      <td>5.0</td>\n",
              "      <td>3.6</td>\n",
              "      <td>1.4</td>\n",
              "      <td>0.2</td>\n",
              "      <td>setosa</td>\n",
              "    </tr>\n",
              "  </tbody>\n",
              "</table>\n",
              "</div>"
            ],
            "text/plain": [
              "   sepal_length  sepal_width  petal_length  petal_width species\n",
              "0           5.1          3.5           1.4          0.2  setosa\n",
              "1           4.9          3.0           1.4          0.2  setosa\n",
              "2           4.7          3.2           1.3          0.2  setosa\n",
              "3           4.6          3.1           1.5          0.2  setosa\n",
              "4           5.0          3.6           1.4          0.2  setosa"
            ]
          },
          "metadata": {
            "tags": []
          },
          "execution_count": 40
        }
      ]
    },
    {
      "cell_type": "markdown",
      "metadata": {
        "id": "thQfT2m12DnY",
        "colab_type": "text"
      },
      "source": [
        "Мы хотим предсказать к какому классу относится цветок по 4 параметрам. Всего 3 класса. С какой-то вероятностью новый цветок, которого нет в датасете, будет относится к одному из 4ых цветков."
      ]
    },
    {
      "cell_type": "code",
      "metadata": {
        "id": "J0GSs3w32R_9",
        "colab_type": "code",
        "outputId": "a84e2354-b05d-4ffa-99e4-c479a6b7ff58",
        "colab": {
          "base_uri": "https://localhost:8080/",
          "height": 34
        }
      },
      "source": [
        "iris['species'].unique()"
      ],
      "execution_count": 41,
      "outputs": [
        {
          "output_type": "execute_result",
          "data": {
            "text/plain": [
              "array(['setosa', 'versicolor', 'virginica'], dtype=object)"
            ]
          },
          "metadata": {
            "tags": []
          },
          "execution_count": 41
        }
      ]
    },
    {
      "cell_type": "code",
      "metadata": {
        "id": "QCwQPAtu2ZaI",
        "colab_type": "code",
        "outputId": "c2729af6-3a29-48f8-e9e2-b671d6da880c",
        "colab": {
          "base_uri": "https://localhost:8080/",
          "height": 68
        }
      },
      "source": [
        "print(len((iris[iris['species']=='setosa'])))\n",
        "print(len(iris[iris['species']=='versicolor']))\n",
        "print(len(iris[iris['species']=='virginica']))"
      ],
      "execution_count": 42,
      "outputs": [
        {
          "output_type": "stream",
          "text": [
            "50\n",
            "50\n",
            "50\n"
          ],
          "name": "stdout"
        }
      ]
    },
    {
      "cell_type": "code",
      "metadata": {
        "id": "JHvi1kqE3Lnz",
        "colab_type": "code",
        "colab": {}
      },
      "source": [
        "from sklearn.datasets import load_iris\n",
        "from sklearn.linear_model import LogisticRegression\n",
        "\n",
        "X, y = load_iris(return_X_y=True)"
      ],
      "execution_count": 0,
      "outputs": []
    },
    {
      "cell_type": "markdown",
      "metadata": {
        "id": "EZZEIYQ32SsR",
        "colab_type": "text"
      },
      "source": [
        "Разделим датасет на тренировочные данные и на тестовые данные"
      ]
    },
    {
      "cell_type": "code",
      "metadata": {
        "id": "XjSmvjpG0zsD",
        "colab_type": "code",
        "colab": {}
      },
      "source": [
        "from sklearn.model_selection import train_test_split\n",
        "\n",
        "X_train, X_test, y_train, y_test = train_test_split(X,y,test_size = 0.2, random_state = 42)"
      ],
      "execution_count": 0,
      "outputs": []
    },
    {
      "cell_type": "markdown",
      "metadata": {
        "id": "5ybtRI63If1R",
        "colab_type": "text"
      },
      "source": [
        "**Логистическая регрессия** - это разновидность множественной регрессии, общее назначение которой состоит в анализе связи между несколькими независимыми переменными (называемыми также регрессорами или предикторами) и зависимой переменной. Бинарная логистическая регрессия применяется, если зависимая переменная является бинарной (т.е. может принимать только два значения). Иными словами, с помощью логистической регрессии можно оценивать вероятность того, что событие наступит для конкретного испытуемого (больной/здоровый, возврат кредита/дефолт и т.д.).\n",
        "\n",
        "Все регрессионные модели могут быть записаны в виде формулы:\n",
        "\n"
      ]
    },
    {
      "cell_type": "markdown",
      "metadata": {
        "id": "juyoBV9ZJQzq",
        "colab_type": "text"
      },
      "source": [
        "$$y=F(x_{1},x_{2},..x_{n})$$"
      ]
    },
    {
      "cell_type": "markdown",
      "metadata": {
        "id": "TNb9k9B5Il-6",
        "colab_type": "text"
      },
      "source": [
        "В множественной линейной регрессии предполагается, что зависимая переменная является линейной функцией независимых переменных:\n",
        "\n"
      ]
    },
    {
      "cell_type": "markdown",
      "metadata": {
        "id": "CMbIr2kTIn9o",
        "colab_type": "text"
      },
      "source": [
        "Данную регрессию можно использовать для задачи оценки вероятности исхода события, вычислив стандартные коэффициенты регрессии. Например, если рассматривается исход по займу, задается переменная y со значениями 1 и 0, где 1 означает, что соответствующий заемщик расплатился по кредиту, а 0, что имел место дефолт. Возникает проблема: множественная регрессия не учитывает, что переменная отклика бинарна по своей природе. Это приведет к модели с предсказываемыми значениями большими 1 и меньшими 0. Но такие значения вообще не допустимы для первоначальной задачи. Таким образом, множественная регрессия просто игнорирует ограничения на диапазон значений для y.\n",
        "\n",
        "Для решения проблемы задача регрессии может быть сформулирована иначе: вместо предсказания бинарной переменной, предсказывается непрерывная переменная со значениями на отрезке [0, 1] при любых значениях независимых переменных. Это достигается применением следующего регрессионного уравнения (логит-преобразование):"
      ]
    },
    {
      "cell_type": "markdown",
      "metadata": {
        "id": "QhUOJmQrHMOP",
        "colab_type": "text"
      },
      "source": [
        "Логистическая функция $f(x)=\\frac{1}{1+e^{-1}}$"
      ]
    },
    {
      "cell_type": "markdown",
      "metadata": {
        "id": "ngrK5IZPHN_7",
        "colab_type": "text"
      },
      "source": [
        "![alt text](https://upload.wikimedia.org/wikipedia/commons/a/ac/Logistic-curve.png)"
      ]
    },
    {
      "cell_type": "markdown",
      "metadata": {
        "id": "RFoFaUopH0eN",
        "colab_type": "text"
      },
      "source": [
        "где\n",
        "\n",
        "*  P. Вероятность того, что произойдет интересующее событие;\n",
        "\n",
        "*  e. Основание натуральных логарифмов 2,71…;\n",
        "\n",
        "*  y. Стандартное уравнение регрессии."
      ]
    },
    {
      "cell_type": "markdown",
      "metadata": {
        "id": "5jmFf82c2X2V",
        "colab_type": "text"
      },
      "source": [
        "Применим логистическую регрессию и посмотрим качество модели на тестовых данных"
      ]
    },
    {
      "cell_type": "code",
      "metadata": {
        "id": "5QzZmqK107Gk",
        "colab_type": "code",
        "outputId": "236f86bd-a000-46ba-be1d-3c2e20848b83",
        "colab": {
          "base_uri": "https://localhost:8080/",
          "height": 122
        }
      },
      "source": [
        "clf = LogisticRegression(random_state=0, solver='lbfgs',\n",
        "                         multi_class='multinomial').fit(X_train, y_train)\n",
        "y_predicted = clf.predict(X_test)\n",
        "print(y_predicted)\n",
        "print(y_test)\n",
        "print(clf.score(X_test, y_test))"
      ],
      "execution_count": 60,
      "outputs": [
        {
          "output_type": "stream",
          "text": [
            "[1 0 2 1 1 0 1 2 1 1 2 0 0 0 0 1 2 1 1 2 0 2 0 2 2 2 2 2 0 0]\n",
            "[1 0 2 1 1 0 1 2 1 1 2 0 0 0 0 1 2 1 1 2 0 2 0 2 2 2 2 2 0 0]\n",
            "1.0\n"
          ],
          "name": "stdout"
        },
        {
          "output_type": "stream",
          "text": [
            "/usr/local/lib/python3.6/dist-packages/sklearn/linear_model/logistic.py:947: ConvergenceWarning: lbfgs failed to converge. Increase the number of iterations.\n",
            "  \"of iterations.\", ConvergenceWarning)\n"
          ],
          "name": "stderr"
        }
      ]
    },
    {
      "cell_type": "markdown",
      "metadata": {
        "id": "I3vNPeSZ24Ru",
        "colab_type": "text"
      },
      "source": [
        "Качество классификационной модели оценивается по таким характеристикам, как **precision** и **recall**. "
      ]
    },
    {
      "cell_type": "markdown",
      "metadata": {
        "id": "nzklZC5jEuQ3",
        "colab_type": "text"
      },
      "source": [
        "Точность (precision) и полнота (recall) являются метриками которые используются при оценке большей части алгоритмов извлечения информации. Иногда они используются сами по себе, иногда в качестве базиса для производных метрик, таких как F-мера или R-Precision.\n",
        "\n",
        "**Точность системы в пределах класса (precision)** – это доля элементов действительно принадлежащих данному классу относительно всех элементов которые система отнесла к этому классу."
      ]
    },
    {
      "cell_type": "markdown",
      "metadata": {
        "id": "FLHnkLZM3W2g",
        "colab_type": "text"
      },
      "source": [
        "$$precision = \\frac{tp}{tp+fp}$$"
      ]
    },
    {
      "cell_type": "markdown",
      "metadata": {
        "id": "pP32YGE04J8_",
        "colab_type": "text"
      },
      "source": [
        "**Полнота системы (recall)** – это доля найденных классфикатором элементов принадлежащих классу относительно всех элементов этого класса в тестовой выборке."
      ]
    },
    {
      "cell_type": "markdown",
      "metadata": {
        "id": "7SObKYig5E7w",
        "colab_type": "text"
      },
      "source": [
        "$$recall = \\frac{tp}{tp+fn}$$"
      ]
    },
    {
      "cell_type": "markdown",
      "metadata": {
        "id": "cj4ayrTC3hnS",
        "colab_type": "text"
      },
      "source": [
        "**recall** соответственно - это отношение верно предсказанных классов к сумме верных предсказаний и неверных противоположных предсказаний. Recall - вероятность того, что модель найдет всех больных в классе о здоровых и больных людях."
      ]
    },
    {
      "cell_type": "markdown",
      "metadata": {
        "id": "ttx9sp2eGPCL",
        "colab_type": "text"
      },
      "source": [
        "В общем виде это можно проиллюстрировать следующей картинкой:"
      ]
    },
    {
      "cell_type": "markdown",
      "metadata": {
        "id": "jKN19lQhGIxn",
        "colab_type": "text"
      },
      "source": [
        "![alt text](https://hsto.org/webt/cu/4l/2w/cu4l2wliuqbqanpptc1y-rq3scu.png)"
      ]
    },
    {
      "cell_type": "markdown",
      "metadata": {
        "id": "Z8JOx7t2GPwr",
        "colab_type": "text"
      },
      "source": [
        "В таблице содержится информация сколько раз система приняла верное и сколько раз неверное решение по документам заданного класса. А именно:\n",
        "\n",
        "*  TP — истино-положительное решение;\n",
        "*  TN — истино-отрицательное решение;\n",
        "*  FP — ложно-положительное решение;\n",
        "*  FN — ложно-отрицательное решение."
      ]
    },
    {
      "cell_type": "markdown",
      "metadata": {
        "id": "ilbPLCVnFd7T",
        "colab_type": "text"
      },
      "source": [
        "*Рассмотрим пример. Допустим, у вас есть тестовая выборка в которой 10 сообщений, из них 4 – спам. Обработав все сообщения классификатор пометил 2 сообщения как спам, причем одно действительно является спамом, а второе было помечено в тестовой выборке как нормальное. Мы имеем одно истино-положительное решение, три ложно-отрицательных и одно ложно-положительное. Тогда для класса “спам” точность классификатора составляет $1/2$ (50% положительных решений правильные), а полнота $1/4$ (классификатор нашел 25% всех спам-сообщений).*"
      ]
    },
    {
      "cell_type": "markdown",
      "metadata": {
        "id": "z_nL6cYx5jZ2",
        "colab_type": "text"
      },
      "source": [
        "F1-score - среднее между precision и recall, лучшее значение для F1 - это 1, худшее значение - это 0."
      ]
    },
    {
      "cell_type": "code",
      "metadata": {
        "id": "3X8zsHhQ1SFb",
        "colab_type": "code",
        "outputId": "d4b1b38e-8747-4f02-ed9c-7ee2b9b64a2a",
        "colab": {
          "base_uri": "https://localhost:8080/",
          "height": 187
        }
      },
      "source": [
        "from sklearn.metrics import classification_report\n",
        "print(classification_report(y_test, y_predicted))"
      ],
      "execution_count": 61,
      "outputs": [
        {
          "output_type": "stream",
          "text": [
            "              precision    recall  f1-score   support\n",
            "\n",
            "           0       1.00      1.00      1.00        10\n",
            "           1       1.00      1.00      1.00         9\n",
            "           2       1.00      1.00      1.00        11\n",
            "\n",
            "    accuracy                           1.00        30\n",
            "   macro avg       1.00      1.00      1.00        30\n",
            "weighted avg       1.00      1.00      1.00        30\n",
            "\n"
          ],
          "name": "stdout"
        }
      ]
    },
    {
      "cell_type": "markdown",
      "metadata": {
        "id": "HlOCB-Smvwpi",
        "colab_type": "text"
      },
      "source": [
        "# Баесовский метод решения классификационной проблемы.\n",
        "\n",
        "Лучшим другом аналитика данных является теорема Байеса4, которая позволяет \"переставить\" условные вероятности местами. Пусть нужно узнать вероятность не коего события E, зависящего от наступления некоего другого события F, причем в наличии имеется лишь информация о вероятности события F, зависящего от наступления события E. Двукратное применение (в силу симметрии) определения условной вероятности даст формулу Байеса:\n",
        "\n",
        "\n",
        "$$ P(A\\mid B) = \\frac{P(B\\mid A) P(A)}{P(B)}$$\n",
        "\n",
        "где $P(A\\mid B)$ - вероятность наступления события A при условии наличия события B\n",
        "\n",
        "\n",
        "Если событие B разложить на два взаимоисключающих события B при условии A и B при условии $\\bar{E}$, то событие P(B) можно представить как сумма вероятностей наступления событий $P(B\\mid A)$ и  $P(B\\mid \\bar{A})$, тогда формула вероятности примет вид:\n",
        "\n",
        "$$P(A\\mid B) = \\frac{P(B\\mid A) P(A)}{P(B\\mid A)P(A) + P(B\\mid \\bar{A})P(\\bar{A})}$$\n",
        "\n",
        "\n",
        "Если события независимы:\n",
        "\n",
        "$$P(A\\mid B) = P(A)P(B)$$\n",
        "\n",
        "Если события зависимы, и при этом вероятность B не равна нулю, то \n",
        "\n",
        "$$P(A\\mid B) = \\frac{P(A, B) }{P(B)}$$\n",
        "\n",
        "\n",
        "Под этим подразумевается вероятность наступления события A при условии, что известно о наступлении события B.\n",
        "\n",
        "В случае независимости двух переменных формула принимает вид:\n",
        "\n",
        "$$P(A\\mid B) = P(A)$$\n",
        "\n",
        "\n",
        "означает, что наличие наступления события B не дает нам никакой информации о наступлении события A"
      ]
    },
    {
      "cell_type": "code",
      "metadata": {
        "id": "UwBXwgrmEbNg",
        "colab_type": "code",
        "colab": {
          "base_uri": "https://localhost:8080/",
          "height": 34
        },
        "outputId": "b8031eb6-beb0-4ce9-9ea1-485b51da4bc1"
      },
      "source": [
        "from sklearn import datasets\n",
        "iris = datasets.load_iris()\n",
        "from sklearn.naive_bayes import GaussianNB\n",
        "gnb = GaussianNB()\n",
        "y_pred = gnb.fit(X_train, y_train).predict(X_test)\n",
        "print(\"Number of mislabeled points out of a total %d points : %d\"\n",
        "      % (y_pred.shape[0],(y_test != y_pred).sum()))\n"
      ],
      "execution_count": 62,
      "outputs": [
        {
          "output_type": "stream",
          "text": [
            "Number of mislabeled points out of a total 30 points : 0\n"
          ],
          "name": "stdout"
        }
      ]
    },
    {
      "cell_type": "code",
      "metadata": {
        "id": "OKXJhXhMF2Vt",
        "colab_type": "code",
        "colab": {
          "base_uri": "https://localhost:8080/",
          "height": 187
        },
        "outputId": "d0a7454e-e239-4127-e7d2-3d7f72eff6bf"
      },
      "source": [
        "print(classification_report(y_test, y_pred))"
      ],
      "execution_count": 63,
      "outputs": [
        {
          "output_type": "stream",
          "text": [
            "              precision    recall  f1-score   support\n",
            "\n",
            "           0       1.00      1.00      1.00        10\n",
            "           1       1.00      1.00      1.00         9\n",
            "           2       1.00      1.00      1.00        11\n",
            "\n",
            "    accuracy                           1.00        30\n",
            "   macro avg       1.00      1.00      1.00        30\n",
            "weighted avg       1.00      1.00      1.00        30\n",
            "\n"
          ],
          "name": "stdout"
        }
      ]
    },
    {
      "cell_type": "markdown",
      "metadata": {
        "id": "J0t8bCoH8rIS",
        "colab_type": "text"
      },
      "source": [
        "# Датасет о кредитных картах"
      ]
    },
    {
      "cell_type": "markdown",
      "metadata": {
        "id": "ohg_2wEl8uOz",
        "colab_type": "text"
      },
      "source": [
        "Данный датасет является несбалансированным."
      ]
    },
    {
      "cell_type": "code",
      "metadata": {
        "id": "CE9SE4Fd8zOV",
        "colab_type": "code",
        "outputId": "44726f4b-6560-4389-a90d-d77489773ad4",
        "colab": {
          "base_uri": "https://localhost:8080/",
          "height": 224
        }
      },
      "source": [
        "url='http://yustiks.ru/dataset/creditcard.csv'\n",
        "s=requests.get(url).content\n",
        "data=pd.read_csv(io.StringIO(s.decode('utf-8')))\n",
        "data.head()"
      ],
      "execution_count": 48,
      "outputs": [
        {
          "output_type": "execute_result",
          "data": {
            "text/html": [
              "<div>\n",
              "<style scoped>\n",
              "    .dataframe tbody tr th:only-of-type {\n",
              "        vertical-align: middle;\n",
              "    }\n",
              "\n",
              "    .dataframe tbody tr th {\n",
              "        vertical-align: top;\n",
              "    }\n",
              "\n",
              "    .dataframe thead th {\n",
              "        text-align: right;\n",
              "    }\n",
              "</style>\n",
              "<table border=\"1\" class=\"dataframe\">\n",
              "  <thead>\n",
              "    <tr style=\"text-align: right;\">\n",
              "      <th></th>\n",
              "      <th>Time</th>\n",
              "      <th>V1</th>\n",
              "      <th>V2</th>\n",
              "      <th>V3</th>\n",
              "      <th>V4</th>\n",
              "      <th>V5</th>\n",
              "      <th>V6</th>\n",
              "      <th>V7</th>\n",
              "      <th>V8</th>\n",
              "      <th>V9</th>\n",
              "      <th>V10</th>\n",
              "      <th>V11</th>\n",
              "      <th>V12</th>\n",
              "      <th>V13</th>\n",
              "      <th>V14</th>\n",
              "      <th>V15</th>\n",
              "      <th>V16</th>\n",
              "      <th>V17</th>\n",
              "      <th>V18</th>\n",
              "      <th>V19</th>\n",
              "      <th>V20</th>\n",
              "      <th>V21</th>\n",
              "      <th>V22</th>\n",
              "      <th>V23</th>\n",
              "      <th>V24</th>\n",
              "      <th>V25</th>\n",
              "      <th>V26</th>\n",
              "      <th>V27</th>\n",
              "      <th>V28</th>\n",
              "      <th>Amount</th>\n",
              "      <th>Class</th>\n",
              "    </tr>\n",
              "  </thead>\n",
              "  <tbody>\n",
              "    <tr>\n",
              "      <th>0</th>\n",
              "      <td>0.0</td>\n",
              "      <td>-1.359807</td>\n",
              "      <td>-0.072781</td>\n",
              "      <td>2.536347</td>\n",
              "      <td>1.378155</td>\n",
              "      <td>-0.338321</td>\n",
              "      <td>0.462388</td>\n",
              "      <td>0.239599</td>\n",
              "      <td>0.098698</td>\n",
              "      <td>0.363787</td>\n",
              "      <td>0.090794</td>\n",
              "      <td>-0.551600</td>\n",
              "      <td>-0.617801</td>\n",
              "      <td>-0.991390</td>\n",
              "      <td>-0.311169</td>\n",
              "      <td>1.468177</td>\n",
              "      <td>-0.470401</td>\n",
              "      <td>0.207971</td>\n",
              "      <td>0.025791</td>\n",
              "      <td>0.403993</td>\n",
              "      <td>0.251412</td>\n",
              "      <td>-0.018307</td>\n",
              "      <td>0.277838</td>\n",
              "      <td>-0.110474</td>\n",
              "      <td>0.066928</td>\n",
              "      <td>0.128539</td>\n",
              "      <td>-0.189115</td>\n",
              "      <td>0.133558</td>\n",
              "      <td>-0.021053</td>\n",
              "      <td>149.62</td>\n",
              "      <td>0</td>\n",
              "    </tr>\n",
              "    <tr>\n",
              "      <th>1</th>\n",
              "      <td>0.0</td>\n",
              "      <td>1.191857</td>\n",
              "      <td>0.266151</td>\n",
              "      <td>0.166480</td>\n",
              "      <td>0.448154</td>\n",
              "      <td>0.060018</td>\n",
              "      <td>-0.082361</td>\n",
              "      <td>-0.078803</td>\n",
              "      <td>0.085102</td>\n",
              "      <td>-0.255425</td>\n",
              "      <td>-0.166974</td>\n",
              "      <td>1.612727</td>\n",
              "      <td>1.065235</td>\n",
              "      <td>0.489095</td>\n",
              "      <td>-0.143772</td>\n",
              "      <td>0.635558</td>\n",
              "      <td>0.463917</td>\n",
              "      <td>-0.114805</td>\n",
              "      <td>-0.183361</td>\n",
              "      <td>-0.145783</td>\n",
              "      <td>-0.069083</td>\n",
              "      <td>-0.225775</td>\n",
              "      <td>-0.638672</td>\n",
              "      <td>0.101288</td>\n",
              "      <td>-0.339846</td>\n",
              "      <td>0.167170</td>\n",
              "      <td>0.125895</td>\n",
              "      <td>-0.008983</td>\n",
              "      <td>0.014724</td>\n",
              "      <td>2.69</td>\n",
              "      <td>0</td>\n",
              "    </tr>\n",
              "    <tr>\n",
              "      <th>2</th>\n",
              "      <td>1.0</td>\n",
              "      <td>-1.358354</td>\n",
              "      <td>-1.340163</td>\n",
              "      <td>1.773209</td>\n",
              "      <td>0.379780</td>\n",
              "      <td>-0.503198</td>\n",
              "      <td>1.800499</td>\n",
              "      <td>0.791461</td>\n",
              "      <td>0.247676</td>\n",
              "      <td>-1.514654</td>\n",
              "      <td>0.207643</td>\n",
              "      <td>0.624501</td>\n",
              "      <td>0.066084</td>\n",
              "      <td>0.717293</td>\n",
              "      <td>-0.165946</td>\n",
              "      <td>2.345865</td>\n",
              "      <td>-2.890083</td>\n",
              "      <td>1.109969</td>\n",
              "      <td>-0.121359</td>\n",
              "      <td>-2.261857</td>\n",
              "      <td>0.524980</td>\n",
              "      <td>0.247998</td>\n",
              "      <td>0.771679</td>\n",
              "      <td>0.909412</td>\n",
              "      <td>-0.689281</td>\n",
              "      <td>-0.327642</td>\n",
              "      <td>-0.139097</td>\n",
              "      <td>-0.055353</td>\n",
              "      <td>-0.059752</td>\n",
              "      <td>378.66</td>\n",
              "      <td>0</td>\n",
              "    </tr>\n",
              "    <tr>\n",
              "      <th>3</th>\n",
              "      <td>1.0</td>\n",
              "      <td>-0.966272</td>\n",
              "      <td>-0.185226</td>\n",
              "      <td>1.792993</td>\n",
              "      <td>-0.863291</td>\n",
              "      <td>-0.010309</td>\n",
              "      <td>1.247203</td>\n",
              "      <td>0.237609</td>\n",
              "      <td>0.377436</td>\n",
              "      <td>-1.387024</td>\n",
              "      <td>-0.054952</td>\n",
              "      <td>-0.226487</td>\n",
              "      <td>0.178228</td>\n",
              "      <td>0.507757</td>\n",
              "      <td>-0.287924</td>\n",
              "      <td>-0.631418</td>\n",
              "      <td>-1.059647</td>\n",
              "      <td>-0.684093</td>\n",
              "      <td>1.965775</td>\n",
              "      <td>-1.232622</td>\n",
              "      <td>-0.208038</td>\n",
              "      <td>-0.108300</td>\n",
              "      <td>0.005274</td>\n",
              "      <td>-0.190321</td>\n",
              "      <td>-1.175575</td>\n",
              "      <td>0.647376</td>\n",
              "      <td>-0.221929</td>\n",
              "      <td>0.062723</td>\n",
              "      <td>0.061458</td>\n",
              "      <td>123.50</td>\n",
              "      <td>0</td>\n",
              "    </tr>\n",
              "    <tr>\n",
              "      <th>4</th>\n",
              "      <td>2.0</td>\n",
              "      <td>-1.158233</td>\n",
              "      <td>0.877737</td>\n",
              "      <td>1.548718</td>\n",
              "      <td>0.403034</td>\n",
              "      <td>-0.407193</td>\n",
              "      <td>0.095921</td>\n",
              "      <td>0.592941</td>\n",
              "      <td>-0.270533</td>\n",
              "      <td>0.817739</td>\n",
              "      <td>0.753074</td>\n",
              "      <td>-0.822843</td>\n",
              "      <td>0.538196</td>\n",
              "      <td>1.345852</td>\n",
              "      <td>-1.119670</td>\n",
              "      <td>0.175121</td>\n",
              "      <td>-0.451449</td>\n",
              "      <td>-0.237033</td>\n",
              "      <td>-0.038195</td>\n",
              "      <td>0.803487</td>\n",
              "      <td>0.408542</td>\n",
              "      <td>-0.009431</td>\n",
              "      <td>0.798278</td>\n",
              "      <td>-0.137458</td>\n",
              "      <td>0.141267</td>\n",
              "      <td>-0.206010</td>\n",
              "      <td>0.502292</td>\n",
              "      <td>0.219422</td>\n",
              "      <td>0.215153</td>\n",
              "      <td>69.99</td>\n",
              "      <td>0</td>\n",
              "    </tr>\n",
              "  </tbody>\n",
              "</table>\n",
              "</div>"
            ],
            "text/plain": [
              "   Time        V1        V2        V3  ...       V27       V28  Amount  Class\n",
              "0   0.0 -1.359807 -0.072781  2.536347  ...  0.133558 -0.021053  149.62      0\n",
              "1   0.0  1.191857  0.266151  0.166480  ... -0.008983  0.014724    2.69      0\n",
              "2   1.0 -1.358354 -1.340163  1.773209  ... -0.055353 -0.059752  378.66      0\n",
              "3   1.0 -0.966272 -0.185226  1.792993  ...  0.062723  0.061458  123.50      0\n",
              "4   2.0 -1.158233  0.877737  1.548718  ...  0.219422  0.215153   69.99      0\n",
              "\n",
              "[5 rows x 31 columns]"
            ]
          },
          "metadata": {
            "tags": []
          },
          "execution_count": 48
        }
      ]
    },
    {
      "cell_type": "code",
      "metadata": {
        "id": "2xoTN-_H9SMj",
        "colab_type": "code",
        "outputId": "43fe2551-b258-4a30-c655-0cbdb2db3fad",
        "colab": {
          "base_uri": "https://localhost:8080/",
          "height": 51
        }
      },
      "source": [
        "print('Количество элементов в первом классе: ', len(data[data['Class']==0]))\n",
        "print('Количество элементов в первом классе: ', len(data[data['Class']==1]))"
      ],
      "execution_count": 49,
      "outputs": [
        {
          "output_type": "stream",
          "text": [
            "Количество элементов в первом классе:  284315\n",
            "Количество элементов в первом классе:  492\n"
          ],
          "name": "stdout"
        }
      ]
    },
    {
      "cell_type": "markdown",
      "metadata": {
        "id": "0ZKiS15p9nHm",
        "colab_type": "text"
      },
      "source": [
        "Данные несбалансированы. "
      ]
    },
    {
      "cell_type": "code",
      "metadata": {
        "id": "LO7y9tu7DJKn",
        "colab_type": "code",
        "outputId": "66edb762-e2fe-4579-fd66-5d9016fa38dd",
        "colab": {
          "base_uri": "https://localhost:8080/",
          "height": 298
        }
      },
      "source": [
        "count_classes = pd.value_counts(data['Class'], sort = True).sort_index()\n",
        "count_classes.plot(kind = 'bar')\n",
        "plt.title(\"Fraud class histogram\")\n",
        "plt.xlabel(\"Class\")\n",
        "plt.ylabel(\"Frequency\")\n",
        "plt.show()"
      ],
      "execution_count": 50,
      "outputs": [
        {
          "output_type": "display_data",
          "data": {
            "image/png": "[encoded data removed]",
            "text/plain": [
              "<Figure size 432x288 with 1 Axes>"
            ]
          },
          "metadata": {
            "tags": []
          }
        }
      ]
    },
    {
      "cell_type": "markdown",
      "metadata": {
        "id": "KgjExdSW_2d4",
        "colab_type": "text"
      },
      "source": [
        "Применим логистическую регрессию для данного датасета."
      ]
    },
    {
      "cell_type": "code",
      "metadata": {
        "id": "zcS4C6wN_nRG",
        "colab_type": "code",
        "outputId": "47fbe3d5-fb41-4d9c-f601-af32904451f7",
        "colab": {
          "base_uri": "https://localhost:8080/",
          "height": 170
        }
      },
      "source": [
        "# разделим датасет на зависимые переменные и таргет значение (X и Y)\n",
        "y = data.Class\n",
        "X = data.drop('Class', axis=1)\n",
        "\n",
        "# разделим на тренировочные данные и на тестовые\n",
        "X_train, X_test, y_train, y_test = train_test_split(X, y, test_size=0.25, random_state=27)\n",
        "\n",
        "\n",
        "model = LogisticRegression(solver='liblinear').fit(X_train, y_train)\n",
        "\n",
        "model_pred = model.predict(X_test)\n",
        "\n",
        "print(classification_report(y_test, model_pred))"
      ],
      "execution_count": 51,
      "outputs": [
        {
          "output_type": "stream",
          "text": [
            "              precision    recall  f1-score   support\n",
            "\n",
            "           0       1.00      1.00      1.00     71070\n",
            "           1       0.89      0.59      0.71       132\n",
            "\n",
            "    accuracy                           1.00     71202\n",
            "   macro avg       0.94      0.80      0.85     71202\n",
            "weighted avg       1.00      1.00      1.00     71202\n",
            "\n"
          ],
          "name": "stdout"
        }
      ]
    },
    {
      "cell_type": "markdown",
      "metadata": {
        "id": "xdIzYLcVG0C6",
        "colab_type": "text"
      },
      "source": [
        "Тогда для класса “небезопасная транзакция” точность классификатора составляет  0.89  (89% положительных решений правильные), а полнота  0.59 (классификатор нашел 59% всех небезопасных транзакций)."
      ]
    },
    {
      "cell_type": "markdown",
      "metadata": {
        "id": "4t9zTDql9-eZ",
        "colab_type": "text"
      },
      "source": [
        "**Метод 1 работы с несбалансированным датасетом: увеличение количества элементов в выборке с меньшим количеством элементов.**"
      ]
    },
    {
      "cell_type": "code",
      "metadata": {
        "id": "e9hZ6j9l9wIN",
        "colab_type": "code",
        "outputId": "68c799d3-0b96-4a84-bfc8-390e306c5ed7",
        "colab": {
          "base_uri": "https://localhost:8080/",
          "height": 68
        }
      },
      "source": [
        "from sklearn.utils import resample\n",
        "\n",
        "# создадим вектор X как общие данные (X и Y)\n",
        "X = pd.concat([X_train, y_train], axis=1)\n",
        "\n",
        "# разделим на 2 класса - fraud и non-fraud\n",
        "not_fraud = X[X.Class==0]\n",
        "fraud = X[X.Class==1]\n",
        "\n",
        "# генерируем данные для класса с меньшим количеством элементов\n",
        "fraud_upsampled = resample(fraud,\n",
        "                          replace=True, # элемент с заменой\n",
        "                          n_samples=len(not_fraud), # кол-во эл-тов =кол-во эл-ов в бОльшей выборке\n",
        "                          random_state=27) # выбираем переменную для random\n",
        "\n",
        "# объединим полученные класс с бОльшей выборкой\n",
        "upsampled = pd.concat([not_fraud, fraud_upsampled])\n",
        "\n",
        "# проверим количество классов теперь\n",
        "upsampled.Class.value_counts()\n"
      ],
      "execution_count": 52,
      "outputs": [
        {
          "output_type": "execute_result",
          "data": {
            "text/plain": [
              "1    213245\n",
              "0    213245\n",
              "Name: Class, dtype: int64"
            ]
          },
          "metadata": {
            "tags": []
          },
          "execution_count": 52
        }
      ]
    },
    {
      "cell_type": "markdown",
      "metadata": {
        "id": "iuzXjqxm_DIW",
        "colab_type": "text"
      },
      "source": [
        "Проверим логистическую регрессию на данном датасете"
      ]
    },
    {
      "cell_type": "code",
      "metadata": {
        "id": "lcWnpnpG_NX7",
        "colab_type": "code",
        "outputId": "c21d7d11-0c05-445e-f506-e02fcfa9fbbd",
        "colab": {
          "base_uri": "https://localhost:8080/",
          "height": 170
        }
      },
      "source": [
        "y_train = upsampled.Class\n",
        "X_train = upsampled.drop('Class', axis=1)\n",
        "\n",
        "upsampled = LogisticRegression(solver='liblinear').fit(X_train, y_train)\n",
        "\n",
        "upsampled_pred = upsampled.predict(X_test)\n",
        "\n",
        "print(classification_report(y_test, upsampled_pred))"
      ],
      "execution_count": 53,
      "outputs": [
        {
          "output_type": "stream",
          "text": [
            "              precision    recall  f1-score   support\n",
            "\n",
            "           0       1.00      0.98      0.99     71070\n",
            "           1       0.08      0.87      0.14       132\n",
            "\n",
            "    accuracy                           0.98     71202\n",
            "   macro avg       0.54      0.93      0.57     71202\n",
            "weighted avg       1.00      0.98      0.99     71202\n",
            "\n"
          ],
          "name": "stdout"
        }
      ]
    },
    {
      "cell_type": "markdown",
      "metadata": {
        "id": "xDn6_uJtHEMD",
        "colab_type": "text"
      },
      "source": [
        "Тогда для класса “небезопасная транзакция” точность классификатора составляет 0.08 (8% положительных решений правильные), а полнота 0.87 (классификатор нашел 87% всех небезопасных транзакций)."
      ]
    },
    {
      "cell_type": "markdown",
      "metadata": {
        "id": "fp2_gTpQAbGV",
        "colab_type": "text"
      },
      "source": [
        "**Метод 2 для работы с несбалансированными данными: увеличение количества элементов в выборке с меньшим количестом**"
      ]
    },
    {
      "cell_type": "code",
      "metadata": {
        "id": "AVwZiC-UAg4y",
        "colab_type": "code",
        "outputId": "5d992b14-bc03-4572-ce3c-25fc52f95ed2",
        "colab": {
          "base_uri": "https://localhost:8080/",
          "height": 68
        }
      },
      "source": [
        "# применяем fraud и not_fraud, которые были посчитаны выше\n",
        "\n",
        "# уменьшаем выборку в бОльшим количеством элементов\n",
        "not_fraud_downsampled = resample(not_fraud,\n",
        "                                replace = False, # без замены\n",
        "                                n_samples = len(fraud), # количество = кол-во эл-тов в меньшей выборке\n",
        "                                random_state = 27) # \n",
        "\n",
        "# объединим полученные данные с меньшей выборкой\n",
        "downsampled = pd.concat([not_fraud_downsampled, fraud])\n",
        "\n",
        "# проверим количество\n",
        "downsampled.Class.value_counts()"
      ],
      "execution_count": 54,
      "outputs": [
        {
          "output_type": "execute_result",
          "data": {
            "text/plain": [
              "1    360\n",
              "0    360\n",
              "Name: Class, dtype: int64"
            ]
          },
          "metadata": {
            "tags": []
          },
          "execution_count": 54
        }
      ]
    },
    {
      "cell_type": "code",
      "metadata": {
        "id": "-EgvglDkBh7q",
        "colab_type": "code",
        "outputId": "5ea839fa-6f19-4836-cfc6-4e8beb513020",
        "colab": {
          "base_uri": "https://localhost:8080/",
          "height": 224
        }
      },
      "source": [
        "downsampled.head()"
      ],
      "execution_count": 55,
      "outputs": [
        {
          "output_type": "execute_result",
          "data": {
            "text/html": [
              "<div>\n",
              "<style scoped>\n",
              "    .dataframe tbody tr th:only-of-type {\n",
              "        vertical-align: middle;\n",
              "    }\n",
              "\n",
              "    .dataframe tbody tr th {\n",
              "        vertical-align: top;\n",
              "    }\n",
              "\n",
              "    .dataframe thead th {\n",
              "        text-align: right;\n",
              "    }\n",
              "</style>\n",
              "<table border=\"1\" class=\"dataframe\">\n",
              "  <thead>\n",
              "    <tr style=\"text-align: right;\">\n",
              "      <th></th>\n",
              "      <th>Time</th>\n",
              "      <th>V1</th>\n",
              "      <th>V2</th>\n",
              "      <th>V3</th>\n",
              "      <th>V4</th>\n",
              "      <th>V5</th>\n",
              "      <th>V6</th>\n",
              "      <th>V7</th>\n",
              "      <th>V8</th>\n",
              "      <th>V9</th>\n",
              "      <th>V10</th>\n",
              "      <th>V11</th>\n",
              "      <th>V12</th>\n",
              "      <th>V13</th>\n",
              "      <th>V14</th>\n",
              "      <th>V15</th>\n",
              "      <th>V16</th>\n",
              "      <th>V17</th>\n",
              "      <th>V18</th>\n",
              "      <th>V19</th>\n",
              "      <th>V20</th>\n",
              "      <th>V21</th>\n",
              "      <th>V22</th>\n",
              "      <th>V23</th>\n",
              "      <th>V24</th>\n",
              "      <th>V25</th>\n",
              "      <th>V26</th>\n",
              "      <th>V27</th>\n",
              "      <th>V28</th>\n",
              "      <th>Amount</th>\n",
              "      <th>Class</th>\n",
              "    </tr>\n",
              "  </thead>\n",
              "  <tbody>\n",
              "    <tr>\n",
              "      <th>52250</th>\n",
              "      <td>45351.0</td>\n",
              "      <td>-1.141460</td>\n",
              "      <td>-0.281136</td>\n",
              "      <td>2.205293</td>\n",
              "      <td>-0.275292</td>\n",
              "      <td>0.327032</td>\n",
              "      <td>-0.267688</td>\n",
              "      <td>0.483675</td>\n",
              "      <td>0.002364</td>\n",
              "      <td>0.268906</td>\n",
              "      <td>-0.760590</td>\n",
              "      <td>-0.656409</td>\n",
              "      <td>-0.219610</td>\n",
              "      <td>-0.547102</td>\n",
              "      <td>-0.379091</td>\n",
              "      <td>0.124314</td>\n",
              "      <td>-0.013306</td>\n",
              "      <td>-0.333953</td>\n",
              "      <td>-0.393318</td>\n",
              "      <td>-1.205134</td>\n",
              "      <td>0.221703</td>\n",
              "      <td>0.237527</td>\n",
              "      <td>0.625389</td>\n",
              "      <td>-0.012922</td>\n",
              "      <td>0.111228</td>\n",
              "      <td>0.133170</td>\n",
              "      <td>0.339626</td>\n",
              "      <td>-0.149373</td>\n",
              "      <td>-0.114898</td>\n",
              "      <td>95.65</td>\n",
              "      <td>0</td>\n",
              "    </tr>\n",
              "    <tr>\n",
              "      <th>206609</th>\n",
              "      <td>136280.0</td>\n",
              "      <td>-0.001267</td>\n",
              "      <td>0.114684</td>\n",
              "      <td>-0.175974</td>\n",
              "      <td>-0.028082</td>\n",
              "      <td>0.975494</td>\n",
              "      <td>-1.047153</td>\n",
              "      <td>1.335877</td>\n",
              "      <td>-0.430110</td>\n",
              "      <td>-0.390600</td>\n",
              "      <td>0.004114</td>\n",
              "      <td>0.686652</td>\n",
              "      <td>0.376180</td>\n",
              "      <td>-0.797358</td>\n",
              "      <td>0.469596</td>\n",
              "      <td>-1.284646</td>\n",
              "      <td>-0.635313</td>\n",
              "      <td>-0.339314</td>\n",
              "      <td>-0.065888</td>\n",
              "      <td>0.655695</td>\n",
              "      <td>0.129343</td>\n",
              "      <td>0.154994</td>\n",
              "      <td>0.518047</td>\n",
              "      <td>0.081486</td>\n",
              "      <td>0.106495</td>\n",
              "      <td>-0.466786</td>\n",
              "      <td>0.270228</td>\n",
              "      <td>-0.142407</td>\n",
              "      <td>-0.134988</td>\n",
              "      <td>74.50</td>\n",
              "      <td>0</td>\n",
              "    </tr>\n",
              "    <tr>\n",
              "      <th>201719</th>\n",
              "      <td>134010.0</td>\n",
              "      <td>1.974399</td>\n",
              "      <td>-0.532101</td>\n",
              "      <td>-0.374127</td>\n",
              "      <td>0.341453</td>\n",
              "      <td>-0.400506</td>\n",
              "      <td>0.375773</td>\n",
              "      <td>-0.841009</td>\n",
              "      <td>0.141828</td>\n",
              "      <td>1.301195</td>\n",
              "      <td>-0.000988</td>\n",
              "      <td>-1.530263</td>\n",
              "      <td>0.217165</td>\n",
              "      <td>0.629800</td>\n",
              "      <td>-0.391345</td>\n",
              "      <td>0.817768</td>\n",
              "      <td>0.871673</td>\n",
              "      <td>-0.980961</td>\n",
              "      <td>0.311440</td>\n",
              "      <td>-0.109515</td>\n",
              "      <td>-0.065555</td>\n",
              "      <td>-0.008794</td>\n",
              "      <td>0.046465</td>\n",
              "      <td>0.231662</td>\n",
              "      <td>0.047582</td>\n",
              "      <td>-0.420946</td>\n",
              "      <td>0.174599</td>\n",
              "      <td>-0.000914</td>\n",
              "      <td>-0.028766</td>\n",
              "      <td>36.00</td>\n",
              "      <td>0</td>\n",
              "    </tr>\n",
              "    <tr>\n",
              "      <th>214205</th>\n",
              "      <td>139577.0</td>\n",
              "      <td>1.968008</td>\n",
              "      <td>0.142945</td>\n",
              "      <td>-1.653114</td>\n",
              "      <td>0.440423</td>\n",
              "      <td>0.233991</td>\n",
              "      <td>-1.146296</td>\n",
              "      <td>0.216385</td>\n",
              "      <td>-0.262941</td>\n",
              "      <td>0.242670</td>\n",
              "      <td>-0.334681</td>\n",
              "      <td>1.565066</td>\n",
              "      <td>1.080263</td>\n",
              "      <td>0.421309</td>\n",
              "      <td>-0.622117</td>\n",
              "      <td>0.182956</td>\n",
              "      <td>0.293263</td>\n",
              "      <td>0.203357</td>\n",
              "      <td>0.817494</td>\n",
              "      <td>-0.255530</td>\n",
              "      <td>-0.137105</td>\n",
              "      <td>0.274764</td>\n",
              "      <td>0.927387</td>\n",
              "      <td>-0.036602</td>\n",
              "      <td>-0.030559</td>\n",
              "      <td>0.208554</td>\n",
              "      <td>-0.124545</td>\n",
              "      <td>-0.002582</td>\n",
              "      <td>-0.036990</td>\n",
              "      <td>19.99</td>\n",
              "      <td>0</td>\n",
              "    </tr>\n",
              "    <tr>\n",
              "      <th>10650</th>\n",
              "      <td>17937.0</td>\n",
              "      <td>1.106245</td>\n",
              "      <td>0.312914</td>\n",
              "      <td>0.615679</td>\n",
              "      <td>1.341805</td>\n",
              "      <td>-0.138104</td>\n",
              "      <td>-0.147340</td>\n",
              "      <td>-0.126578</td>\n",
              "      <td>-0.003521</td>\n",
              "      <td>1.012336</td>\n",
              "      <td>-0.183855</td>\n",
              "      <td>2.607881</td>\n",
              "      <td>-1.567323</td>\n",
              "      <td>1.409773</td>\n",
              "      <td>2.029345</td>\n",
              "      <td>-0.247270</td>\n",
              "      <td>-0.026676</td>\n",
              "      <td>0.368995</td>\n",
              "      <td>0.203478</td>\n",
              "      <td>-0.827576</td>\n",
              "      <td>-0.188516</td>\n",
              "      <td>0.020419</td>\n",
              "      <td>0.311769</td>\n",
              "      <td>-0.067228</td>\n",
              "      <td>0.176748</td>\n",
              "      <td>0.510438</td>\n",
              "      <td>-0.321234</td>\n",
              "      <td>0.000587</td>\n",
              "      <td>0.006629</td>\n",
              "      <td>19.99</td>\n",
              "      <td>0</td>\n",
              "    </tr>\n",
              "  </tbody>\n",
              "</table>\n",
              "</div>"
            ],
            "text/plain": [
              "            Time        V1        V2  ...       V28  Amount  Class\n",
              "52250    45351.0 -1.141460 -0.281136  ... -0.114898   95.65      0\n",
              "206609  136280.0 -0.001267  0.114684  ... -0.134988   74.50      0\n",
              "201719  134010.0  1.974399 -0.532101  ... -0.028766   36.00      0\n",
              "214205  139577.0  1.968008  0.142945  ... -0.036990   19.99      0\n",
              "10650    17937.0  1.106245  0.312914  ...  0.006629   19.99      0\n",
              "\n",
              "[5 rows x 31 columns]"
            ]
          },
          "metadata": {
            "tags": []
          },
          "execution_count": 55
        }
      ]
    },
    {
      "cell_type": "code",
      "metadata": {
        "id": "WjgGP0b5BJFb",
        "colab_type": "code",
        "outputId": "9d5fcace-2b19-4dd8-bb9d-83b3c38c0b36",
        "colab": {
          "base_uri": "https://localhost:8080/",
          "height": 170
        }
      },
      "source": [
        "y_train = downsampled.Class\n",
        "X_train = downsampled.drop('Class', axis=1)\n",
        "\n",
        "undersampled = LogisticRegression(solver='liblinear').fit(X_train, y_train)\n",
        "\n",
        "undersampled_pred = undersampled.predict(X_test)\n",
        "\n",
        "print(classification_report(y_test, undersampled_pred))"
      ],
      "execution_count": 56,
      "outputs": [
        {
          "output_type": "stream",
          "text": [
            "              precision    recall  f1-score   support\n",
            "\n",
            "           0       1.00      0.98      0.99     71070\n",
            "           1       0.06      0.86      0.12       132\n",
            "\n",
            "    accuracy                           0.98     71202\n",
            "   macro avg       0.53      0.92      0.55     71202\n",
            "weighted avg       1.00      0.98      0.99     71202\n",
            "\n"
          ],
          "name": "stdout"
        }
      ]
    },
    {
      "cell_type": "markdown",
      "metadata": {
        "id": "-XVNMd5SCB-d",
        "colab_type": "text"
      },
      "source": [
        "В данном случае уменьшение количества данных в одном классе привело к ухудшению модели."
      ]
    }
  ]
}